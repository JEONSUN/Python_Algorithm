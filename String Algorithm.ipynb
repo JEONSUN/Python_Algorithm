{
 "cells": [
  {
   "cell_type": "markdown",
   "metadata": {},
   "source": [
    "## BIG - O \n",
    "\n",
    "- 입력값이 무한대로 향할 때 함수의 상한을 설명하는 수학적 표기 방법<br>\n",
    "\n",
    "ex) 파일의 크기가 커질수록 온라인으로 보낼 경우 시간이 오래 걸릴 것이다.<br>\n",
    "그러나 비행기를 통해 물리적으로 배달하면 크기에 상관없이 항상 일정한 시간이 소요된다(점근적 실행 시간)\n",
    "\n",
    "빅오는 점근적 실행 시간을 표기하는 방법중 하나이다.\n",
    "\n",
    "\n",
    "### 시간복잡도\n",
    "점근적 실행 시간 == **시간복잡도**라고 할 수 있는데\n",
    "\n",
    "- 시간복잡도란 어떤 알고리즘을 수행하는 데 걸리는 시간을 설명하는 계산 복잡도를 의미한다.\n",
    "\n",
    "\n",
    "빅오로 시간복잡도를 표현할 시 최고차항만을 표기하며, 계수는 무시한다.\n",
    "\n",
    "ex2) 입력값 n에 대해 $4n^2 + 3n + 4$번만큼 계산하는 함수가 있다면 시간복잡도는 최고차항인 $4n^2$만을 고려한다 <br>\n",
    "따라서 해당 식의 시간복잡도는 $O(n^2)$이 된다.\n",
    "\n",
    "### 빅오 표기법\n",
    "\n",
    "O(1) : 입력값이 아무리 커도 실행 시간이 일정한 최고의 알고리즘, 즉각적인 결과가 나타난다.\n",
    "\n",
    "O($log_n$) : 입력값의 영향을 받지만 로그는 매우 큰 입력값에도 영향을 받지 않는 편이다.\n",
    "\n",
    "O(n) : 입력값만큼 실행 시간에 영향을 받으며, 알고리즘을 수행하는 데 걸리는 시간은 입력값에 비례하며 이러한 알고리즘을 **선형 알고리즘**이라고 한다.\n",
    "\n",
    "O($nlog_n$) : 병합 정렬을 비롯한 대부분의 효율 좋은 정렬 알고리즘이 이에 해당함\n",
    "\n",
    "O($n^2$) : 비효율적인 정렬 알고리즘"
   ]
  },
  {
   "cell_type": "code",
   "execution_count": 2,
   "metadata": {},
   "outputs": [
    {
     "name": "stdout",
     "output_type": "stream",
     "text": [
      "1 1 2\n",
      "2 4 4\n",
      "3 9 8\n",
      "4 16 16\n",
      "5 25 32\n",
      "6 36 64\n",
      "7 49 128\n",
      "8 64 256\n",
      "9 81 512\n",
      "10 100 1024\n",
      "11 121 2048\n",
      "12 144 4096\n",
      "13 169 8192\n",
      "14 196 16384\n",
      "15 225 32768\n"
     ]
    }
   ],
   "source": [
    "# n, n^2, 2^n의 복잡도 차이\n",
    "for n in range(1, 15 + 1) :\n",
    "    print(n, n**2 , 2**n)"
   ]
  },
  {
   "cell_type": "markdown",
   "metadata": {},
   "source": [
    "## 팰린드롬\n",
    "\n",
    "####  앞뒤가 똑같은 단어나 문장으로, 뒤집어도 같은 말이 되는 단어 또는 문장을 팰린드롬이라고 한다.\n",
    "ex) \"소주 만 병만 주소\"\n",
    "\n",
    "\n",
    "\n",
    "- 주어진 문자열이 팰린드롬인지 확인하라. 대소문자를 구분하지 않으며, 영문자와 숫자만을 대상으로 한다.\n",
    "\n",
    "~~~python\n",
    "# 입력\n",
    "\"A man, a plan, a canal : Panama\"\n",
    "\n",
    "# 출력\n",
    "true\n",
    "\n",
    "\n",
    "# 입력\n",
    "\" race a car\"\n",
    "\n",
    "# 출력\n",
    "false\n",
    "~~~\n"
   ]
  },
  {
   "cell_type": "code",
   "execution_count": 31,
   "metadata": {},
   "outputs": [],
   "source": [
    "s = \"A man, a canal : panama\" \n",
    "def palindrome(s) :   \n",
    "    strs = [] \n",
    "    for char in s : \n",
    "        if char.isalnum() : # 전부 숫자인지 문자인지 판별\n",
    "            strs.append(char.lower()) # true 일경우 전부 소문자\n",
    "        \n",
    "    while len(strs) > 1 : \n",
    "        if strs.pop(0) != strs.pop() : # strs의 글자들이 같지 않을 경우 false 반환\n",
    "            return False\n",
    "        \n",
    "    return True"
   ]
  },
  {
   "cell_type": "code",
   "execution_count": 32,
   "metadata": {},
   "outputs": [
    {
     "data": {
      "text/plain": [
       "False"
      ]
     },
     "execution_count": 32,
     "metadata": {},
     "output_type": "execute_result"
    }
   ],
   "source": [
    "palindrome(\"race a car\")"
   ]
  },
  {
   "cell_type": "code",
   "execution_count": 33,
   "metadata": {},
   "outputs": [
    {
     "data": {
      "text/plain": [
       "True"
      ]
     },
     "execution_count": 33,
     "metadata": {},
     "output_type": "execute_result"
    }
   ],
   "source": [
    "palindrome(\"A man, a plan, a canal : Panama\")"
   ]
  },
  {
   "cell_type": "code",
   "execution_count": 34,
   "metadata": {
    "scrolled": true
   },
   "outputs": [
    {
     "data": {
      "text/plain": [
       "True"
      ]
     },
     "execution_count": 34,
     "metadata": {},
     "output_type": "execute_result"
    }
   ],
   "source": [
    "palindrome(\"소주 만 병만 주소\")"
   ]
  },
  {
   "cell_type": "markdown",
   "metadata": {},
   "source": [
    "## 문자열 뒤집기\n",
    "\n",
    "#### 문자열을 뒤집는 함수를 작성하라. 입력값은 문자 배열이며, 리턴 없이 리스트 내부를 직접 조작하라.\n",
    "~~~python\n",
    "# 입력\n",
    "['h','e','l','l','o']\n",
    "\n",
    "# 출력\n",
    "['o','l','l','e','h']\n",
    "~~~\n"
   ]
  },
  {
   "cell_type": "code",
   "execution_count": 42,
   "metadata": {},
   "outputs": [],
   "source": [
    "def re_str(str) :\n",
    "    rs = []\n",
    "    rs = list(str)\n",
    "    print(rs[::-1])"
   ]
  },
  {
   "cell_type": "code",
   "execution_count": 43,
   "metadata": {},
   "outputs": [
    {
     "name": "stdout",
     "output_type": "stream",
     "text": [
      "['o', 'l', 'l', 'e', 'h']\n"
     ]
    }
   ],
   "source": [
    "re_str('hello')"
   ]
  },
  {
   "cell_type": "code",
   "execution_count": 45,
   "metadata": {},
   "outputs": [],
   "source": [
    "from typing import *\n",
    "\n",
    "class solution :\n",
    "    def reverseString(self, s : List[str]) -> None :\n",
    "        return s[::-1]\n",
    "            "
   ]
  },
  {
   "cell_type": "code",
   "execution_count": 51,
   "metadata": {},
   "outputs": [],
   "source": [
    "s = solution()"
   ]
  },
  {
   "cell_type": "code",
   "execution_count": 53,
   "metadata": {},
   "outputs": [],
   "source": [
    "reverseString(s,['h','e','l','l','o'])"
   ]
  },
  {
   "cell_type": "markdown",
   "metadata": {},
   "source": [
    "## 로그파일 재정렬\n",
    "\n",
    "#### 로그를 재정렬하라. 기준은 다음과 같다.\n",
    "\n",
    "1. 로그의 가장 앞 부분은 식별자다.\n",
    "\n",
    "2. 문자로 구성된 로그가 숫자 로그보다 앞에 온다.\n",
    "\n",
    "3. 식별자는 순서에 영향을 끼치지 않지만, 문자가 동일할 경우 식별자 순으로 한다.\n",
    "\n",
    "4. 숫자 로그는 입력 순서대로 한다.\n",
    "\n",
    "\n",
    "~~~python\n",
    "# 입력\n",
    "logs = [\"dig1 8 1 5 1\", \"let1 art can\", \"dig2 3 6\", \"let2 own kig dig\",\"let3 art zero\"]\n",
    "\n",
    "# 출력\n",
    "[\"let1 art can\",\"let3 art zero\",\"let2 own kig dig\",\"dig1 8 1 5 1\",\"dig2 3 6\"]\n",
    "~~~"
   ]
  },
  {
   "cell_type": "code",
   "execution_count": 2,
   "metadata": {},
   "outputs": [
    {
     "name": "stdout",
     "output_type": "stream",
     "text": [
      "['dig1 8 1 5 1', 'dig2 3 6']\n",
      "['let1 art can', 'let2 own kig dig', 'let3 art zero']\n"
     ]
    }
   ],
   "source": [
    "#\n",
    "logs = [\"dig1 8 1 5 1\", \"let1 art can\", \"dig2 3 6\", \"let2 own kig dig\",\"let3 art zero\"]\n",
    "digits, letters = [] , []\n",
    "for log in logs :\n",
    "    if log.split()[1].isdigit() :\n",
    "        digits.append(log)\n",
    "    else : \n",
    "        letters.append(log)\n",
    "print(digits)\n",
    "print(letters)"
   ]
  },
  {
   "cell_type": "code",
   "execution_count": 3,
   "metadata": {},
   "outputs": [],
   "source": [
    "letters.sort(key = lambda x : (x.split()[1:], x.split()[0]))"
   ]
  },
  {
   "cell_type": "code",
   "execution_count": 4,
   "metadata": {},
   "outputs": [
    {
     "data": {
      "text/plain": [
       "['let1 art can', 'let3 art zero', 'let2 own kig dig']"
      ]
     },
     "execution_count": 4,
     "metadata": {},
     "output_type": "execute_result"
    }
   ],
   "source": [
    "letters"
   ]
  },
  {
   "cell_type": "code",
   "execution_count": 1,
   "metadata": {},
   "outputs": [],
   "source": [
    "a = [1,2,3]\n",
    "b = [4,5,6]"
   ]
  },
  {
   "cell_type": "code",
   "execution_count": 3,
   "metadata": {},
   "outputs": [
    {
     "name": "stdout",
     "output_type": "stream",
     "text": [
      "[1, 2, 3, 4, 5, 6]\n",
      "[4, 5, 6, 1, 2, 3]\n"
     ]
    }
   ],
   "source": [
    "print(a + b)\n",
    "print(b + a)"
   ]
  },
  {
   "cell_type": "code",
   "execution_count": null,
   "metadata": {},
   "outputs": [],
   "source": []
  },
  {
   "cell_type": "code",
   "execution_count": null,
   "metadata": {},
   "outputs": [],
   "source": []
  },
  {
   "cell_type": "code",
   "execution_count": null,
   "metadata": {},
   "outputs": [],
   "source": []
  },
  {
   "cell_type": "code",
   "execution_count": null,
   "metadata": {},
   "outputs": [],
   "source": []
  },
  {
   "cell_type": "code",
   "execution_count": null,
   "metadata": {},
   "outputs": [],
   "source": []
  },
  {
   "cell_type": "code",
   "execution_count": null,
   "metadata": {},
   "outputs": [],
   "source": []
  },
  {
   "cell_type": "code",
   "execution_count": null,
   "metadata": {},
   "outputs": [],
   "source": []
  },
  {
   "cell_type": "code",
   "execution_count": null,
   "metadata": {},
   "outputs": [],
   "source": []
  }
 ],
 "metadata": {
  "kernelspec": {
   "display_name": "Python 3 (ipykernel)",
   "language": "python",
   "name": "python3"
  },
  "language_info": {
   "codemirror_mode": {
    "name": "ipython",
    "version": 3
   },
   "file_extension": ".py",
   "mimetype": "text/x-python",
   "name": "python",
   "nbconvert_exporter": "python",
   "pygments_lexer": "ipython3",
   "version": "3.8.5"
  }
 },
 "nbformat": 4,
 "nbformat_minor": 2
}
