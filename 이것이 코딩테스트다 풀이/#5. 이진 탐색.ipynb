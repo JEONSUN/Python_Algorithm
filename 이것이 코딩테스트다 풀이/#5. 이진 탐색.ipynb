{
 "cells": [
  {
   "cell_type": "markdown",
   "metadata": {},
   "source": [
    "## 순차 탐색\n",
    "\n",
    "- 리스트 안에 있는 특정한 데이터를 찾기 위해 앞에서부터 데이터를 하나씩 차례대로 확인하는 방법이다.\n",
    "\n",
    "리스트의 데이터에 하나씩 방문하며 특정한 문자열과 같은지 검사하므로 구현도 간단하다. 순차 탐색은 정말 자주 사용되는데, 리스트에 특정 값의 원소가 있는지 체크할 때도 순차 탐색으로 원소를 확인하고, \n",
    "\n",
    "리스트 자료형에서 특정한 값을 가지는 원소의 개수를 세는 count() 메서드를 이용할 때도 내부에서는 순차 탐색이 수행된다."
   ]
  },
  {
   "cell_type": "code",
   "execution_count": 2,
   "metadata": {},
   "outputs": [
    {
     "name": "stdout",
     "output_type": "stream",
     "text": [
      "생성할 원소 개수를 입력한 다음 한 칸 띄고 찾을 문자열을 입력하시오\n",
      "5 jeon\n",
      "앞서 적은 원소 개수만큼 문자열을 입력하세요. 구분은 띄어쓰기 한 칸으로 합니다.\n",
      "jon jone jeon jjeon jeonn\n",
      "3\n"
     ]
    }
   ],
   "source": [
    "# 순차 탐색 소스코드 구현\n",
    "def sequential_search(n, target, array) : # 구성 개수, 목표값, 순차 탐색 대상\n",
    "    for i in range(n) : # 반복 돌리면서\n",
    "        if array[i] == target : # 타겟일 경우\n",
    "            return i + 1 # 인덱스 + 1을 리턴\n",
    "    \n",
    "print(\"생성할 원소 개수를 입력한 다음 한 칸 띄고 찾을 문자열을 입력하시오\")\n",
    "input_data = input().split() # 원소 개수와 찾을 문자열\n",
    "n = int(input_data[0]) # 원소 개수\n",
    "target = input_data[1] # 찾을 문자열\n",
    "\n",
    "print(\"앞서 적은 원소 개수만큼 문자열을 입력하세요. 구분은 띄어쓰기 한 칸으로 합니다.\")\n",
    "array = input().split() \n",
    "\n",
    "# 순차 탐색 수행 결과 출력\n",
    "print(sequential_search(n, target,array))"
   ]
  },
  {
   "cell_type": "markdown",
   "metadata": {},
   "source": [
    "순차 탐색은 데이터 정렬 여부와 상관없이 가장 앞에 있는 원소부터 하나씩 확인해야한다는 점이 특징이다.\n",
    "\n",
    "따라서 데이터의 개수가 N개일 때 최대 N번의 비교 연산이 필요하므로 순차 탐색의 최악의 경우 시간 복잡도는 $O(N)$이다."
   ]
  },
  {
   "cell_type": "markdown",
   "metadata": {},
   "source": [
    "## 이진탐색\n",
    "\n",
    "\n",
    "- 이진탐색은 배열 내부의 데이터가 정렬되어 있어야만 사용할 수 있는 알고리즘이다.\n",
    "\n",
    "- 데이터가 무작위일 때는 사용할 수 없지만, 이미 정렬되어 있다면 매우 빠르게 데이터를 찾을 수 있다는 특징이 있다.\n",
    "\n",
    "- 이진 탐색은 탐색 범위를 절반씩 좁혀가며 데이터를 탐색한다.\n",
    "\n",
    "\n",
    "이진탐색은 위치를 나타내는 변수 3개를 사용하는데 탐색하고자 하는 범위의 시작점, 끝점, 그리고 중간점이다.\n",
    "\n",
    "**찾으려는 데이터와 중간점 위치에 있는 데이터를 반복적으로 비교해서 원하는 데이터를 찾는게 이진 탐색 과정이다.**"
   ]
  },
  {
   "cell_type": "code",
   "execution_count": 3,
   "metadata": {},
   "outputs": [
    {
     "name": "stdout",
     "output_type": "stream",
     "text": [
      "10 7\n",
      "1 3 5 7 9 11 13 15 17 19\n",
      "4\n"
     ]
    }
   ],
   "source": [
    "# 이진 탐색 소스코드 구현(재귀 함수)\n",
    "def binary_search(array, target, start, end) : # 배열, 목푯값, 시작점, 끝점\n",
    "    if start > end : # 만약 시작점이 끝보다 크면 None 리턴\n",
    "        return None\n",
    "    mid = (start + end)//2 # 중앙값 계산(몫만 남김)\n",
    "    \n",
    "    if array[mid] == target : # 만약 타겟값이 중앙값과 같으면 \n",
    "        return mid # 중앙값 리턴\n",
    "    \n",
    "    elif array[mid] > target : # 만약 중앙값이 타깃보다 크면 좌측 확인\n",
    "        return binary_search(array, target ,start, mid - 1)\n",
    "    \n",
    "    else : # 아닐경우엔 우측 확인\n",
    "        return binary_search(array, target, mid+1, end)\n",
    "    \n",
    "\n",
    "n, target = list(map(int,input().split()))\n",
    "\n",
    "array = list(map(int,input().split()))\n",
    "# 이진탐색 수행 결과 출력\n",
    "result = binary_search(array, target, 0, n-1)\n",
    "\n",
    "if result == None :\n",
    "    print(\"원소가 존재하지 않습니다.\")\n",
    "\n",
    "else :\n",
    "    print(result + 1)"
   ]
  },
  {
   "cell_type": "markdown",
   "metadata": {},
   "source": [
    "탐색을 할 수록 데이터가 줄어든다. 이진탐색의 복잡도는 $O(logN)$이다."
   ]
  },
  {
   "cell_type": "code",
   "execution_count": 10,
   "metadata": {},
   "outputs": [],
   "source": [
    "# 이진 탐색 소스코드 구현(반복문)\n",
    "def binary_search(n,target,start,end) :\n",
    "    while start <= end : # 해당 조건일 경우 break\n",
    "        mid = (start + end)//2 # 중앙값 계산해서\n",
    "        \n",
    "        if array[mid] == target : # 중간값이 target과 같다면 리턴\n",
    "            return mid\n",
    "        \n",
    "        elif array[mid] > target : # 중간값이 target보다 크면\n",
    "            end = mid - 1 # 중앙값보다 작은 배열 확인\n",
    "        else :\n",
    "            start = mid + 1 # 반대일경우 중앙값보다 큰값 배열 확인\n",
    "            \n",
    "    return None"
   ]
  },
  {
   "cell_type": "code",
   "execution_count": 11,
   "metadata": {},
   "outputs": [
    {
     "name": "stdout",
     "output_type": "stream",
     "text": [
      "4\n"
     ]
    }
   ],
   "source": [
    "n, target = list(map(int,input().split()))\n",
    "\n",
    "array = list(map(int,input().split()))\n",
    "\n",
    "result = binary_search(array, target, 0, n-1)\n",
    "if result == None :\n",
    "    print(\"원소가 존재하지 않습니다.\")\n",
    "\n",
    "else :\n",
    "    print(result + 1)"
   ]
  },
  {
   "cell_type": "markdown",
   "metadata": {},
   "source": [
    "## 이진탐색 라이브러리\n",
    "\n",
    "- bisect_left(a,x) : 정렬된 순서를 유지하면서 배열 a에 x를 삽입할 가장 왼쪽 인덱스를 반환\n",
    "\n",
    "- bisect_right(a,x) : 정렬된 순서를 유지하면서 배열 a에 x를 삽입할 가장 오른쪽 인덱스를 반환\n",
    "\n"
   ]
  },
  {
   "cell_type": "code",
   "execution_count": 1,
   "metadata": {},
   "outputs": [],
   "source": [
    "from bisect import bisect_left, bisect_right"
   ]
  },
  {
   "cell_type": "code",
   "execution_count": 2,
   "metadata": {},
   "outputs": [
    {
     "name": "stdout",
     "output_type": "stream",
     "text": [
      "2\n",
      "4\n"
     ]
    }
   ],
   "source": [
    "a = [1,2,4,4,8]\n",
    "x = 4\n",
    "\n",
    "print(bisect_left(a,4))\n",
    "print(bisect_right(a,4))"
   ]
  },
  {
   "cell_type": "code",
   "execution_count": 3,
   "metadata": {},
   "outputs": [],
   "source": [
    "# 값이 특정 범위에 속하는 데이터 개수 구하기\n",
    "def count_by_range(a, left_value, right_value) :\n",
    "    right_index = bisect_right(a, right_value)\n",
    "    left_index = bisect_left(a,left_value)\n",
    "    \n",
    "    return right_index - left_index"
   ]
  },
  {
   "cell_type": "code",
   "execution_count": 4,
   "metadata": {},
   "outputs": [
    {
     "name": "stdout",
     "output_type": "stream",
     "text": [
      "2\n",
      "6\n"
     ]
    }
   ],
   "source": [
    "a = [1,2,3,3,3,3,4,4,8,9]\n",
    "\n",
    "print(count_by_range(a,4,4))\n",
    "print(count_by_range(a,-1,3))"
   ]
  },
  {
   "cell_type": "markdown",
   "metadata": {},
   "source": [
    "## 파라메트릭 서치(Parametric Search)\n",
    "\n",
    "- 최적화 문제를 **결정 문제(예 혹은 아니오)**로 바꾸어 해결하는 기법\n",
    "\n",
    "- 특정한 조건을 만족하는 가장 알맞은 값을 빠르게 찾는 최적화 문제\n",
    "\n",
    "- 일반적으로 코테에서 파라메트릭 서치 문제는 이진 탐색을 이용하여 해결할 수 있다."
   ]
  },
  {
   "cell_type": "markdown",
   "metadata": {},
   "source": [
    "#### 문제\n",
    "오늘 동빈이는 여행 가신 부모님을 대신해서 떡집 일을 하기로 했습니다. 오늘은 떡볶이 떡을 만드는 날입니다.\n",
    "\n",
    " \n",
    "\n",
    "동빈이네 떡볶이 떡은 재밌게도 떡볶이 떡의 길이가 일정하지 않습니다. 대신에 한 봉지 안에 들어가는 떡의 총 길이는\n",
    "\n",
    " \n",
    "\n",
    "절단기로 잘라서 맞춰줍니다.\n",
    "\n",
    " \n",
    "\n",
    "절단기에 높이(H)를 지정하면 줄지어진 떡을 한 번에 절단합니다. 높이가 H보다 긴 떡은 H 위의 부분이 잘릴 것이고,\n",
    "\n",
    " \n",
    "\n",
    "낮은 떡은 잘리지 않습니다. 예를 들어 높이가 19, 14, 10, 17cm 인 떡이 나란히 있고 절단기 높이를 15cm로 지정하면\n",
    "\n",
    " \n",
    "\n",
    "자른 뒤 떡의 높이는 15, 14, 10, 15cm가 될 것입니다. 잘린 떡의 길이는 차례대로 4, 0, 0, 2cm입니다.\n",
    "\n",
    " \n",
    "\n",
    "손님은 6cm만큼의 길이를 가져갑니다.\n",
    "\n",
    " \n",
    "\n",
    "손님이 왔을 때 요청한 총 길이가 M일 때 적어도 M만큼의 떡을 얻기 위해 절단기에 설정할 수 있는 높이의\n",
    "\n",
    " \n",
    "\n",
    "최댓값을 구하는 프로그램을 작성하세요.\n",
    "\n",
    " \n",
    "\n",
    "#### 입력 조건\n",
    "\n",
    "1. 첫째 줄에 떡의 개수 N과 요청한 떡의 길이 M이 주어집니다. (1 <= N <= 1,000,000, 1 <= M <= 2,000,000,000)\n",
    "\n",
    " \n",
    "\n",
    "2. 둘째 줄에는 떡의 개별 높이가 주어집니다. 떡 높이의 총합은 항상 M 이상이므로, 손님은 필요한 양만큼 떡을 사갈 수 있습니다. \n",
    "\n",
    "높이는 10억보다 작거나 같은 양의 정수 또는 0 입니다.\n",
    "\n",
    " \n",
    "\n",
    "#### 출력 조건\n",
    "적어도 M만큼의 떡을 집에 가져가기 위해 절단기에 설정할 수 있는 높이의 최댓값을 출력합니다.\n",
    "\n",
    "#### <입력 예시>\n",
    "4 6\n",
    "\n",
    "19 15 10 17\n",
    "#### <출력 예시>\n",
    "15"
   ]
  },
  {
   "cell_type": "code",
   "execution_count": 19,
   "metadata": {},
   "outputs": [
    {
     "name": "stdout",
     "output_type": "stream",
     "text": [
      "4 6\n",
      "19 15 10 17\n"
     ]
    }
   ],
   "source": [
    "# 떡의 개수(n)와 요청한 떡의 길이(m) 입력\n",
    "n,m = map(int,input().split())\n",
    "# 각 떡의 개별 높이 정보 입력\n",
    "n_list = list(map(int,input().split()))"
   ]
  },
  {
   "cell_type": "code",
   "execution_count": 22,
   "metadata": {},
   "outputs": [],
   "source": [
    "# 이진 탐색을 위한 시작점과 끝점 설정\n",
    "start = 0\n",
    "end = max(n_list)"
   ]
  },
  {
   "cell_type": "code",
   "execution_count": 23,
   "metadata": {},
   "outputs": [
    {
     "name": "stdout",
     "output_type": "stream",
     "text": [
      "9\n",
      "14\n",
      "15\n",
      "15\n"
     ]
    }
   ],
   "source": [
    "# 이진탐색 수행(반복적)\n",
    "result = 0\n",
    "while(start <= end) :\n",
    "    total = 0\n",
    "    mid = (start + end)//2 # 처음 mid = (19+0)//2 = 9.5 -> 9\n",
    "    for x in new_list : # 19,15,10,17 반복돌리면서\n",
    "        # 잘랐을때의 떡의 양 계산\n",
    "        if x > mid :\n",
    "            total += x - mid # ex) 19-9,15-9,10-9,17-9\n",
    "    # 떡의 양이 부족한 경우 더 많이 짜르기 (왼쪽 부분 탐색)\n",
    "    if total < m :\n",
    "        end = mid - 1\n",
    "    # 떡의 양이 충분한 경우 덜 자르기 (오른쪽 부분 탐색)\n",
    "    else : \n",
    "        result = mid # 최대한 덜 잘랐을 때가 정답이므로, 여기에서 result 기록\n",
    "        start = mid + 1\n",
    "# 정답 출력        \n",
    "print(result)"
   ]
  },
  {
   "cell_type": "markdown",
   "metadata": {},
   "source": [
    "## 트리 자료구조"
   ]
  },
  {
   "cell_type": "markdown",
   "metadata": {},
   "source": [
    "- 이진 탐색은 전제 조건이 데이터 정렬이다. 예를 들어 동작하는 프로그램에서 데이터를 정렬해두는 경우가 많으므로 이진 탐색을 효과적으로 쓸 수 있다.\n",
    "\n",
    "\n",
    "- 트리 자료구조는 항상 데이터가 정렬되어 있다. 따라서 이진 탐색과 유사한 방법을 이용해 탐색을 항상 빠르게 수행하도록 설계되어 있어서 데이터가 많아도 탐색하는 속도가 빠르다.\n",
    "\n",
    "### 트리 자료구조\n",
    "\n",
    "- 트리 자료구조는 노드와 노드의 연결로 표현하며 여기에서 노드는 정보의 단위로서 어떠한 정보를 가지고 있는 개체로 이해할 수 있다.\n",
    "***\n",
    "1. 트리는 부모 노드와 자식 노드의 관계로 표현된다.\n",
    "\n",
    "2. 트리의 최상단 노드를 루트 노드라고 한다.\n",
    "\n",
    "3. 트리의 최하단 노드를 단말 노드라고 한다.\n",
    "\n",
    "4. 트리에서 일부를 떼어내도 트리 구조이며 이를 서브 트리라 한다.\n",
    "\n",
    "5. 트리는 파일 시스템과 같이 계층적이고 정렬된 데이터를 다루기에 적합하다.\n",
    "***\n"
   ]
  },
  {
   "cell_type": "code",
   "execution_count": null,
   "metadata": {},
   "outputs": [],
   "source": []
  },
  {
   "cell_type": "code",
   "execution_count": null,
   "metadata": {},
   "outputs": [],
   "source": []
  },
  {
   "cell_type": "markdown",
   "metadata": {},
   "source": [
    "## 부품 찾기"
   ]
  },
  {
   "cell_type": "markdown",
   "metadata": {},
   "source": [
    "#### 문제\n",
    "동빈이네 전자 매장에는 부품이 N개 있다. 각 부품은 정수 형태의 고유한 번호가 있다. 어느 날 손님이 M개의 종류의 부품을 대량으로 구매하겠다며 당일 날 견적서를 요청했다. 동빈이는 때를 놓치지 않고 손님이 문의한 부품 M개 종류를 모두 확인해서 견적서를 작성해야 한다. 이때 가게 안에 부품이 모두 있는지 확인하는 프로그램을 작성해보자.\n",
    "예를 들어 가게의 부품이 총 5개일 때 부품 번호가 다음과 같다고 하자.\n",
    "\n",
    "N=5\n",
    "\n",
    "[8, 3, 7, 9, 2]\n",
    "\n",
    "손님은 총 3개의 부품이 있는지 확인 요청했는데 부품 번호는 다음과 같다.\n",
    "\n",
    "M=3\n",
    "\n",
    "[5, 7, 9]\n",
    "\n",
    "이때 손님이 요청한 부품 번호의 순서대로 부품을 확인해 부품이 있으면 yes를, 없으면 no를 출력한다. 구분은 공백으로 한다.\n",
    "\n",
    "#### 입력\n",
    "첫째 줄에 정수 N이 주어진다. (1<=N<=1,000,000)\n",
    "\n",
    "둘째 줄에는 공백으로 구분하여 N개의 정수가 주어진다. 이때 정수는 1보다 크고 1,000,000 이하이다.\n",
    "\n",
    "셋째 줄에는 정수 M이 주어진다. (1<=M<=100,000)\n",
    "\n",
    "넷째 줄에는 공백으로 구분하여 M개의 정수가 주어진다. 이때 정수는 1보다 크고 10억 이하이다.\n",
    "\n",
    "#### 출력\n",
    "첫째 줄에 공백으로 구분하여 각 부품이 존재하면 yes를, 없으면 no를 출력한다.\n",
    "\n",
    "#### 입력 예시\n",
    "\n",
    "5<br>\n",
    "8 3 7 9 2<br>\n",
    "3<br>\n",
    "5 7 9<br>\n",
    "\n",
    "#### 출력 예시\n",
    "\n",
    "no yes yes"
   ]
  },
  {
   "cell_type": "code",
   "execution_count": 1,
   "metadata": {},
   "outputs": [
    {
     "name": "stdout",
     "output_type": "stream",
     "text": [
      "5\n",
      "8 3 7 9 2\n",
      "3\n",
      "5 7 9\n"
     ]
    }
   ],
   "source": [
    "n = int(input())\n",
    "n_list = list(map(int,input().split()))\n",
    "m = int(input())\n",
    "m_list = list(map(int,input().split()))"
   ]
  },
  {
   "cell_type": "code",
   "execution_count": 14,
   "metadata": {},
   "outputs": [],
   "source": [
    "# 이진탐색으로 풀이\n",
    "def binary(array,target,start,end) :\n",
    "    while (start <= end) : \n",
    "        mid = (start+end)//2\n",
    "        if array[mid] == target :\n",
    "            return mid\n",
    "        elif array[mid] > target :\n",
    "            end = mid - 1\n",
    "        else :\n",
    "            start = mid + 1\n",
    "    return None"
   ]
  },
  {
   "cell_type": "code",
   "execution_count": 20,
   "metadata": {},
   "outputs": [
    {
     "name": "stdout",
     "output_type": "stream",
     "text": [
      "no\n",
      "yes\n",
      "yes\n"
     ]
    }
   ],
   "source": [
    "for i in range(len(m_list)) :\n",
    "    idx = binary(n_list,m_list[i],0,len(n_list)-1)\n",
    "    if idx == None : \n",
    "        print('no')\n",
    "    else : \n",
    "        print('yes')"
   ]
  },
  {
   "cell_type": "code",
   "execution_count": 3,
   "metadata": {},
   "outputs": [
    {
     "name": "stdout",
     "output_type": "stream",
     "text": [
      "5\n",
      "8 3 7 9 2\n",
      "3\n",
      "5 7 9\n",
      "no yes yes "
     ]
    }
   ],
   "source": [
    "## 계수정렬로 풀이\n",
    "n = int(input()) # 먼저 n 입력\n",
    "array = [0] * 1000001 # 수 범위만큼의 리스트 생성\n",
    "\n",
    "for i in input().split() : # 배열을 새로 생성하고 배열만큼 array 인덱스에 1 넣기 \n",
    "    array[int(i)] = 1\n",
    "    \n",
    "m = int(input())\n",
    "x = list(map(int,input().split())) # 새로운 수 입력\n",
    "\n",
    "for i in x : # 새로운 수들을 반복돌리면서\n",
    "    if array[i] == 1 : # 해당 위치가 1이면 yes 아니면 no 출력\n",
    "        print('yes',end = ' ')\n",
    "    else : \n",
    "        print('no', end = ' ')"
   ]
  },
  {
   "cell_type": "code",
   "execution_count": 4,
   "metadata": {},
   "outputs": [
    {
     "name": "stdout",
     "output_type": "stream",
     "text": [
      "5\n",
      "8 3 7 9 2\n",
      "3\n",
      "5 7 9 \n",
      "no yes yes "
     ]
    }
   ],
   "source": [
    "## 집합 자료형 이용\n",
    "n = int(input())\n",
    "\n",
    "# 전체 부품 번호를 입력받아서 집합에 기록\n",
    "array = set(map(int,input().split()))\n",
    "\n",
    "m = int(input())\n",
    "# 손님이 요청한 부품 번호를 공백으로 입력\n",
    "x = list(map(int,input().split()))\n",
    "\n",
    "for i in x :\n",
    "    if i in array :\n",
    "        print('yes', end = ' ')\n",
    "    else : \n",
    "        print('no', end = ' ')"
   ]
  }
 ],
 "metadata": {
  "kernelspec": {
   "display_name": "Python 3 (ipykernel)",
   "language": "python",
   "name": "python3"
  },
  "language_info": {
   "codemirror_mode": {
    "name": "ipython",
    "version": 3
   },
   "file_extension": ".py",
   "mimetype": "text/x-python",
   "name": "python",
   "nbconvert_exporter": "python",
   "pygments_lexer": "ipython3",
   "version": "3.8.5"
  }
 },
 "nbformat": 4,
 "nbformat_minor": 4
}
