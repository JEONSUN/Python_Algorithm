{
 "cells": [
  {
   "cell_type": "markdown",
   "metadata": {},
   "source": [
    "## 순차 탐색\n",
    "\n",
    "- 리스트 안에 있는 특정한 데이터를 찾기 위해 앞에서부터 데이터를 하나씩 차례대로 확인하는 방법이다.\n",
    "\n",
    "리스트의 데이터에 하나씩 방문하며 특정한 문자열과 같은지 검사하므로 구현도 간단하다. 순차 탐색은 정말 자주 사용되는데, 리스트에 특정 값의 원소가 있는지 체크할 때도 순차 탐색으로 원소를 확인하고, \n",
    "\n",
    "리스트 자료형에서 특정한 값을 가지는 원소의 개수를 세는 count() 메서드를 이용할 때도 내부에서는 순차 탐색이 수행된다."
   ]
  },
  {
   "cell_type": "code",
   "execution_count": 2,
   "metadata": {},
   "outputs": [
    {
     "name": "stdout",
     "output_type": "stream",
     "text": [
      "생성할 원소 개수를 입력한 다음 한 칸 띄고 찾을 문자열을 입력하시오\n",
      "5 jeon\n",
      "앞서 적은 원소 개수만큼 문자열을 입력하세요. 구분은 띄어쓰기 한 칸으로 합니다.\n",
      "jon jone jeon jjeon jeonn\n",
      "3\n"
     ]
    }
   ],
   "source": [
    "# 순차 탐색 소스코드 구현\n",
    "def sequential_search(n, target, array) : # 구성 개수, 목표값, 순차 탐색 대상\n",
    "    for i in range(n) : # 반복 돌리면서\n",
    "        if array[i] == target : # 타겟일 경우\n",
    "            return i + 1 # 인덱스 + 1을 리턴\n",
    "    \n",
    "print(\"생성할 원소 개수를 입력한 다음 한 칸 띄고 찾을 문자열을 입력하시오\")\n",
    "input_data = input().split() # 원소 개수와 찾을 문자열\n",
    "n = int(input_data[0]) # 원소 개수\n",
    "target = input_data[1] # 찾을 문자열\n",
    "\n",
    "print(\"앞서 적은 원소 개수만큼 문자열을 입력하세요. 구분은 띄어쓰기 한 칸으로 합니다.\")\n",
    "array = input().split() \n",
    "\n",
    "# 순차 탐색 수행 결과 출력\n",
    "print(sequential_search(n, target,array))"
   ]
  },
  {
   "cell_type": "markdown",
   "metadata": {},
   "source": [
    "순차 탐색은 데이터 정렬 여부와 상관없이 가장 앞에 있는 원소부터 하나씩 확인해야한다는 점이 특징이다.\n",
    "\n",
    "따라서 데이터의 개수가 N개일 때 최대 N번의 비교 연산이 필요하므로 순차 탐색의 최악의 경우 시간 복잡도는 $O(N)$이다."
   ]
  },
  {
   "cell_type": "markdown",
   "metadata": {},
   "source": [
    "## 이진탐색\n",
    "\n",
    "\n",
    "- 이진탐색은 배열 내부의 데이터가 정렬되어 있어야만 사용할 수 있는 알고리즘이다.\n",
    "\n",
    "- 데이터가 무작위일 때는 사용할 수 없지만, 이미 정렬되어 있다면 매우 빠르게 데이터를 찾을 수 있다는 특징이 있다.\n",
    "\n",
    "- 이진 탐색은 탐색 범위를 절반씩 좁혀가며 데이터를 탐색한다.\n",
    "\n",
    "\n",
    "이진탐색은 위치를 나타내는 변수 3개를 사용하는데 탐색하고자 하는 범위의 시작점, 끝점, 그리고 중간점이다.\n",
    "\n",
    "**찾으려는 데이터와 중간점 위치에 있는 데이터를 반복적으로 비교해서 원하는 데이터를 찾는게 이진 탐색 과정이다.**"
   ]
  },
  {
   "cell_type": "code",
   "execution_count": 3,
   "metadata": {},
   "outputs": [
    {
     "name": "stdout",
     "output_type": "stream",
     "text": [
      "10 7\n",
      "1 3 5 7 9 11 13 15 17 19\n",
      "4\n"
     ]
    }
   ],
   "source": [
    "# 이진 탐색 소스코드 구현(재귀 함수)\n",
    "def binary_search(array, target, start, end) : # 배열, 목푯값, 시작점, 끝점\n",
    "    if start > end : # 만약 시작점이 끝보다 크면 None 리턴\n",
    "        return None\n",
    "    mid = (start + end)//2 # 중앙값 계산(몫만 남김)\n",
    "    \n",
    "    if array[mid] == target : # 만약 타겟값이 중앙값과 같으면 \n",
    "        return mid # 중앙값 리턴\n",
    "    \n",
    "    elif array[mid] > target : # 만약 중앙값이 타깃보다 크면 좌측 확인\n",
    "        return binary_search(array, target ,start, mid - 1)\n",
    "    \n",
    "    else : # 아닐경우엔 우측 확인\n",
    "        return binary_search(array, target, mid+1, end)\n",
    "    \n",
    "\n",
    "n, target = list(map(int,input().split()))\n",
    "\n",
    "array = list(map(int,input().split()))\n",
    "# 이진탐색 수행 결과 출력\n",
    "result = binary_search(array, target, 0, n-1)\n",
    "\n",
    "if result == None :\n",
    "    print(\"원소가 존재하지 않습니다.\")\n",
    "\n",
    "else :\n",
    "    print(result + 1)"
   ]
  },
  {
   "cell_type": "markdown",
   "metadata": {},
   "source": [
    "탐색을 할 수록 데이터가 줄어든다. 이진탐색의 복잡도는 $O(logN)$이다."
   ]
  },
  {
   "cell_type": "code",
   "execution_count": 10,
   "metadata": {},
   "outputs": [],
   "source": [
    "# 이진 탐색 소스코드 구현(반복문)\n",
    "def binary_search(n,target,start,end) :\n",
    "    while start <= end : # 해당 조건일 경우 break\n",
    "        mid = (start + end)//2 # 중앙값 계산해서\n",
    "        \n",
    "        if array[mid] == target : # 중간값이 target과 같다면 리턴\n",
    "            return mid\n",
    "        \n",
    "        elif array[mid] > target : # 중간값이 target보다 크면\n",
    "            end = mid - 1 # 중앙값보다 작은 배열 확인\n",
    "        else :\n",
    "            start = mid + 1 # 반대일경우 중앙값보다 큰값 배열 확인\n",
    "            \n",
    "    return None"
   ]
  },
  {
   "cell_type": "code",
   "execution_count": 11,
   "metadata": {},
   "outputs": [
    {
     "name": "stdout",
     "output_type": "stream",
     "text": [
      "4\n"
     ]
    }
   ],
   "source": [
    "n, target = list(map(int,input().split()))\n",
    "\n",
    "array = list(map(int,input().split()))\n",
    "\n",
    "result = binary_search(array, target, 0, n-1)\n",
    "if result == None :\n",
    "    print(\"원소가 존재하지 않습니다.\")\n",
    "\n",
    "else :\n",
    "    print(result + 1)"
   ]
  },
  {
   "cell_type": "code",
   "execution_count": null,
   "metadata": {},
   "outputs": [],
   "source": []
  },
  {
   "cell_type": "code",
   "execution_count": null,
   "metadata": {},
   "outputs": [],
   "source": []
  },
  {
   "cell_type": "code",
   "execution_count": null,
   "metadata": {},
   "outputs": [],
   "source": []
  }
 ],
 "metadata": {
  "kernelspec": {
   "display_name": "Python 3 (ipykernel)",
   "language": "python",
   "name": "python3"
  },
  "language_info": {
   "codemirror_mode": {
    "name": "ipython",
    "version": 3
   },
   "file_extension": ".py",
   "mimetype": "text/x-python",
   "name": "python",
   "nbconvert_exporter": "python",
   "pygments_lexer": "ipython3",
   "version": "3.8.5"
  }
 },
 "nbformat": 4,
 "nbformat_minor": 4
}
