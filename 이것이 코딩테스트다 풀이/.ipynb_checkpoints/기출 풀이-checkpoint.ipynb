{
 "cells": [
  {
   "cell_type": "markdown",
   "metadata": {},
   "source": [
    "# 그리디"
   ]
  },
  {
   "cell_type": "markdown",
   "metadata": {},
   "source": [
    "### 모험가 길드\n",
    "\n",
    "#### 문제 설명\n",
    "한 마을에 모험가가 N명 있다. 모험가 길드에서는 N명의 모험가를 대상으로 '공포도'를 측정하는데, '공포도'가 높은 모험가는 쉽게 공포를 느껴 위험 상황에서 제대로 대처할 능력이 떨어진다. 모험가 길드장인 동빈이는 모험가 그룹을 안전하게 구성하고자 공포도가 X인 모험가는 반드시 X명 이상으로 구성한 모험가 그룹에 참여해야 여행을 떠날 수 있다. 동빈이는 최대한 몇 개의 모험가 그룹을 만들 수 있는지 궁금하다. 동빈이를 위해 N명의 모험가에 대한 정보가 주어질 때, 여행을 떠날 수 있는 그룹 수의 최댓값을 구하는 프로그램을 작성하여라.\n",
    "\n",
    "#### 입력조건\n",
    "첫째 줄에 모험가의 수 N이 주어진다.(1 <= N <= 100,000)\n",
    "둘째 줄에 각 모험가의 공포도의 값을 N 이하의 자연수로 주어지며, 각 자연수는 공백으로 구분한다.\n",
    "\n",
    "#### 출력조건\n",
    "여행을 떠날 수 있는 그룹 수의 최댓값을 출력합니다.\n",
    "\n",
    "#### 입력 예시\n",
    "5<br>\n",
    "2 3 1 2 2\n",
    "\n",
    "#### 출력 예시\n",
    "2\n"
   ]
  },
  {
   "cell_type": "code",
   "execution_count": 28,
   "metadata": {},
   "outputs": [
    {
     "name": "stdout",
     "output_type": "stream",
     "text": [
      "5\n",
      "2 3 1 2 2\n"
     ]
    }
   ],
   "source": [
    "n = int(input())\n",
    "arr = list(map(int, input().split()))"
   ]
  },
  {
   "cell_type": "code",
   "execution_count": 29,
   "metadata": {},
   "outputs": [
    {
     "data": {
      "text/plain": [
       "[2, 3, 1, 2, 2]"
      ]
     },
     "execution_count": 29,
     "metadata": {},
     "output_type": "execute_result"
    }
   ],
   "source": [
    "arr"
   ]
  },
  {
   "cell_type": "code",
   "execution_count": 51,
   "metadata": {},
   "outputs": [
    {
     "name": "stdout",
     "output_type": "stream",
     "text": [
      "2 2 0\n",
      "3 2 1\n",
      "1 3 2\n",
      "2 3 0\n",
      "2 3 1\n"
     ]
    }
   ],
   "source": [
    "# 내가 푼 풀이\n",
    "from collections import deque\n",
    "que = deque() # deque를 불러와서\n",
    "result = 0\n",
    "answer = []\n",
    "for i in arr : # arr 반복\n",
    "    if len(que) == 0 : # deque에 들어간게 없으면\n",
    "        que.append(i) # 반복도는 값 append\n",
    "        result += 1 # 횟수 1\n",
    "    else : # 값이 있으면\n",
    "        v = que.pop() # 값 빼서\n",
    "        if i > v : # arr와 비교해서 현재 반복값이 클 시\n",
    "            que.append(i) # # que에 등록\n",
    "            result += 1 # 횟수 1 추가\n",
    "        else :\n",
    "            que.append(v) # 아닐경우 기존에 추출했던 값 등록\n",
    "            result += 1 # 횟수 1 추가\n",
    "        \n",
    "        max_que = max(que) # 만약 현재 que에 최댓값과 횟수가 같으면\n",
    "        if max_que == result : # \n",
    "            answer.append(result) # 횟수를 결과 리스트에 등록\n",
    "            result = 0 # 횟수 초기화\n",
    "            que.pop() # que 초기화"
   ]
  },
  {
   "cell_type": "code",
   "execution_count": 54,
   "metadata": {},
   "outputs": [
    {
     "name": "stdout",
     "output_type": "stream",
     "text": [
      "[3, 2]\n"
     ]
    }
   ],
   "source": [
    "print(answer) # 두개의 결과가 나옴 : 두개의 그룹 형성"
   ]
  },
  {
   "cell_type": "code",
   "execution_count": 55,
   "metadata": {},
   "outputs": [
    {
     "name": "stdout",
     "output_type": "stream",
     "text": [
      "5\n",
      "2 3 1 2 2\n",
      "2\n"
     ]
    }
   ],
   "source": [
    "# 풀이\n",
    "n = int(input())\n",
    "data = list(map(int,input().split()))\n",
    "data.sort()\n",
    "result = 0\n",
    "count = 0\n",
    "\n",
    "for i in data : # 데이터 정렬한 후 반복\n",
    "    count += 1 # 횟수 1 더하고\n",
    "    if count >= i : # 만약 횟수가 현재 i보다 같거나 클 경우\n",
    "        result += 1 # 그룹 1 더하기\n",
    "        count = 0 # 횟수 초기화\n",
    "        \n",
    "print(result)"
   ]
  },
  {
   "cell_type": "markdown",
   "metadata": {},
   "source": [
    "## 곱하기 혹은 더하기\n",
    "#### 문제\n",
    "각 자리가 숫자 (0부터 9)로만 이루어진 문자열 S가 주어졌을 때, 왼쪽부터 오른쪽으로 하나씩 모든 숫자를 확인하며 숫자 사이에 'X' 혹은 '+'연산자를 넣어 결과적으로 만들어질 수 있는 가장 큰 수를 구하는 프로그램을 작성하세요.\n",
    "단, +보다 X를 먼저 계산하는 일반적인 방식과는 달리, 모든 연산은 왼쪽에서부터 순서대로 이루어진다고 가정합니다.\n",
    "\n",
    "#### 입력조건\n",
    "첫째 줄에 여러 개의 숫자로 구성된 하나의 문자열 S가 주어집니다. (1 <= S의 길이 <= 20)\n",
    "#### 출력조건\n",
    "첫째 줄에 만들어질 수 있는 가장 큰 수를 출력합니다.\n",
    "#### 입력예시\n",
    "02984\n",
    "#### 출력예시\n",
    "567"
   ]
  },
  {
   "cell_type": "code",
   "execution_count": 74,
   "metadata": {},
   "outputs": [
    {
     "name": "stdout",
     "output_type": "stream",
     "text": [
      "1101\n"
     ]
    }
   ],
   "source": [
    "s = input()"
   ]
  },
  {
   "cell_type": "code",
   "execution_count": 75,
   "metadata": {},
   "outputs": [],
   "source": [
    "arr1 = list(s)"
   ]
  },
  {
   "cell_type": "code",
   "execution_count": 76,
   "metadata": {},
   "outputs": [],
   "source": [
    "result = 0\n",
    "for i in arr1 :\n",
    "    sco = int(i)\n",
    "    #if result == 0 or result == 1 : # result가 0이거나 1일경우\n",
    "    if result <= 1 or sco <= 1 :\n",
    "        result += sco # 현재 수를 더함\n",
    "    else :\n",
    "        result *= sco # 아닐 경우 곱함"
   ]
  },
  {
   "cell_type": "markdown",
   "metadata": {},
   "source": [
    "내 풀이 방식은 중간에 1이나 0이 들어가 있을경우 반례가 된다."
   ]
  },
  {
   "cell_type": "code",
   "execution_count": 77,
   "metadata": {},
   "outputs": [
    {
     "data": {
      "text/plain": [
       "3"
      ]
     },
     "execution_count": 77,
     "metadata": {},
     "output_type": "execute_result"
    }
   ],
   "source": [
    "result"
   ]
  },
  {
   "cell_type": "code",
   "execution_count": 67,
   "metadata": {},
   "outputs": [
    {
     "name": "stdout",
     "output_type": "stream",
     "text": [
      "567\n",
      "210\n"
     ]
    }
   ],
   "source": [
    "# 풀이\n",
    "data = input()\n",
    "\n",
    "result = int(data[0]) # 첫번째 수를 대입\n",
    "for i in range(1,len(data)) : # 그다음 수부터 array 끝까지 반복\n",
    "    num = int(data[i])\n",
    "    \n",
    "    if num <= 1 or result <= 1 : # 만약 숫자가 1이거나 결과값이 1일 경우\n",
    "        result += num # result에 덧셈\n",
    "    else :\n",
    "        result *= num # result에 곱셈\n",
    "print(result)"
   ]
  },
  {
   "cell_type": "code",
   "execution_count": 119,
   "metadata": {},
   "outputs": [],
   "source": [
    "n = 8\n",
    "a = 4\n",
    "b = 7\n",
    "nums_list = [0] * n\n",
    "nums_list[a-1] = 1\n",
    "nums_list[b-1] = 2"
   ]
  }
 ],
 "metadata": {
  "kernelspec": {
   "display_name": "Python 3 (ipykernel)",
   "language": "python",
   "name": "python3"
  },
  "language_info": {
   "codemirror_mode": {
    "name": "ipython",
    "version": 3
   },
   "file_extension": ".py",
   "mimetype": "text/x-python",
   "name": "python",
   "nbconvert_exporter": "python",
   "pygments_lexer": "ipython3",
   "version": "3.8.5"
  }
 },
 "nbformat": 4,
 "nbformat_minor": 4
}
