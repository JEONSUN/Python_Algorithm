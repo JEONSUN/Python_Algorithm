{
 "cells": [
  {
   "cell_type": "markdown",
   "metadata": {},
   "source": [
    "# 그리디"
   ]
  },
  {
   "cell_type": "markdown",
   "metadata": {},
   "source": [
    "### 모험가 길드\n",
    "\n",
    "#### 문제 설명\n",
    "한 마을에 모험가가 N명 있다. 모험가 길드에서는 N명의 모험가를 대상으로 '공포도'를 측정하는데, '공포도'가 높은 모험가는 쉽게 공포를 느껴 위험 상황에서 제대로 대처할 능력이 떨어진다. 모험가 길드장인 동빈이는 모험가 그룹을 안전하게 구성하고자 공포도가 X인 모험가는 반드시 X명 이상으로 구성한 모험가 그룹에 참여해야 여행을 떠날 수 있다. 동빈이는 최대한 몇 개의 모험가 그룹을 만들 수 있는지 궁금하다. 동빈이를 위해 N명의 모험가에 대한 정보가 주어질 때, 여행을 떠날 수 있는 그룹 수의 최댓값을 구하는 프로그램을 작성하여라.\n",
    "\n",
    "#### 입력조건\n",
    "첫째 줄에 모험가의 수 N이 주어진다.(1 <= N <= 100,000)\n",
    "둘째 줄에 각 모험가의 공포도의 값을 N 이하의 자연수로 주어지며, 각 자연수는 공백으로 구분한다.\n",
    "\n",
    "#### 출력조건\n",
    "여행을 떠날 수 있는 그룹 수의 최댓값을 출력합니다.\n",
    "\n",
    "#### 입력 예시\n",
    "5<br>\n",
    "2 3 1 2 2\n",
    "\n",
    "#### 출력 예시\n",
    "2\n"
   ]
  },
  {
   "cell_type": "code",
   "execution_count": 28,
   "metadata": {},
   "outputs": [
    {
     "name": "stdout",
     "output_type": "stream",
     "text": [
      "5\n",
      "2 3 1 2 2\n"
     ]
    }
   ],
   "source": [
    "n = int(input())\n",
    "arr = list(map(int, input().split()))"
   ]
  },
  {
   "cell_type": "code",
   "execution_count": 29,
   "metadata": {},
   "outputs": [
    {
     "data": {
      "text/plain": [
       "[2, 3, 1, 2, 2]"
      ]
     },
     "execution_count": 29,
     "metadata": {},
     "output_type": "execute_result"
    }
   ],
   "source": [
    "arr"
   ]
  },
  {
   "cell_type": "code",
   "execution_count": 51,
   "metadata": {},
   "outputs": [
    {
     "name": "stdout",
     "output_type": "stream",
     "text": [
      "2 2 0\n",
      "3 2 1\n",
      "1 3 2\n",
      "2 3 0\n",
      "2 3 1\n"
     ]
    }
   ],
   "source": [
    "# 내가 푼 풀이\n",
    "from collections import deque\n",
    "que = deque() # deque를 불러와서\n",
    "result = 0\n",
    "answer = []\n",
    "for i in arr : # arr 반복\n",
    "    if len(que) == 0 : # deque에 들어간게 없으면\n",
    "        que.append(i) # 반복도는 값 append\n",
    "        result += 1 # 횟수 1\n",
    "    else : # 값이 있으면\n",
    "        v = que.pop() # 값 빼서\n",
    "        if i > v : # arr와 비교해서 현재 반복값이 클 시\n",
    "            que.append(i) # # que에 등록\n",
    "            result += 1 # 횟수 1 추가\n",
    "        else :\n",
    "            que.append(v) # 아닐경우 기존에 추출했던 값 등록\n",
    "            result += 1 # 횟수 1 추가\n",
    "        \n",
    "        max_que = max(que) # 만약 현재 que에 최댓값과 횟수가 같으면\n",
    "        if max_que == result : # \n",
    "            answer.append(result) # 횟수를 결과 리스트에 등록\n",
    "            result = 0 # 횟수 초기화\n",
    "            que.pop() # que 초기화"
   ]
  },
  {
   "cell_type": "code",
   "execution_count": 54,
   "metadata": {},
   "outputs": [
    {
     "name": "stdout",
     "output_type": "stream",
     "text": [
      "[3, 2]\n"
     ]
    }
   ],
   "source": [
    "print(answer) # 두개의 결과가 나옴 : 두개의 그룹 형성"
   ]
  },
  {
   "cell_type": "code",
   "execution_count": 55,
   "metadata": {},
   "outputs": [
    {
     "name": "stdout",
     "output_type": "stream",
     "text": [
      "5\n",
      "2 3 1 2 2\n",
      "2\n"
     ]
    }
   ],
   "source": [
    "# 풀이\n",
    "n = int(input())\n",
    "data = list(map(int,input().split()))\n",
    "data.sort()\n",
    "result = 0\n",
    "count = 0\n",
    "\n",
    "for i in data : # 데이터 정렬한 후 반복\n",
    "    count += 1 # 횟수 1 더하고\n",
    "    if count >= i : # 만약 횟수가 현재 i보다 같거나 클 경우\n",
    "        result += 1 # 그룹 1 더하기\n",
    "        count = 0 # 횟수 초기화\n",
    "        \n",
    "print(result)"
   ]
  },
  {
   "cell_type": "markdown",
   "metadata": {},
   "source": [
    "## 곱하기 혹은 더하기\n",
    "#### 문제\n",
    "각 자리가 숫자 (0부터 9)로만 이루어진 문자열 S가 주어졌을 때, 왼쪽부터 오른쪽으로 하나씩 모든 숫자를 확인하며 숫자 사이에 'X' 혹은 '+'연산자를 넣어 결과적으로 만들어질 수 있는 가장 큰 수를 구하는 프로그램을 작성하세요.\n",
    "단, +보다 X를 먼저 계산하는 일반적인 방식과는 달리, 모든 연산은 왼쪽에서부터 순서대로 이루어진다고 가정합니다.\n",
    "\n",
    "#### 입력조건\n",
    "첫째 줄에 여러 개의 숫자로 구성된 하나의 문자열 S가 주어집니다. (1 <= S의 길이 <= 20)\n",
    "#### 출력조건\n",
    "첫째 줄에 만들어질 수 있는 가장 큰 수를 출력합니다.\n",
    "#### 입력예시\n",
    "02984\n",
    "#### 출력예시\n",
    "567"
   ]
  },
  {
   "cell_type": "code",
   "execution_count": 74,
   "metadata": {},
   "outputs": [
    {
     "name": "stdout",
     "output_type": "stream",
     "text": [
      "1101\n"
     ]
    }
   ],
   "source": [
    "s = input()"
   ]
  },
  {
   "cell_type": "code",
   "execution_count": 75,
   "metadata": {},
   "outputs": [],
   "source": [
    "arr1 = list(s)"
   ]
  },
  {
   "cell_type": "code",
   "execution_count": 76,
   "metadata": {},
   "outputs": [],
   "source": [
    "result = 0\n",
    "for i in arr1 :\n",
    "    sco = int(i)\n",
    "    #if result == 0 or result == 1 : # result가 0이거나 1일경우\n",
    "    if result <= 1 or sco <= 1 :\n",
    "        result += sco # 현재 수를 더함\n",
    "    else :\n",
    "        result *= sco # 아닐 경우 곱함"
   ]
  },
  {
   "cell_type": "markdown",
   "metadata": {},
   "source": [
    "내 풀이 방식은 중간에 1이나 0이 들어가 있을경우 반례가 된다."
   ]
  },
  {
   "cell_type": "code",
   "execution_count": 77,
   "metadata": {},
   "outputs": [
    {
     "data": {
      "text/plain": [
       "3"
      ]
     },
     "execution_count": 77,
     "metadata": {},
     "output_type": "execute_result"
    }
   ],
   "source": [
    "result"
   ]
  },
  {
   "cell_type": "code",
   "execution_count": 67,
   "metadata": {},
   "outputs": [
    {
     "name": "stdout",
     "output_type": "stream",
     "text": [
      "567\n",
      "210\n"
     ]
    }
   ],
   "source": [
    "# 풀이\n",
    "data = input()\n",
    "\n",
    "result = int(data[0]) # 첫번째 수를 대입\n",
    "for i in range(1,len(data)) : # 그다음 수부터 array 끝까지 반복\n",
    "    num = int(data[i])\n",
    "    \n",
    "    if num <= 1 or result <= 1 : # 만약 숫자가 1이거나 결과값이 1일 경우\n",
    "        result += num # result에 덧셈\n",
    "    else :\n",
    "        result *= num # result에 곱셈\n",
    "print(result)"
   ]
  },
  {
   "cell_type": "markdown",
   "metadata": {},
   "source": [
    "***\n",
    "\n",
    "# 구현\n",
    "***"
   ]
  },
  {
   "cell_type": "markdown",
   "metadata": {},
   "source": [
    "## 문자열 뒤집기"
   ]
  },
  {
   "cell_type": "markdown",
   "metadata": {},
   "source": [
    "다솜이는 0과 1로만 이루어진 문자열 S를 가지고 있다. 다솜이는 이 문자열 S에 있는 모든 숫자를 전부 같게 만드려고 한다.\n",
    "\n",
    "다솜이가 할 수 있는 행동은 S에서 연속된 하나 이상의 숫자를 잡고 모두 뒤집는 것이다. 뒤집는 것은 1을 0으로, 0을 1로 바꾸는 것을 의미한다.\n",
    "\n",
    "예를 들어 S = 0001100일 때는 다음과 같습니다.\n",
    "\n",
    "***\n",
    "1. 전체를 뒤집으면 1110011이 된다.\n",
    "\n",
    "2. 4번째 문자무터 5번째 문자까지 뒤집으면 1111111이 되어서 두번만에 모두 같은 숫자로 만들 수 있다.\n",
    "하지만, 처음부터 4, 5번째 문자를 뒤집었으면 한번에 0000000이 되어서 1번만에 모두 같은 숫자로 만들 수 있습니다.\n",
    "***\n",
    "\n",
    "#### 문제\n",
    "문자열 S가 주어졌을 때, 다솜이가 해야하는 행동의 최소 횟수를 출력하시오.\n",
    "\n",
    "#### 입력조건\n",
    "첫째 줄에 0과 1로만 이루어진 문자열 S가 주어집니다. S의 길이는 100만보다 작습니다.\n",
    "#### 출력조건\n",
    "첫째줄에 다솜이가 해야하는 행동의 최소 횟수를 출력합니다\n",
    "#### 입력예시\n",
    "0001100\n",
    "#### 출력예시\n",
    "1"
   ]
  },
  {
   "cell_type": "code",
   "execution_count": 155,
   "metadata": {
    "scrolled": true
   },
   "outputs": [
    {
     "name": "stdout",
     "output_type": "stream",
     "text": [
      "0001100\n"
     ]
    }
   ],
   "source": [
    "data = input()"
   ]
  },
  {
   "cell_type": "code",
   "execution_count": 156,
   "metadata": {},
   "outputs": [
    {
     "name": "stdout",
     "output_type": "stream",
     "text": [
      "1\n"
     ]
    }
   ],
   "source": [
    "# 풀이\n",
    "count0 = 0 # 전부 0으로 바꾸는 경우\n",
    "count1 = 0 # 전부 1로 바꾸는 경우\n",
    "\n",
    "if data[0] == '1' : # 첫 원소가 '1'이면\n",
    "    count0 += 1 # 0으로 바꾸는 경우 1추가\n",
    "else :\n",
    "    count1 += 1 # 첫원소가 1이 아니면 1로 바꾸는 경우 추가\n",
    "\n",
    "# 반복 돌리면서 뒤집어야 하는 횟수 \n",
    "for i in range(len(data) - 1) :\n",
    "    if data[i] != data[i+1] :\n",
    "        if data[i+1] == '1' :\n",
    "            count0 += 1 # 다음 수에서 1로 바뀌는 경우\n",
    "        else :\n",
    "            count1 += 1 # 다음 수에서 0으로 바뀌는 경우\n",
    "print(min(count0,count1))"
   ]
  },
  {
   "cell_type": "markdown",
   "metadata": {},
   "source": [
    "## 만들 수 없는 금액"
   ]
  },
  {
   "cell_type": "markdown",
   "metadata": {},
   "source": [
    "배열내의 원소 개수 N과 배열이 주어졌을 때\n",
    "구할 수 없는 최솟값을 찾아라"
   ]
  },
  {
   "cell_type": "code",
   "execution_count": 30,
   "metadata": {
    "scrolled": true
   },
   "outputs": [
    {
     "name": "stdout",
     "output_type": "stream",
     "text": [
      "5\n",
      "3 2 1 1 9\n"
     ]
    }
   ],
   "source": [
    "n = int(input())\n",
    "arr = list(map(int, input().split()))"
   ]
  },
  {
   "cell_type": "code",
   "execution_count": 61,
   "metadata": {},
   "outputs": [
    {
     "name": "stdout",
     "output_type": "stream",
     "text": [
      "8\n"
     ]
    }
   ],
   "source": [
    "from itertools import permutations,combinations\n",
    "\n",
    "arr.sort()\n",
    "\n",
    "permu = []\n",
    "for i in range(1,len(arr)+1) :\n",
    "    permu.extend(list(combinations(arr,i)))\n",
    "    \n",
    "n_list = list(range(1,sum(arr) + 1))\n",
    "sum_list = [0] * (len(n_list)+1)\n",
    "for i in permu :\n",
    "    sum_list[sum(i)] = sum(i)\n",
    "    \n",
    "sum_list = list(set(sum_list))\n",
    "\n",
    "for i in n_list :\n",
    "    if i in sum_list :\n",
    "        pass\n",
    "    else :\n",
    "        print(i)\n",
    "        break"
   ]
  },
  {
   "cell_type": "markdown",
   "metadata": {},
   "source": [
    "풀긴 풀었으나 너무 itertools에 의존하는 경향이 있다는 것을 느꼈다.\n",
    "\n",
    "만약 수가 컸다면 효율적인 코드냐에 대한 의구심이 듬"
   ]
  },
  {
   "cell_type": "code",
   "execution_count": 65,
   "metadata": {},
   "outputs": [
    {
     "name": "stdout",
     "output_type": "stream",
     "text": [
      "5\n",
      "3 2 1 1 9\n"
     ]
    }
   ],
   "source": [
    "n = int(input())\n",
    "data = list(map(int, input().split()))"
   ]
  },
  {
   "cell_type": "code",
   "execution_count": 68,
   "metadata": {},
   "outputs": [
    {
     "data": {
      "text/plain": [
       "[1, 1, 2, 3, 9]"
      ]
     },
     "execution_count": 68,
     "metadata": {},
     "output_type": "execute_result"
    }
   ],
   "source": [
    "data"
   ]
  },
  {
   "cell_type": "code",
   "execution_count": 69,
   "metadata": {},
   "outputs": [
    {
     "name": "stdout",
     "output_type": "stream",
     "text": [
      "1 2\n",
      "1 3\n",
      "2 5\n",
      "3 8\n",
      "8\n"
     ]
    }
   ],
   "source": [
    "data.sort()\n",
    "target = 1\n",
    "\n",
    "for x in data :\n",
    "    if target < x :\n",
    "        break\n",
    "    target += x\n",
    "    print(x,target)\n",
    "    \n",
    "print(target)"
   ]
  },
  {
   "cell_type": "markdown",
   "metadata": {},
   "source": [
    "## 볼링공 고르기\n",
    "\n",
    "A, B 두 사람이 볼링을 치고 있습니다. 두 사람은 서로 무게가 다른 볼링공을 고르려고 합니다. 볼링공은 총 N개가 있으며 각 볼링공마다 무게가 적혀 있고, 공의 번호는 1번부터 순서대로 부여됩니다. 또한 같은 무게의 공이 여러개 있을 수 있지만, 서로 다른 공으로 간주합니다. 볼링공의 무게는 1부터 M까지의 자연수 형태로 존재합니다.\n",
    "\n",
    "#### 문제\n",
    "N개의 공의 무게가 각각 주어질 때, 두 사람이 볼링공을 고르는 경우의 수를 구하는 프로그램을 작성하세요.\n",
    "\n",
    "#### 입력 조건\n",
    "첫째 줄에 볼링공의 개수 N, 공의 최대 무게 M이 공백으로 구분되어 각각 자연수 형태로 주어집니다.\n",
    "\n",
    "(1 <= N <= 1,000, 1 <= M <= 10)\n",
    "\n",
    "둘째 줄에 각 볼링공의 무게 K가 공백으로 구분되어 순서대로 자연수 형태로 주어집니다.\n",
    "\n",
    "(1 <= K <= M)\n",
    "\n",
    "#### 출력 조건\n",
    "첫째 줄에 두 사람이 볼링공을 고르는 경우의 수를 출력합니다.\n",
    "#### 입력 예시\n",
    "5 3<br>\n",
    "1 3 2 3 2\n",
    "#### 출력 예시\n",
    "8"
   ]
  },
  {
   "cell_type": "code",
   "execution_count": 157,
   "metadata": {},
   "outputs": [
    {
     "name": "stdout",
     "output_type": "stream",
     "text": [
      "5 3\n",
      "1 3 2 3 2\n"
     ]
    }
   ],
   "source": [
    "n,m = map(int,input().split())\n",
    "arr = list(map(int,input().split()))"
   ]
  },
  {
   "cell_type": "code",
   "execution_count": 159,
   "metadata": {},
   "outputs": [],
   "source": [
    "# 내가 푼풀이\n",
    "arr.sort()\n",
    "cnt = 0\n",
    "# 2번 반복돌려서 서로 무게가 다를 경우 1회 + \n",
    "for i in range(len(arr)) :\n",
    "    for j in range(i+1,len(arr)) :\n",
    "        if arr[i] != arr[j] :\n",
    "            cnt += 1\n",
    "        else :\n",
    "            pass\n",
    "print(cnt)"
   ]
  },
  {
   "cell_type": "code",
   "execution_count": 173,
   "metadata": {},
   "outputs": [
    {
     "name": "stdout",
     "output_type": "stream",
     "text": [
      "5 3\n",
      "1 3 2 3 2\n",
      "4 1\n",
      "2 2\n",
      "0 3\n",
      "8\n"
     ]
    }
   ],
   "source": [
    "# 풀이\n",
    "n,m = map(int,input().split())\n",
    "data = list(map(int,input().split()))\n",
    "\n",
    "# 1부터 10까지 무게를 담을 수 잇는 리스트\n",
    "array = [0] * 11\n",
    "for x in data :\n",
    "    array[x] += 1\n",
    "    \n",
    "result = 0\n",
    "# 1부터 m까지의 각 무게에 대해 처리\n",
    "for i in range(1, m+1) :\n",
    "    n -= array[i] # 무게가 i인 볼링공의 개수(A가 선택할 수 있는 개수) 제외\n",
    "    result += array[i] * n # B가 선택하는 경우의 수와 곱하기\n",
    "    print(n,i)\n",
    "\n",
    "print(result)"
   ]
  },
  {
   "cell_type": "code",
   "execution_count": 174,
   "metadata": {},
   "outputs": [
    {
     "data": {
      "text/plain": [
       "[0, 1, 2, 2, 0, 0, 0, 0, 0, 0, 0]"
      ]
     },
     "execution_count": 174,
     "metadata": {},
     "output_type": "execute_result"
    }
   ],
   "source": [
    "array"
   ]
  }
 ],
 "metadata": {
  "kernelspec": {
   "display_name": "Python 3 (ipykernel)",
   "language": "python",
   "name": "python3"
  },
  "language_info": {
   "codemirror_mode": {
    "name": "ipython",
    "version": 3
   },
   "file_extension": ".py",
   "mimetype": "text/x-python",
   "name": "python",
   "nbconvert_exporter": "python",
   "pygments_lexer": "ipython3",
   "version": "3.8.5"
  }
 },
 "nbformat": 4,
 "nbformat_minor": 4
}
