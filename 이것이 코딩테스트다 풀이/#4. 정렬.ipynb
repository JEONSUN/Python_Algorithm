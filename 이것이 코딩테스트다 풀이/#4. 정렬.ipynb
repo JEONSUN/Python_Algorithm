{
 "cells": [
  {
   "cell_type": "markdown",
   "metadata": {},
   "source": [
    "**정렬**이란 데이터를 특정한 기준에 따라 순서대로 나열하는 것\n",
    "\n",
    "정렬 알고리즘으로 데이터를 정렬하면 **이진 탐색**이 가능해진다."
   ]
  },
  {
   "cell_type": "markdown",
   "metadata": {},
   "source": [
    "## 선택정렬 $O(N^2)$\n",
    "\n",
    "- 가장 작은 데이터를 선택해 맨 앞의 데이터와 바꾸고, 그다음 작은 데이터를 2번째 자리로 이동시키는 형식\n"
   ]
  },
  {
   "cell_type": "code",
   "execution_count": 1,
   "metadata": {},
   "outputs": [],
   "source": [
    "num_list = [7,5,9,0,3,1,6,2,4,8]"
   ]
  },
  {
   "cell_type": "code",
   "execution_count": 3,
   "metadata": {},
   "outputs": [
    {
     "name": "stdout",
     "output_type": "stream",
     "text": [
      "[0, 1, 2, 3, 4, 5, 6, 7, 8, 9]\n"
     ]
    }
   ],
   "source": [
    "for i in range(len(num_list)) :\n",
    "    min_index = i # 먼저 가장 작은 인덱스를 지정해주고\n",
    "    for j in range(i+1, len(num_list)) : # i보다 크게 범위를 시작,가장 작은 원소의 인덱스와 j를 비교하면서\n",
    "        if num_list[min_index] > num_list[j] : # 가장 작은 인덱스가 현재의 반복보다 클 경우\n",
    "            min_index = j # 가장 작은 원소 인덱스를 현재 반복 인덱스로 변경\n",
    "    num_list[i], num_list[min_index] = num_list[min_index],num_list[i] # 현재의 인덱스와 가장 작은 인덱스를 스왑(swap)\n",
    "print(num_list)"
   ]
  },
  {
   "cell_type": "markdown",
   "metadata": {},
   "source": [
    "#### swap\n",
    "\n",
    "- 특정한 리스트가 주어졌을 때 두 변수의 위치를 변경하는 작업을 의미한다."
   ]
  },
  {
   "cell_type": "code",
   "execution_count": 7,
   "metadata": {},
   "outputs": [
    {
     "name": "stdout",
     "output_type": "stream",
     "text": [
      "[5, 3]\n"
     ]
    }
   ],
   "source": [
    "# 인덱스를 사용하여 두 원소의 위치 변경이 가능하다!\n",
    "array = [3,5]\n",
    "array[0], array[1] = array[1], array[0]\n",
    "print(array)"
   ]
  },
  {
   "cell_type": "markdown",
   "metadata": {},
   "source": [
    "## 삽입 정렬 $O(N^2)$\n",
    "\n",
    "\n",
    "선택 정렬은 알고리즘 문제 풀이에 사용하기에는 느린 편이다.\n",
    "\n",
    "####  삽입 정렬은 특정한 데이터를 적절한 위치에 삽입한다는 의미에서 삽입정렬이라고 불린다\n",
    "\n",
    "또한, 데이터가 거의 정렬되어 있을 경우에 효율이 극대화된다."
   ]
  },
  {
   "cell_type": "code",
   "execution_count": 15,
   "metadata": {},
   "outputs": [
    {
     "name": "stdout",
     "output_type": "stream",
     "text": [
      "[0, 1, 2, 3, 4, 5, 6, 7, 8, 9]\n"
     ]
    }
   ],
   "source": [
    "# 정렬 전 배열\n",
    "array = [7,5,9,0,3,1,6,2,4,8] \n",
    "\n",
    "# 첫번째 값은 고정시킨채로 반복 \n",
    "for i in range(1,len(array)) :\n",
    "    # i번째부터 첫번째 값까지 감소시키며 반복 \n",
    "    for j in range(i, 0, -1) :\n",
    "        if array[j] < array[j - 1] : # 만약 감소시키는 값이 그 앞의 값보다 작다면 \n",
    "            array[j], array[j-1] = array[j-1], array[j] # 서로 Swap\n",
    "        else : # 아닐경우엔\n",
    "            break # 그자리 멈춤\n",
    "            \n",
    "print(array)"
   ]
  },
  {
   "cell_type": "markdown",
   "metadata": {},
   "source": [
    "## 퀵정렬 $O(NlogN)$\n",
    "\n",
    "- 정렬 알고리즘 중에서 가장 많이 사용되는 알고리즘"
   ]
  },
  {
   "cell_type": "code",
   "execution_count": 21,
   "metadata": {
    "scrolled": true
   },
   "outputs": [
    {
     "name": "stdout",
     "output_type": "stream",
     "text": [
      "[0, 1, 2, 3, 4, 5, 6, 7, 8, 9]\n"
     ]
    }
   ],
   "source": [
    "# 퀵 정렬 소스코드\n",
    "array = [5,7,9,0,3,1,6,2,4,8]\n",
    "\n",
    "def quick_sort(array, start, end) : # 배열과 시작값, 끝값 입력 \n",
    "    if start >= end : # 만약 시작값이 end보다 크거나 같을시, 배열이 1개일 시 종료\n",
    "        return\n",
    "    \n",
    "    pivot = start # 피벗은 첫 번째 시작 요소\n",
    "    left = start + 1 # 시작요소에서 그다음 배열값을 left로 지정\n",
    "    right = end # right는 배열 끝 인덱스로 지정\n",
    "    while left <= right : # 피벗보다 큰 데이터를 찾을때까지 반복\n",
    "        while left <= end and array[left] <= array[pivot] : # \n",
    "            left += 1\n",
    "            # 피벗보다 작은 데이터를 찾을때까지 반복\n",
    "        while right > start and array[right] >= array[pivot] :\n",
    "            right -= 1\n",
    "            \n",
    "        if left > right : #만약 시작값이 우측보다 크면, 엇갈렸다면 # 피벗과 우측 작은값 Swap\n",
    "            array[right], array[pivot] = array[pivot], array[right]\n",
    "        else : # 반대일 시 작은데이터와 큰데이터를 값 바꿈\n",
    "            array[left], array[right] = array[right], array[left]\n",
    "    # 재귀함수를 사용해서 우측과 좌측 부분에서 반복\n",
    "    quick_sort(array,start, right - 1)\n",
    "    quick_sort(array,right + 1, end)\n",
    "    \n",
    "# 함수 실행\n",
    "quick_sort(array,0,len(array) - 1)\n",
    "print(array)"
   ]
  },
  {
   "cell_type": "code",
   "execution_count": 86,
   "metadata": {
    "scrolled": true
   },
   "outputs": [
    {
     "name": "stdout",
     "output_type": "stream",
     "text": [
      "[0, 1, 2, 3, 4, 5, 6, 7, 8, 9]\n"
     ]
    }
   ],
   "source": [
    "# 파이썬의 장점을 살린 퀵 정렬 소스코드\n",
    "array = [5,7,9,0,3,1,6,2,4,8]\n",
    "\n",
    "def quick_sort(array) :\n",
    "    \n",
    "    if len(array) <= 1 :\n",
    "        return array\n",
    "    \n",
    "    pivot = array[0] # 피벗은 첫번째 원소\n",
    "    tail = array[1:] # 피벗을 제외한 나머지\n",
    "    left_side = [x for x in tail if x <= pivot] # 피벗을 기준으로 작은 값들은 왼쪽으로 \n",
    "    right_side = [x for x in tail if x > pivot] # 피벗을 기준으로 큰 값들은 오른쪽으로 분리\n",
    "    \n",
    "    # 분할 이후 왼쪽 부분과 오른쪽 부분에서 각각 정렬을 수행하고, 전체 리스트를 반환\n",
    "    return quick_sort(left_side) + [pivot] + quick_sort(right_side)\n",
    "print(quick_sort(array))"
   ]
  },
  {
   "cell_type": "markdown",
   "metadata": {},
   "source": [
    "## 계수 정렬(Count Sort)\n",
    "\n",
    "- 특정한 조건이 부합할 때만 사용할 수 있지만 매우 빠른 정렬 알고리즘이다.\n",
    "***\n",
    "1. 데이터의 크기 범위가 제한되어 정수 형태로 표현할 수 있을때\n",
    "\n",
    "- **일반적으로 가장 큰 데이터와 가장 작은 데이터의 차이가 백만을 넘지 않을 때 효과적으로 사용할 수 있다.**\n",
    "\n",
    "***\n",
    "\n",
    "- 모든 데이터가 양의 정수이면서, 데이터의 개수가 N, 데이터 중 최댓값이 K일 때, 계수 정렬은 최악의 경우에도 $O(N+K)$를 보장한다.\n",
    "\n",
    "- 계수 정렬은 앞에서 다뤘던 3가지 정렬 알고리즘처럼 직접 데이터의 값을 비교한 뒤에 위치를 변경하며 정렬하는 방식이 아니다.\n"
   ]
  },
  {
   "cell_type": "code",
   "execution_count": 3,
   "metadata": {},
   "outputs": [
    {
     "name": "stdout",
     "output_type": "stream",
     "text": [
      "count [0, 0, 0, 0, 0, 0, 0, 0, 0, 0]\n",
      "after count [2, 2, 2, 1, 1, 2, 1, 1, 1, 2]\n",
      "0 0 1 1 2 2 3 4 5 5 6 7 8 9 9 "
     ]
    }
   ],
   "source": [
    "# 계수 정렬 소스코드\n",
    "# 모든 원소의 값이 0보다 크거나 같다고 가정\n",
    "array = [7,5,9,0,3,1,6,2,9,1,4,8,0,5,2]\n",
    "\n",
    "count = [0] * (max(array) + 1) # 모든 범위를 포함하는 리스트 생성\n",
    "print(\"count\", count) \n",
    "for i in range(len(array)) :# array를 돌면서\n",
    "    count[array[i]] += 1 # 각 데이터에 해당하는 인덱스의 값을 증가\n",
    "\n",
    "print(\"after count\", count) # 각 계수별 개수\n",
    "for i in range(len(count)) : # count를 돌면서\n",
    "    for j in range(count[i]) : # 인덱스의 계수만큼 인덱스 출력\n",
    "        print(i, end = ' ')"
   ]
  },
  {
   "cell_type": "markdown",
   "metadata": {},
   "source": [
    "계수 정렬은 데이터의 범위 차이가 작을 경우에는 효과적이지만, 클 경우에는 심각한 비효율성을 초래할 수 있다.\n",
    "\n",
    "예를 들어 데이터가 0과 999,999 단 2개여도 리스트의 크기가 100만개가 되도록 생성해야하므로 메모리 부족 문제를 초래할 수 있다. "
   ]
  },
  {
   "cell_type": "code",
   "execution_count": null,
   "metadata": {},
   "outputs": [],
   "source": []
  },
  {
   "cell_type": "code",
   "execution_count": null,
   "metadata": {},
   "outputs": [],
   "source": []
  },
  {
   "cell_type": "markdown",
   "metadata": {},
   "source": [
    "## 정렬라이브러리 $O(NlogN)$"
   ]
  },
  {
   "cell_type": "code",
   "execution_count": 87,
   "metadata": {},
   "outputs": [
    {
     "name": "stdout",
     "output_type": "stream",
     "text": [
      "[0, 1, 2, 3, 4, 5, 6, 7, 8, 9]\n"
     ]
    }
   ],
   "source": [
    "array = [7,5,9,0,3,1,6,2,4,8]\n",
    "# sorted 를 사용하여 리스트를 정렬할 수 있다\n",
    "result = sorted(array)\n",
    "print(result)"
   ]
  },
  {
   "cell_type": "code",
   "execution_count": 88,
   "metadata": {},
   "outputs": [
    {
     "data": {
      "text/plain": [
       "[('바나나', 2), ('당근', 3), ('사과', 5)]"
      ]
     },
     "execution_count": 88,
     "metadata": {},
     "output_type": "execute_result"
    }
   ],
   "source": [
    "array = [('바나나',2),('사과',5),('당근',3)]\n",
    "\n",
    "def setting(data) :\n",
    "    return data[1]\n",
    "\n",
    "# sorted를 사용할 때는 key 매개변수를 입력으로 받는다. key 값으로는 하나의 함수가 들어가야하며 이는 정렬 기준이 된다.\n",
    "sorted(array, key = setting)"
   ]
  },
  {
   "cell_type": "markdown",
   "metadata": {},
   "source": [
    "## 위에서 아래로"
   ]
  },
  {
   "cell_type": "markdown",
   "metadata": {},
   "source": [
    "#### 문제\n",
    "하나의 수열에는 다양한 수가 존재하며, 이런 큰 수는 크기와 상관 없이 무작위로 주어진다. 이 수를 큰수 부터 작은 수까지 내림차순으로 정렬하면되는 문제다. 즉 수열을 내림차순으로 정렬하는 프로그램을 만들면된다.\n",
    "\n",
    "#### 입력\n",
    "첫째 줄에 수열에 속해 있는 수의 개수 N이 주어진다. 이때 범위는 1 <= N <= 500\n",
    "\n",
    "둘째 줄부터 N + 1 번째 줄 까지 N개의 수가 입력된다. 수의 범위는 1 이상 100,000 이하 자연수\n",
    "\n",
    "#### 출력\n",
    "\n",
    "입력으로 주어진 수열이 내림차순으로 정렬된 결과를 공백으로 구분해서 출력하면된다. 동일한 수는 순서상관없다.\n",
    "\n",
    "#### 입력 예시\n",
    "3<br>\n",
    "15<br>\n",
    "27<br>\n",
    "12\n",
    "\n",
    "#### 출력 예시\n",
    "27 25 12"
   ]
  },
  {
   "cell_type": "code",
   "execution_count": 94,
   "metadata": {},
   "outputs": [
    {
     "name": "stdout",
     "output_type": "stream",
     "text": [
      "3\n",
      "15\n",
      "27\n",
      "12\n",
      "27 15 12 "
     ]
    }
   ],
   "source": [
    "# 수열이 속한 개수 입력\n",
    "case = int(input())\n",
    "\n",
    "# 빈 리스트 생성\n",
    "nums_list = []\n",
    "\n",
    "# case별로 수를 생성해서 리스트에 입력\n",
    "for _ in range(case) :\n",
    "    a = int(input())\n",
    "    nums_list.append(a)\n",
    "\n",
    "# 리스트를 내림차순으로 정렬\n",
    "nums_list = sorted(nums_list, reverse = True)\n",
    "\n",
    "# 정렬한 리스트를 출력\n",
    "for i in nums_list :\n",
    "    print(i, end = ' ')"
   ]
  },
  {
   "cell_type": "markdown",
   "metadata": {},
   "source": [
    "## 성적이 낮은 순서로 학생 출력하기\n",
    "\n",
    "#### 문제\n",
    "N명의 학생의 성적 정보가 주어진다. 형식은 이름 성적 으로 주어지는데 이때 이들의 성적이 낮은 순으로 학생 이름을 출력하는 문제다.\n",
    "\n",
    "#### 입력\n",
    "\n",
    "첫 번째 줄에 학생의 수 N이 입력된다. (1 <= N <= 100,000)\n",
    "\n",
    "두 번째 줄 부터 N+1 번째 줄 까지 학생의 이름 그리고 성적이 공백으로 주어진다. 학생이름 길이는 100이하, 성적은 100이하 자연수로 주어진다.\n",
    "#### 출력\n",
    "모든 학생의 이름을 성적이 낮은 순으로 출력하면된다. 동일한 성적은 자유롭게 출력하면된다.\n",
    "\n",
    "#### 입력 예시\n",
    "2<br>\n",
    "홍길동 96<br>\n",
    "이순신 78<br>\n",
    "\n",
    "#### 출력 예시\n",
    "\n",
    "이순신 홍길동"
   ]
  },
  {
   "cell_type": "code",
   "execution_count": 110,
   "metadata": {},
   "outputs": [
    {
     "name": "stdout",
     "output_type": "stream",
     "text": [
      "2\n",
      "홍길동 96\n",
      "이순신 78\n",
      "이순신 홍길동 "
     ]
    }
   ],
   "source": [
    "# 학생 수 입력\n",
    "case = int(input())\n",
    "dics = []\n",
    "# 학생 수 반복 돌리며 학생 이름, 성적 입력\n",
    "for _ in range(case) :\n",
    "    a,b = input().split()\n",
    "    dics.append((a,int(b)))\n",
    "\n",
    "\n",
    "# key에 넣은 함수를 기준으로 정렬\n",
    "dics = sorted(dics, key = lambda x : x[1])\n",
    "\n",
    "# 이름만 출력\n",
    "for i in dics :\n",
    "    print(i[0], end = ' ')"
   ]
  },
  {
   "cell_type": "code",
   "execution_count": 105,
   "metadata": {},
   "outputs": [
    {
     "data": {
      "text/plain": [
       "dict_values([96, 78])"
      ]
     },
     "execution_count": 105,
     "metadata": {},
     "output_type": "execute_result"
    }
   ],
   "source": [
    "dics.values()"
   ]
  }
 ],
 "metadata": {
  "kernelspec": {
   "display_name": "Python 3 (ipykernel)",
   "language": "python",
   "name": "python3"
  },
  "language_info": {
   "codemirror_mode": {
    "name": "ipython",
    "version": 3
   },
   "file_extension": ".py",
   "mimetype": "text/x-python",
   "name": "python",
   "nbconvert_exporter": "python",
   "pygments_lexer": "ipython3",
   "version": "3.8.5"
  }
 },
 "nbformat": 4,
 "nbformat_minor": 4
}
