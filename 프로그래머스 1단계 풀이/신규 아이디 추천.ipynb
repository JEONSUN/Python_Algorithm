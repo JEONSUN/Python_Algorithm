{
 "cells": [
  {
   "cell_type": "markdown",
   "metadata": {},
   "source": [
    "https://programmers.co.kr/learn/courses/30/lessons/72410"
   ]
  },
  {
   "cell_type": "code",
   "execution_count": 1,
   "metadata": {},
   "outputs": [],
   "source": [
    "def solution(new_id): \n",
    "\n",
    "    # 1단계 : 모든 문자를 소문자로 변환\n",
    "    new_id = new_id.lower()\n",
    "    \n",
    "    # 2단계 # -,_,.을 제외한 모든 특수문자 제거\n",
    "    x =\"~!@#$%^&*()=+[{]}:?,<>/\"\n",
    "    new_id = ''.join(word for word in new_id if word not in x)\n",
    "    \n",
    "    # 3단계 : .. 또는 ...이 문자열에 존재한다면 .으로 치환\n",
    "    while 1 :\n",
    "        if new_id.find('..') == -1 :\n",
    "            break\n",
    "\n",
    "        elif new_id.find('..') != -1 :\n",
    "            new_id = new_id.replace('..','.')\n",
    "    \n",
    "    # 4단계 : 문자열 양쪽 끝의 마침표 제거\n",
    "    new_id = new_id.lstrip('.')\n",
    "    new_id = new_id.rstrip('.')\n",
    "\n",
    "    # 5단계 : 빈 문자열일 경우 공백을 'a'로 치환\n",
    "    if not len(new_id) :\n",
    "        new_id = 'a'\n",
    "    else :\n",
    "        new_id = new_id\n",
    "\n",
    "    # 6단계 : 16글자 이상일 경우  처음부터 15자까지 잘라내고 만약 마지막 글자가 마침표일 경우 제거\n",
    "    if len(new_id) >= 16 :\n",
    "        new_id = new_id[:15]\n",
    "        new_id = new_id.rstrip('.')\n",
    "    else :\n",
    "        new_id = new_id\n",
    "    \n",
    "    # 7단계 : 문자열이 2개 이하일 때 글자 길이가 3이 될때까지 끝 문자를 더함\n",
    "    if len(new_id) <= 2 :\n",
    "        while 1 :\n",
    "            if len(new_id) == 3 :\n",
    "                break\n",
    "            new_id = new_id + new_id[-1]\n",
    "\n",
    "    return new_id"
   ]
  },
  {
   "cell_type": "code",
   "execution_count": 2,
   "metadata": {},
   "outputs": [
    {
     "data": {
      "text/plain": [
       "'bat.y.abcdefghi'"
      ]
     },
     "execution_count": 2,
     "metadata": {},
     "output_type": "execute_result"
    }
   ],
   "source": [
    "solution(\"...!@BaT#*..y.abcdefghijklm\")"
   ]
  },
  {
   "cell_type": "code",
   "execution_count": 3,
   "metadata": {},
   "outputs": [
    {
     "data": {
      "text/plain": [
       "'z--'"
      ]
     },
     "execution_count": 3,
     "metadata": {},
     "output_type": "execute_result"
    }
   ],
   "source": [
    "solution(\"z-+.^.\")"
   ]
  },
  {
   "cell_type": "code",
   "execution_count": 4,
   "metadata": {},
   "outputs": [
    {
     "data": {
      "text/plain": [
       "'aaa'"
      ]
     },
     "execution_count": 4,
     "metadata": {},
     "output_type": "execute_result"
    }
   ],
   "source": [
    "solution(\"=.=\")"
   ]
  },
  {
   "cell_type": "code",
   "execution_count": null,
   "metadata": {},
   "outputs": [],
   "source": []
  }
 ],
 "metadata": {
  "kernelspec": {
   "display_name": "Python 3 (ipykernel)",
   "language": "python",
   "name": "python3"
  },
  "language_info": {
   "codemirror_mode": {
    "name": "ipython",
    "version": 3
   },
   "file_extension": ".py",
   "mimetype": "text/x-python",
   "name": "python",
   "nbconvert_exporter": "python",
   "pygments_lexer": "ipython3",
   "version": "3.8.5"
  }
 },
 "nbformat": 4,
 "nbformat_minor": 4
}
