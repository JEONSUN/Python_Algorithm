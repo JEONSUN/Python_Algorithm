{
 "cells": [
  {
   "cell_type": "markdown",
   "metadata": {},
   "source": [
    "#### 문제 설명\n",
    "\n",
    "명함 지갑을 만드는 회사에서 지갑의 크기를 정하려고 합니다. 다양한 모양과 크기의 명함들을 모두 수납할 수 있으면서, 작아서 들고 다니기 편한 지갑을 만들어야 합니다. 이러한 요건을 만족하는 지갑을 만들기 위해 디자인팀은 모든 명함의 가로 길이와 세로 길이를 조사했습니다.\n",
    "\n",
    "아래 표는 4가지 명함의 가로 길이와 세로 길이를 나타냅니다.\n",
    "\n",
    "|명함 번호|\t가로 길이|\t세로 길이|\n",
    "|----|----|----|\n",
    "|1|\t60|\t50|\n",
    "|2|\t30|\t70|\n",
    "|3|\t60|\t30|\n",
    "|4|\t80|\t40|\n",
    "\n",
    "가장 긴 가로 길이와 세로 길이가 각각 80, 70이기 때문에 80(가로) x 70(세로) 크기의 지갑을 만들면 모든 명함들을 수납할 수 있습니다. 하지만 2번 명함을 가로로 눕혀 수납한다면 80(가로) x 50(세로) 크기의 지갑으로 모든 명함들을 수납할 수 있습니다. 이때의 지갑 크기는 4000(=80 x 50)입니다.\n",
    "\n",
    "모든 명함의 가로 길이와 세로 길이를 나타내는 2차원 배열 sizes가 매개변수로 주어집니다. 모든 명함을 수납할 수 있는 가장 작은 지갑을 만들 때, 지갑의 크기를 return 하도록 solution 함수를 완성해주세요.\n",
    "\n",
    "\n",
    "#### 제한사항\n",
    "\n",
    "sizes의 길이는 1 이상 10,000 이하입니다.\n",
    "\n",
    "sizes의 원소는 [w, h] 형식입니다.\n",
    "\n",
    "w는 명함의 가로 길이를 나타냅니다.\n",
    "\n",
    "h는 명함의 세로 길이를 나타냅니다.\n",
    "\n",
    "\n",
    "w와 h는 1 이상 1,000 이하인 자연수입니다.\n",
    "\n",
    "#### 입출력 예\n",
    "|sizes|\tresult|\n",
    "|----|----\n",
    "|[[60, 50], [30, 70], [60, 30], [80, 40]]|\t4000|\n",
    "|[[10, 7], [12, 3], [8, 15], [14, 7], [5, 15]]\t|120|\n",
    "|[[14, 4], [19, 6], [6, 16], [18, 7], [7, 11]]\t|133|\n",
    "\n",
    "#### 입출력 예 설명\n",
    "#### 입출력 예 #1\n",
    "문제 예시와 같습니다.\n",
    "\n",
    "#### 입출력 예 #2\n",
    "명함들을 적절히 회전시켜 겹쳤을 때, 3번째 명함(가로: 8, 세로: 15)이 다른 모든 명함보다 크기가 큽니다. 따라서 지갑의 크기는 3번째 명함의 크기와 같으며, 120(=8 x 15)을 return 합니다.\n",
    "\n",
    "#### 입출력 예 #3\n",
    "명함들을 적절히 회전시켜 겹쳤을 때, 모든 명함을 포함하는 가장 작은 지갑의 크기는 133(=19 x 7)입니다."
   ]
  },
  {
   "cell_type": "code",
   "execution_count": 9,
   "metadata": {},
   "outputs": [],
   "source": [
    "# 내 풀이, 프로그래머스로 푸는데 진짜 해맸다.\n",
    "\n",
    "def solution(sizes): \n",
    "    max_col_idx = [] # 저장할 리스트\n",
    "    result = 0\n",
    "    \n",
    "    for i in range(len(sizes)) : # 리스트 별 최댓값의 인덱스 찾기\n",
    "        lm = max(sizes[i]) \n",
    "        if lm > result : # 만약 리스트의 최댓값이 이전 컬럼보다 크면\n",
    "            result = lm\n",
    "            max_idx = sizes[i].index(result) # 행, 열 정보 입력\n",
    "            \n",
    "    by_row = sorted(sizes, key = lambda x : x[max_idx], reverse = True) # 최댓값이 속한 행과 열에 따라 정렬\n",
    "    \n",
    "    if max_idx == 1 : # 행과 열에 따라\n",
    "        max_col_idx.append(by_row[0][0]) # 우선 열일 경우 정렬 처음값이 최댓값이므로 저장\n",
    "        for i in range(1,len(by_row)) : # 반복 돌려서\n",
    "            if by_row[i][0] > by_row[i][1] : # 열로 정렬 했는데 행이 더 클 경우\n",
    "                by_row[i][0],by_row[i][1] = by_row[i][1],by_row[i][0] # 열기준으로 Swap \n",
    "                max_col_idx.append(by_row[i][0]) # 행 정보 저장\n",
    "            else :\n",
    "                max_col_idx.append(by_row[i][0]) # 아닐 경우 그냥 행 정보 저장\n",
    "    else : # 최댓값을 포함한게 행일 경우에도 마찬가지\n",
    "        max_col_idx.append(by_row[0][1])\n",
    "        for i in range(1,len(by_row)) :\n",
    "            if by_row[i][1] > by_row[i][0] :\n",
    "                by_row[i][1],by_row[i][0] = by_row[i][0],by_row[i][1]\n",
    "                max_col_idx.append(by_row[i][1])\n",
    "            else :\n",
    "                max_col_idx.append(by_row[i][1])\n",
    "    \n",
    "    result = by_row[0][max_idx] * max(max_col_idx) # 행의 최댓값 * 열의 최댓값 계산\n",
    "    \n",
    "    return result"
   ]
  },
  {
   "cell_type": "code",
   "execution_count": 10,
   "metadata": {
    "scrolled": true
   },
   "outputs": [
    {
     "data": {
      "text/plain": [
       "4000"
      ]
     },
     "execution_count": 10,
     "metadata": {},
     "output_type": "execute_result"
    }
   ],
   "source": [
    "solution([[60, 50], [30, 70], [60, 30], [80, 40]])"
   ]
  },
  {
   "cell_type": "markdown",
   "metadata": {},
   "source": [
    "진짜 너무 복잡하게 풀었다..."
   ]
  },
  {
   "cell_type": "code",
   "execution_count": 18,
   "metadata": {},
   "outputs": [],
   "source": [
    "# 간결하게 만들기\n",
    "def solution(sizes) :\n",
    "    row_list = [] # 행을 저장할 리스트와\n",
    "    col_list = [] # 열을 저장할 리스트 생성\n",
    "\n",
    "    for i,v in sizes :  # 2중 리스트를 열별로 구분이 가능했다...\n",
    "        if i > v : # 만약 행이 더 클 경우\n",
    "            i,v = v,i # Swap\n",
    "            row_list.append(i) # 행 리스트에 저장\n",
    "            col_list.append(v) # 열 리스트에 저장\n",
    "        else :\n",
    "            row_list.append(i)\n",
    "            col_list.append(v)\n",
    "        \n",
    "    return max(row_list) * max(col_list) # 큰 값들을 저장한 리스트와 작은 값들을 저장한 리스트들의 최댓값 * 계산"
   ]
  },
  {
   "cell_type": "code",
   "execution_count": 19,
   "metadata": {},
   "outputs": [
    {
     "name": "stdout",
     "output_type": "stream",
     "text": [
      "4000\n"
     ]
    }
   ],
   "source": [
    "print(solution([[60, 50], [30, 70], [60, 30], [80, 40]]))"
   ]
  }
 ],
 "metadata": {
  "kernelspec": {
   "display_name": "Python 3 (ipykernel)",
   "language": "python",
   "name": "python3"
  },
  "language_info": {
   "codemirror_mode": {
    "name": "ipython",
    "version": 3
   },
   "file_extension": ".py",
   "mimetype": "text/x-python",
   "name": "python",
   "nbconvert_exporter": "python",
   "pygments_lexer": "ipython3",
   "version": "3.8.5"
  }
 },
 "nbformat": 4,
 "nbformat_minor": 4
}
