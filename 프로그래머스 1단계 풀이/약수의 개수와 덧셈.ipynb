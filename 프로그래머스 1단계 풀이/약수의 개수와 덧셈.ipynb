{
 "cells": [
  {
   "cell_type": "markdown",
   "metadata": {},
   "source": [
    "두 정수 left와 right가 매개변수로 주어집니다. left부터 right까지의 모든 수들 중에서, 약수의 개수가 짝수인 수는 더하고, 약수의 개수가 홀수인 수는 뺀 수를 return 하도록 solution 함수를 완성해주세요.\n",
    "\n",
    "링크 : https://programmers.co.kr/learn/courses/30/lessons/77884\n",
    "\n",
    "|left|right|result|\n",
    "|---|---|---|\n",
    "|13|17|43|\n",
    "|24|27|52|\n",
    "\n",
    "\n",
    "다음 표는 13부터 17까지의 수들의 약수를 모두 나타낸 것입니다.\n",
    "\n",
    "|<center>수<center>|<center>약수<center>|<center>약수의 개수<center>|\n",
    "|---|---|---|\n",
    "|13|<center>1, 13<center>|<center>2<center>|\n",
    "|14|<center>\t1, 2, 7, 14<center>|<center>\t4<center>|\n",
    "|15|<center>\t1, 3, 5, 15<center>|<center>\t4<center>|\n",
    "|16|<center>\t1, 2, 4, 8, 16<center>|\t<center>5<center>|\n",
    "|17|<center>\t1, 17<center>|<center>\t2<center>|\n",
    "    \n",
    "따라서, 13 + 14 + 15 - 16 + 17 = 43을 return 해야 합니다."
   ]
  },
  {
   "cell_type": "code",
   "execution_count": 1,
   "metadata": {},
   "outputs": [],
   "source": [
    "# 내가 푼 풀이\n",
    "def solution(left, right):\n",
    "    \n",
    "    answer = 0 # 최종 return 값\n",
    "    for j in range(left,right+1) : # 계산 범위 반복\n",
    "        divisor = []\n",
    "        for i in range(1,j+1) : # 1부터 지정값까지 반복\n",
    "            if j % i == 0 :\n",
    "                divisor.append(i) # 반복 돌면서 나눠떨어지는지? # 나눠떨어지면 약수로 판단\n",
    "        if len(divisor) % 2 == 0 :  # 약수의 개수가 짝수면 +, 아니면 -\n",
    "            answer = answer + j\n",
    "        else :\n",
    "            answer = answer - j\n",
    "    return answer"
   ]
  },
  {
   "cell_type": "code",
   "execution_count": 2,
   "metadata": {},
   "outputs": [
    {
     "data": {
      "text/plain": [
       "43"
      ]
     },
     "execution_count": 2,
     "metadata": {},
     "output_type": "execute_result"
    }
   ],
   "source": [
    "solution(13,17)"
   ]
  },
  {
   "cell_type": "code",
   "execution_count": 3,
   "metadata": {},
   "outputs": [],
   "source": [
    "import pandas as pd\n",
    "\n",
    "# 출력 예시에 있는 데이터 프레임도 생성해봄\n",
    "def solution(left, right):    \n",
    "    answer = 0\n",
    "    mydict = {}\n",
    "    mydataframe = pd.DataFrame()\n",
    "    \n",
    "    for j in range(left,right+1) :\n",
    "        divisor = []\n",
    "        for i in range(1,j+1) :\n",
    "            if j % i == 0 : \n",
    "                divisor.append(i) \n",
    "        mydict = {\"수\" : int(j), \"약수\" : ','.join(map(str,divisor)),\"약수의 개수\" : len(divisor)}\n",
    "        mydataframe = mydataframe.append(mydict, ignore_index = True)\n",
    "        if len(divisor) % 2 == 0 : \n",
    "            answer = answer + j\n",
    "        else :\n",
    "            answer = answer - j\n",
    "            \n",
    "    return mydataframe"
   ]
  },
  {
   "cell_type": "code",
   "execution_count": 4,
   "metadata": {
    "scrolled": true
   },
   "outputs": [
    {
     "data": {
      "text/html": [
       "<div>\n",
       "<style scoped>\n",
       "    .dataframe tbody tr th:only-of-type {\n",
       "        vertical-align: middle;\n",
       "    }\n",
       "\n",
       "    .dataframe tbody tr th {\n",
       "        vertical-align: top;\n",
       "    }\n",
       "\n",
       "    .dataframe thead th {\n",
       "        text-align: right;\n",
       "    }\n",
       "</style>\n",
       "<table border=\"1\" class=\"dataframe\">\n",
       "  <thead>\n",
       "    <tr style=\"text-align: right;\">\n",
       "      <th></th>\n",
       "      <th>수</th>\n",
       "      <th>약수</th>\n",
       "      <th>약수의 개수</th>\n",
       "    </tr>\n",
       "  </thead>\n",
       "  <tbody>\n",
       "    <tr>\n",
       "      <th>0</th>\n",
       "      <td>13.0</td>\n",
       "      <td>1,13</td>\n",
       "      <td>2.0</td>\n",
       "    </tr>\n",
       "    <tr>\n",
       "      <th>1</th>\n",
       "      <td>14.0</td>\n",
       "      <td>1,2,7,14</td>\n",
       "      <td>4.0</td>\n",
       "    </tr>\n",
       "    <tr>\n",
       "      <th>2</th>\n",
       "      <td>15.0</td>\n",
       "      <td>1,3,5,15</td>\n",
       "      <td>4.0</td>\n",
       "    </tr>\n",
       "    <tr>\n",
       "      <th>3</th>\n",
       "      <td>16.0</td>\n",
       "      <td>1,2,4,8,16</td>\n",
       "      <td>5.0</td>\n",
       "    </tr>\n",
       "    <tr>\n",
       "      <th>4</th>\n",
       "      <td>17.0</td>\n",
       "      <td>1,17</td>\n",
       "      <td>2.0</td>\n",
       "    </tr>\n",
       "  </tbody>\n",
       "</table>\n",
       "</div>"
      ],
      "text/plain": [
       "      수          약수  약수의 개수\n",
       "0  13.0        1,13     2.0\n",
       "1  14.0    1,2,7,14     4.0\n",
       "2  15.0    1,3,5,15     4.0\n",
       "3  16.0  1,2,4,8,16     5.0\n",
       "4  17.0        1,17     2.0"
      ]
     },
     "execution_count": 4,
     "metadata": {},
     "output_type": "execute_result"
    }
   ],
   "source": [
    "solution(13,17)"
   ]
  },
  {
   "cell_type": "code",
   "execution_count": 5,
   "metadata": {},
   "outputs": [],
   "source": [
    "# 다른 사람 풀이\n",
    "# 제곱수는 약수의 개수가 반드시 홀수이다. 를 활용!\n",
    "# 제곱수 : 어떤 자연수를 제곱해서 나오는 수\n",
    "def solution(left, right):\n",
    "    answer = 0\n",
    "    for i in range(left,right+1):\n",
    "        if int(i**0.5)==i**0.5: # (소수)^2의 정수 == (소수)^2가 같으면 - : 16은 4^2이므로 4 == 4 True가 나옴 \n",
    "            answer -= i\n",
    "        else:\n",
    "            answer += i\n",
    "    return answer"
   ]
  },
  {
   "cell_type": "code",
   "execution_count": 6,
   "metadata": {},
   "outputs": [
    {
     "data": {
      "text/plain": [
       "43"
      ]
     },
     "execution_count": 6,
     "metadata": {},
     "output_type": "execute_result"
    }
   ],
   "source": [
    "solution(13,17)"
   ]
  }
 ],
 "metadata": {
  "kernelspec": {
   "display_name": "Python 3 (ipykernel)",
   "language": "python",
   "name": "python3"
  },
  "language_info": {
   "codemirror_mode": {
    "name": "ipython",
    "version": 3
   },
   "file_extension": ".py",
   "mimetype": "text/x-python",
   "name": "python",
   "nbconvert_exporter": "python",
   "pygments_lexer": "ipython3",
   "version": "3.8.5"
  }
 },
 "nbformat": 4,
 "nbformat_minor": 4
}
