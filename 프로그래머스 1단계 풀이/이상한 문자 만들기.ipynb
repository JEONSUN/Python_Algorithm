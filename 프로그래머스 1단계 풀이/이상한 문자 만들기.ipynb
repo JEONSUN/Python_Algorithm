{
 "cells": [
  {
   "cell_type": "markdown",
   "metadata": {},
   "source": [
    "#### 문제 설명\n",
    "문자열 s는 한 개 이상의 단어로 구성되어 있습니다. 각 단어는 하나 이상의 공백문자로 구분되어 있습니다. 각 단어의 짝수번째 알파벳은 대문자로, 홀수번째 알파벳은 소문자로 바꾼 문자열을 리턴하는 함수, solution을 완성하세요.\n",
    "\n",
    "#### 제한 사항\n",
    "문자열 전체의 짝/홀수 인덱스가 아니라, 단어(공백을 기준)별로 짝/홀수 인덱스를 판단해야합니다.\n",
    "첫 번째 글자는 0번째 인덱스로 보아 짝수번째 알파벳으로 처리해야 합니다.\n",
    "\n",
    "\n",
    "입출력 예\n",
    "\n",
    "|s|\treturn|\n",
    "|---|---|\n",
    "|\"try hello world\"|\t\"TrY HeLlO WoRlD\"|\n",
    "\n",
    "#### 입출력 예 설명\n",
    "\"try hello world\"는 세 단어 \"try\", \"hello\", \"world\"로 구성되어 있습니다. 각 단어의 짝수번째 문자를 대문자로, 홀수번째 문자를 소문자로 바꾸면 \"TrY\", \"HeLlO\", \"WoRlD\"입니다. 따라서 \"TrY HeLlO WoRlD\" 를 리턴합니다."
   ]
  },
  {
   "cell_type": "code",
   "execution_count": 24,
   "metadata": {},
   "outputs": [],
   "source": [
    "def solution(s):\n",
    "    # 빈문자 생성\n",
    "    result = ''\n",
    "    \n",
    "    # 문자 분리\n",
    "    s_list = s.split(\" \")\n",
    "    \n",
    "    # 분리한 문자 반복\n",
    "    for i in range(len(s_list)) :\n",
    "        if i == 0 : # 문자가 처음 일 시 진행안함\n",
    "            pass\n",
    "        else : \n",
    "            result += ' ' # 아닐 경우 공백 추가\n",
    "        for word in range(len(s_list[i])) : # 단어마다 반복 돌리면서\n",
    "            if word % 2 == 0 : # 짝수는 대문자\n",
    "                result = result + s_list[i][word].upper()\n",
    "            \n",
    "            else : # 홀수는 소문자\n",
    "                result = result + s_list[i][word].lower()\n",
    "    \n",
    "    return result"
   ]
  },
  {
   "cell_type": "code",
   "execution_count": 28,
   "metadata": {},
   "outputs": [
    {
     "data": {
      "text/plain": [
       "'TrY HeLlO WoRlD'"
      ]
     },
     "execution_count": 28,
     "metadata": {},
     "output_type": "execute_result"
    }
   ],
   "source": [
    "solution('try hello world')"
   ]
  }
 ],
 "metadata": {
  "kernelspec": {
   "display_name": "Python 3 (ipykernel)",
   "language": "python",
   "name": "python3"
  },
  "language_info": {
   "codemirror_mode": {
    "name": "ipython",
    "version": 3
   },
   "file_extension": ".py",
   "mimetype": "text/x-python",
   "name": "python",
   "nbconvert_exporter": "python",
   "pygments_lexer": "ipython3",
   "version": "3.8.5"
  }
 },
 "nbformat": 4,
 "nbformat_minor": 4
}
