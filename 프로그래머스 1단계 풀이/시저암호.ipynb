{
 "cells": [
  {
   "cell_type": "markdown",
   "metadata": {},
   "source": [
    "#### 문제 설명\n",
    "\n",
    "어떤 문장의 각 알파벳을 일정한 거리만큼 밀어서 다른 알파벳으로 바꾸는 암호화 방식을 시저 암호라고 합니다. 예를 들어 \"AB\"는 1만큼 밀면 \"BC\"가 되고, 3만큼 밀면 \"DE\"가 됩니다. \"z\"는 1만큼 밀면 \"a\"가 됩니다. 문자열 s와 거리 n을 입력받아 s를 n만큼 민 암호문을 만드는 함수, solution을 완성해 보세요.\n",
    "\n",
    "#### 제한 조건\n",
    "\n",
    "공백은 아무리 밀어도 공백입니다.\n",
    "\n",
    "s는 알파벳 소문자, 대문자, 공백으로만 이루어져 있습니다.\n",
    "\n",
    "s의 길이는 8000이하입니다.\n",
    "\n",
    "n은 1 이상, 25이하인 자연수입니다.\n",
    "\n",
    "#### 입출력 예\n",
    "|s|\tn|\tresult|\n",
    "|---|---|---|\n",
    "|\"AB\"|\t1|\t\"BC\"|\n",
    "|\"z\"|\t1|\t\"a\"|\n",
    "|\"a B z\"|\t4|\t\"e F d\"|"
   ]
  },
  {
   "cell_type": "code",
   "execution_count": 116,
   "metadata": {},
   "outputs": [],
   "source": [
    "def solution(s, n):\n",
    "    \n",
    "    answer = \"\"\n",
    "    \n",
    "    for i in s :\n",
    "        if i.isupper() == True :\n",
    "            if ord(i) + n > 91 :\n",
    "                answer = answer + chr(ord(i) + n - 26)\n",
    "            else :\n",
    "                answer = answer + chr(ord(i) + n)\n",
    "        elif i.islower() == True :\n",
    "            if ord(i) + n > 122 :\n",
    "                answer = answer + chr(ord(i) + n - 26)\n",
    "            else :\n",
    "                answer = answer + chr(ord(i) + n)\n",
    "        else :\n",
    "            answer = answer + ' '\n",
    "    return answer\n",
    "    "
   ]
  },
  {
   "cell_type": "code",
   "execution_count": 114,
   "metadata": {
    "scrolled": true
   },
   "outputs": [
    {
     "name": "stdout",
     "output_type": "stream",
     "text": [
      "z A y\n"
     ]
    }
   ],
   "source": [
    "print(solution('a B z',25))"
   ]
  },
  {
   "cell_type": "code",
   "execution_count": 115,
   "metadata": {
    "scrolled": true
   },
   "outputs": [
    {
     "name": "stdout",
     "output_type": "stream",
     "text": [
      "BC\n",
      "a\n",
      "e F d\n",
      "     \n",
      "z A y\n"
     ]
    }
   ],
   "source": [
    "print(solution('AB',1))\n",
    "print(solution('z',1))\n",
    "print(solution('a B z',4))\n",
    "print(solution('     ',5))\n",
    "print(solution('a B z',25))"
   ]
  }
 ],
 "metadata": {
  "kernelspec": {
   "display_name": "Python 3 (ipykernel)",
   "language": "python",
   "name": "python3"
  },
  "language_info": {
   "codemirror_mode": {
    "name": "ipython",
    "version": 3
   },
   "file_extension": ".py",
   "mimetype": "text/x-python",
   "name": "python",
   "nbconvert_exporter": "python",
   "pygments_lexer": "ipython3",
   "version": "3.8.5"
  }
 },
 "nbformat": 4,
 "nbformat_minor": 4
}
