{
 "cells": [
  {
   "cell_type": "markdown",
   "metadata": {},
   "source": [
    "#### 문제 설명\n",
    "문자열로 구성된 리스트 strings와, 정수 n이 주어졌을 때, 각 문자열의 인덱스 n번째 글자를 기준으로 오름차순 정렬하려 합니다. 예를 들어 strings가 [\"sun\", \"bed\", \"car\"]이고 n이 1이면 각 단어의 인덱스 1의 문자 \"u\", \"e\", \"a\"로 strings를 정렬합니다.\n",
    "\n",
    "#### 제한 조건\n",
    "\n",
    "strings는 길이 1 이상, 50이하인 배열입니다.\n",
    "\n",
    "strings의 원소는 소문자 알파벳으로 이루어져 있습니다.\n",
    "\n",
    "strings의 원소는 길이 1 이상, 100이하인 문자열입니다.\n",
    "\n",
    "모든 strings의 원소의 길이는 n보다 큽니다.\n",
    "\n",
    "인덱스 1의 문자가 같은 문자열이 여럿 일 경우, 사전순으로 앞선 문자열이 앞쪽에 위치합니다.\n",
    "\n",
    "#### 입출력 예\n",
    "|strings|\tn|\treturn|\n",
    "|-----|-----|-----|\n",
    "|[\"sun\", \"bed\", \"car\"]\t|1|\t[\"car\", \"bed\", \"sun\"]|\n",
    "|[\"abce\", \"abcd\", \"cdx\"]\t|2|\t[\"abcd\", \"abce\", \"cdx\"]|\n",
    "\n",
    "#### 입출력 예 설명\n",
    "\n",
    "#### 입출력 예 1\n",
    "\"sun\", \"bed\", \"car\"의 1번째 인덱스 값은 각각 \"u\", \"e\", \"a\" 입니다. 이를 기준으로 strings를 정렬하면 [\"car\", \"bed\", \"sun\"] 입니다.\n",
    "\n",
    "#### 입출력 예 2\n",
    "\"abce\"와 \"abcd\", \"cdx\"의 2번째 인덱스 값은 \"c\", \"c\", \"x\"입니다. 따라서 정렬 후에는 \"cdx\"가 가장 뒤에 위치합니다. \"abce\"와 \"abcd\"는 사전순으로 정렬하면 \"abcd\"가 우선하므로, 답은 [\"abcd\", \"abce\", \"cdx\"] 입니다."
   ]
  },
  {
   "cell_type": "code",
   "execution_count": 215,
   "metadata": {},
   "outputs": [],
   "source": [
    "# 내가 푼 풀이, 사실 이게 왜 안되는진 잘 모르겠다.\n",
    "def solution(strings,n) :\n",
    "    answer = sorted(strings, key = lambda x : x[n:])\n",
    "    return answer"
   ]
  },
  {
   "cell_type": "code",
   "execution_count": 216,
   "metadata": {},
   "outputs": [
    {
     "name": "stdout",
     "output_type": "stream",
     "text": [
      "['car', 'bed', 'sun']\n",
      "['abcd', 'abce', 'cdx']\n",
      "['aaaaabbbasdadsds', 'aaaaabbbasdadss', 'aaaaabcb']\n"
     ]
    }
   ],
   "source": [
    "print(solution([\"sun\", \"bed\", \"car\"],1))\n",
    "print(solution([\"abce\", \"abcd\", \"cdx\"],2))\n",
    "print(solution([\"aaaaabcb\",\"aaaaabbbasdadss\",\"aaaaabbbasdadsds\"],1))"
   ]
  },
  {
   "cell_type": "code",
   "execution_count": 209,
   "metadata": {},
   "outputs": [],
   "source": [
    "# 2중 sort는 합격했다.\n",
    "def solution(strings, n):\n",
    "    \n",
    "    return sorted(sorted(strings), key = lambda x : x[n:])"
   ]
  },
  {
   "cell_type": "code",
   "execution_count": 210,
   "metadata": {
    "scrolled": true
   },
   "outputs": [
    {
     "name": "stdout",
     "output_type": "stream",
     "text": [
      "['car', 'bed', 'sun']\n",
      "['abcd', 'abce', 'cdx']\n",
      "['aaaaabbbasdadsds', 'aaaaabbbasdadss', 'aaaaabcb']\n"
     ]
    }
   ],
   "source": [
    "print(solution([\"sun\", \"bed\", \"car\"],1))\n",
    "print(solution([\"abce\", \"abcd\", \"cdx\"],2))\n",
    "print(solution([\"aaaaabcb\",\"aaaaabbbasdadss\",\"aaaaabbbasdadsds\"],1))"
   ]
  }
 ],
 "metadata": {
  "kernelspec": {
   "display_name": "Python 3 (ipykernel)",
   "language": "python",
   "name": "python3"
  },
  "language_info": {
   "codemirror_mode": {
    "name": "ipython",
    "version": 3
   },
   "file_extension": ".py",
   "mimetype": "text/x-python",
   "name": "python",
   "nbconvert_exporter": "python",
   "pygments_lexer": "ipython3",
   "version": "3.8.5"
  }
 },
 "nbformat": 4,
 "nbformat_minor": 4
}
