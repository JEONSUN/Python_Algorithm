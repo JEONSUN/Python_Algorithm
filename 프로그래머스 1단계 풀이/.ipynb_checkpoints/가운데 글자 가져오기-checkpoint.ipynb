{
 "cells": [
  {
   "cell_type": "markdown",
   "metadata": {},
   "source": [
    "#### 문제 설명\n",
    "단어 s의 가운데 글자를 반환하는 함수, solution을 만들어 보세요. 단어의 길이가 짝수라면 가운데 두글자를 반환하면 됩니다.\n",
    "\n",
    "#### 제한사항\n",
    "s는 길이가 1 이상, 100이하인 스트링입니다.\n",
    "\n",
    "\n",
    "#### 입출력 예\n",
    "|s|\treturn|\n",
    "|----|----|\n",
    "|\"abcde\"|\t\"c\"|\n",
    "|\"qwer\"|\t\"we\"|"
   ]
  },
  {
   "cell_type": "code",
   "execution_count": 27,
   "metadata": {},
   "outputs": [],
   "source": [
    "def solution(s):\n",
    "    if len(s) % 2 == 0 :\n",
    "        return s[(len(s)//2 - 1) : (len(s)//2 + 1)]\n",
    "    else :\n",
    "        return s[len(s)//2]"
   ]
  },
  {
   "cell_type": "markdown",
   "metadata": {},
   "source": [
    "#### 중앙값 계산해서 인덱싱"
   ]
  },
  {
   "cell_type": "code",
   "execution_count": 28,
   "metadata": {},
   "outputs": [
    {
     "name": "stdout",
     "output_type": "stream",
     "text": [
      "c\n",
      "we\n"
     ]
    }
   ],
   "source": [
    "print(solution('abcde'))\n",
    "print(solution('qwer'))"
   ]
  }
 ],
 "metadata": {
  "kernelspec": {
   "display_name": "Python 3 (ipykernel)",
   "language": "python",
   "name": "python3"
  },
  "language_info": {
   "codemirror_mode": {
    "name": "ipython",
    "version": 3
   },
   "file_extension": ".py",
   "mimetype": "text/x-python",
   "name": "python",
   "nbconvert_exporter": "python",
   "pygments_lexer": "ipython3",
   "version": "3.8.5"
  }
 },
 "nbformat": 4,
 "nbformat_minor": 4
}
