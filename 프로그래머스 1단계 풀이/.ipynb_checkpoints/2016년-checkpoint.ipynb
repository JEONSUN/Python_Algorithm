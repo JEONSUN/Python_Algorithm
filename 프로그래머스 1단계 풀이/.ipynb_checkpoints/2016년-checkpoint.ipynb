{
 "cells": [
  {
   "cell_type": "markdown",
   "metadata": {},
   "source": [
    "#### 문제 설명\n",
    "2016년 1월 1일은 금요일입니다. 2016년 a월 b일은 무슨 요일일까요? 두 수 a ,b를 입력받아 2016년 a월 b일이 무슨 요일인지 리턴하는 함수, solution을 완성하세요. \n",
    "\n",
    "요일의 이름은 일요일부터 토요일까지 각각 SUN,MON,TUE,WED,THU,FRI,SAT입니다. \n",
    "\n",
    "예를 들어 a=5, b=24라면 5월 24일은 화요일이므로 문자열 \"TUE\"를 반환하세요.\n",
    "\n",
    "\n",
    "#### 제한 조건\n",
    "\n",
    "2016년은 윤년입니다.\n",
    "2016년 a월 b일은 실제로 있는 날입니다. (13월 26일이나 2월 45일같은 날짜는 주어지지 않습니다)\n",
    "\n",
    "#### 입출력 예\n",
    "|a|\tb|\tresult|\n",
    "|---|---|---|\n",
    "|5|\t24|\t\"TUE\"|"
   ]
  },
  {
   "cell_type": "code",
   "execution_count": 133,
   "metadata": {},
   "outputs": [],
   "source": [
    "def solution(a, b):\n",
    "    m = [1,2,3,4,5,6,7,8,9,10,11,12] # 월 입력\n",
    "    m_d = [31,29,31,30,31,30,31,31,30,31,30,31] # 월별 일 수 입력\n",
    "    days = ['FRI','SAT','SUN','MON','TUE','WED','THU'] # 요일 입력\n",
    "    dics = {}\n",
    "    num_days = sum(m_d[:a]) # ex) 5월이면 5월까지 총 일 수 \n",
    "    days_nums = days*num_days # 총 일수만큼 요일 반복\n",
    "    cnt = 0\n",
    "    # 월별/일별로 반복 돌리면서\n",
    "    for i in range(1,m[a-1] + 1) : \n",
    "        for j in range(1,m_d[i-1]+1) :\n",
    "            dics[str(i)+' '+str(j)] = dics.get(str(i)+' '+str(j), days_nums[cnt]) # 빈사전에 추가\n",
    "            cnt += 1\n",
    "    result = str(a) + ' '+str(b)  # 입력받은 a, b를 dict 키로 생성\n",
    "    return dics[result] # a, b로 요일 사전 접근"
   ]
  },
  {
   "cell_type": "code",
   "execution_count": 134,
   "metadata": {},
   "outputs": [
    {
     "data": {
      "text/plain": [
       "'TUE'"
      ]
     },
     "execution_count": 134,
     "metadata": {},
     "output_type": "execute_result"
    }
   ],
   "source": [
    "solution(5,24)"
   ]
  },
  {
   "cell_type": "code",
   "execution_count": 135,
   "metadata": {
    "scrolled": true
   },
   "outputs": [
    {
     "data": {
      "text/plain": [
       "{'1 1': 'SUN',\n",
       " '1 2': 'MON',\n",
       " '1 3': 'TUE',\n",
       " '1 4': 'WED',\n",
       " '1 5': 'THU',\n",
       " '1 6': 'FRI',\n",
       " '1 7': 'SAT',\n",
       " '1 8': 'SUN',\n",
       " '1 9': 'MON',\n",
       " '1 10': 'TUE',\n",
       " '1 11': 'WED',\n",
       " '1 12': 'THU',\n",
       " '1 13': 'FRI',\n",
       " '1 14': 'SAT',\n",
       " '1 15': 'SUN',\n",
       " '1 16': 'MON',\n",
       " '1 17': 'TUE',\n",
       " '1 18': 'WED',\n",
       " '1 19': 'THU',\n",
       " '1 20': 'FRI',\n",
       " '1 21': 'SAT',\n",
       " '1 22': 'SUN',\n",
       " '1 23': 'MON',\n",
       " '1 24': 'TUE',\n",
       " '1 25': 'WED',\n",
       " '1 26': 'THU',\n",
       " '1 27': 'FRI',\n",
       " '1 28': 'SAT',\n",
       " '1 29': 'SUN',\n",
       " '1 30': 'MON',\n",
       " '1 31': 'TUE',\n",
       " '2 1': 'SUN',\n",
       " '2 2': 'MON',\n",
       " '2 3': 'TUE',\n",
       " '2 4': 'WED',\n",
       " '2 5': 'THU',\n",
       " '2 6': 'FRI',\n",
       " '2 7': 'SAT',\n",
       " '2 8': 'SUN',\n",
       " '2 9': 'MON',\n",
       " '2 10': 'TUE',\n",
       " '2 11': 'WED',\n",
       " '2 12': 'THU',\n",
       " '2 13': 'FRI',\n",
       " '2 14': 'SAT',\n",
       " '2 15': 'SUN',\n",
       " '2 16': 'MON',\n",
       " '2 17': 'TUE',\n",
       " '2 18': 'WED',\n",
       " '2 19': 'THU',\n",
       " '2 20': 'FRI',\n",
       " '2 21': 'SAT',\n",
       " '2 22': 'SUN',\n",
       " '2 23': 'MON',\n",
       " '2 24': 'TUE',\n",
       " '2 25': 'WED',\n",
       " '2 26': 'THU',\n",
       " '2 27': 'FRI',\n",
       " '2 28': 'SAT',\n",
       " '2 29': 'SUN',\n",
       " '3 1': 'SUN',\n",
       " '3 2': 'MON',\n",
       " '3 3': 'TUE',\n",
       " '3 4': 'WED',\n",
       " '3 5': 'THU',\n",
       " '3 6': 'FRI',\n",
       " '3 7': 'SAT',\n",
       " '3 8': 'SUN',\n",
       " '3 9': 'MON',\n",
       " '3 10': 'TUE',\n",
       " '3 11': 'WED',\n",
       " '3 12': 'THU',\n",
       " '3 13': 'FRI',\n",
       " '3 14': 'SAT',\n",
       " '3 15': 'SUN',\n",
       " '3 16': 'MON',\n",
       " '3 17': 'TUE',\n",
       " '3 18': 'WED',\n",
       " '3 19': 'THU',\n",
       " '3 20': 'FRI',\n",
       " '3 21': 'SAT',\n",
       " '3 22': 'SUN',\n",
       " '3 23': 'MON',\n",
       " '3 24': 'TUE',\n",
       " '3 25': 'WED',\n",
       " '3 26': 'THU',\n",
       " '3 27': 'FRI',\n",
       " '3 28': 'SAT',\n",
       " '3 29': 'SUN',\n",
       " '3 30': 'MON',\n",
       " '3 31': 'TUE',\n",
       " '4 1': 'SUN',\n",
       " '4 2': 'MON',\n",
       " '4 3': 'TUE',\n",
       " '4 4': 'WED',\n",
       " '4 5': 'THU',\n",
       " '4 6': 'FRI',\n",
       " '4 7': 'SAT',\n",
       " '4 8': 'SUN',\n",
       " '4 9': 'MON',\n",
       " '4 10': 'TUE',\n",
       " '4 11': 'WED',\n",
       " '4 12': 'THU',\n",
       " '4 13': 'FRI',\n",
       " '4 14': 'SAT',\n",
       " '4 15': 'SUN',\n",
       " '4 16': 'MON',\n",
       " '4 17': 'TUE',\n",
       " '4 18': 'WED',\n",
       " '4 19': 'THU',\n",
       " '4 20': 'FRI',\n",
       " '4 21': 'SAT',\n",
       " '4 22': 'SUN',\n",
       " '4 23': 'MON',\n",
       " '4 24': 'TUE',\n",
       " '4 25': 'WED',\n",
       " '4 26': 'THU',\n",
       " '4 27': 'FRI',\n",
       " '4 28': 'SAT',\n",
       " '4 29': 'SUN',\n",
       " '4 30': 'MON',\n",
       " '5 1': 'SUN',\n",
       " '5 2': 'MON',\n",
       " '5 3': 'TUE',\n",
       " '5 4': 'WED',\n",
       " '5 5': 'THU',\n",
       " '5 6': 'FRI',\n",
       " '5 7': 'SAT',\n",
       " '5 8': 'SUN',\n",
       " '5 9': 'MON',\n",
       " '5 10': 'TUE',\n",
       " '5 11': 'WED',\n",
       " '5 12': 'THU',\n",
       " '5 13': 'FRI',\n",
       " '5 14': 'SAT',\n",
       " '5 15': 'SUN',\n",
       " '5 16': 'MON',\n",
       " '5 17': 'TUE',\n",
       " '5 18': 'WED',\n",
       " '5 19': 'THU',\n",
       " '5 20': 'FRI',\n",
       " '5 21': 'SAT',\n",
       " '5 22': 'SUN',\n",
       " '5 23': 'MON',\n",
       " '5 24': 'TUE',\n",
       " '5 25': 'WED',\n",
       " '5 26': 'THU',\n",
       " '5 27': 'FRI',\n",
       " '5 28': 'SAT',\n",
       " '5 29': 'SUN',\n",
       " '5 30': 'MON',\n",
       " '5 31': 'TUE'}"
      ]
     },
     "execution_count": 135,
     "metadata": {},
     "output_type": "execute_result"
    }
   ],
   "source": [
    "dics"
   ]
  },
  {
   "cell_type": "markdown",
   "metadata": {},
   "source": [
    "사실 월 변수 m은 굳이 안써도 되었던 것"
   ]
  },
  {
   "cell_type": "code",
   "execution_count": 139,
   "metadata": {},
   "outputs": [],
   "source": [
    "def solution(a, b):\n",
    "    m_d = [31,29,31,30,31,30,31,31,30,31,30,31] # 월별 일 수 입력\n",
    "    days = ['FRI','SAT','SUN','MON','TUE','WED','THU'] # 요일 입력\n",
    "    dics = {}\n",
    "    num_days = sum(m_d[:a])  \n",
    "    days_nums = days*num_days \n",
    "    cnt = 0\n",
    "    for i in range(1,len(m_d) + 1) : \n",
    "        for j in range(1,m_d[i-1]+1) :\n",
    "            dics[str(i)+' '+str(j)] = dics.get(str(i)+' '+str(j), days_nums[cnt]) \n",
    "            cnt += 1\n",
    "    result = str(a) + ' '+str(b)  \n",
    "    return dics[result]"
   ]
  },
  {
   "cell_type": "code",
   "execution_count": 140,
   "metadata": {},
   "outputs": [
    {
     "data": {
      "text/plain": [
       "'TUE'"
      ]
     },
     "execution_count": 140,
     "metadata": {},
     "output_type": "execute_result"
    }
   ],
   "source": [
    "solution(5, 24)"
   ]
  }
 ],
 "metadata": {
  "kernelspec": {
   "display_name": "Python 3 (ipykernel)",
   "language": "python",
   "name": "python3"
  },
  "language_info": {
   "codemirror_mode": {
    "name": "ipython",
    "version": 3
   },
   "file_extension": ".py",
   "mimetype": "text/x-python",
   "name": "python",
   "nbconvert_exporter": "python",
   "pygments_lexer": "ipython3",
   "version": "3.8.5"
  }
 },
 "nbformat": 4,
 "nbformat_minor": 4
}
