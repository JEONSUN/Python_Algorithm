{
 "cells": [
  {
   "cell_type": "markdown",
   "metadata": {},
   "source": [
    "#### 문제 설명\n",
    "1부터 입력받은 숫자 n 사이에 있는 소수의 개수를 반환하는 함수, solution을 만들어 보세요.\n",
    "\n",
    "소수는 1과 자기 자신으로만 나누어지는 수를 의미합니다.\n",
    "(1은 소수가 아닙니다.)\n",
    "\n",
    "#### 제한 조건\n",
    "n은 2이상 1000000이하의 자연수입니다.\n",
    "#### 입출력 예\n",
    "|n|\tresult|\n",
    "|---|---|\n",
    "|10|\t4|\n",
    "|5|\t3|\n",
    "\n",
    "입출력 예 설명\n",
    "#### 입출력 예 #1\n",
    "1부터 10 사이의 소수는 [2,3,5,7] 4개가 존재하므로 4를 반환\n",
    "\n",
    "#### 입출력 예 #2\n",
    "1부터 5 사이의 소수는 [2,3,5] 3개가 존재하므로 3를 반환"
   ]
  },
  {
   "cell_type": "markdown",
   "metadata": {},
   "source": [
    "### 내가 푼 풀이\n",
    "\n",
    "복잡도 문제에 걸렸다."
   ]
  },
  {
   "cell_type": "code",
   "execution_count": 149,
   "metadata": {},
   "outputs": [],
   "source": [
    "def solution(n) :\n",
    "    cnt = 0\n",
    "    num_list = list(range(2,n+1))\n",
    "    \n",
    "    for i in num_list :\n",
    "        error = 0\n",
    "        for j in range(2,i+1) :\n",
    "            if i%j == 0 :\n",
    "                error += 1\n",
    "        if error == 1 :\n",
    "            cnt += 1\n",
    "            \n",
    "    return cnt"
   ]
  },
  {
   "cell_type": "code",
   "execution_count": 150,
   "metadata": {},
   "outputs": [
    {
     "data": {
      "text/plain": [
       "4"
      ]
     },
     "execution_count": 150,
     "metadata": {},
     "output_type": "execute_result"
    }
   ],
   "source": [
    "solution(10)"
   ]
  },
  {
   "cell_type": "markdown",
   "metadata": {},
   "source": [
    "## 에라토스테네스의 체를 사용한 풀이\n",
    "\n",
    "에라토스테네스의 체 : https://ko.wikipedia.org/wiki/%EC%97%90%EB%9D%BC%ED%86%A0%EC%8A%A4%ED%85%8C%EB%84%A4%EC%8A%A4%EC%9D%98_%EC%B2%B4\n",
    "\n",
    "수의 범위에서 2의 배수를 제외하고 그다음 3의 배수를 제외하고 5의 배수를 제외하고,,, 본인만 존재하는 수만 남기는 방식 \n",
    "\n",
    "\n",
    "#### m = int(n**0.5) 를 하는 이유는 \n",
    "\n",
    "**어떤 자연수 n이 있을 때, √n 보다 작은 모든 소수들로 나누어 떨어지지 않으면 n은 소수**이기 때문이다.\n",
    "\n",
    "계산 복잡도를 줄일 수 있다."
   ]
  },
  {
   "cell_type": "code",
   "execution_count": 146,
   "metadata": {},
   "outputs": [],
   "source": [
    "def solution(n) :\n",
    "    m = int(n**0.5) # n의 제곱근을 구한다.\n",
    "    total = (n+1)*[True] # 전체 n개의 범위를 리스트로 생성(이때는 모든 수를 소수(True)로 간주)\n",
    "    for i in range(2, m+1) : # 2부터 제곱근까지 반복 \n",
    "        if total[i] == True : # 이때 소수(True)일 경우엔\n",
    "            for j in range(i+i, n+1, i) : # 반복돌리는 i*i부터 n까지 i 간격으로 false\n",
    "                total[j] = False # 소수의 배수는 모두 false가 됨\n",
    "                \n",
    "    return len([k for k in range(2,n+1) if total[k] == True]) # 2부터 n까지 반복 돌리며 True일 경우 출력 "
   ]
  },
  {
   "cell_type": "code",
   "execution_count": 147,
   "metadata": {
    "scrolled": true
   },
   "outputs": [
    {
     "data": {
      "text/plain": [
       "4"
      ]
     },
     "execution_count": 147,
     "metadata": {},
     "output_type": "execute_result"
    }
   ],
   "source": [
    "solution(10)"
   ]
  },
  {
   "cell_type": "code",
   "execution_count": 154,
   "metadata": {},
   "outputs": [
    {
     "data": {
      "text/plain": [
       "[2, 3, 5, 7, 11, 13, 17, 19]"
      ]
     },
     "execution_count": 154,
     "metadata": {},
     "output_type": "execute_result"
    }
   ],
   "source": [
    "n = 20\n",
    "m = int(n**0.5)\n",
    "total = (n+1)*[True]\n",
    "for i in range(2,m+1) :\n",
    "    if total[i] == True :\n",
    "        for j in range(i+i, n+1, i) :\n",
    "            total[j] = False\n",
    "            \n",
    "[k for k in range(2,n+1) if total[k] == True]"
   ]
  }
 ],
 "metadata": {
  "kernelspec": {
   "display_name": "Python 3 (ipykernel)",
   "language": "python",
   "name": "python3"
  },
  "language_info": {
   "codemirror_mode": {
    "name": "ipython",
    "version": 3
   },
   "file_extension": ".py",
   "mimetype": "text/x-python",
   "name": "python",
   "nbconvert_exporter": "python",
   "pygments_lexer": "ipython3",
   "version": "3.8.5"
  }
 },
 "nbformat": 4,
 "nbformat_minor": 4
}
