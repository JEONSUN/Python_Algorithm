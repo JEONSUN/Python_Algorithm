{
 "cells": [
  {
   "cell_type": "markdown",
   "metadata": {},
   "source": [
    "#### 문제 설명\n",
    "스마트폰 전화 키패드의 각 칸에 다음과 같이 숫자들이 적혀 있습니다.\n",
    "\n",
    "\n",
    "이 전화 키패드에서 왼손과 오른손의 엄지손가락만을 이용해서 숫자만을 입력하려고 합니다.\n",
    "맨 처음 왼손 엄지손가락은 * 키패드에 오른손 엄지손가락은 # 키패드 위치에서 시작하며, 엄지손가락을 사용하는 규칙은 다음과 같습니다.\n",
    "\n",
    "엄지손가락은 상하좌우 4가지 방향으로만 이동할 수 있으며 키패드 이동 한 칸은 거리로 1에 해당합니다.\n",
    "\n",
    "왼쪽 열의 3개의 숫자 1, 4, 7을 입력할 때는 왼손 엄지손가락을 사용합니다.\n",
    "\n",
    "오른쪽 열의 3개의 숫자 3, 6, 9를 입력할 때는 오른손 엄지손가락을 사용합니다.\n",
    "\n",
    "가운데 열의 4개의 숫자 2, 5, 8, 0을 입력할 때는 두 엄지손가락의 현재 키패드의 위치에서 더 가까운 엄지손가락을 사용합니다.\n",
    "\n",
    "4-1. 만약 두 엄지손가락의 거리가 같다면, 오른손잡이는 오른손 엄지손가락, 왼손잡이는 왼손 엄지손가락을 사용합니다.\n",
    "\n",
    "순서대로 누를 번호가 담긴 배열 numbers, 왼손잡이인지 오른손잡이인 지를 나타내는 문자열 hand가 매개변수로 주어질 때, 각 번호를 누른 엄지손\n",
    "가락이 왼손인 지 오른손인 지를 나타내는 연속된 문자열 형태로 return 하도록 solution 함수를 완성해주세요.\n",
    "\n",
    "#### [제한사항]\n",
    "numbers 배열의 크기는 1 이상 1,000 이하입니다.\n",
    "\n",
    "numbers 배열 원소의 값은 0 이상 9 이하인 정수입니다.\n",
    "\n",
    "hand는 \"left\" 또는 \"right\" 입니다.\n",
    "\n",
    "\"left\"는 왼손잡이, \"right\"는 오른손잡이를 의미합니다.\n",
    "\n",
    "왼손 엄지손가락을 사용한 경우는 L, 오른손 엄지손가락을 사용한 경우는 R을 순서대로 이어붙여 문자열 형태로 return 해주세요.\n",
    "\n",
    "#### 입출력 예\n",
    "|numbers|\thand|\tresult|\n",
    "|------|------|------|\n",
    "|[1, 3, 4, 5, 8, 2, 1, 4, 5, 9, 5]|\t\"right\"|\t\"LRLLLRLLRRL\"|\n",
    "|[7, 0, 8, 2, 8, 3, 1, 5, 7, 6, 2]|\t\"left\"|\t\"LRLLRRLLLRR\"|\n",
    "|[1, 2, 3, 4, 5, 6, 7, 8, 9, 0]|\t\"right\"|\t\"LLRLLRLLRL\"|\n",
    "\n",
    "\n",
    "입출력 예에 대한 설명\n",
    "입출력 예 #1\n",
    "\n",
    "순서대로 눌러야 할 번호가 [1, 3, 4, 5, 8, 2, 1, 4, 5, 9, 5]이고, 오른손잡이입니다."
   ]
  },
  {
   "cell_type": "code",
   "execution_count": 189,
   "metadata": {},
   "outputs": [],
   "source": [
    "numbers = [7, 0, 8, 2, 8, 3, 1, 5, 7, 6, 2]"
   ]
  },
  {
   "cell_type": "code",
   "execution_count": 197,
   "metadata": {},
   "outputs": [],
   "source": [
    "def solution(numbers, hand):\n",
    "    # 1부터 10까지 키배드 좌표\n",
    "    nums_xy = [(1,1),(1,2),(1,3),(2,1),(2,2),(2,3),(3,1),(3,2),(3,3),(4,2)]\n",
    "    \n",
    "    # 좌 우 키패드 입력값\n",
    "    L = [1,4,7]\n",
    "    R = [3,6,9]\n",
    "    \n",
    "    # *, #에 해당하는 초기 좌표\n",
    "    dl = [4,1]\n",
    "    dr = [4,3]\n",
    "    \n",
    "    # LR을 담을 빈 리스트\n",
    "    answer = []\n",
    "    \n",
    "    # 0을 10으로 매치\n",
    "    try :\n",
    "        numbers[numbers.index(0)] = 10\n",
    "    except ValueError :\n",
    "        pass\n",
    "    \n",
    "\n",
    "    # 좌 우 키패드값 리스트에 숫자가 있으면 L,R입력, 입력할때 키패드 좌표도 입력\n",
    "    for i in range(len(numbers)) :\n",
    "        if numbers[i] in L : \n",
    "            answer.append('L')\n",
    "            dl = nums_xy[numbers[i]-1]\n",
    "        elif numbers[i] in R :\n",
    "            answer.append('R')\n",
    "            dr = nums_xy[numbers[i]-1]\n",
    "            \n",
    "    # 없을 경우 해당 수의 좌표 구해서 거리 계산(맨하탄 거리 공식 사용(|p1 - p2| + |q1 - q2|))\n",
    "        else :\n",
    "            another_nums = numbers[i]\n",
    "            another_xy = nums_xy[another_nums-1]\n",
    "            if sum([abs(another_xy[0] - dl[0]),abs(another_xy[1] - dl[1])]) > sum([abs(another_xy[0] - dr[0]),abs(another_xy[1] - dr[1])]):\n",
    "                answer.append('R') \n",
    "                dr = nums_xy[numbers[i]-1]\n",
    "            # 거리가 같을 경우 hand에 따라 결정 \n",
    "            elif sum([abs(another_xy[0] - dl[0]),abs(another_xy[1] - dl[1])]) == sum([abs(another_xy[0] - dr[0]),abs(another_xy[1] - dr[1])]):\n",
    "                if hand == 'right' :\n",
    "                    answer.append('R')\n",
    "                    dr = nums_xy[numbers[i]-1]\n",
    "                else :\n",
    "                    answer.append('L')\n",
    "                    dl = nums_xy[numbers[i]-1]\n",
    "            else :\n",
    "                answer.append('L')\n",
    "                dl = nums_xy[numbers[i]-1]\n",
    "    \n",
    "    answer = ''.join(answer)\n",
    "    \n",
    "    return answer"
   ]
  },
  {
   "cell_type": "code",
   "execution_count": 198,
   "metadata": {
    "scrolled": false
   },
   "outputs": [
    {
     "name": "stdout",
     "output_type": "stream",
     "text": [
      "LRLLLRLLRRL\n",
      "LRLLRRLLLRR\n",
      "LLRLLRLLRL\n"
     ]
    }
   ],
   "source": [
    "print(solution([1, 3, 4, 5, 8, 2, 1, 4, 5, 9, 5],'right'))\n",
    "print(solution([7, 0, 8, 2, 8, 3, 1, 5, 7, 6, 2],'left'))\n",
    "print(solution([1, 2, 3, 4, 5, 6, 7, 8, 9, 0],'right'))"
   ]
  }
 ],
 "metadata": {
  "kernelspec": {
   "display_name": "Python 3 (ipykernel)",
   "language": "python",
   "name": "python3"
  },
  "language_info": {
   "codemirror_mode": {
    "name": "ipython",
    "version": 3
   },
   "file_extension": ".py",
   "mimetype": "text/x-python",
   "name": "python",
   "nbconvert_exporter": "python",
   "pygments_lexer": "ipython3",
   "version": "3.8.5"
  }
 },
 "nbformat": 4,
 "nbformat_minor": 4
}
