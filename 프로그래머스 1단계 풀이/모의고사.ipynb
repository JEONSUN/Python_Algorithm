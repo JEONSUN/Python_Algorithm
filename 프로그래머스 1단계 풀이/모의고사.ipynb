{
 "cells": [
  {
   "cell_type": "markdown",
   "metadata": {},
   "source": [
    "#### 문제 설명\n",
    "수포자는 수학을 포기한 사람의 준말입니다. 수포자 삼인방은 모의고사에 수학 문제를 전부 찍으려 합니다. 수포자는 1번 문제부터 마지막 문제까지 다음과 같이 찍습니다.\n",
    "\n",
    "\n",
    "1번 수포자가 찍는 방식: 1, 2, 3, 4, 5, 1, 2, 3, 4, 5, ...\n",
    "\n",
    "2번 수포자가 찍는 방식: 2, 1, 2, 3, 2, 4, 2, 5, 2, 1, 2, 3, 2, 4, 2, 5, ...\n",
    "\n",
    "3번 수포자가 찍는 방식: 3, 3, 1, 1, 2, 2, 4, 4, 5, 5, 3, 3, 1, 1, 2, 2, 4, 4, 5, 5, ...\n",
    "\n",
    "1번 문제부터 마지막 문제까지의 정답이 순서대로 들은 배열 answers가 주어졌을 때, 가장 많은 문제를 맞힌 사람이 누구인지 배열에 담아 return 하도록 solution 함수를 작성해주세요.\n",
    "\n",
    "#### 제한 조건\n",
    "시험은 최대 10,000 문제로 구성되어있습니다.\n",
    "문제의 정답은 1, 2, 3, 4, 5중 하나입니다.\n",
    "가장 높은 점수를 받은 사람이 여럿일 경우, return하는 값을 오름차순 정렬해주세요.\n",
    "\n",
    "#### 입출력 예\n",
    "\n",
    "|answers|\treturn|\n",
    "|-----|-----|\n",
    "|[1,2,3,4,5]|\t[1]|\n",
    "|[1,3,2,4,2]|\t[1,2,3]|\n",
    "\n",
    "#### 입출력 예 설명\n",
    "#### 입출력 예 #1\n",
    "수포자 1은 모든 문제를 맞혔습니다.\n",
    "\n",
    "수포자 2는 모든 문제를 틀렸습니다.\n",
    "\n",
    "수포자 3은 모든 문제를 틀렸습니다.\n",
    "\n",
    "따라서 가장 문제를 많이 맞힌 사람은 수포자 1입니다.\n",
    "\n",
    "#### 입출력 예 #2\n",
    "\n",
    "모든 사람이 2문제씩을 맞췄습니다."
   ]
  },
  {
   "cell_type": "code",
   "execution_count": 260,
   "metadata": {},
   "outputs": [],
   "source": [
    "def solution(answers):\n",
    "    # 수포자들 답지\n",
    "    a = [1,2,3,4,5]\n",
    "    b = [2,1,2,3,2,4,2,5]\n",
    "    c= [3,3,1,1,2,2,4,4,5,5]\n",
    "    \n",
    "    # score\n",
    "    a_cnt = 0\n",
    "    b_cnt = 0\n",
    "    c_cnt = 0\n",
    "    \n",
    "    # 수포자들 문제 길이에 맞게 늘리기\n",
    "    if len(a) or len(b) or len(c) < len(answers) :\n",
    "        a = a *(len(answers)//len(a)) + a[:len(answers)%len(a)]\n",
    "        b = b *(len(answers)//len(b)) + b[:len(answers)%len(b)]\n",
    "        c = c *(len(answers)//len(c)) + c[:len(answers)%len(c)]\n",
    "    else :\n",
    "        a = a *(len(answers)//len(a)) - a[:len(answers)%len(a)]\n",
    "        b = b *(len(answers)//len(b)) - b[:len(answers)%len(b)]\n",
    "        c = c *(len(answers)//len(c)) - c[:len(answers)%len(c)]\n",
    "    \n",
    "    #  문제 풀어서 맞으면 1점 추가\n",
    "    for i in range(len(answers)) :\n",
    "        if answers[i] == a[i] :\n",
    "            a_cnt += 1\n",
    "        if answers[i] == b[i] :\n",
    "            b_cnt += 1\n",
    "        if answers[i] == c[i] :\n",
    "            c_cnt += 1    \n",
    "        else :\n",
    "            a_cnt += 0\n",
    "            b_cnt += 0\n",
    "            c_cnt += 0\n",
    "    \n",
    "    \n",
    "    answer = []\n",
    "    score = [a_cnt,b_cnt,c_cnt]\n",
    "    \n",
    "    counter = 0\n",
    "    for nums in range(len(score)) :\n",
    "        if score[nums] == max(score) :\n",
    "            counter = 1 + nums\n",
    "            answer.append(counter)\n",
    "    answer.sort()\n",
    "    \n",
    "    \n",
    "    return answer"
   ]
  },
  {
   "cell_type": "code",
   "execution_count": 263,
   "metadata": {},
   "outputs": [
    {
     "data": {
      "text/plain": [
       "[1, 2, 3]"
      ]
     },
     "execution_count": 263,
     "metadata": {},
     "output_type": "execute_result"
    }
   ],
   "source": [
    "solution([1,3,2,4,2])"
   ]
  },
  {
   "cell_type": "markdown",
   "metadata": {},
   "source": [
    "너무 복잡하게 푼 느낌이 듬"
   ]
  }
 ],
 "metadata": {
  "kernelspec": {
   "display_name": "Python 3 (ipykernel)",
   "language": "python",
   "name": "python3"
  },
  "language_info": {
   "codemirror_mode": {
    "name": "ipython",
    "version": 3
   },
   "file_extension": ".py",
   "mimetype": "text/x-python",
   "name": "python",
   "nbconvert_exporter": "python",
   "pygments_lexer": "ipython3",
   "version": "3.8.5"
  }
 },
 "nbformat": 4,
 "nbformat_minor": 4
}
