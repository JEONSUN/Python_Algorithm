{
 "cells": [
  {
   "cell_type": "markdown",
   "metadata": {},
   "source": [
    "**5086. 배수와 약수**"
   ]
  },
  {
   "cell_type": "code",
   "execution_count": 13,
   "metadata": {},
   "outputs": [
    {
     "name": "stdout",
     "output_type": "stream",
     "text": [
      "factor\n"
     ]
    }
   ],
   "source": [
    "while 1 :\n",
    "    n,m = map(int,input().split())\n",
    "\n",
    "    try : \n",
    "        if n//m == 0 :\n",
    "            if m%n == 0 :\n",
    "                print('factor')\n",
    "            else :\n",
    "                print('neither')\n",
    "        elif n%m == 0 :\n",
    "            print('multiple')\n",
    "    \n",
    "        else : \n",
    "            print('neither')\n",
    "\n",
    "    except ZeroDivisionError :\n",
    "        break"
   ]
  },
  {
   "cell_type": "markdown",
   "metadata": {},
   "source": [
    "**1037. 약수**"
   ]
  },
  {
   "cell_type": "code",
   "execution_count": 46,
   "metadata": {},
   "outputs": [
    {
     "name": "stdout",
     "output_type": "stream",
     "text": [
      "14\n",
      "14 26456 2 28 13228 3307 7 23149 8 6614 46298 56 4 92596\n",
      "185192\n"
     ]
    }
   ],
   "source": [
    "n = int(input())\n",
    "a = list(map(int,input().split()))\n",
    "\n",
    "a = sorted(a)\n",
    "if n == 1 :\n",
    "    print(a[0] * a[0])\n",
    "else :\n",
    "    print(a[0] * a[-1])        "
   ]
  },
  {
   "cell_type": "markdown",
   "metadata": {},
   "source": [
    "**2609. 최대공약수와 최소공배수**"
   ]
  },
  {
   "cell_type": "code",
   "execution_count": 63,
   "metadata": {},
   "outputs": [
    {
     "name": "stdout",
     "output_type": "stream",
     "text": [
      "24 18\n",
      "6\n",
      "72\n"
     ]
    }
   ],
   "source": [
    "n,m = map(int,input().split())\n",
    "\n",
    "def gcd(n,m) :\n",
    "    if n%m == 0 :\n",
    "        return m\n",
    "    else : \n",
    "        return gcd(m,n%m)\n",
    "print(gcd(n,m))\n",
    "print(int(n*m/gcd(n,m)))"
   ]
  },
  {
   "cell_type": "markdown",
   "metadata": {},
   "source": [
    "**1934. 최소공배수**"
   ]
  },
  {
   "cell_type": "code",
   "execution_count": 76,
   "metadata": {},
   "outputs": [
    {
     "name": "stdout",
     "output_type": "stream",
     "text": [
      "3\n",
      "1 45000\n",
      "45000.0\n",
      "6 10\n",
      "30.0\n",
      "13 17\n",
      "221.0\n"
     ]
    }
   ],
   "source": [
    "def gcd(a,b) :\n",
    "    if a%b == 0 :\n",
    "        return b\n",
    "    else :\n",
    "        return gcd(b,a%b)\n",
    "\n",
    "n = int(input())\n",
    "\n",
    "for i in range(n) :\n",
    "    a,b = map(int, input().split())\n",
    "    print(int(a*b/gcd(a,b)))"
   ]
  },
  {
   "cell_type": "markdown",
   "metadata": {},
   "source": [
    "**11050. 이항 계수1**"
   ]
  },
  {
   "cell_type": "code",
   "execution_count": 92,
   "metadata": {},
   "outputs": [
    {
     "name": "stdout",
     "output_type": "stream",
     "text": [
      "100 50\n",
      "4078\n"
     ]
    }
   ],
   "source": [
    "n,k = map(int,input().split())\n",
    "\n",
    "result = 1\n",
    "for i in range(1,k+1) :\n",
    "    result = (result*n)/i\n",
    "    n -= 1\n",
    "print(int(result)%10070)\n",
    "    "
   ]
  },
  {
   "cell_type": "markdown",
   "metadata": {},
   "source": [
    "**11051. 이항 계수2**"
   ]
  },
  {
   "cell_type": "code",
   "execution_count": 133,
   "metadata": {},
   "outputs": [
    {
     "name": "stdout",
     "output_type": "stream",
     "text": [
      "1000 50\n",
      "6515\n"
     ]
    }
   ],
   "source": [
    "def factorial_func(n) :\n",
    "    if n == 1 :\n",
    "        return 1\n",
    "    return n * factorial_func(n-1)\n",
    "\n",
    "n,k = map(int,input().split())\n",
    "\n",
    "first_ent = n - k\n",
    "result = factorial_func(n)//(factorial_func(first_ent) * factorial_func(k))\n",
    "print(int(result%10007))"
   ]
  },
  {
   "cell_type": "markdown",
   "metadata": {},
   "source": [
    "재귀함수로 풀었으나 (RecursionError) 발생"
   ]
  },
  {
   "cell_type": "code",
   "execution_count": 146,
   "metadata": {
    "scrolled": false
   },
   "outputs": [
    {
     "name": "stdout",
     "output_type": "stream",
     "text": [
      "1000 50\n",
      "6515\n"
     ]
    }
   ],
   "source": [
    "n, k = map(int,input().split())\n",
    "\n",
    "cnt = 1\n",
    "result = 1\n",
    "# k만큼 반복 돌리면서\n",
    "for i in range(1,k+1) :\n",
    "    result = (result*n)//i # n을 곱해나가면서 1부터 k까지 나눔\n",
    "    n -= 1\n",
    "    \n",
    "print(int(result%10007))"
   ]
  },
  {
   "cell_type": "markdown",
   "metadata": {},
   "source": [
    "**2981. 검문**"
   ]
  },
  {
   "cell_type": "code",
   "execution_count": 181,
   "metadata": {
    "scrolled": true
   },
   "outputs": [
    {
     "name": "stdout",
     "output_type": "stream",
     "text": [
      "5\n",
      "5\n",
      "17\n",
      "23\n",
      "14\n",
      "83\n",
      "3 "
     ]
    }
   ],
   "source": [
    "n = int(input())\n",
    "\n",
    "num_list = []\n",
    "# 수 생성\n",
    "for _ in range(n) :\n",
    "    a = int(input())\n",
    "    num_list.append(a)\n",
    "\n",
    "# 정렬\n",
    "num_list = sorted(num_list)\n",
    "\n",
    "# 반복돌림\n",
    "for i in range(2,min(num_list)+1) :\n",
    "    same_list = []\n",
    "    for j in num_list :\n",
    "        result = j%i\n",
    "        same_list.append(result)\n",
    "    if len(set(same_list)) == 1 :\n",
    "        print(i, end = ' ')"
   ]
  },
  {
   "cell_type": "markdown",
   "metadata": {},
   "source": [
    "시간초과 (수 제한이 1,000,000,000까지라 최솟값이 억단위면 반복도 억단위로 돌아감)\n",
    "\n",
    "다른 규칙이 있는지 좀 더 생각해봐야할듯"
   ]
  },
  {
   "cell_type": "markdown",
   "metadata": {},
   "source": [
    "**3036. 링**"
   ]
  },
  {
   "cell_type": "code",
   "execution_count": 253,
   "metadata": {
    "scrolled": true
   },
   "outputs": [
    {
     "name": "stdout",
     "output_type": "stream",
     "text": [
      "4\n",
      "12 3 8 4\n"
     ]
    }
   ],
   "source": [
    "n = int(input())\n",
    "num_list = list(map(int,input().split()))"
   ]
  },
  {
   "cell_type": "code",
   "execution_count": 254,
   "metadata": {
    "scrolled": true
   },
   "outputs": [
    {
     "name": "stdout",
     "output_type": "stream",
     "text": [
      "4/1\n",
      "3/2\n",
      "3/1\n"
     ]
    }
   ],
   "source": [
    "n = int(input())\n",
    "num_list = list(map(int,input().split()))\n",
    "\n",
    "def gcd(a,b) : \n",
    "    if a%b == 0 :\n",
    "        return b\n",
    "    else :\n",
    "        return gcd(b,a%b)\n",
    "        \n",
    "for i in range(1,n) :\n",
    "    gcd_num = gcd(num_list[0],num_list[i])\n",
    "    if gcd_num == None :\n",
    "        gcd_num = gcd(num_list[0],abs(num_list[0] - num_list[i]))\n",
    "        print(f'{num_list[0]//gcd_num}/{num_list[i]//gcd_num}')\n",
    "    else :\n",
    "        print(f'{num_list[0]//gcd_num}/{num_list[i]//gcd_num}')"
   ]
  },
  {
   "cell_type": "markdown",
   "metadata": {},
   "source": [
    "**1010. 다리놓기**"
   ]
  },
  {
   "cell_type": "code",
   "execution_count": 260,
   "metadata": {},
   "outputs": [
    {
     "name": "stdout",
     "output_type": "stream",
     "text": [
      "3\n",
      "2 2\n",
      "1\n",
      "1 5\n",
      "5\n",
      "13 29\n",
      "67863915\n"
     ]
    }
   ],
   "source": [
    "def factorial(n) : # 팩토리얼 생성 함수\n",
    "    if n == 1 :\n",
    "        return 1\n",
    "    return n * factorial(n-1)\n",
    "\n",
    "case = int(input()) # 케이스 개수 입력\n",
    "\n",
    "for i in range(case) : # 케이스 수만큼 반복 돌리며\n",
    "    n, m  = map(int,input().split())\n",
    "    if n == m :\n",
    "        print(1)\n",
    "    else :\n",
    "        minus_1 = m - n  # 팩토리얼 반복\n",
    "        print(factorial(m)//(factorial(minus_1)*factorial(n)))"
   ]
  },
  {
   "cell_type": "markdown",
   "metadata": {},
   "source": [
    "**9375. 패션왕 신혜빈**"
   ]
  },
  {
   "cell_type": "code",
   "execution_count": 324,
   "metadata": {
    "scrolled": true
   },
   "outputs": [
    {
     "name": "stdout",
     "output_type": "stream",
     "text": [
      "1\n",
      "3\n",
      "hat head\n",
      "Counter({'head': 1})\n",
      "sun eye\n",
      "Counter({'head': 1, 'eye': 1})\n",
      "turban head\n",
      "Counter({'head': 2, 'eye': 1})\n",
      "5\n"
     ]
    }
   ],
   "source": [
    "from collections import Counter # 단어의 빈도를 셀 때 사용한다!\n",
    "\n",
    "case = int(input()) # 케이스 수 입력하고\n",
    "\n",
    "for i in range(case) :\n",
    "    result = 0\n",
    "    n = int(input())\n",
    "    type_list = []\n",
    "    if n == 0 :\n",
    "        print(0)\n",
    "        continue\n",
    "    for j in range(n) :\n",
    "        s, s_type = list(input().split())\n",
    "        type_list.append(s_type) # 옷의 종류만 리스트에 집어 넣고 \n",
    "        num = 1\n",
    "        result = Counter(type_list) # 빈도를 센다\n",
    "    for k in result :\n",
    "        num *= result[k] + 1 # 경우의 수는 옷의 종류별 빈도마다 곱해서(+1은 조합의 공식에 근거하여 (옷의 종류 + 1))\n",
    "    print(num - 1) # 구한 수에서 -1을 하면 최종 수가 나온다."
   ]
  },
  {
   "cell_type": "markdown",
   "metadata": {},
   "source": [
    "**9375 팩토리얼 0의 개수**"
   ]
  },
  {
   "cell_type": "code",
   "execution_count": 367,
   "metadata": {},
   "outputs": [
    {
     "name": "stdout",
     "output_type": "stream",
     "text": [
      "0\n",
      "0\n"
     ]
    }
   ],
   "source": [
    "def factorial(n) :\n",
    "    if n == 1 :\n",
    "        return 1\n",
    "    elif n == 0 :\n",
    "        return 0\n",
    "    return n * factorial(n-1)\n",
    "\n",
    "n = int(input())\n",
    "if n == 0 :\n",
    "    print(0)\n",
    "nums = str(factorial(n))[::-1]\n",
    "\n",
    "for i in range(len(nums)) :\n",
    "    if nums[i] == '0' :\n",
    "        pass\n",
    "    else :\n",
    "        print(i)\n",
    "        break"
   ]
  },
  {
   "cell_type": "code",
   "execution_count": 333,
   "metadata": {},
   "outputs": [
    {
     "data": {
      "text/plain": [
       "0"
      ]
     },
     "execution_count": 333,
     "metadata": {},
     "output_type": "execute_result"
    }
   ],
   "source": [
    "str(factorial(3)).count('0')"
   ]
  },
  {
   "cell_type": "markdown",
   "metadata": {},
   "source": [
    "**2004. 조합 0의 개수**"
   ]
  },
  {
   "cell_type": "code",
   "execution_count": 442,
   "metadata": {},
   "outputs": [
    {
     "name": "stdout",
     "output_type": "stream",
     "text": [
      "20000000 10\n"
     ]
    },
    {
     "ename": "RecursionError",
     "evalue": "maximum recursion depth exceeded in comparison",
     "output_type": "error",
     "traceback": [
      "\u001b[1;31m---------------------------------------------------------------------------\u001b[0m",
      "\u001b[1;31mRecursionError\u001b[0m                            Traceback (most recent call last)",
      "\u001b[1;32m~\\AppData\\Local\\Temp/ipykernel_2528/3690209654.py\u001b[0m in \u001b[0;36m<module>\u001b[1;34m\u001b[0m\n\u001b[0;32m      7\u001b[0m \u001b[1;33m\u001b[0m\u001b[0m\n\u001b[0;32m      8\u001b[0m \u001b[1;32mif\u001b[0m \u001b[0mm\u001b[0m \u001b[1;33m!=\u001b[0m \u001b[1;36m0\u001b[0m \u001b[1;33m:\u001b[0m\u001b[1;33m\u001b[0m\u001b[1;33m\u001b[0m\u001b[0m\n\u001b[1;32m----> 9\u001b[1;33m     \u001b[0mresult\u001b[0m \u001b[1;33m=\u001b[0m \u001b[0mfactorial\u001b[0m\u001b[1;33m(\u001b[0m\u001b[0mn\u001b[0m\u001b[1;33m)\u001b[0m\u001b[1;33m//\u001b[0m\u001b[1;33m(\u001b[0m\u001b[0mfactorial\u001b[0m\u001b[1;33m(\u001b[0m\u001b[0mn\u001b[0m\u001b[1;33m-\u001b[0m\u001b[0mm\u001b[0m\u001b[1;33m)\u001b[0m\u001b[1;33m*\u001b[0m\u001b[0mfactorial\u001b[0m\u001b[1;33m(\u001b[0m\u001b[0mm\u001b[0m\u001b[1;33m)\u001b[0m\u001b[1;33m)\u001b[0m\u001b[1;33m\u001b[0m\u001b[1;33m\u001b[0m\u001b[0m\n\u001b[0m\u001b[0;32m     10\u001b[0m \u001b[1;33m\u001b[0m\u001b[0m\n\u001b[0;32m     11\u001b[0m     \u001b[0mnums\u001b[0m \u001b[1;33m=\u001b[0m \u001b[0mstr\u001b[0m\u001b[1;33m(\u001b[0m\u001b[0mresult\u001b[0m\u001b[1;33m)\u001b[0m\u001b[1;33m[\u001b[0m\u001b[1;33m:\u001b[0m\u001b[1;33m:\u001b[0m\u001b[1;33m-\u001b[0m\u001b[1;36m1\u001b[0m\u001b[1;33m]\u001b[0m\u001b[1;33m\u001b[0m\u001b[1;33m\u001b[0m\u001b[0m\n",
      "\u001b[1;32m~\\AppData\\Local\\Temp/ipykernel_2528/3690209654.py\u001b[0m in \u001b[0;36mfactorial\u001b[1;34m(n)\u001b[0m\n\u001b[0;32m      2\u001b[0m     \u001b[1;32mif\u001b[0m \u001b[0mn\u001b[0m \u001b[1;33m==\u001b[0m \u001b[1;36m1\u001b[0m \u001b[1;33m:\u001b[0m\u001b[1;33m\u001b[0m\u001b[1;33m\u001b[0m\u001b[0m\n\u001b[0;32m      3\u001b[0m         \u001b[1;32mreturn\u001b[0m \u001b[1;36m1\u001b[0m\u001b[1;33m\u001b[0m\u001b[1;33m\u001b[0m\u001b[0m\n\u001b[1;32m----> 4\u001b[1;33m     \u001b[1;32mreturn\u001b[0m \u001b[0mn\u001b[0m \u001b[1;33m*\u001b[0m \u001b[0mfactorial\u001b[0m\u001b[1;33m(\u001b[0m\u001b[0mn\u001b[0m\u001b[1;33m-\u001b[0m\u001b[1;36m1\u001b[0m\u001b[1;33m)\u001b[0m\u001b[1;33m\u001b[0m\u001b[1;33m\u001b[0m\u001b[0m\n\u001b[0m\u001b[0;32m      5\u001b[0m \u001b[1;33m\u001b[0m\u001b[0m\n\u001b[0;32m      6\u001b[0m \u001b[0mn\u001b[0m\u001b[1;33m,\u001b[0m \u001b[0mm\u001b[0m \u001b[1;33m=\u001b[0m \u001b[0mmap\u001b[0m\u001b[1;33m(\u001b[0m\u001b[0mint\u001b[0m\u001b[1;33m,\u001b[0m\u001b[0minput\u001b[0m\u001b[1;33m(\u001b[0m\u001b[1;33m)\u001b[0m\u001b[1;33m.\u001b[0m\u001b[0msplit\u001b[0m\u001b[1;33m(\u001b[0m\u001b[1;33m)\u001b[0m\u001b[1;33m)\u001b[0m\u001b[1;33m\u001b[0m\u001b[1;33m\u001b[0m\u001b[0m\n",
      "... last 1 frames repeated, from the frame below ...\n",
      "\u001b[1;32m~\\AppData\\Local\\Temp/ipykernel_2528/3690209654.py\u001b[0m in \u001b[0;36mfactorial\u001b[1;34m(n)\u001b[0m\n\u001b[0;32m      2\u001b[0m     \u001b[1;32mif\u001b[0m \u001b[0mn\u001b[0m \u001b[1;33m==\u001b[0m \u001b[1;36m1\u001b[0m \u001b[1;33m:\u001b[0m\u001b[1;33m\u001b[0m\u001b[1;33m\u001b[0m\u001b[0m\n\u001b[0;32m      3\u001b[0m         \u001b[1;32mreturn\u001b[0m \u001b[1;36m1\u001b[0m\u001b[1;33m\u001b[0m\u001b[1;33m\u001b[0m\u001b[0m\n\u001b[1;32m----> 4\u001b[1;33m     \u001b[1;32mreturn\u001b[0m \u001b[0mn\u001b[0m \u001b[1;33m*\u001b[0m \u001b[0mfactorial\u001b[0m\u001b[1;33m(\u001b[0m\u001b[0mn\u001b[0m\u001b[1;33m-\u001b[0m\u001b[1;36m1\u001b[0m\u001b[1;33m)\u001b[0m\u001b[1;33m\u001b[0m\u001b[1;33m\u001b[0m\u001b[0m\n\u001b[0m\u001b[0;32m      5\u001b[0m \u001b[1;33m\u001b[0m\u001b[0m\n\u001b[0;32m      6\u001b[0m \u001b[0mn\u001b[0m\u001b[1;33m,\u001b[0m \u001b[0mm\u001b[0m \u001b[1;33m=\u001b[0m \u001b[0mmap\u001b[0m\u001b[1;33m(\u001b[0m\u001b[0mint\u001b[0m\u001b[1;33m,\u001b[0m\u001b[0minput\u001b[0m\u001b[1;33m(\u001b[0m\u001b[1;33m)\u001b[0m\u001b[1;33m.\u001b[0m\u001b[0msplit\u001b[0m\u001b[1;33m(\u001b[0m\u001b[1;33m)\u001b[0m\u001b[1;33m)\u001b[0m\u001b[1;33m\u001b[0m\u001b[1;33m\u001b[0m\u001b[0m\n",
      "\u001b[1;31mRecursionError\u001b[0m: maximum recursion depth exceeded in comparison"
     ]
    }
   ],
   "source": [
    "def factorial(n) :\n",
    "    if n == 1 :\n",
    "        return 1\n",
    "    return n * factorial(n-1)\n",
    "\n",
    "n, m = map(int,input().split())\n",
    "\n",
    "if m != 0 :\n",
    "    result = factorial(n)//(factorial(n-m)*factorial(m))\n",
    "\n",
    "    nums = str(result)[::-1]\n",
    "\n",
    "    for i in range(len(nums)) :\n",
    "        if nums[i] == '0' :\n",
    "            pass\n",
    "        else : \n",
    "            print(i)\n",
    "            break\n",
    "else :\n",
    "    print(0)"
   ]
  },
  {
   "cell_type": "markdown",
   "metadata": {},
   "source": [
    "너무 큰 수가 들어올 경우 메모리 할당 문제가 발생한다\n",
    "\n",
    "사실 10을 만드려면 $2*5 = 10$로 인해 2와 5뿐이다. \n",
    "\n",
    "n과 m에서 2와 5로 나눴을 때 개수를 구한다."
   ]
  },
  {
   "cell_type": "code",
   "execution_count": 452,
   "metadata": {},
   "outputs": [
    {
     "name": "stdout",
     "output_type": "stream",
     "text": [
      "25 12\n",
      "2\n"
     ]
    }
   ],
   "source": [
    "def two_count(n) :\n",
    "    n2 = 0\n",
    "    while n != 0 :\n",
    "        n = n // 2 \n",
    "        n2 += n\n",
    "    return n2\n",
    "\n",
    "def five_count(n) :\n",
    "    return n5\n",
    "    n5 = 0\n",
    "    while n != 0 :\n",
    "        n = n // 5 \n",
    "        n5 += n\n",
    "n, m = map(int,input().split())\n",
    "print(min(two_count(n)-two_count(m)-two_count(n - m),five_count(n)-five_count(m)-five_count(n - m)))"
   ]
  },
  {
   "cell_type": "code",
   "execution_count": 556,
   "metadata": {},
   "outputs": [
    {
     "name": "stdout",
     "output_type": "stream",
     "text": [
      "3\n",
      "6\n",
      "34\n",
      "38\n",
      "[28, 4]\n",
      "2 4 "
     ]
    }
   ],
   "source": [
    "def gcd(a,b) :\n",
    "    if a%b == 0:\n",
    "        return b\n",
    "    return gcd(b, a%b)\n",
    "\n",
    "case = int(input())\n",
    "s = []\n",
    "for _ in range(case):\n",
    "    s.append(int(input()))\n",
    "    \n",
    "s = sorted(s)\n",
    "\n",
    "d_list = []\n",
    "for i in range(1,len(s)) :\n",
    "    d_list.append(abs(s[i-1] - s[i]))\n",
    "\n",
    "print(d_list)\n",
    "nums = gcd(min(d_list),max(d_list))\n",
    "\n",
    "for j in range(2,nums+1) :\n",
    "    if d_list[0] % j == 0 :\n",
    "        print(j, end = ' ')\n",
    "    else :\n",
    "        pass"
   ]
  },
  {
   "cell_type": "code",
   "execution_count": 481,
   "metadata": {},
   "outputs": [],
   "source": [
    "s = sorted(s)"
   ]
  },
  {
   "cell_type": "code",
   "execution_count": 475,
   "metadata": {
    "scrolled": false
   },
   "outputs": [
    {
     "data": {
      "text/plain": [
       "[6, 34, 38]"
      ]
     },
     "execution_count": 475,
     "metadata": {},
     "output_type": "execute_result"
    }
   ],
   "source": [
    "s"
   ]
  },
  {
   "cell_type": "code",
   "execution_count": 471,
   "metadata": {},
   "outputs": [],
   "source": [
    "s = sorted(s)"
   ]
  },
  {
   "cell_type": "code",
   "execution_count": 482,
   "metadata": {},
   "outputs": [
    {
     "data": {
      "text/plain": [
       "[5, 14, 17, 23, 83]"
      ]
     },
     "execution_count": 482,
     "metadata": {},
     "output_type": "execute_result"
    }
   ],
   "source": [
    "s"
   ]
  }
 ],
 "metadata": {
  "kernelspec": {
   "display_name": "Python 3 (ipykernel)",
   "language": "python",
   "name": "python3"
  },
  "language_info": {
   "codemirror_mode": {
    "name": "ipython",
    "version": 3
   },
   "file_extension": ".py",
   "mimetype": "text/x-python",
   "name": "python",
   "nbconvert_exporter": "python",
   "pygments_lexer": "ipython3",
   "version": "3.8.5"
  }
 },
 "nbformat": 4,
 "nbformat_minor": 4
}
