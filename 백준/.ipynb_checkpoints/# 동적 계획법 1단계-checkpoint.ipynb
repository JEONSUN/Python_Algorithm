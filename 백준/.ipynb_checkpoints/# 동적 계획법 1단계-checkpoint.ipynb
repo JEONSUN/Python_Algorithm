{
 "cells": [
  {
   "cell_type": "markdown",
   "metadata": {},
   "source": [
    "**1003. 피보나치 함수**\n",
    "\n",
    "fibonacci(3)을 호출하면 다음과 같은 일이 일어난다.<br>\n",
    "\n",
    "fibonacci(3)은 fibonacci(2)와 fibonacci(1) (첫 번째 호출)을 호출한다.<br>\n",
    "fibonacci(2)는 fibonacci(1) (두 번째 호출)과 fibonacci(0)을 호출한다.<br>\n",
    "두 번째 호출한 fibonacci(1)은 1을 출력하고 1을 리턴한다.<br>\n",
    "fibonacci(0)은 0을 출력하고, 0을 리턴한다.<br>\n",
    "fibonacci(2)는 fibonacci(1)과 fibonacci(0)의 결과를 얻고, 1을 리턴한다.<br>\n",
    "첫 번째 호출한 fibonacci(1)은 1을 출력하고, 1을 리턴한다.<br>\n",
    "fibonacci(3)은 fibonacci(2)와 fibonacci(1)의 결과를 얻고, 2를 리턴한다.<br>\n",
    "1은 2번 출력되고, 0은 1번 출력된다. N이 주어졌을 때, fibonacci(N)을 호출했을 때, 0과 1이 각각 몇 번 출력되는지 구하는 프로그램을 작성하시오.<br>\n",
    "\n",
    "#### 입력\n",
    "첫째 줄에 테스트 케이스의 개수 T가 주어진다.\n",
    "\n",
    "각 테스트 케이스는 한 줄로 이루어져 있고, N이 주어진다. N은 40보다 작거나 같은 자연수 또는 0이다.\n",
    "\n",
    "#### 출력\n",
    "각 테스트 케이스마다 0이 출력되는 횟수와 1이 출력되는 횟수를 공백으로 구분해서 출력한다.\n",
    "\n",
    "#### 예제 입력 1 \n",
    "3<br>\n",
    "0<br>\n",
    "1<br>\n",
    "3<br>\n",
    "#### 예제 출력 1 \n",
    "1 0<br>\n",
    "0 1<br>\n",
    "1 2<br>\n",
    "#### 예제 입력 2 \n",
    "2<br>\n",
    "6<br>\n",
    "22<br>\n",
    "#### 예제 출력 2 \n",
    "5 8<br>\n",
    "10946 17711"
   ]
  },
  {
   "cell_type": "code",
   "execution_count": 44,
   "metadata": {
    "scrolled": true
   },
   "outputs": [
    {
     "name": "stdout",
     "output_type": "stream",
     "text": [
      "2\n",
      "6\n",
      "5 8\n",
      "22\n",
      "10946 17711\n"
     ]
    }
   ],
   "source": [
    "n = int(input())\n",
    "def fibo(x) :\n",
    "    if x == 0 :\n",
    "        z[x] += 1\n",
    "        return 0\n",
    "    if x == 1 :\n",
    "        o[x] += 1\n",
    "        return 1\n",
    "    return fibo(x-1) + fibo(x-2)\n",
    "for _ in range(n):\n",
    "    i = int(input())\n",
    "    o = [0] * (i+2)\n",
    "    z = [0] * (i+2)\n",
    "    fibo(i)\n",
    "    print(z[0],o[1])"
   ]
  },
  {
   "cell_type": "markdown",
   "metadata": {},
   "source": [
    "시간 초과가 떴다. 다른 풀이가 있는듯"
   ]
  },
  {
   "cell_type": "code",
   "execution_count": 67,
   "metadata": {
    "scrolled": true
   },
   "outputs": [
    {
     "name": "stdout",
     "output_type": "stream",
     "text": [
      "2\n",
      "6\n",
      "5 8\n",
      "22\n",
      "10946 17711\n"
     ]
    }
   ],
   "source": [
    "# 다른 사람 풀이\n",
    "cnt0 = [1, 0]\n",
    "cnt1 = [0, 1]\n",
    "\n",
    "for i in range(2, 41):\n",
    "    cnt0.append(cnt0[i-1]+cnt0[i-2]) # 0부터 시작할 때 0을 포함하는 값\n",
    "    cnt1.append(cnt1[i-1]+cnt1[i-2]) # 1부터 시작할 때 1을 포함하는 값\n",
    "    \n",
    "for _ in range(int(input())):\n",
    "    n = int(input())\n",
    "    print(cnt0[n], cnt1[n]) # 0일 때 피보나치 수와 1일 때 피보나치 수"
   ]
  },
  {
   "cell_type": "code",
   "execution_count": 66,
   "metadata": {},
   "outputs": [
    {
     "name": "stdout",
     "output_type": "stream",
     "text": [
      "[1, 0, 1, 1, 2, 3, 5, 8, 13, 21, 34, 55, 89, 144, 233, 377, 610, 987, 1597, 2584, 4181, 6765, 10946, 17711, 28657, 46368, 75025, 121393, 196418, 317811, 514229, 832040, 1346269, 2178309, 3524578, 5702887, 9227465, 14930352, 24157817, 39088169, 63245986] \n",
      "[0, 1, 1, 2, 3, 5, 8, 13, 21, 34, 55, 89, 144, 233, 377, 610, 987, 1597, 2584, 4181, 6765, 10946, 17711, 28657, 46368, 75025, 121393, 196418, 317811, 514229, 832040, 1346269, 2178309, 3524578, 5702887, 9227465, 14930352, 24157817, 39088169, 63245986, 102334155] "
     ]
    }
   ],
   "source": [
    "print(cnt0,end = ' ')\n",
    "print()\n",
    "print(cnt1,end = ' ')"
   ]
  },
  {
   "cell_type": "markdown",
   "metadata": {},
   "source": [
    "피보나치는 0으로 시작할 때는 1,0,1 + 피보나치,  1부터 시작할때는 0,1,1 + 피보나치의 규칙을 가진다.\n",
    "\n",
    "피보나치 규칙은 다음과 같다.\n",
    "***\n",
    "fibo(2) = fibo(1) + fibo(0) # 피보나치(2)일때 1을 호출 + 0을 호출\n",
    "\n",
    "fibo(3) = fibo(2) + fibo(1) # 피보나치(3)일때 피보나치(2)에서 1과 0을 호출한 횟수 + 1을 호출한 횟수\n",
    "***"
   ]
  },
  {
   "cell_type": "markdown",
   "metadata": {},
   "source": [
    "**9184. 신나는 함수 실행**\n",
    "\n",
    "재귀 호출만 생각하면 신이 난다! 아닌가요?\n",
    "\n",
    "다음과 같은 재귀함수 w(a, b, c)가 있다.\n",
    "\n",
    "~~~python\n",
    "if a <= 0 or b <= 0 or c <= 0, then w(a, b, c) returns:\n",
    "    1\n",
    "\n",
    "if a > 20 or b > 20 or c > 20, then w(a, b, c) returns:\n",
    "    w(20, 20, 20)\n",
    "\n",
    "if a < b and b < c, then w(a, b, c) returns:\n",
    "    w(a, b, c-1) + w(a, b-1, c-1) - w(a, b-1, c)\n",
    "\n",
    "otherwise it returns:\n",
    "    w(a-1, b, c) + w(a-1, b-1, c) + w(a-1, b, c-1) - w(a-1, b-1, c-1)\n",
    "~~~\n",
    "위의 함수를 구현하는 것은 매우 쉽다. 하지만, 그대로 구현하면 값을 구하는데 매우 오랜 시간이 걸린다. (예를 들면, a=15, b=15, c=15)\n",
    "\n",
    "a, b, c가 주어졌을 때, w(a, b, c)를 출력하는 프로그램을 작성하시오.\n",
    "\n",
    "#### 입력\n",
    "입력은 세 정수 a, b, c로 이루어져 있으며, 한 줄에 하나씩 주어진다. 입력의 마지막은 -1 -1 -1로 나타내며, 세 정수가 모두 -1인 경우는 입력의 마지막을 제외하면 없다.\n",
    "\n",
    "#### 출력\n",
    "입력으로 주어진 각각의 a, b, c에 대해서, w(a, b, c)를 출력한다.\n",
    "\n",
    "#### 제한\n",
    "-50 ≤ a, b, c ≤ 50\n",
    "\n",
    "#### 예제 입력 1 \n",
    "1 1 1<br>\n",
    "2 2 2<br>\n",
    "10 4 6<br>\n",
    "50 50 50<br>\n",
    "-1 7 18<br>\n",
    "-1 -1 -1<br>\n",
    "\n",
    "#### 예제 출력 1 \n",
    "w(1, 1, 1) = 2<br>\n",
    "w(2, 2, 2) = 4<br>\n",
    "w(10, 4, 6) = 523<br>\n",
    "w(50, 50, 50) = 1048576<br>\n",
    "w(-1, 7, 18) = 1<br>"
   ]
  },
  {
   "cell_type": "code",
   "execution_count": null,
   "metadata": {},
   "outputs": [],
   "source": []
  },
  {
   "cell_type": "code",
   "execution_count": null,
   "metadata": {},
   "outputs": [],
   "source": []
  },
  {
   "cell_type": "markdown",
   "metadata": {},
   "source": [
    "**1904. 타일**\n",
    "\n",
    "#### 문제\n",
    "지원이에게 2진 수열을 가르쳐 주기 위해, 지원이 아버지는 그에게 타일들을 선물해주셨다. 그리고 이 각각의 타일들은 0 또는 1이 쓰여 있는 낱장의 타일들이다.\n",
    "\n",
    "어느 날 짓궂은 동주가 지원이의 공부를 방해하기 위해 0이 쓰여진 낱장의 타일들을 붙여서 한 쌍으로 이루어진 00 타일들을 만들었다. 결국 현재 1 하나만으로 이루어진 타일 또는 0타일을 두 개 붙인 한 쌍의 00타일들만이 남게 되었다.\n",
    "\n",
    "그러므로 지원이는 타일로 더 이상 크기가 N인 모든 2진 수열을 만들 수 없게 되었다. 예를 들어, N=1일 때 1만 만들 수 있고, N=2일 때는 00, 11을 만들 수 있다. (01, 10은 만들 수 없게 되었다.) 또한 N=4일 때는 0011, 0000, 1001, 1100, 1111 등 총 5개의 2진 수열을 만들 수 있다.\n",
    "\n",
    "우리의 목표는 N이 주어졌을 때 지원이가 만들 수 있는 모든 가짓수를 세는 것이다. 단 타일들은 무한히 많은 것으로 가정하자.\n",
    "\n",
    "#### 입력\n",
    "첫 번째 줄에 자연수 N이 주어진다. (1 ≤ N ≤ 1,000,000)\n",
    "\n",
    "#### 출력\n",
    "첫 번째 줄에 지원이가 만들 수 있는 길이가 N인 모든 2진 수열의 개수를 15746으로 나눈 나머지를 출력한다.\n",
    "\n",
    "#### 예제 입력 1 \n",
    "4\n",
    "\n",
    "#### 예제 출력 1 \n",
    "5"
   ]
  },
  {
   "cell_type": "code",
   "execution_count": 79,
   "metadata": {},
   "outputs": [
    {
     "name": "stdout",
     "output_type": "stream",
     "text": [
      "4\n",
      "5\n"
     ]
    }
   ],
   "source": [
    "n = int(input()) \n",
    "d = [0] * 1000001 # 최대치까지 범위\n",
    "d[1] = 1 # 숫자 하나만 나올 개수는 1\n",
    "d[2] = 2 # 숫자 2자리를 표현할 방법은 2\n",
    "for i in range(3,n+1) : # 그다음부턴 \n",
    "    d[i] = (d[i-1] + d[i-2])%15746\n",
    "    \n",
    "print(d[n])"
   ]
  },
  {
   "cell_type": "code",
   "execution_count": null,
   "metadata": {},
   "outputs": [],
   "source": []
  },
  {
   "cell_type": "code",
   "execution_count": null,
   "metadata": {},
   "outputs": [],
   "source": []
  }
 ],
 "metadata": {
  "kernelspec": {
   "display_name": "Python 3 (ipykernel)",
   "language": "python",
   "name": "python3"
  },
  "language_info": {
   "codemirror_mode": {
    "name": "ipython",
    "version": 3
   },
   "file_extension": ".py",
   "mimetype": "text/x-python",
   "name": "python",
   "nbconvert_exporter": "python",
   "pygments_lexer": "ipython3",
   "version": "3.8.5"
  }
 },
 "nbformat": 4,
 "nbformat_minor": 4
}
