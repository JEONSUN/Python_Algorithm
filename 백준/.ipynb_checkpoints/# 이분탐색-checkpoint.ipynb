{
 "cells": [
  {
   "cell_type": "markdown",
   "metadata": {},
   "source": [
    "**1920. 수 찾기**\n",
    "\n",
    "#### 문제\n",
    "N개의 정수 A[1], A[2], …, A[N]이 주어져 있을 때, 이 안에 X라는 정수가 존재하는지 알아내는 프로그램을 작성하시오.\n",
    "\n",
    "#### 입력\n",
    "첫째 줄에 자연수 N(1 ≤ N ≤ 100,000)이 주어진다. 다음 줄에는 N개의 정수 A[1], A[2], …, A[N]이 주어진다. 다음 줄에는 M(1 ≤ M ≤ 100,000)이 주어진다. 다음 줄에는 M개의 수들이 주어지는데, 이 수들이 A안에 존재하는지 알아내면 된다. 모든 정수의 범위는 -231 보다 크거나 같고 231보다 작다.\n",
    "\n",
    "#### 출력\n",
    "M개의 줄에 답을 출력한다. 존재하면 1을, 존재하지 않으면 0을 출력한다.\n",
    "\n",
    "#### 예제 입력 1 \n",
    "5<br>\n",
    "4 1 5 2 3\n",
    "\n",
    "5<br>\n",
    "1 3 7 9 5\n",
    "#### 예제 출력 1 \n",
    "1<br>\n",
    "1<br>\n",
    "0<br>\n",
    "0<br>\n",
    "1<br>"
   ]
  },
  {
   "cell_type": "code",
   "execution_count": 43,
   "metadata": {},
   "outputs": [
    {
     "name": "stdout",
     "output_type": "stream",
     "text": [
      "5\n",
      "4 1 5 2 3\n",
      "5\n",
      "1 3 7 9 5\n",
      "1\n",
      "1\n",
      "0\n",
      "0\n",
      "1\n"
     ]
    }
   ],
   "source": [
    "# 이진 탐색 코드\n",
    "def binary(array,target,start,end) :\n",
    "    while start <= end :\n",
    "        mid = (start+end)//2\n",
    "        \n",
    "        if array[mid] == target :\n",
    "            return mid\n",
    "        elif array[mid] > target : \n",
    "            end = mid - 1\n",
    "        else :\n",
    "            start = mid + 1\n",
    "        \n",
    "    return None\n",
    "\n",
    "# \n",
    "n = int(input())\n",
    "n_list = list(map(int,input().split()))\n",
    "n_list.sort()\n",
    "\n",
    "m = int(input())\n",
    "m_list = list(map(int, input().split()))\n",
    "\n",
    "\n",
    "for i in range(len(m_list)) :\n",
    "    if binary(n_list,m_list[i],0,len(n_list) -1) == None :\n",
    "        print(0)\n",
    "    else : \n",
    "        print(1)"
   ]
  },
  {
   "cell_type": "markdown",
   "metadata": {},
   "source": [
    "이상한 곳에서 해맸다. n에 m이 속하는지 파악하는거 였는데 문제 의도를 이해못했다.\n",
    "\n",
    "코드 자체는 이진 탐색을 사용했다."
   ]
  },
  {
   "cell_type": "markdown",
   "metadata": {},
   "source": [
    "**10816. 숫자 카드 2**"
   ]
  },
  {
   "cell_type": "markdown",
   "metadata": {},
   "source": [
    "#### 문제\n",
    "숫자 카드는 정수 하나가 적혀져 있는 카드이다. 상근이는 숫자 카드 N개를 가지고 있다. 정수 M개가 주어졌을 때, 이 수가 적혀있는 숫자 카드를 상근이가 몇 개 가지고 있는지 구하는 프로그램을 작성하시오.\n",
    "\n",
    "#### 입력\n",
    "첫째 줄에 상근이가 가지고 있는 숫자 카드의 개수 N(1 ≤ N ≤ 500,000)이 주어진다. 둘째 줄에는 숫자 카드에 적혀있는 정수가 주어진다. 숫자 카드에 적혀있는 수는 -10,000,000보다 크거나 같고, 10,000,000보다 작거나 같다.\n",
    "\n",
    "셋째 줄에는 M(1 ≤ M ≤ 500,000)이 주어진다. 넷째 줄에는 상근이가 몇 개 가지고 있는 숫자 카드인지 구해야 할 M개의 정수가 주어지며, 이 수는 공백으로 구분되어져 있다. 이 수도 -10,000,000보다 크거나 같고, 10,000,000보다 작거나 같다.\n",
    "\n",
    "#### 출력\n",
    "첫째 줄에 입력으로 주어진 M개의 수에 대해서, 각 수가 적힌 숫자 카드를 상근이가 몇 개 가지고 있는지를 공백으로 구분해 출력한다.\n",
    "\n",
    "#### 예제 입력 1 \n",
    "10<br>\n",
    "6 3 2 10 10 10 -10 -10 7 3<br>\n",
    "8<br>\n",
    "10 9 -5 2 3 4 5 -10<br>\n",
    "#### 예제 출력 1 \n",
    "3 0 0 1 2 0 0 2<br>"
   ]
  },
  {
   "cell_type": "code",
   "execution_count": 75,
   "metadata": {},
   "outputs": [
    {
     "name": "stdout",
     "output_type": "stream",
     "text": [
      "10\n",
      "6 3 2 10 10 10 -10 -10 7 3\n",
      "8\n",
      "10 9 -5 2 3 4 5 -10\n"
     ]
    }
   ],
   "source": [
    "n = int(input())\n",
    "n_list = list(map(int,input().split()))\n",
    "m = int(input())\n",
    "m_list = list(map(int,input().split()))"
   ]
  },
  {
   "cell_type": "code",
   "execution_count": 76,
   "metadata": {},
   "outputs": [],
   "source": [
    "sort_list = sorted(m_list)"
   ]
  },
  {
   "cell_type": "code",
   "execution_count": 44,
   "metadata": {},
   "outputs": [],
   "source": [
    "def binary(array,target,start,end) :\n",
    "    while start <= end : \n",
    "        mid = (start + end)//2\n",
    "        \n",
    "        if array[mid] == target :\n",
    "            return mid\n",
    "        \n",
    "        elif array[mid] > target :\n",
    "            end = mid - 1\n",
    "        else :\n",
    "            start = mid + 1\n",
    "    return None"
   ]
  },
  {
   "cell_type": "code",
   "execution_count": 91,
   "metadata": {
    "scrolled": true
   },
   "outputs": [
    {
     "name": "stdout",
     "output_type": "stream",
     "text": [
      "None 6\n",
      "3 3\n",
      "2 2\n",
      "7 10\n",
      "7 10\n",
      "7 10\n",
      "0 -10\n",
      "0 -10\n",
      "None 7\n",
      "3 3\n"
     ]
    }
   ],
   "source": [
    "answer = []\n",
    "for i in range(len(n_list)) :\n",
    "    result = binary(sort_list,n_list[i],0,len(sort_list)-1)\n",
    "    print(result,n_list[i])\n",
    "    if result == None :\n",
    "        pass\n",
    "    else :\n",
    "        m_list[i]"
   ]
  },
  {
   "cell_type": "code",
   "execution_count": 94,
   "metadata": {},
   "outputs": [],
   "source": [
    "for i in range(len(m_list)) :\n",
    "    if m_list[i] in answer :\n",
    "        m_list[i] = answer.count(m_list[i])\n",
    "    else :\n",
    "        m_list[i] = 0"
   ]
  },
  {
   "cell_type": "code",
   "execution_count": 96,
   "metadata": {},
   "outputs": [
    {
     "data": {
      "text/plain": [
       "[3, 0, 0, 1, 2, 0, 0, 2]"
      ]
     },
     "execution_count": 96,
     "metadata": {},
     "output_type": "execute_result"
    }
   ],
   "source": [
    "m_list"
   ]
  }
 ],
 "metadata": {
  "kernelspec": {
   "display_name": "Python 3 (ipykernel)",
   "language": "python",
   "name": "python3"
  },
  "language_info": {
   "codemirror_mode": {
    "name": "ipython",
    "version": 3
   },
   "file_extension": ".py",
   "mimetype": "text/x-python",
   "name": "python",
   "nbconvert_exporter": "python",
   "pygments_lexer": "ipython3",
   "version": "3.8.5"
  }
 },
 "nbformat": 4,
 "nbformat_minor": 4
}
