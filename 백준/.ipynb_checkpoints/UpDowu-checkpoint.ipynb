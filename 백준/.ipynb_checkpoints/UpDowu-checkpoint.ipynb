{
 "cells": [
  {
   "cell_type": "code",
   "execution_count": null,
   "metadata": {},
   "outputs": [],
   "source": [
    "import random\n",
    "\n",
    "def solution() :\n",
    "    result = random.randint(1,100)\n",
    "    d_list = []\n",
    "    \n",
    "    while 1 :\n",
    "        try :\n",
    "            print(\"-\" * 50)\n",
    "\n",
    "            x = int(input(\"숫자를 입력하시오 : \"))\n",
    "            print(f'입력 값 : {x}')\n",
    "            if x < 100 :\n",
    "                if result > x :\n",
    "                    print(\"Up\")\n",
    "        \n",
    "                elif result < x : \n",
    "                    print(\"Down\")\n",
    "            \n",
    "                elif result == x :\n",
    "                    print(f\"정답입니다 : {result}\")\n",
    "                    break\n",
    "            \n",
    "        \n",
    "            else :\n",
    "                print(\"범위를 벗어났습니다.\")\n",
    "            \n",
    "            if x in d_list :\n",
    "                print(\"이미 눌렀습니다.\")\n",
    "            else :\n",
    "                d_list.append(x)\n",
    "            \n",
    "        except ValueError:\n",
    "            print(\"어허 다시입력하세요\")"
   ]
  }
 ],
 "metadata": {
  "kernelspec": {
   "display_name": "Python 3 (ipykernel)",
   "language": "python",
   "name": "python3"
  },
  "language_info": {
   "codemirror_mode": {
    "name": "ipython",
    "version": 3
   },
   "file_extension": ".py",
   "mimetype": "text/x-python",
   "name": "python",
   "nbconvert_exporter": "python",
   "pygments_lexer": "ipython3",
   "version": "3.8.5"
  }
 },
 "nbformat": 4,
 "nbformat_minor": 4
}
