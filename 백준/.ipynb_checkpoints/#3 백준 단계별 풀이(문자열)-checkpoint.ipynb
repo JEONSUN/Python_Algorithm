{
 "cells": [
  {
   "cell_type": "markdown",
   "metadata": {},
   "source": [
    "# 문자열"
   ]
  },
  {
   "cell_type": "markdown",
   "metadata": {},
   "source": [
    "**11654. 아스키 코드**\n",
    "\n",
    "\n",
    "알파벳 소문자, 대문자, 숫자 0-9중 하나가 주어졌을 때, 주어진 글자의 아스키 코드값을 출력하는 프로그램을 작성하시오.\n",
    "\n",
    "알파벳 소문자, 대문자, 숫자 0-9 중 하나가 첫째 줄에 주어진다.\n",
    "\n",
    "입력으로 주어진 글자의 아스키 코드 값을 출력한다.\n",
    "\n",
    "~~~python\n",
    "# 입력 예제\n",
    "A\n",
    "# 출력 예제\n",
    "65\n",
    "~~~"
   ]
  },
  {
   "cell_type": "code",
   "execution_count": 1,
   "metadata": {},
   "outputs": [
    {
     "name": "stdout",
     "output_type": "stream",
     "text": [
      "A\n",
      "65\n"
     ]
    }
   ],
   "source": [
    "# 아스키코드로 변환할 문자 입력\n",
    "asc = input()\n",
    "\n",
    "# ord를 사용하면 아스키 코드로 변환해준다.\n",
    "print(ord(asc))"
   ]
  },
  {
   "cell_type": "markdown",
   "metadata": {},
   "source": [
    "**11720. 숫자의 합**\n",
    "\n",
    "N개의 숫자가 공백 없이 쓰여있다. 이 숫자를 모두 합해서 출력하는 프로그램을 작성하시오.\n",
    "\n",
    "첫째 줄에 숫자의 개수 N (1 ≤ N ≤ 100)이 주어진다. 둘째 줄에 숫자 N개가 공백없이 주어진다.\n",
    "\n",
    "입력으로 주어진 숫자 N개의 합을 출력한다.\n"
   ]
  },
  {
   "cell_type": "code",
   "execution_count": 15,
   "metadata": {},
   "outputs": [],
   "source": [
    "def solution() :\n",
    "    n = int(input()) # 숫자 자릿수 입력\n",
    "    nums = input() # 숫자 입력\n",
    "    result = 0\n",
    "    \n",
    "    for i in range(n) : # 자릿수로 반복돌리며\n",
    "        result = result + int(nums[i]) # 숫자 자릿수마다 +\n",
    "    \n",
    "    return result"
   ]
  },
  {
   "cell_type": "code",
   "execution_count": 16,
   "metadata": {},
   "outputs": [
    {
     "name": "stdout",
     "output_type": "stream",
     "text": [
      "25\n",
      "7000000000000000000000000\n"
     ]
    },
    {
     "data": {
      "text/plain": [
       "7"
      ]
     },
     "execution_count": 16,
     "metadata": {},
     "output_type": "execute_result"
    }
   ],
   "source": [
    "solution()"
   ]
  },
  {
   "cell_type": "markdown",
   "metadata": {},
   "source": [
    "**11809. 알파벳 찾기**\n",
    "\n",
    "알파벳 소문자로만 이루어진 단어 S가 주어진다. 각각의 알파벳에 대해서, 단어에 포함되어 있는 경우에는 처음 등장하는 위치를, 포함되어 있지 않은 경우에는 -1을 출력하는 프로그램을 작성하시오.\n",
    "\n",
    "#### 입력\n",
    "\n",
    "첫째 줄에 단어 S가 주어진다. 단어의 길이는 100을 넘지 않으며, 알파벳 소문자로만 이루어져 있다.\n",
    "\n",
    "\n",
    "#### 출력\n",
    "\n",
    "각각의 알파벳에 대해서, a가 처음 등장하는 위치, b가 처음 등장하는 위치, ... z가 처음 등장하는 위치를 공백으로 구분해서 출력한다.\n",
    "\n",
    "만약, 어떤 알파벳이 단어에 포함되어 있지 않다면 -1을 출력한다. 단어의 첫 번째 글자는 0번째 위치이고, 두 번째 글자는 1번째 위치이다.\n",
    "\n",
    "#### 예제입력\n",
    "baekjoon\n",
    "\n",
    "#### 출력\n",
    "1 0 -1 -1 2 -1 -1 -1 -1 4 3 -1 -1 7 5 -1 -1 -1 -1 -1 -1 -1 -1 -1 -1 -1\n"
   ]
  },
  {
   "cell_type": "code",
   "execution_count": 69,
   "metadata": {},
   "outputs": [
    {
     "name": "stdout",
     "output_type": "stream",
     "text": [
      "1 0 -1 -1 2 -1 -1 -1 -1 4 3 -1 -1 7 5 -1 -1 -1 -1 -1 -1 -1 -1 -1 -1 -1\n"
     ]
    }
   ],
   "source": [
    "strings = input()\n",
    "str_list = []\n",
    "\n",
    "# 아스키코드로 변환한 A - Z를 반복문\n",
    "for i in range(ord('z') - ord('a')+1) :\n",
    "    if chr(i+97) in strings : # 알파벳이 string에 들어가면\n",
    "        str_list.append(str(strings.find(chr(i+97)))) # 리스트에 자릿값 입력\n",
    "        \n",
    "    else :\n",
    "        str_list.append(str(-1)) # 없으면 -1\n",
    "        \n",
    "print(' '.join(str_list))"
   ]
  },
  {
   "cell_type": "markdown",
   "metadata": {},
   "source": [
    "**2675. 문자열 반복**\n",
    "\n",
    "문자열 S를 입력받은 후에, 각 문자를 R번 반복해 새 문자열 P를 만든 후 출력하는 프로그램을 작성하시오. 즉, 첫 번째 문자를 R번 반복하고, 두 번째 문자를 R번 반복하는 식으로 P를 만들면 된다. S에는 QR Code \"alphanumeric\" 문자만 들어있다.\n",
    "\n",
    "QR Code \"alphanumeric\" 문자는 0123456789ABCDEFGHIJKLMNOPQRSTUVWXYZ\\$\\%*+-./:\\ 이다.\n",
    "\n",
    "***\n",
    "**입력**\n",
    "\n",
    "첫째 줄에 테스트 케이스의 개수 T(1 ≤ T ≤ 1,000)가 주어진다. 각 테스트 케이스는 반복 횟수 R(1 ≤ R ≤ 8), 문자열 S가 공백으로 구분되어 주어진다. S의 길이는 적어도 1이며, 20글자를 넘지 않는다. \n",
    "\n",
    "***\n",
    "**출력**\n",
    "\n",
    "각 테스트 케이스에 대해 P를 출력한다.\n",
    "\n",
    "\n",
    "**입력예제**\n",
    "\n",
    "3 ABC\n",
    "\n",
    "5 /HTP\n",
    "\n",
    "**출력예제**\n",
    "\n",
    "AAABBBCCC\n",
    "\n",
    "/////HHHHHTTTTTPPPPP"
   ]
  },
  {
   "cell_type": "code",
   "execution_count": 97,
   "metadata": {},
   "outputs": [
    {
     "name": "stdout",
     "output_type": "stream",
     "text": [
      "2\n",
      "3 ABC\n",
      "AAABBBCCC\n",
      "5 /HTP\n",
      "/////HHHHHTTTTTPPPPP\n"
     ]
    }
   ],
   "source": [
    "n = int(input()) # 전체 케이스 반복 \n",
    "\n",
    "for _ in range(n): # 2번을 반복하여 입력\n",
    "    cnt, word = input().split() # 반복할 횟수, 문자열 분리\n",
    "    \n",
    "    for x in word: # cnt만큼 덧붙이는데\n",
    "        print(x*int(cnt), end='')  # end='' 로 옆으로 붙임\n",
    "    print()  # 줄넘김"
   ]
  },
  {
   "cell_type": "markdown",
   "metadata": {},
   "source": [
    "**1157. 단어 공부**\n",
    "\n",
    "알파벳 대소문자로 된 단어가 주어지면, 이 단어에서 가장 많이 사용된 알파벳이 무엇인지 알아내는 프로그램을 작성하시오. 단, 대문자와 소문자를 구분하지 않는다.\n",
    "\n",
    "#### 입력\n",
    "첫째 줄에 알파벳 대소문자로 이루어진 단어가 주어진다. 주어지는 단어의 길이는 1,000,000을 넘지 않는다.\n",
    "\n",
    "#### 출력\n",
    "첫째 줄에 이 단어에서 가장 많이 사용된 알파벳을 대문자로 출력한다. 단, 가장 많이 사용된 알파벳이 여러 개 존재하는 경우에는 ?를 출력한다.\n",
    "\n",
    "#### 입력예제\n",
    "Mississipi\n",
    "\n",
    "zZa\n",
    "#### 출력예제\n",
    "?\n",
    "\n",
    "z"
   ]
  },
  {
   "cell_type": "code",
   "execution_count": 142,
   "metadata": {},
   "outputs": [
    {
     "name": "stdout",
     "output_type": "stream",
     "text": [
      "zZa\n",
      "Z\n"
     ]
    }
   ],
   "source": [
    "strings = input() # 문자열 입력\n",
    "\n",
    "strings = strings.upper() # 모두 대문자로\n",
    "\n",
    "dics = {} # 빈사전 추가\n",
    "for i in strings : # 문자열 반복돌리는데\n",
    "    dics[i] = dics.get(i,0) + 1 # 문자열마다 빈도 +1 추가\n",
    "\n",
    "cnt = 0 # \n",
    "for k,v in dics.items() : # 등록된 키와 값을 반복 돌리면서\n",
    "    if v == max(dics.values()) : # 값이 최대인 키 찾기\n",
    "        result = k\n",
    "        cnt += 1 # 최댓값이 등록될 떄마다 + 1\n",
    "if cnt > 1 :  # 최대값이 1개 이상이면 ? 출력\n",
    "    print('?')\n",
    "else :\n",
    "    print(result)"
   ]
  },
  {
   "cell_type": "markdown",
   "metadata": {},
   "source": [
    "**1152. 단어의 개수**\n",
    "\n",
    "\n",
    "영어 대소문자와 공백으로 이루어진 문자열이 주어진다. 이 문자열에는 몇 개의 단어가 있을까? 이를 구하는 프로그램을 작성하시오. 단, 한 단어가 여러 번 등장하면 등장한 횟수만큼 모두 세어야 한다.\n",
    "\n",
    "#### 입력\n",
    "\n",
    "첫 줄에 영어 대소문자와 공백으로 이루어진 문자열이 주어진다. 이 문자열의 길이는 1,000,000을 넘지 않는다. 단어는 공백 한 개로 구분되며, 공백이 연속해서 나오는 경우는 없다. 또한 문자열은 공백으로 시작하거나 끝날 수 있다.\n",
    "\n",
    "#### 출력\n",
    "첫째 줄에 단어의 개수를 출력한다.\n",
    "\n",
    "#### 입력 예제\n",
    "\n",
    "The Curious Case of Benjamin Button\n",
    "\n",
    "#### 출력 예제\n",
    "6"
   ]
  },
  {
   "cell_type": "code",
   "execution_count": 161,
   "metadata": {},
   "outputs": [
    {
     "name": "stdout",
     "output_type": "stream",
     "text": [
      " a a a a a a aa a aa\n"
     ]
    },
    {
     "data": {
      "text/plain": [
       "9"
      ]
     },
     "execution_count": 161,
     "metadata": {},
     "output_type": "execute_result"
    }
   ],
   "source": [
    "sentences = input()\n",
    "sentences.lstrip()\n",
    "\n",
    "len(sentences.split())"
   ]
  },
  {
   "cell_type": "markdown",
   "metadata": {},
   "source": [
    "**2908. 상수**"
   ]
  },
  {
   "cell_type": "markdown",
   "metadata": {},
   "source": [
    "상근이의 동생 상수는 수학을 정말 못한다. 상수는 숫자를 읽는데 문제가 있다. 이렇게 수학을 못하는 상수를 위해서 상근이는 수의 크기를 비교하는 문제를 내주었다. 상근이는 세 자리 수 두 개를 칠판에 써주었다. 그 다음에 크기가 큰 수를 말해보라고 했다.\n",
    "\n",
    "상수는 수를 다른 사람과 다르게 거꾸로 읽는다. 예를 들어, 734와 893을 칠판에 적었다면, 상수는 이 수를 437과 398로 읽는다. 따라서, 상수는 두 수중 큰 수인 437을 큰 수라고 말할 것이다.\n",
    "\n",
    "두 수가 주어졌을 때, 상수의 대답을 출력하는 프로그램을 작성하시오.\n",
    "\n",
    "\n",
    "#### 입력\n",
    "첫째 줄에 상근이가 칠판에 적은 두 수 A와 B가 주어진다. 두 수는 같지 않은 세 자리 수이며, 0이 포함되어 있지 않다.\n",
    "\n",
    "#### 출력\n",
    "첫째 줄에 상수의 대답을 출력한다.\n",
    "\n",
    "#### 예제 입력 1 \n",
    "734 893\n",
    "\n",
    "#### 예제 출력 1 \n",
    "437\n"
   ]
  },
  {
   "cell_type": "code",
   "execution_count": 166,
   "metadata": {},
   "outputs": [
    {
     "data": {
      "text/plain": [
       "'437'"
      ]
     },
     "execution_count": 166,
     "metadata": {},
     "output_type": "execute_result"
    }
   ],
   "source": [
    "\"734\"[::-1]"
   ]
  },
  {
   "cell_type": "code",
   "execution_count": 167,
   "metadata": {},
   "outputs": [
    {
     "name": "stdout",
     "output_type": "stream",
     "text": [
      "734 893\n",
      "437\n"
     ]
    }
   ],
   "source": [
    "num1, num2 = input().split()\n",
    "\n",
    "if int(num1[::-1]) > int(num2[::-1]) :\n",
    "    print(int(num1[::-1]))\n",
    "else :\n",
    "    print(int(num2[::-1]))"
   ]
  },
  {
   "cell_type": "markdown",
   "metadata": {},
   "source": [
    "**5622. 다이얼**\n",
    "\n",
    "상근이의 할머니는 아래 그림과 같이 오래된 다이얼 전화기를 사용한다.\n",
    "\n",
    "전화를 걸고 싶은 번호가 있다면, 숫자를 하나를 누른 다음에 금속 핀이 있는 곳 까지 시계방향으로 돌려야 한다. 숫자를 하나 누르면 다이얼이 처음 위치로 돌아가고, 다음 숫자를 누르려면 다이얼을 처음 위치에서 다시 돌려야 한다.\n",
    "\n",
    "숫자 1을 걸려면 총 2초가 필요하다. 1보다 큰 수를 거는데 걸리는 시간은 이보다 더 걸리며, 한 칸 옆에 있는 숫자를 걸기 위해선 1초씩 더 걸린다.\n",
    "\n",
    "상근이의 할머니는 전화 번호를 각 숫자에 해당하는 문자로 외운다. 즉, 어떤 단어를 걸 때, 각 알파벳에 해당하는 숫자를 걸면 된다. 예를 들어, UNUCIC는 868242와 같다.\n",
    "\n",
    "할머니가 외운 단어가 주어졌을 때, 이 전화를 걸기 위해서 필요한 최소 시간을 구하는 프로그램을 작성하시오.\n",
    "\n",
    "#### 입력\n",
    "첫째 줄에 알파벳 대문자로 이루어진 단어가 주어진다. 단어의 길이는 2보다 크거나 같고, 15보다 작거나 같다.\n",
    "\n",
    "#### 출력\n",
    "첫째 줄에 다이얼을 걸기 위해서 필요한 최소 시간을 출력한다.\n",
    "\n",
    "#### 예제 입력 1 \n",
    "WA\n",
    "\n",
    "#### 예제 출력 1 \n",
    "13"
   ]
  },
  {
   "cell_type": "code",
   "execution_count": 202,
   "metadata": {},
   "outputs": [
    {
     "name": "stdout",
     "output_type": "stream",
     "text": [
      "WA\n",
      "13\n"
     ]
    }
   ],
   "source": [
    "# 다이얼 입력\n",
    "n = input()\n",
    "\n",
    "# 해당하는 다이얼의 초를 계산한다.\n",
    "result = 0\n",
    "for i in n :\n",
    "    if ord(i) in range(ord(\"A\"),ord(\"C\")+1) :\n",
    "        result += 3\n",
    "    elif ord(i) in range(ord(\"D\"),ord(\"F\")+1) :\n",
    "        result += 4\n",
    "    elif ord(i) in range(ord(\"G\"),ord(\"I\")+1) :\n",
    "        result += 5\n",
    "    elif ord(i) in range(ord(\"J\"),ord(\"L\")+1) :\n",
    "        result += 6\n",
    "    elif ord(i) in range(ord(\"M\"),ord(\"O\")+1) :\n",
    "        result += 7\n",
    "    elif ord(i) in range(ord(\"P\"),ord(\"S\")+1) :\n",
    "        result += 8\n",
    "    elif ord(i) in range(ord(\"T\"),ord(\"V\")+1) :\n",
    "        result += 9\n",
    "    elif ord(i) in range(ord(\"W\"),ord(\"Z\")+1) :\n",
    "        result += 10\n",
    "    else :\n",
    "        result += 11\n",
    "print(result)"
   ]
  },
  {
   "cell_type": "markdown",
   "metadata": {},
   "source": [
    "**2941. 크로아티아 알파벳**\n",
    "\n",
    "예전에는 운영체제에서 크로아티아 알파벳을 입력할 수가 없었다. 따라서, 다음과 같이 크로아티아 알파벳을 변경해서 입력했다.\n",
    "***\n",
    "|알파벳|\t변경|\n",
    "|---|---|\n",
    "|č\t|c=|\n",
    "|ć\t|c-|\n",
    "|dž\t|dz=|\n",
    "|đ|\td-|\n",
    "|lj\t|lj|\n",
    "|nj|nj|\n",
    "|š\t|s=|\n",
    "|ž\t|z=|\n",
    "\n",
    "***\n",
    "예를 들어, ljes=njak은 크로아티아 알파벳 6개(lj, e, š, nj, a, k)로 이루어져 있다. 단어가 주어졌을 때, 몇 개의 크로아티아 알파벳으로 이루어져 있는지 출력한다.\n",
    "\n",
    "dž는 무조건 하나의 알파벳으로 쓰이고, d와 ž가 분리된 것으로 보지 않는다. lj와 nj도 마찬가지이다. 위 목록에 없는 알파벳은 한 글자씩 센다.\n",
    "\n",
    "#### 입력\n",
    "첫째 줄에 최대 100글자의 단어가 주어진다. 알파벳 소문자와 '-', '='로만 이루어져 있다.\n",
    "\n",
    "단어는 크로아티아 알파벳으로 이루어져 있다. 문제 설명의 표에 나와있는 알파벳은 변경된 형태로 입력된다.\n",
    "\n",
    "#### 출력\n",
    "입력으로 주어진 단어가 몇 개의 크로아티아 알파벳으로 이루어져 있는지 출력한다.\n",
    "\n",
    "#### 예제 입력 1 \n",
    "ljes=njak\n",
    "\n",
    "ddz=z=\n",
    "\n",
    "nljj\n",
    "#### 예제 출력 1 \n",
    "6\n",
    "\n",
    "3\n",
    "\n",
    "3"
   ]
  },
  {
   "cell_type": "code",
   "execution_count": 254,
   "metadata": {},
   "outputs": [
    {
     "name": "stdout",
     "output_type": "stream",
     "text": [
      "nljj\n",
      "3\n"
     ]
    }
   ],
   "source": [
    "strings = input()\n",
    "\n",
    "cro = [\"č\",\"v\",\"dž\",\"đ\",\"lj\",\"nj\",\"š\",\"ž\"]\n",
    "changer = [\"c=\",\"c-\",\"dz=\",\"d-\",\"lj\",\"nj\",\"s=\",\"z=\"]\n",
    "\n",
    "cnt = 0\n",
    "for i in range(len(cro)):\n",
    "    if changer[i] in strings :\n",
    "        cnt = cnt + strings.count(changer[i])\n",
    "        strings = strings.replace(changer[i],\"\")\n",
    "        \n",
    "        if strings == \"\" :\n",
    "            cnt += 1\n",
    "    else :\n",
    "        pass\n",
    "\n",
    "print(len(strings) + cnt)"
   ]
  },
  {
   "cell_type": "markdown",
   "metadata": {},
   "source": [
    "**1316. 그룹 단어 체커** (다른 사람들 풀이 봤음)\n",
    "\n",
    "그룹 단어란 단어에 존재하는 모든 문자에 대해서, 각 문자가 연속해서 나타나는 경우만을 말한다. 예를 들면, ccazzzzbb는 c, a, z, b가 모두 연속해서 나타나고, kin도 k, i, n이 연속해서 나타나기 때문에 그룹 단어이지만, aabbbccb는 b가 떨어져서 나타나기 때문에 그룹 단어가 아니다.\n",
    "\n",
    "단어 N개를 입력으로 받아 그룹 단어의 개수를 출력하는 프로그램을 작성하시오.\n",
    "\n",
    "#### 입력\n",
    "첫째 줄에 단어의 개수 N이 들어온다. N은 100보다 작거나 같은 자연수이다. 둘째 줄부터 N개의 줄에 단어가 들어온다. 단어는 알파벳 소문자로만 되어있고 중복되지 않으며, 길이는 최대 100이다.\n",
    "\n",
    "#### 출력\n",
    "첫째 줄에 그룹 단어의 개수를 출력한다.\n",
    "\n",
    "#### 예제 입력 1 \n",
    "3\n",
    "happy\n",
    "new\n",
    "year\n",
    "#### 예제 출력 1 \n",
    "3"
   ]
  },
  {
   "cell_type": "code",
   "execution_count": 73,
   "metadata": {},
   "outputs": [
    {
     "name": "stdout",
     "output_type": "stream",
     "text": [
      "3\n",
      "happy\n",
      "appy\n",
      "ppy\n",
      "y\n",
      "dzdz\n",
      "zdz\n",
      "dz\n",
      "z\n",
      "new\n",
      "ew\n",
      "w\n",
      "2\n"
     ]
    }
   ],
   "source": [
    "n = int(input())\n",
    "\n",
    "group_word = 0\n",
    "for _ in range(n):\n",
    "    word = input()\n",
    "    error = 0\n",
    "    for index in range(len(word)-1):  # 인덱스 범위 생성 : 0부터 단어개수 -1까지 \n",
    "        if word[index] != word[index+1]:  # 연달은 두 문자가 다른 때,\n",
    "            new_word = word[index+1:] # 현재글자 이후 문자열을 새로운 단어로 생성\n",
    "            print(new_word)\n",
    "            if new_word.count(word[index]) > 0:  # 남은 문자열에서 현재글자가 있있다면\n",
    "                error += 1  # error에 1씩 증가.\n",
    "    if error == 0:  \n",
    "        group_word += 1  # error가 0이면 그룹단어\n",
    "print(group_word)"
   ]
  }
 ],
 "metadata": {
  "kernelspec": {
   "display_name": "Python 3 (ipykernel)",
   "language": "python",
   "name": "python3"
  },
  "language_info": {
   "codemirror_mode": {
    "name": "ipython",
    "version": 3
   },
   "file_extension": ".py",
   "mimetype": "text/x-python",
   "name": "python",
   "nbconvert_exporter": "python",
   "pygments_lexer": "ipython3",
   "version": "3.8.5"
  }
 },
 "nbformat": 4,
 "nbformat_minor": 4
}
