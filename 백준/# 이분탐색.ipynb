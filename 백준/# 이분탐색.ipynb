{
 "cells": [
  {
   "cell_type": "markdown",
   "metadata": {},
   "source": [
    "**1920. 수 찾기**\n",
    "\n",
    "#### 문제\n",
    "N개의 정수 A[1], A[2], …, A[N]이 주어져 있을 때, 이 안에 X라는 정수가 존재하는지 알아내는 프로그램을 작성하시오.\n",
    "\n",
    "#### 입력\n",
    "첫째 줄에 자연수 N(1 ≤ N ≤ 100,000)이 주어진다. 다음 줄에는 N개의 정수 A[1], A[2], …, A[N]이 주어진다. 다음 줄에는 M(1 ≤ M ≤ 100,000)이 주어진다. 다음 줄에는 M개의 수들이 주어지는데, 이 수들이 A안에 존재하는지 알아내면 된다. 모든 정수의 범위는 -231 보다 크거나 같고 231보다 작다.\n",
    "\n",
    "#### 출력\n",
    "M개의 줄에 답을 출력한다. 존재하면 1을, 존재하지 않으면 0을 출력한다.\n",
    "\n",
    "#### 예제 입력 1 \n",
    "5<br>\n",
    "4 1 5 2 3\n",
    "\n",
    "5<br>\n",
    "1 3 7 9 5\n",
    "#### 예제 출력 1 \n",
    "1<br>\n",
    "1<br>\n",
    "0<br>\n",
    "0<br>\n",
    "1<br>"
   ]
  },
  {
   "cell_type": "code",
   "execution_count": 43,
   "metadata": {},
   "outputs": [
    {
     "name": "stdout",
     "output_type": "stream",
     "text": [
      "5\n",
      "4 1 5 2 3\n",
      "5\n",
      "1 3 7 9 5\n",
      "1\n",
      "1\n",
      "0\n",
      "0\n",
      "1\n"
     ]
    }
   ],
   "source": [
    "# 이진 탐색 코드\n",
    "def binary(array,target,start,end) :\n",
    "    while start <= end :\n",
    "        mid = (start+end)//2\n",
    "        \n",
    "        if array[mid] == target :\n",
    "            return mid\n",
    "        elif array[mid] > target : \n",
    "            end = mid - 1\n",
    "        else :\n",
    "            start = mid + 1\n",
    "        \n",
    "    return None\n",
    "\n",
    "# 입력\n",
    "n = int(input())\n",
    "n_list = list(map(int,input().split()))\n",
    "n_list.sort()\n",
    "\n",
    "m = int(input())\n",
    "m_list = list(map(int, input().split()))\n",
    "\n",
    "# m_list를 반복돌리면서 n_list에 m_list가 None이면 0, 아니면 1출력\n",
    "for i in range(len(m_list)) :\n",
    "    if binary(n_list,m_list[i],0,len(n_list) -1) == None :\n",
    "        print(0)\n",
    "    else : \n",
    "        print(1)"
   ]
  },
  {
   "cell_type": "markdown",
   "metadata": {},
   "source": [
    "이상한 곳에서 해맸다. n에 m이 속하는지 파악하는거 였는데 문제 의도를 이해못했다.\n",
    "\n",
    "코드 자체는 이진 탐색을 사용했다."
   ]
  },
  {
   "cell_type": "markdown",
   "metadata": {},
   "source": [
    "**10816. 숫자 카드 2**"
   ]
  },
  {
   "cell_type": "markdown",
   "metadata": {},
   "source": [
    "#### 문제\n",
    "숫자 카드는 정수 하나가 적혀져 있는 카드이다. 상근이는 숫자 카드 N개를 가지고 있다. 정수 M개가 주어졌을 때, 이 수가 적혀있는 숫자 카드를 상근이가 몇 개 가지고 있는지 구하는 프로그램을 작성하시오.\n",
    "\n",
    "#### 입력\n",
    "첫째 줄에 상근이가 가지고 있는 숫자 카드의 개수 N(1 ≤ N ≤ 500,000)이 주어진다. 둘째 줄에는 숫자 카드에 적혀있는 정수가 주어진다. 숫자 카드에 적혀있는 수는 -10,000,000보다 크거나 같고, 10,000,000보다 작거나 같다.\n",
    "\n",
    "셋째 줄에는 M(1 ≤ M ≤ 500,000)이 주어진다. 넷째 줄에는 상근이가 몇 개 가지고 있는 숫자 카드인지 구해야 할 M개의 정수가 주어지며, 이 수는 공백으로 구분되어져 있다. 이 수도 -10,000,000보다 크거나 같고, 10,000,000보다 작거나 같다.\n",
    "\n",
    "#### 출력\n",
    "첫째 줄에 입력으로 주어진 M개의 수에 대해서, 각 수가 적힌 숫자 카드를 상근이가 몇 개 가지고 있는지를 공백으로 구분해 출력한다.\n",
    "\n",
    "#### 예제 입력 1 \n",
    "10<br>\n",
    "6 3 2 10 10 10 -10 -10 7 3<br>\n",
    "8<br>\n",
    "10 9 -5 2 3 4 5 -10<br>\n",
    "#### 예제 출력 1 \n",
    "3 0 0 1 2 0 0 2<br>"
   ]
  },
  {
   "cell_type": "code",
   "execution_count": 111,
   "metadata": {},
   "outputs": [
    {
     "name": "stdout",
     "output_type": "stream",
     "text": [
      "10\n",
      "6 3 2 10 10 10 -10 -10 7 3\n",
      "8\n",
      "10 9 -5 2 3 4 5 -10\n"
     ]
    }
   ],
   "source": [
    "n = int(input())\n",
    "n_list = list(map(int,input().split()))\n",
    "m = int(input())\n",
    "m_list = list(map(int,input().split()))"
   ]
  },
  {
   "cell_type": "code",
   "execution_count": 120,
   "metadata": {},
   "outputs": [],
   "source": [
    "def binary(array,target,start,end) :\n",
    "    while (start <= end) :\n",
    "        mid = (start + end)//2\n",
    "        \n",
    "        if array[mid] == target :\n",
    "            return array[mid]\n",
    "        elif array[mid] > target :\n",
    "            end = mid - 1\n",
    "        else :\n",
    "            start = mid + 1\n",
    "    return None\n",
    "\n",
    "sort_list = sorted(m_list)\n",
    "n_dict = [0]*len(m_list)\n",
    "for i in range(len(n_list)) :\n",
    "    idx = binary(sort_list,n_list[i],0,len(sort_list)-1)\n",
    "    if idx == None :\n",
    "        pass\n",
    "    else :\n",
    "        n_dict[m_list.index(idx)] += 1\n",
    "for i in range(len(n_dict)) :    \n",
    "    print(n_dict[i], end = ' ')"
   ]
  },
  {
   "cell_type": "code",
   "execution_count": 127,
   "metadata": {},
   "outputs": [
    {
     "name": "stdout",
     "output_type": "stream",
     "text": [
      "3 0 0 1 2 0 0 2 "
     ]
    }
   ],
   "source": [
    "sort_list = sorted(m_list)\n",
    "n_dict = [0]*len(m_list)\n",
    "for i in range(len(n_list)) :\n",
    "    idx = binary(sort_list,n_list[i],0,len(sort_list)-1)\n",
    "    if idx == None :\n",
    "        pass\n",
    "    else :\n",
    "        n_dict[m_list.index(idx)] += 1\n",
    "for i in range(len(n_dict)) :    \n",
    "    print(n_dict[i], end = ' ')"
   ]
  },
  {
   "cell_type": "code",
   "execution_count": 100,
   "metadata": {},
   "outputs": [
    {
     "name": "stdout",
     "output_type": "stream",
     "text": [
      "10\n",
      "6 3 2 10 10 10 -10 -10 7 3\n",
      "8\n",
      "10 9 -5 2 3 4 5 -10\n",
      "3 0 0 1 2 0 0 2 "
     ]
    }
   ],
   "source": [
    "n = int(input())\n",
    "n_list = list(map(int,input().split()))\n",
    "m = int(input())\n",
    "m_list = list(map(int,input().split()))\n",
    "\n",
    "copy_list = [0]*len(m_list)\n",
    "for i in range(len(n_list)) :\n",
    "    idx = binary(sort_list,n_list[i],0,len(sort_list)-1)\n",
    "    if idx == None :\n",
    "        pass\n",
    "    else :\n",
    "        copy_list[m_list.index(idx)] += 1\n",
    "for i in range(len(copy_list)) :\n",
    "    print(copy_list[i], end = ' ')"
   ]
  },
  {
   "cell_type": "markdown",
   "metadata": {},
   "source": [
    "**1654. 랜선 자르기**\n",
    "\n",
    "\n",
    "#### 문제\n",
    "집에서 시간을 보내던 오영식은 박성원의 부름을 받고 급히 달려왔다. 박성원이 캠프 때 쓸 N개의 랜선을 만들어야 하는데 너무 바빠서 영식이에게 도움을 청했다.\n",
    "\n",
    "이미 오영식은 자체적으로 K개의 랜선을 가지고 있다. 그러나 K개의 랜선은 길이가 제각각이다. 박성원은 랜선을 모두 N개의 같은 길이의 랜선으로 만들고 싶었기 때문에 K개의 랜선을 잘라서 만들어야 한다. 예를 들어 300cm 짜리 랜선에서 140cm 짜리 랜선을 두 개 잘라내면 20cm는 버려야 한다. (이미 자른 랜선은 붙일 수 없다.)\n",
    "\n",
    "편의를 위해 랜선을 자르거나 만들 때 손실되는 길이는 없다고 가정하며, 기존의 K개의 랜선으로 N개의 랜선을 만들 수 없는 경우는 없다고 가정하자. 그리고 자를 때는 항상 센티미터 단위로 정수길이만큼 자른다고 가정하자. N개보다 많이 만드는 것도 N개를 만드는 것에 포함된다. 이때 만들 수 있는 최대 랜선의 길이를 구하는 프로그램을 작성하시오.\n",
    "\n",
    "#### 입력\n",
    "첫째 줄에는 오영식이 이미 가지고 있는 랜선의 개수 K, 그리고 필요한 랜선의 개수 N이 입력된다. K는 1이상 10,000이하의 정수이고, N은 1이상 1,000,000이하의 정수이다. 그리고 항상 K ≦ N 이다. 그 후 K줄에 걸쳐 이미 가지고 있는 각 랜선의 길이가 센티미터 단위의 정수로 입력된다. 랜선의 길이는 $231^{-1}$보다 작거나 같은 자연수이다.\n",
    "\n",
    "#### 출력\n",
    "첫째 줄에 N개를 만들 수 있는 랜선의 최대 길이를 센티미터 단위의 정수로 출력한다.\n",
    "\n",
    "#### 예제 입력 1 \n",
    "4 11<br>\n",
    "802<br>\n",
    "743<br>\n",
    "457<br>\n",
    "539<br>\n",
    "#### 예제 출력 1 \n",
    "200"
   ]
  },
  {
   "cell_type": "code",
   "execution_count": 76,
   "metadata": {
    "scrolled": true
   },
   "outputs": [
    {
     "name": "stdout",
     "output_type": "stream",
     "text": [
      "4 11\n",
      "802\n",
      "743\n",
      "457\n",
      "539\n",
      "200\n"
     ]
    }
   ],
   "source": [
    "# 수 입력, 리스트 생성\n",
    "n,m = map(int, input().split())\n",
    "new_list = []\n",
    "for _ in range(n) :\n",
    "    new_list.append(int(input()))\n",
    "\n",
    "# 이진탐색을 위한 시작, 끝 값 입력\n",
    "start = 1\n",
    "end = max(new_list)\n",
    "\n",
    "# 이진탐색 시작\n",
    "result = 0\n",
    "while (start <= end) :\n",
    "    \n",
    "    total = 0\n",
    "    mid = (start+end)//2 # 중앙값\n",
    "    \n",
    "    for x in new_list : # 반복 돌리며 선 개수 구하기\n",
    "        total += x//mid\n",
    "        \n",
    "    if total >=  m : # 잘라낸 선 개수가 목표치보다 크거나 같으면\n",
    "        start = mid + 1# 시작값을 중앙값부터 탐색\n",
    "    else :\n",
    "        end = mid - 1 # 아닐경우 탐색 범위 끝값을 줄여봄\n",
    "print(end) # 해당 범위를 도달할 수 있는 최댓값"
   ]
  },
  {
   "cell_type": "markdown",
   "metadata": {},
   "source": [
    "**2805. 나무 자르기**\n",
    "\n",
    "#### 문제\n",
    "상근이는 나무 M미터가 필요하다. 근처에 나무를 구입할 곳이 모두 망해버렸기 때문에, 정부에 벌목 허가를 요청했다. 정부는 상근이네 집 근처의 나무 한 줄에 대한 벌목 허가를 내주었고, 상근이는 새로 구입한 목재절단기를 이용해서 나무를 구할것이다.\n",
    "\n",
    "목재절단기는 다음과 같이 동작한다. 먼저, 상근이는 절단기에 높이 H를 지정해야 한다. 높이를 지정하면 톱날이 땅으로부터 H미터 위로 올라간다. 그 다음, 한 줄에 연속해있는 나무를 모두 절단해버린다. 따라서, 높이가 H보다 큰 나무는 H 위의 부분이 잘릴 것이고, 낮은 나무는 잘리지 않을 것이다. 예를 들어, 한 줄에 연속해있는 나무의 높이가 20, 15, 10, 17이라고 하자. 상근이가 높이를 15로 지정했다면, 나무를 자른 뒤의 높이는 15, 15, 10, 15가 될 것이고, 상근이는 길이가 5인 나무와 2인 나무를 들고 집에 갈 것이다. (총 7미터를 집에 들고 간다) 절단기에 설정할 수 있는 높이는 양의 정수 또는 0이다.\n",
    "\n",
    "상근이는 환경에 매우 관심이 많기 때문에, 나무를 필요한 만큼만 집으로 가져가려고 한다. 이때, 적어도 M미터의 나무를 집에 가져가기 위해서 절단기에 설정할 수 있는 높이의 최댓값을 구하는 프로그램을 작성하시오.\n",
    "\n",
    "#### 입력\n",
    "첫째 줄에 나무의 수 N과 상근이가 집으로 가져가려고 하는 나무의 길이 M이 주어진다. (1 ≤ N ≤ 1,000,000, 1 ≤ M ≤ 2,000,000,000)\n",
    "\n",
    "둘째 줄에는 나무의 높이가 주어진다. 나무의 높이의 합은 항상 M보다 크거나 같기 때문에, 상근이는 집에 필요한 나무를 항상 가져갈 수 있다. 높이는 1,000,000,000보다 작거나 같은 양의 정수 또는 0이다.\n",
    "\n",
    "#### 출력\n",
    "적어도 M미터의 나무를 집에 가져가기 위해서 절단기에 설정할 수 있는 높이의 최댓값을 출력한다.\n",
    "\n",
    "#### 예제 입력 1 \n",
    "4 7<br>\n",
    "20 15 10 17<br>\n",
    "#### 예제 출력 1 \n",
    "15\n",
    "#### 예제 입력 2 \n",
    "5 20<br>\n",
    "4 42 40 26 46\n",
    "#### 예제 출력 2 \n",
    "36"
   ]
  },
  {
   "cell_type": "code",
   "execution_count": 131,
   "metadata": {},
   "outputs": [
    {
     "name": "stdout",
     "output_type": "stream",
     "text": [
      "4 7\n",
      "20 15 10 17\n"
     ]
    }
   ],
   "source": [
    "n, m = map(int,input().split())\n",
    "arr = list(map(int,input().split()))"
   ]
  },
  {
   "cell_type": "code",
   "execution_count": 135,
   "metadata": {},
   "outputs": [
    {
     "name": "stdout",
     "output_type": "stream",
     "text": [
      "15\n"
     ]
    }
   ],
   "source": [
    "start = min(arr)\n",
    "end = max(arr)\n",
    "while (start <= end) :\n",
    "    total = 0\n",
    "    mid = (start + end)//2\n",
    "    \n",
    "    for i in arr :\n",
    "        if i > mid :\n",
    "            total += i - mid\n",
    "    if total >= m :\n",
    "        start = mid + 1\n",
    "    else :\n",
    "        end = mid - 1\n",
    "    \n",
    "print(end)"
   ]
  },
  {
   "cell_type": "markdown",
   "metadata": {},
   "source": [
    "**2110. 공유기 설치**\n",
    "\n",
    "#### 문제\n",
    "도현이의 집 N개가 수직선 위에 있다. 각각의 집의 좌표는 x1, ..., xN이고, 집 여러개가 같은 좌표를 가지는 일은 없다.\n",
    "\n",
    "도현이는 언제 어디서나 와이파이를 즐기기 위해서 집에 공유기 C개를 설치하려고 한다. 최대한 많은 곳에서 와이파이를 사용하려고 하기 때문에, 한 집에는 공유기를 하나만 설치할 수 있고, 가장 인접한 두 공유기 사이의 거리를 가능한 크게 하여 설치하려고 한다.\n",
    "\n",
    "C개의 공유기를 N개의 집에 적당히 설치해서, 가장 인접한 두 공유기 사이의 거리를 최대로 하는 프로그램을 작성하시오.\n",
    "\n",
    "#### 입력\n",
    "첫째 줄에 집의 개수 N (2 ≤ N ≤ 200,000)과 공유기의 개수 C (2 ≤ C ≤ N)이 하나 이상의 빈 칸을 사이에 두고 주어진다. 둘째 줄부터 N개의 줄에는 집의 좌표를 나타내는 xi (0 ≤ xi ≤ 1,000,000,000)가 한 줄에 하나씩 주어진다.\n",
    "\n",
    "#### 출력\n",
    "첫째 줄에 가장 인접한 두 공유기 사이의 최대 거리를 출력한다.\n",
    "\n",
    "#### 예제 입력 1 \n",
    "5 3<br>\n",
    "1<br>\n",
    "2<br>\n",
    "8<br>\n",
    "4<br>\n",
    "9<br>\n",
    "#### 예제 출력 1 \n",
    "3\n",
    "\n",
    "힌트\n",
    "공유기를 1, 4, 8 또는 1, 4, 9에 설치하면 가장 인접한 두 공유기 사이의 거리는 3이고, 이 거리보다 크게 공유기를 3개 설치할 수 없다."
   ]
  },
  {
   "cell_type": "code",
   "execution_count": 44,
   "metadata": {},
   "outputs": [
    {
     "name": "stdout",
     "output_type": "stream",
     "text": [
      "5 3\n",
      "1\n",
      "7\n",
      "8\n",
      "9\n",
      "10\n",
      "-1\n"
     ]
    }
   ],
   "source": [
    "from itertools import combinations\n",
    "n,m = map(int,input().split())\n",
    "n_list = []\n",
    "for _ in range(n) :\n",
    "    n_list.append(int(input()))\n",
    "\n",
    "sort_list = sorted(n_list)\n",
    "combi = list(combinations(sort_list,3))\n",
    "total_list1 =[]\n",
    "for x,y,z in combi :\n",
    "    if z-y-x >= 0 :\n",
    "        total_list1.append(z-y-x)\n",
    "        \n",
    "total_list1 = list(set(total_list1))\n",
    "\n",
    "start = 0\n",
    "end = max(total_list1)\n",
    "while (start <= end) :\n",
    "    total = 0\n",
    "    mid = (start + end)//2\n",
    "    \n",
    "    for i in total_list1 :\n",
    "        if i > mid :\n",
    "            total += i - mid\n",
    "    \n",
    "    \n",
    "    if total > m :\n",
    "        start = mid + 1\n",
    "    else :\n",
    "        end = mid - 1\n",
    "if end == -1 :\n",
    "    print(0)\n",
    "else :\n",
    "    print(end)"
   ]
  },
  {
   "cell_type": "markdown",
   "metadata": {},
   "source": [
    "메모리 초과가 떴다. 다른 방식이 있는듯하다."
   ]
  },
  {
   "cell_type": "code",
   "execution_count": null,
   "metadata": {},
   "outputs": [],
   "source": []
  },
  {
   "cell_type": "code",
   "execution_count": null,
   "metadata": {},
   "outputs": [],
   "source": []
  }
 ],
 "metadata": {
  "kernelspec": {
   "display_name": "Python 3 (ipykernel)",
   "language": "python",
   "name": "python3"
  },
  "language_info": {
   "codemirror_mode": {
    "name": "ipython",
    "version": 3
   },
   "file_extension": ".py",
   "mimetype": "text/x-python",
   "name": "python",
   "nbconvert_exporter": "python",
   "pygments_lexer": "ipython3",
   "version": "3.8.5"
  }
 },
 "nbformat": 4,
 "nbformat_minor": 4
}
