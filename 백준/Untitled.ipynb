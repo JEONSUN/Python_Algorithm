{
 "cells": [
  {
   "cell_type": "code",
   "execution_count": 3,
   "metadata": {},
   "outputs": [],
   "source": [
    "import UpDown"
   ]
  },
  {
   "cell_type": "code",
   "execution_count": 5,
   "metadata": {},
   "outputs": [
    {
     "ename": "AttributeError",
     "evalue": "module 'UpDown' has no attribute 'with_computer'",
     "output_type": "error",
     "traceback": [
      "\u001b[1;31m---------------------------------------------------------------------------\u001b[0m",
      "\u001b[1;31mAttributeError\u001b[0m                            Traceback (most recent call last)",
      "\u001b[1;32m~\\AppData\\Local\\Temp/ipykernel_19820/4127679229.py\u001b[0m in \u001b[0;36m<module>\u001b[1;34m\u001b[0m\n\u001b[1;32m----> 1\u001b[1;33m \u001b[0mUpDown\u001b[0m\u001b[1;33m.\u001b[0m\u001b[0mwith_computer\u001b[0m\u001b[1;33m(\u001b[0m\u001b[1;33m)\u001b[0m\u001b[1;33m\u001b[0m\u001b[1;33m\u001b[0m\u001b[0m\n\u001b[0m",
      "\u001b[1;31mAttributeError\u001b[0m: module 'UpDown' has no attribute 'with_computer'"
     ]
    }
   ],
   "source": [
    "UpDown.with_computer()"
   ]
  },
  {
   "cell_type": "code",
   "execution_count": 2,
   "metadata": {},
   "outputs": [
    {
     "name": "stdout",
     "output_type": "stream",
     "text": [
      "--------------------------------------------------\n",
      "숫자를 입력하시오 : weqwe\n",
      "어허 다시입력하세요\n",
      "--------------------------------------------------\n",
      "숫자를 입력하시오 : 53\n",
      "입력 값 : 53\n",
      "Up\n",
      "--------------------------------------------------\n",
      "숫자를 입력하시오 : 60\n",
      "입력 값 : 60\n",
      "Up\n",
      "--------------------------------------------------\n",
      "숫자를 입력하시오 : 70\n",
      "입력 값 : 70\n",
      "Down\n",
      "--------------------------------------------------\n",
      "숫자를 입력하시오 : 70\n",
      "입력 값 : 70\n",
      "Down\n",
      "이미 눌렀습니다.\n",
      "--------------------------------------------------\n",
      "숫자를 입력하시오 : 63\n",
      "입력 값 : 63\n",
      "Down\n",
      "--------------------------------------------------\n",
      "숫자를 입력하시오 : 61\n",
      "입력 값 : 61\n",
      "Up\n",
      "--------------------------------------------------\n",
      "숫자를 입력하시오 : 62\n",
      "입력 값 : 62\n",
      "정답입니다 : 62\n"
     ]
    }
   ],
   "source": [
    "UpDown.solution()"
   ]
  }
 ],
 "metadata": {
  "kernelspec": {
   "display_name": "Python 3 (ipykernel)",
   "language": "python",
   "name": "python3"
  },
  "language_info": {
   "codemirror_mode": {
    "name": "ipython",
    "version": 3
   },
   "file_extension": ".py",
   "mimetype": "text/x-python",
   "name": "python",
   "nbconvert_exporter": "python",
   "pygments_lexer": "ipython3",
   "version": "3.8.5"
  }
 },
 "nbformat": 4,
 "nbformat_minor": 4
}
