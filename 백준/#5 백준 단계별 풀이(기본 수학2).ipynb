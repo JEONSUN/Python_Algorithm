{
 "cells": [
  {
   "cell_type": "markdown",
   "metadata": {},
   "source": [
    "**1978. 소수 찾기**\n",
    "\n",
    "#### 문제\n",
    "주어진 수 N개 중에서 소수가 몇 개인지 찾아서 출력하는 프로그램을 작성하시오.\n",
    "\n",
    "#### 입력\n",
    "첫 줄에 수의 개수 N이 주어진다. N은 100이하이다. 다음으로 N개의 수가 주어지는데 수는 1,000 이하의 자연수이다.\n",
    "\n",
    "#### 출력\n",
    "주어진 수들 중 소수의 개수를 출력한다.\n",
    "\n",
    "\n",
    "#### 예제 입력 1 \n",
    "4\n",
    "\n",
    "1 3 5 7\n",
    "#### 예제 출력 1 \n",
    "3"
   ]
  },
  {
   "cell_type": "code",
   "execution_count": 57,
   "metadata": {},
   "outputs": [
    {
     "name": "stdout",
     "output_type": "stream",
     "text": [
      "4\n",
      "1 3 5 7\n",
      "3\n"
     ]
    }
   ],
   "source": [
    "# 입력\n",
    "case = int(input())\n",
    "num_list = list(map(int,input().split()))\n",
    "\n",
    "# 소수 개수\n",
    "cnt = 0\n",
    "\n",
    "# 주어진 수들을 반복하며\n",
    "for i in num_list :\n",
    "    error = 0\n",
    "    if i > 1 : # 1보다 큰 값들 중\n",
    "        for j in range(2,i+1) : # 범위는 2부터 주어진 수까지\n",
    "            if i % j == 0 : # 나머지가 \n",
    "                error += 1 # 자기 자신뿐인\n",
    "        if error == 1 :# 수를 \n",
    "            cnt += 1 # 찾는다.\n",
    "print(cnt)"
   ]
  },
  {
   "cell_type": "code",
   "execution_count": 56,
   "metadata": {
    "scrolled": true
   },
   "outputs": [
    {
     "data": {
      "text/plain": [
       "3"
      ]
     },
     "execution_count": 56,
     "metadata": {},
     "output_type": "execute_result"
    }
   ],
   "source": [
    "cnt"
   ]
  },
  {
   "cell_type": "markdown",
   "metadata": {},
   "source": [
    "**2581. 소수**\n",
    "\n",
    "#### 문제\n",
    "자연수 M과 N이 주어질 때 M이상 N이하의 자연수 중 소수인 것을 모두 골라 이들 소수의 합과 최솟값을 찾는 프로그램을 작성하시오.\n",
    "\n",
    "예를 들어 M=60, N=100인 경우 60이상 100이하의 자연수 중 소수는 61, 67, 71, 73, 79, 83, 89, 97 총 8개가 있으므로, 이들 소수의 합은 620이고, 최솟값은 61이 된다.\n",
    "\n",
    "#### 입력\n",
    "입력의 첫째 줄에 M이, 둘째 줄에 N이 주어진다.\n",
    "\n",
    "M과 N은 10,000이하의 자연수이며, M은 N보다 작거나 같다.\n",
    "\n",
    "#### 출력\n",
    "M이상 N이하의 자연수 중 소수인 것을 모두 찾아 첫째 줄에 그 합을, 둘째 줄에 그 중 최솟값을 출력한다. \n",
    "\n",
    "단, M이상 N이하의 자연수 중 소수가 없을 경우는 첫째 줄에 -1을 출력한다.\n",
    "\n",
    "#### 예제 입력 1 \n",
    "60\n",
    "\n",
    "100\n",
    "#### 예제 출력 1 \n",
    "620\n",
    "\n",
    "61\n",
    "#### 예제 입력 2 \n",
    "64\n",
    "\n",
    "65\n",
    "#### 예제 출력 2 \n",
    "-1"
   ]
  },
  {
   "cell_type": "code",
   "execution_count": 109,
   "metadata": {},
   "outputs": [
    {
     "name": "stdout",
     "output_type": "stream",
     "text": [
      "11\n",
      "20\n",
      "[11, 13, 17, 19]\n",
      "60\n",
      "11\n"
     ]
    }
   ],
   "source": [
    "# 에라토스테네스의 체를 활용\n",
    "\n",
    "# 초기값 입력\n",
    "m = int(input())\n",
    "n = int(input())\n",
    "\n",
    "# m과 n의 범위를 가진 리스트\n",
    "nums_list = list(range(m,n+1))\n",
    "\n",
    "# 제곱근 값 구하기\n",
    "sqrt_n = int(n**0.5)\n",
    "# 소수만 남길 리스트 생성\n",
    "re_nums_list = nums_list\n",
    "\n",
    "# 제곱근까지 반복 돌리면서\n",
    "for i in range(2,sqrt_n + 1) :\n",
    "    for j in range(i+i,n+1, i) : # 2,3,... 배수 대입\n",
    "        if j in nums_list : # 2,3,의 배수가 존재할 경우\n",
    "            re_nums_list.remove(j) # 생성한 리스트에서 제거\n",
    "        else :\n",
    "            pass\n",
    "\n",
    "if 1 in nums_list : # 만약 1이 포함되어 있을경우\n",
    "    re_nums_list.remove(1) # 1 제거\n",
    "else : \n",
    "    pass\n",
    "\n",
    "if len(re_nums_list) == 0 : # 소수가 없으면 -1\n",
    "    print(-1)\n",
    "else : # 있으면 합과 최솟값 추가 \n",
    "    print(sum(re_nums_list))\n",
    "    print(min(re_nums_list))"
   ]
  },
  {
   "cell_type": "markdown",
   "metadata": {},
   "source": [
    "**11653. 소인수분해**"
   ]
  },
  {
   "cell_type": "markdown",
   "metadata": {},
   "source": [
    "#### 문제\n",
    "정수 N이 주어졌을 때, 소인수분해하는 프로그램을 작성하시오.\n",
    "\n",
    "#### 입력\n",
    "첫째 줄에 정수 N (1 ≤ N ≤ 10,000,000)이 주어진다.\n",
    "\n",
    "#### 출력\n",
    "N의 소인수분해 결과를 한 줄에 하나씩 오름차순으로 출력한다. N이 1인 경우 아무것도 출력하지 않는다.\n",
    "\n",
    "#### 예제 입력 1 \n",
    "9991\n",
    "#### 예제 출력 1 \n",
    "97\n",
    "103"
   ]
  },
  {
   "cell_type": "code",
   "execution_count": 166,
   "metadata": {},
   "outputs": [
    {
     "name": "stdout",
     "output_type": "stream",
     "text": [
      "9991\n",
      "97\n",
      "103\n"
     ]
    }
   ],
   "source": [
    "n = int(input())\n",
    "i = 2\n",
    "while 1 :\n",
    "    if n == 1 :\n",
    "        break\n",
    "        \n",
    "    if n%i == 0 :\n",
    "        n = n//i\n",
    "        print(i)\n",
    "        continue\n",
    "    else : \n",
    "        i += 1"
   ]
  },
  {
   "cell_type": "markdown",
   "metadata": {},
   "source": [
    "#### 내가 푼 풀이\n",
    "\n",
    "에라스토테네스의 체를 굳이 안써도 되었던 것"
   ]
  },
  {
   "cell_type": "code",
   "execution_count": 168,
   "metadata": {
    "scrolled": false
   },
   "outputs": [
    {
     "name": "stdout",
     "output_type": "stream",
     "text": [
      "9991\n",
      "97\n",
      "103\n"
     ]
    }
   ],
   "source": [
    "n = int(input())\n",
    "\n",
    "m = int(n**0.5)\n",
    "\n",
    "nums_list = list(range(2,n+1))\n",
    "for i in range(2,m+1) :\n",
    "    for j in range(i+i, n+1, i) :\n",
    "        if j in nums_list :\n",
    "            nums_list.remove(j)\n",
    "\n",
    "k = 0\n",
    "while 1 :\n",
    "    if n == 1 :\n",
    "        break\n",
    "    \n",
    "    else :\n",
    "        if n%nums_list[k] == 0 :\n",
    "            n = n//nums_list[k]\n",
    "            print(nums_list[k])\n",
    "        \n",
    "        else :\n",
    "            k += 1"
   ]
  },
  {
   "cell_type": "markdown",
   "metadata": {},
   "source": [
    "**1929. 소수 구하기**"
   ]
  },
  {
   "cell_type": "markdown",
   "metadata": {},
   "source": [
    "#### 문제\n",
    "M이상 N이하의 소수를 모두 출력하는 프로그램을 작성하시오.\n",
    "\n",
    "#### 입력\n",
    "첫째 줄에 자연수 M과 N이 빈 칸을 사이에 두고 주어진다. (1 ≤ M ≤ N ≤ 1,000,000) M이상 N이하의 소수가 하나 이상 있는 입력만 주어진다.\n",
    "\n",
    "#### 출력\n",
    "한 줄에 하나씩, 증가하는 순서대로 소수를 출력한다.\n",
    "\n",
    "#### 예제 입력 1 \n",
    "3 16\n",
    "#### 예제 출력 1 \n",
    "3\n",
    "5\n",
    "7\n",
    "11\n",
    "13"
   ]
  },
  {
   "cell_type": "code",
   "execution_count": 202,
   "metadata": {},
   "outputs": [
    {
     "name": "stdout",
     "output_type": "stream",
     "text": [
      "3\n",
      "16\n",
      "3\n",
      "5\n",
      "7\n",
      "11\n",
      "13\n"
     ]
    }
   ],
   "source": [
    "## 에라토스테네스의 체로 풀었다!\n",
    "m = int(input())\n",
    "n = int(input())\n",
    "\n",
    "num_list = list(range(m,n+1))\n",
    "sqrt_n = int(n**0.5)\n",
    "sosu = num_list\n",
    "\n",
    "for i in range(2,sqrt_n+1) :\n",
    "    for j in range(i+i, n+1, i) :\n",
    "        if j in num_list :\n",
    "            sosu.remove(j)\n",
    "        else : \n",
    "            pass\n",
    "\n",
    "\n",
    "for k in range(len(sosu)) :\n",
    "    print(sosu[k])\n",
    "    "
   ]
  }
 ],
 "metadata": {
  "kernelspec": {
   "display_name": "Python 3 (ipykernel)",
   "language": "python",
   "name": "python3"
  },
  "language_info": {
   "codemirror_mode": {
    "name": "ipython",
    "version": 3
   },
   "file_extension": ".py",
   "mimetype": "text/x-python",
   "name": "python",
   "nbconvert_exporter": "python",
   "pygments_lexer": "ipython3",
   "version": "3.8.5"
  }
 },
 "nbformat": 4,
 "nbformat_minor": 4
}
