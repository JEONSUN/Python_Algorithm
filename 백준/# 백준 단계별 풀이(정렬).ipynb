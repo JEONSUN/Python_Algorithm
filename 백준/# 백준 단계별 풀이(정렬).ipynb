{
 "cells": [
  {
   "cell_type": "markdown",
   "metadata": {},
   "source": [
    "**2750. 수 정렬하기**\n",
    "\n",
    "#### 문제\n",
    "N개의 수가 주어졌을 때, 이를 오름차순으로 정렬하는 프로그램을 작성하시오.\n",
    "\n",
    "#### 입력\n",
    "첫째 줄에 수의 개수 N(1 ≤ N ≤ 1,000)이 주어진다. 둘째 줄부터 N개의 줄에는 수 주어진다. 이 수는 절댓값이 1,000보다 작거나 같은 정수이다. 수는 중복되지 않는다.\n",
    "\n",
    "#### 출력\n",
    "첫째 줄부터 N개의 줄에 오름차순으로 정렬한 결과를 한 줄에 하나씩 출력한다.\n",
    "\n",
    "#### 예제 입력 1 \n",
    "5<br>\n",
    "5<br>\n",
    "2<br>\n",
    "3<br>\n",
    "4<br>\n",
    "1\n",
    "#### 예제 출력 1 \n",
    "1<br>\n",
    "2<br>\n",
    "3<br>\n",
    "4<br>\n",
    "5"
   ]
  },
  {
   "cell_type": "code",
   "execution_count": 1,
   "metadata": {},
   "outputs": [
    {
     "name": "stdout",
     "output_type": "stream",
     "text": [
      "5\n",
      "5\n",
      "2\n",
      "3\n",
      "4\n",
      "1\n",
      "1\n",
      "2\n",
      "3\n",
      "4\n",
      "5\n"
     ]
    }
   ],
   "source": [
    "case = int(input())\n",
    "num_list = []\n",
    "\n",
    "for _ in range(case) :\n",
    "    num_list.append(int(input()))\n",
    "\n",
    "num_list = sorted(num_list)\n",
    "\n",
    "for i in range(len(num_list)) :\n",
    "    print(num_list[i])"
   ]
  },
  {
   "cell_type": "markdown",
   "metadata": {},
   "source": [
    "**2751. 수 정렬하기 2**\n",
    "#### 문제\n",
    "N개의 수가 주어졌을 때, 이를 오름차순으로 정렬하는 프로그램을 작성하시오.\n",
    "\n",
    "#### 입력\n",
    "첫째 줄에 수의 개수 N(1 ≤ N ≤ 1,000,000)이 주어진다. 둘째 줄부터 N개의 줄에는 수가 주어진다. 이 수는 절댓값이 1,000,000보다 작거나 같은 정수이다. 수는 중복되지 않는다.\n",
    "\n",
    "#### 출력\n",
    "첫째 줄부터 N개의 줄에 오름차순으로 정렬한 결과를 한 줄에 하나씩 출력한다.\n",
    "\n",
    "#### 예제 입력 1 \n",
    "5<br>\n",
    "5<br>\n",
    "4<br>\n",
    "3<br>\n",
    "2<br>\n",
    "1\n",
    "#### 예제 출력 1 \n",
    "1<br>\n",
    "2<br>\n",
    "3<br>\n",
    "4<br>\n",
    "5<br>"
   ]
  },
  {
   "cell_type": "code",
   "execution_count": 9,
   "metadata": {
    "scrolled": true
   },
   "outputs": [
    {
     "name": "stdout",
     "output_type": "stream",
     "text": [
      "5\n",
      "5\n",
      "4\n",
      "3\n",
      "2\n",
      "1\n"
     ]
    }
   ],
   "source": [
    "# 퀵소트 함수를 만들어주고\n",
    "def quick_sort(array) :\n",
    "    if len(array) <= 1 :\n",
    "        return array\n",
    "    pivot = array[0]\n",
    "    tail = array[1:]\n",
    "\n",
    "    left_side = [x for x in tail if x <= pivot]\n",
    "    right_side = [x for x in tail if x > pivot]\n",
    "    return quick_sort(left_side) + [pivot] + quick_sort(right_side)\n",
    "\n",
    "\n",
    "# 배열내 원소 개수 입력\n",
    "case = int(input())\n",
    "num_list= []\n",
    "\n",
    "# 원소 개수만큼 배열의 원소 입력\n",
    "for _ in range(case) :\n",
    "    num_list.append(int(input()))\n",
    "\n",
    "# 퀵소트 실행\n",
    "quick_sort(num_list)\n",
    "\n",
    "# 출력\n",
    "for i in num_list :\n",
    "    print(i, end = \"\\n\")"
   ]
  },
  {
   "cell_type": "markdown",
   "metadata": {},
   "source": [
    "시간초과가 떴다. 출력 예제대로 출력하지만 데이터가 기하급수적으로 늘어날 경우 퀵소트의 복잡도가 올라가는게 원인인듯하다."
   ]
  },
  {
   "cell_type": "code",
   "execution_count": null,
   "metadata": {},
   "outputs": [],
   "source": [
    "import sys\n",
    "\n",
    "case = int(sys.stdin.readline())\n",
    "num_list = []\n",
    "\n",
    "for _ in range(n) :\n",
    "    num_list.append(int(sys.stdin.readline()))\n",
    "    \n",
    "num_list = sorted(num_list)\n",
    "\n",
    "for i in num_list :\n",
    "    sys.stdout.write(str(i) + '\\n)"
   ]
  },
  {
   "cell_type": "markdown",
   "metadata": {},
   "source": [
    "내장 라이브러리를 활용해봤다. 이번엔 런타임에러가 발생했다. print도 sys output으로 바꿨다."
   ]
  },
  {
   "cell_type": "code",
   "execution_count": null,
   "metadata": {},
   "outputs": [],
   "source": [
    "import sys\n",
    "\n",
    "case = int(sys.stdin.readline())\n",
    "num_list = []\n",
    "\n",
    "for _ in range(n) :\n",
    "    num_list.append(int(sys.stdin.readline()))\n",
    "\n",
    "for i in sorted(num_list) :\n",
    "    sys.stdout.write(str(i) + '\\n')"
   ]
  },
  {
   "cell_type": "markdown",
   "metadata": {},
   "source": [
    "#### 병합 정렬(Merge sort) 사용\n",
    "\n",
    "- 리스트를 n분할하여 각자 계산한뒤 마지막에 병합하는 방식이다."
   ]
  },
  {
   "cell_type": "code",
   "execution_count": 25,
   "metadata": {},
   "outputs": [
    {
     "name": "stdout",
     "output_type": "stream",
     "text": [
      "10\n",
      "1\n",
      "5\n",
      "3\n",
      "2\n",
      "4\n",
      "7\n",
      "8\n",
      "9\n",
      "0\n",
      "6\n",
      "0\n",
      "1\n",
      "2\n",
      "3\n",
      "4\n",
      "5\n",
      "6\n",
      "7\n",
      "8\n",
      "9\n"
     ]
    }
   ],
   "source": [
    "def merge_sort(array): \n",
    "    if len(array) <= 1: # 배열의 원소가 1개 이하일 경우 \n",
    "        return array # 그냥 배열 반환\n",
    "    \n",
    "    mid = len(array)//2  \n",
    "    left = merge_sort(array[:mid]) #left는 array리스트의 인덱스 0부터 mid전까지 \n",
    "    right = merge_sort(array[mid:]) #right은 array리스트의 인덱스 mid부터 끝까지 \n",
    "    \n",
    "    i, j, k = 0, 0, 0 \n",
    "    \n",
    "    arr = [] #둘중 하나조건에 부합하지 않을경우 while문 빠져나감 \n",
    "    \n",
    "    while i < len(left) and j < len(right): \n",
    "        if left[i] < right[j]: # 좌측보다 우측 수가 클 경우\n",
    "            arr.append(left[i]) # 좌측\n",
    "            i+=1 \n",
    "            \n",
    "        else: \n",
    "            arr.append(right[j]) \n",
    "            j+=1 \n",
    "    # while문 빠져 나온 후, left혹은 right에 남은 요소들 arr에 넣어주기 \n",
    "    arr += left[i:] \n",
    "    arr += right[j:] \n",
    "    \n",
    "    return arr \n",
    "\n",
    "N = int(input()) \n",
    "arr=[] \n",
    "\n",
    "\n",
    "for _ in range(N): \n",
    "    arr.append(int(input())) \n",
    "    arr = merge_sort(arr) \n",
    "\n",
    "for i in arr: \n",
    "    print(i)\n"
   ]
  },
  {
   "cell_type": "markdown",
   "metadata": {},
   "source": [
    "**10989. 수 정렬하기 3**\n",
    "#### 문제\n",
    "N개의 수가 주어졌을 때, 이를 오름차순으로 정렬하는 프로그램을 작성하시오.\n",
    "\n",
    "#### 입력\n",
    "첫째 줄에 수의 개수 N(1 ≤ N ≤ 10,000,000)이 주어진다. 둘째 줄부터 N개의 줄에는 수가 주어진다. 이 수는 10,000보다 작거나 같은 자연수이다.\n",
    "\n",
    "#### 출력\n",
    "첫째 줄부터 N개의 줄에 오름차순으로 정렬한 결과를 한 줄에 하나씩 출력한다.\n",
    "\n",
    "#### 예제 입력 1 \n",
    "10<br>\n",
    "5<br>\n",
    "2<br>\n",
    "3<br>\n",
    "1<br>\n",
    "4<br>\n",
    "2<br>\n",
    "3<br>\n",
    "5<br>\n",
    "1<br>\n",
    "7\n",
    "#### 예제 출력 1 \n",
    "1<br>\n",
    "1<br>\n",
    "2<br>\n",
    "2<br>\n",
    "3<br>\n",
    "3<br>\n",
    "4<br>\n",
    "5<br>\n",
    "5<br>\n",
    "7"
   ]
  },
  {
   "cell_type": "code",
   "execution_count": 29,
   "metadata": {},
   "outputs": [
    {
     "name": "stdout",
     "output_type": "stream",
     "text": [
      "10\n",
      "1\n",
      "3\n",
      "1\n",
      "2\n",
      "9\n",
      "8\n",
      "5\n",
      "4\n",
      "3\n",
      "2\n",
      "1\n",
      "1\n",
      "2\n",
      "2\n",
      "3\n",
      "3\n",
      "4\n",
      "5\n",
      "8\n",
      "9\n"
     ]
    }
   ],
   "source": [
    "# 선택 정렬 : 메모리 초과\n",
    "n = int(input())\n",
    "num_list = []\n",
    "\n",
    "for _ in range(n) :\n",
    "    num_list.append(int(input()))\n",
    "    \n",
    "for i in range(len(num_list)) :\n",
    "    min_index = i\n",
    "    for j in range(i+1, len(num_list)) :\n",
    "        if num_list[min_index] > num_list[j] :\n",
    "            min_index = j\n",
    "    num_list[i], num_list[min_index] = num_list[min_index], num_list[i]\n",
    "\n",
    "for i in num_list :\n",
    "    print(i, end = '\\n')"
   ]
  },
  {
   "cell_type": "markdown",
   "metadata": {},
   "source": [
    "#### 카운팅 정렬, 계수 정렬을 사용한다.\n",
    "\n",
    "- 10000이하의 자연수라는 범위를 줬기에 메모리 부족 현상은 방지 가능할 것이다."
   ]
  },
  {
   "cell_type": "code",
   "execution_count": 41,
   "metadata": {},
   "outputs": [
    {
     "name": "stdout",
     "output_type": "stream",
     "text": [
      "5\n",
      "4\n",
      "3\n",
      "2\n",
      "1\n",
      "4\n",
      "1 2 3 4 4 "
     ]
    }
   ],
   "source": [
    "n = int(input())\n",
    "num_list = []\n",
    "\n",
    "# 리스트 생성\n",
    "for i in range(n) :\n",
    "    num_list.append(int(input()))\n",
    "\n",
    "# 리스트의 범위만큼 count 리스트 생성\n",
    "count = [0] * len(num_list)\n",
    "\n",
    "# 각 데이터에 해당하는 인덱스의 값 증가\n",
    "for i in range(len(num_list)) :\n",
    "    count[num_list[i]] += 1\n",
    "    \n",
    "for i in range(len(count)) :\n",
    "    for j in range(count[i]) :\n",
    "        print(i, end = '\\n')"
   ]
  },
  {
   "cell_type": "code",
   "execution_count": null,
   "metadata": {},
   "outputs": [],
   "source": []
  }
 ],
 "metadata": {
  "kernelspec": {
   "display_name": "Python 3 (ipykernel)",
   "language": "python",
   "name": "python3"
  },
  "language_info": {
   "codemirror_mode": {
    "name": "ipython",
    "version": 3
   },
   "file_extension": ".py",
   "mimetype": "text/x-python",
   "name": "python",
   "nbconvert_exporter": "python",
   "pygments_lexer": "ipython3",
   "version": "3.8.5"
  }
 },
 "nbformat": 4,
 "nbformat_minor": 4
}
