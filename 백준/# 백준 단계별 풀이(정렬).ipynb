{
 "cells": [
  {
   "cell_type": "markdown",
   "metadata": {},
   "source": [
    "**2750. 수 정렬하기**\n",
    "\n",
    "#### 문제\n",
    "N개의 수가 주어졌을 때, 이를 오름차순으로 정렬하는 프로그램을 작성하시오.\n",
    "\n",
    "#### 입력\n",
    "첫째 줄에 수의 개수 N(1 ≤ N ≤ 1,000)이 주어진다. 둘째 줄부터 N개의 줄에는 수 주어진다. 이 수는 절댓값이 1,000보다 작거나 같은 정수이다. 수는 중복되지 않는다.\n",
    "\n",
    "#### 출력\n",
    "첫째 줄부터 N개의 줄에 오름차순으로 정렬한 결과를 한 줄에 하나씩 출력한다.\n",
    "\n",
    "#### 예제 입력 1 \n",
    "5<br>\n",
    "5<br>\n",
    "2<br>\n",
    "3<br>\n",
    "4<br>\n",
    "1\n",
    "#### 예제 출력 1 \n",
    "1<br>\n",
    "2<br>\n",
    "3<br>\n",
    "4<br>\n",
    "5"
   ]
  },
  {
   "cell_type": "code",
   "execution_count": 1,
   "metadata": {},
   "outputs": [
    {
     "name": "stdout",
     "output_type": "stream",
     "text": [
      "5\n",
      "5\n",
      "2\n",
      "3\n",
      "4\n",
      "1\n",
      "1\n",
      "2\n",
      "3\n",
      "4\n",
      "5\n"
     ]
    }
   ],
   "source": [
    "case = int(input())\n",
    "num_list = []\n",
    "\n",
    "for _ in range(case) :\n",
    "    num_list.append(int(input()))\n",
    "\n",
    "num_list = sorted(num_list)\n",
    "\n",
    "for i in range(len(num_list)) :\n",
    "    print(num_list[i])"
   ]
  },
  {
   "cell_type": "markdown",
   "metadata": {},
   "source": [
    "**2751. 수 정렬하기 2**\n",
    "#### 문제\n",
    "N개의 수가 주어졌을 때, 이를 오름차순으로 정렬하는 프로그램을 작성하시오.\n",
    "\n",
    "#### 입력\n",
    "첫째 줄에 수의 개수 N(1 ≤ N ≤ 1,000,000)이 주어진다. 둘째 줄부터 N개의 줄에는 수가 주어진다. 이 수는 절댓값이 1,000,000보다 작거나 같은 정수이다. 수는 중복되지 않는다.\n",
    "\n",
    "#### 출력\n",
    "첫째 줄부터 N개의 줄에 오름차순으로 정렬한 결과를 한 줄에 하나씩 출력한다.\n",
    "\n",
    "#### 예제 입력 1 \n",
    "5<br>\n",
    "5<br>\n",
    "4<br>\n",
    "3<br>\n",
    "2<br>\n",
    "1\n",
    "#### 예제 출력 1 \n",
    "1<br>\n",
    "2<br>\n",
    "3<br>\n",
    "4<br>\n",
    "5<br>"
   ]
  },
  {
   "cell_type": "code",
   "execution_count": 9,
   "metadata": {
    "scrolled": true
   },
   "outputs": [
    {
     "name": "stdout",
     "output_type": "stream",
     "text": [
      "5\n",
      "5\n",
      "4\n",
      "3\n",
      "2\n",
      "1\n"
     ]
    }
   ],
   "source": [
    "# 퀵소트 함수를 만들어주고\n",
    "def quick_sort(array) :\n",
    "    if len(array) <= 1 :\n",
    "        return array\n",
    "    pivot = array[0]\n",
    "    tail = array[1:]\n",
    "\n",
    "    left_side = [x for x in tail if x <= pivot]\n",
    "    right_side = [x for x in tail if x > pivot]\n",
    "    return quick_sort(left_side) + [pivot] + quick_sort(right_side)\n",
    "\n",
    "\n",
    "# 배열내 원소 개수 입력\n",
    "case = int(input())\n",
    "num_list= []\n",
    "\n",
    "# 원소 개수만큼 배열의 원소 입력\n",
    "for _ in range(case) :\n",
    "    num_list.append(int(input()))\n",
    "\n",
    "# 퀵소트 실행\n",
    "quick_sort(num_list)\n",
    "\n",
    "# 출력\n",
    "for i in num_list :\n",
    "    print(i, end = \"\\n\")"
   ]
  },
  {
   "cell_type": "markdown",
   "metadata": {},
   "source": [
    "시간초과가 떴다. 출력 예제대로 출력하지만 데이터가 기하급수적으로 늘어날 경우 퀵소트의 복잡도가 올라가는게 원인인듯하다."
   ]
  },
  {
   "cell_type": "code",
   "execution_count": null,
   "metadata": {},
   "outputs": [],
   "source": [
    "import sys\n",
    "\n",
    "case = int(sys.stdin.readline())\n",
    "num_list = []\n",
    "\n",
    "for _ in range(n) :\n",
    "    num_list.append(int(sys.stdin.readline()))\n",
    "    \n",
    "num_list = sorted(num_list)\n",
    "\n",
    "for i in num_list :\n",
    "    sys.stdout.write(str(i) + '\\n)"
   ]
  },
  {
   "cell_type": "markdown",
   "metadata": {},
   "source": [
    "내장 라이브러리를 활용해봤다. 이번엔 런타임에러가 발생했다. print도 sys output으로 바꿨다."
   ]
  },
  {
   "cell_type": "code",
   "execution_count": null,
   "metadata": {},
   "outputs": [],
   "source": [
    "import sys\n",
    "\n",
    "case = int(sys.stdin.readline())\n",
    "num_list = []\n",
    "\n",
    "for _ in range(n) :\n",
    "    num_list.append(int(sys.stdin.readline()))\n",
    "\n",
    "for i in sorted(num_list) :\n",
    "    sys.stdout.write(str(i) + '\\n')"
   ]
  },
  {
   "cell_type": "markdown",
   "metadata": {},
   "source": [
    "#### 병합 정렬(Merge sort) 사용\n",
    "\n",
    "- 리스트를 n분할하여 각자 계산한뒤 마지막에 병합하는 방식이다."
   ]
  },
  {
   "cell_type": "code",
   "execution_count": 25,
   "metadata": {},
   "outputs": [
    {
     "name": "stdout",
     "output_type": "stream",
     "text": [
      "10\n",
      "1\n",
      "5\n",
      "3\n",
      "2\n",
      "4\n",
      "7\n",
      "8\n",
      "9\n",
      "0\n",
      "6\n",
      "0\n",
      "1\n",
      "2\n",
      "3\n",
      "4\n",
      "5\n",
      "6\n",
      "7\n",
      "8\n",
      "9\n"
     ]
    }
   ],
   "source": [
    "def merge_sort(array): \n",
    "    if len(array) <= 1: # 배열의 원소가 1개 이하일 경우 \n",
    "        return array # 그냥 배열 반환\n",
    "    \n",
    "    mid = len(array)//2  \n",
    "    left = merge_sort(array[:mid]) #left는 array리스트의 인덱스 0부터 mid전까지 \n",
    "    right = merge_sort(array[mid:]) #right은 array리스트의 인덱스 mid부터 끝까지 \n",
    "    \n",
    "    i, j, k = 0, 0, 0 \n",
    "    \n",
    "    arr = [] #둘중 하나조건에 부합하지 않을경우 while문 빠져나감 \n",
    "    \n",
    "    while i < len(left) and j < len(right): \n",
    "        if left[i] < right[j]: # 좌측보다 우측 수가 클 경우\n",
    "            arr.append(left[i]) # 좌측\n",
    "            i+=1 \n",
    "            \n",
    "        else: \n",
    "            arr.append(right[j]) \n",
    "            j+=1 \n",
    "    # while문 빠져 나온 후, left혹은 right에 남은 요소들 arr에 넣어주기 \n",
    "    arr += left[i:] \n",
    "    arr += right[j:] \n",
    "    \n",
    "    return arr \n",
    "\n",
    "N = int(input()) \n",
    "arr=[] \n",
    "\n",
    "\n",
    "for _ in range(N): \n",
    "    arr.append(int(input())) \n",
    "    arr = merge_sort(arr) \n",
    "\n",
    "for i in arr: \n",
    "    print(i)\n"
   ]
  },
  {
   "cell_type": "markdown",
   "metadata": {},
   "source": [
    "**10989. 수 정렬하기 3**\n",
    "#### 문제\n",
    "N개의 수가 주어졌을 때, 이를 오름차순으로 정렬하는 프로그램을 작성하시오.\n",
    "\n",
    "#### 입력\n",
    "첫째 줄에 수의 개수 N(1 ≤ N ≤ 10,000,000)이 주어진다. 둘째 줄부터 N개의 줄에는 수가 주어진다. 이 수는 10,000보다 작거나 같은 자연수이다.\n",
    "\n",
    "#### 출력\n",
    "첫째 줄부터 N개의 줄에 오름차순으로 정렬한 결과를 한 줄에 하나씩 출력한다.\n",
    "\n",
    "#### 예제 입력 1 \n",
    "10<br>\n",
    "5<br>\n",
    "2<br>\n",
    "3<br>\n",
    "1<br>\n",
    "4<br>\n",
    "2<br>\n",
    "3<br>\n",
    "5<br>\n",
    "1<br>\n",
    "7\n",
    "#### 예제 출력 1 \n",
    "1<br>\n",
    "1<br>\n",
    "2<br>\n",
    "2<br>\n",
    "3<br>\n",
    "3<br>\n",
    "4<br>\n",
    "5<br>\n",
    "5<br>\n",
    "7"
   ]
  },
  {
   "cell_type": "code",
   "execution_count": 29,
   "metadata": {},
   "outputs": [
    {
     "name": "stdout",
     "output_type": "stream",
     "text": [
      "10\n",
      "1\n",
      "3\n",
      "1\n",
      "2\n",
      "9\n",
      "8\n",
      "5\n",
      "4\n",
      "3\n",
      "2\n",
      "1\n",
      "1\n",
      "2\n",
      "2\n",
      "3\n",
      "3\n",
      "4\n",
      "5\n",
      "8\n",
      "9\n"
     ]
    }
   ],
   "source": [
    "# 선택 정렬 : 메모리 초과\n",
    "n = int(input())\n",
    "num_list = []\n",
    "\n",
    "for _ in range(n) :\n",
    "    num_list.append(int(input()))\n",
    "    \n",
    "for i in range(len(num_list)) :\n",
    "    min_index = i\n",
    "    for j in range(i+1, len(num_list)) :\n",
    "        if num_list[min_index] > num_list[j] :\n",
    "            min_index = j\n",
    "    num_list[i], num_list[min_index] = num_list[min_index], num_list[i]\n",
    "\n",
    "for i in num_list :\n",
    "    print(i, end = '\\n')"
   ]
  },
  {
   "cell_type": "markdown",
   "metadata": {},
   "source": [
    "#### 카운팅 정렬, 계수 정렬을 사용한다.\n",
    "\n",
    "- 10000이하의 자연수라는 범위를 줬기에 메모리 부족 현상은 방지 가능할 것이다."
   ]
  },
  {
   "cell_type": "code",
   "execution_count": 34,
   "metadata": {},
   "outputs": [
    {
     "name": "stdout",
     "output_type": "stream",
     "text": [
      "10\n",
      "5\n",
      "2\n",
      "3\n",
      "1\n",
      "4\n",
      "2\n",
      "3\n",
      "5\n",
      "1\n",
      "7\n",
      "1\n",
      "1\n",
      "2\n",
      "2\n",
      "3\n",
      "3\n",
      "4\n",
      "5\n",
      "5\n",
      "7\n"
     ]
    }
   ],
   "source": [
    "n = int(input())\n",
    "num_list = [0] * 10001\n",
    "\n",
    "# 입력 케이스만큼 수 입력\n",
    "for i in range(n) :\n",
    "    input_num = int(input())\n",
    "    # 수가 입력될 때마다 해당 위치 + 1\n",
    "    num_list[input_num] += 1\n",
    "\n",
    "# 10000까지 반복하면서\n",
    "for i in range(10001) :\n",
    "    if num_list[i] != 0 : # 한번이라도 거쳐갔으면\n",
    "        for j in range(num_list[i]) : # +1한만큼\n",
    "            print(i) # 해당 위치 출력 반복"
   ]
  },
  {
   "cell_type": "markdown",
   "metadata": {},
   "source": [
    "**2108. 통계학**\n",
    "\n",
    "\n",
    "수를 처리하는 것은 통계학에서 상당히 중요한 일이다. 통계학에서 N개의 수를 대표하는 기본 통계값에는 다음과 같은 것들이 있다. 단, N은 홀수라고 가정하자.\n",
    "\n",
    "산술평균 : N개의 수들의 합을 N으로 나눈 값\n",
    "\n",
    "중앙값 : N개의 수들을 증가하는 순서로 나열했을 경우 그 중앙에 위치하는 값\n",
    "\n",
    "최빈값 : N개의 수들 중 가장 많이 나타나는 값\n",
    "\n",
    "범위 : N개의 수들 중 최댓값과 최솟값의 차이\n",
    "\n",
    "N개의 수가 주어졌을 때, 네 가지 기본 통계값을 구하는 프로그램을 작성하시오.\n",
    "\n",
    "#### 입력\n",
    "첫째 줄에 수의 개수 N(1 ≤ N ≤ 500,000)이 주어진다. 단, N은 홀수이다. 그 다음 N개의 줄에는 정수들이 주어진다. 입력되는 정수의 절댓값은 4,000을 넘지 않는다.\n",
    "\n",
    "#### 출력\n",
    "첫째 줄에는 산술평균을 출력한다. 소수점 이하 첫째 자리에서 반올림한 값을 출력한다.\n",
    "\n",
    "둘째 줄에는 중앙값을 출력한다.\n",
    "\n",
    "셋째 줄에는 최빈값을 출력한다. 여러 개 있을 때에는 최빈값 중 두 번째로 작은 값을 출력한다.\n",
    "\n",
    "넷째 줄에는 범위를 출력한다.\n",
    "\n",
    "#### 예제 입력 1 \n",
    "5<br>\n",
    "1<br>\n",
    "3<br>\n",
    "8<br>\n",
    "-2<br>\n",
    "2<br>\n",
    "-------\n",
    "5<br>\n",
    "-1<br>\n",
    "-2<br>\n",
    "-3<br>\n",
    "-1<br>\n",
    "-2<br>\n",
    "#### 예제 출력 1 \n",
    "2<br>\n",
    "2<br>\n",
    "1<br>\n",
    "10<br>\n",
    "-----------\n",
    "-2<br>\n",
    "-2<br>\n",
    "-1<br>\n",
    "2<br>"
   ]
  },
  {
   "cell_type": "code",
   "execution_count": null,
   "metadata": {},
   "outputs": [],
   "source": [
    "from collections import Counter\n",
    "\n",
    "n = int(input())\n",
    "n_list = []\n",
    "\n",
    "for _ in range(n) :\n",
    "    n_list.append(int(input()))\n",
    "n_list = sorted(n_list)\n",
    "\n",
    "def mean_x (n) :\n",
    "    return round(sum(n)/len(n))\n",
    "\n",
    "def median_x (n) :\n",
    "    idx = (len(n_list) + 1)//2\n",
    "    return n[idx-1]\n",
    "\n",
    "def count_x (n) :\n",
    "    d = Counter(n)\n",
    "    sort_d = sorted(d.items(),key = lambda x : x[1], reverse = True)\n",
    "    return sort_d[1][0]\n",
    "\n",
    "def range_x (n) :\n",
    "    return max(n) - min(n)\n",
    "\n",
    "\n",
    "print(mean_x(n_list))\n",
    "print(median_x(n_list))\n",
    "print(count_x(n_list))\n",
    "print(range_x(n_list))"
   ]
  },
  {
   "cell_type": "markdown",
   "metadata": {},
   "source": [
    "처음에 이렇게 풀었다가 틀렸다."
   ]
  },
  {
   "cell_type": "code",
   "execution_count": 186,
   "metadata": {},
   "outputs": [
    {
     "name": "stdout",
     "output_type": "stream",
     "text": [
      "5\n",
      "-1\n",
      "-2\n",
      "-3\n",
      "-1\n",
      "-2\n",
      "-2\n",
      "-2\n",
      "-1\n",
      "2\n"
     ]
    }
   ],
   "source": [
    "from collections import Counter\n",
    "# 수 입력\n",
    "n = int(input())\n",
    "n_list = []\n",
    "\n",
    "# 리스트에 수 생성\n",
    "for _ in range(n) :\n",
    "    n_list.append(int(input()))\n",
    "n_list = sorted(n_list) # 리스트 정렬(내림차순)\n",
    "\n",
    "# 평균, 중앙값 구하기\n",
    "print(round(sum(n_list)/len(n_list)))\n",
    "print(n_list[(len(n_list)+1)//2 - 1])\n",
    "# 최빈값 구하기(수마다 개수 세서 빈도수별로 오름차순 정렬)\n",
    "d = Counter(n_list)\n",
    "sort_d = sorted(d.items(),key = lambda x : x[1], reverse = True)\n",
    "if len(sort_d) == 1 or sort_d[0][1] > sort_d[1][1] : # 만약 리스트 원소가 1개거나 그 다음 최빈값보다 많을 경우엔\n",
    "    print(sort_d[0][0]) # 정렬 맨 앞값 출력\n",
    "else :\n",
    "    print(sort_d[1][0]) # 아닐경우 그다음 값 출력(2번째로 작은값 출력이기 때문)\n",
    "print(max(n_list) - min(n_list)) # 범위는 최댓값 - 최솟값으로 출력"
   ]
  },
  {
   "cell_type": "code",
   "execution_count": 187,
   "metadata": {
    "scrolled": true
   },
   "outputs": [
    {
     "data": {
      "text/plain": [
       "[(-2, 2), (-1, 2), (-3, 1)]"
      ]
     },
     "execution_count": 187,
     "metadata": {},
     "output_type": "execute_result"
    }
   ],
   "source": [
    "sort_d # 최빈값 정렬 결과"
   ]
  },
  {
   "cell_type": "markdown",
   "metadata": {},
   "source": [
    "**1427. 소트인사이드**\n",
    "\n",
    "#### 문제\n",
    "배열을 정렬하는 것은 쉽다. 수가 주어지면, 그 수의 각 자리수를 내림차순으로 정렬해보자.\n",
    "\n",
    "#### 입력\n",
    "첫째 줄에 정렬하려고 하는 수 N이 주어진다. N은 1,000,000,000보다 작거나 같은 자연수이다.\n",
    "\n",
    "#### 출력\n",
    "첫째 줄에 자리수를 내림차순으로 정렬한 수를 출력한다.\n",
    "\n",
    "#### 예제 입력 1 \n",
    "2143\n",
    "#### 예제 출력 1 \n",
    "4321\n",
    "#### 예제 입력 2 \n",
    "999998999\n",
    "#### 예제 출력 2 \n",
    "999999998\n",
    "#### 예제 입력 3 \n",
    "61423\n",
    "#### 예제 출력 3 \n",
    "64321\n",
    "#### 예제 입력 4 \n",
    "500613009\n",
    "#### 예제 출력 4 \n",
    "965310000"
   ]
  },
  {
   "cell_type": "code",
   "execution_count": 193,
   "metadata": {},
   "outputs": [
    {
     "name": "stdout",
     "output_type": "stream",
     "text": [
      "500613009\n",
      "965310000\n"
     ]
    }
   ],
   "source": [
    "n = int(input())\n",
    "\n",
    "num_list = list(str(n))\n",
    "\n",
    "for i in range(len(num_list)) :\n",
    "    min_index = i\n",
    "    for j in range(i,len(num_list)) :\n",
    "        if int(num_list[min_index]) < int(num_list[j]) :\n",
    "            min_index = j\n",
    "        else : \n",
    "            pass\n",
    "    num_list[i], num_list[min_index] = num_list[min_index],num_list[i]\n",
    "    \n",
    "nums = ''.join(num_list)\n",
    "\n",
    "print(int(nums))"
   ]
  },
  {
   "cell_type": "markdown",
   "metadata": {},
   "source": [
    "선택정렬$(n^2)$를 이용하여 풀었다."
   ]
  },
  {
   "cell_type": "markdown",
   "metadata": {},
   "source": [
    "**11650. 좌표 정렬하기**\n",
    "\n",
    "#### 문제\n",
    "2차원 평면 위의 점 N개가 주어진다. 좌표를 x좌표가 증가하는 순으로, x좌표가 같으면 y좌표가 증가하는 순서로 정렬한 다음 출력하는 프로그램을 작성하시오.\n",
    "\n",
    "#### 입력\n",
    "첫째 줄에 점의 개수 N (1 ≤ N ≤ 100,000)이 주어진다. 둘째 줄부터 N개의 줄에는 i번점의 위치 xi와 yi가 주어진다. (-100,000 ≤ xi, yi ≤ 100,000) 좌표는 항상 정수이고, 위치가 같은 두 점은 없다.\n",
    "\n",
    "#### 출력\n",
    "첫째 줄부터 N개의 줄에 점을 정렬한 결과를 출력한다.\n",
    "\n",
    "#### 예제 입력 1 \n",
    "5<br>\n",
    "3 4<br>\n",
    "1 1<br>\n",
    "1 -1<br>\n",
    "2 2<br>\n",
    "3 3<br>\n",
    "#### 예제 출력 1 \n",
    "1 -1<br>\n",
    "1 1<br>\n",
    "2 2<br>\n",
    "3 3<br>\n",
    "3 4<br>"
   ]
  },
  {
   "cell_type": "code",
   "execution_count": null,
   "metadata": {},
   "outputs": [],
   "source": [
    "import sys\n",
    "\n",
    "case = int(sys.stdin.readline())\n",
    "n_list = []\n",
    "for _ in range(case) :\n",
    "    n_list.append(tuple(map(int,sys.stdin.readline().split())))\n",
    "\n",
    "for i in range(len(n_list)) :\n",
    "    for j in range(i,0,-1) :\n",
    "        if n_list[j][0] > n_list[j-1][0] :\n",
    "            n_list[j],n_list[j-1] = n_list[j-1], n_list[j]\n",
    "        elif n_list[j][0] == n_list[j-1][0] :\n",
    "            if n_list[j][1] > n_list[j-1][1] :\n",
    "                n_list[j],n_list[j-1] = n_list[j-1], n_list[j]\n",
    "        else :\n",
    "            break\n",
    "\n",
    "for x,y in n_list[::-1] :\n",
    "    print(x,y)"
   ]
  },
  {
   "cell_type": "markdown",
   "metadata": {},
   "source": [
    "시간 초과가 뜬다 버블정렬의 복잡도$O(N^2)$가 걸리나보다."
   ]
  },
  {
   "cell_type": "code",
   "execution_count": 266,
   "metadata": {
    "scrolled": true
   },
   "outputs": [
    {
     "name": "stdout",
     "output_type": "stream",
     "text": [
      "5\n",
      "3 4\n",
      "1 1\n",
      "1 -1\n",
      "2 2\n",
      "3 3\n",
      "1 -1\n",
      "1 1\n",
      "2 2\n",
      "3 3\n",
      "3 4\n"
     ]
    }
   ],
   "source": [
    "case = int(input())\n",
    "n_list = []\n",
    "for _ in range(case) :\n",
    "    n_list.append(tuple(map(int,input().split())))\n",
    "    \n",
    "sort_list = sorted(n_list, key = lambda x : (x[0],x[1]))\n",
    "\n",
    "for x,y in sort_list :\n",
    "    print(x,y)"
   ]
  },
  {
   "cell_type": "markdown",
   "metadata": {},
   "source": [
    "sorted 에서 key를 하나만 안넣어도 된다. key를 기준으로 순서대로 정렬을 할 수 있다."
   ]
  },
  {
   "cell_type": "code",
   "execution_count": 270,
   "metadata": {},
   "outputs": [],
   "source": [
    "def solution(numbers):\n",
    "    numbers = list(map(str, numbers))\n",
    "    numbers.sort(key=lambda x: x * 3, reverse=True)\n",
    "    return str(int(''.join(numbers)))\n"
   ]
  },
  {
   "cell_type": "code",
   "execution_count": 284,
   "metadata": {},
   "outputs": [],
   "source": [
    "numbers = [2,20,21,201]"
   ]
  },
  {
   "cell_type": "code",
   "execution_count": 285,
   "metadata": {},
   "outputs": [
    {
     "name": "stdout",
     "output_type": "stream",
     "text": [
      "['2', '20', '21', '201']\n"
     ]
    }
   ],
   "source": [
    "numbers = list(map(str, numbers))\n",
    "print(numbers)"
   ]
  },
  {
   "cell_type": "code",
   "execution_count": 286,
   "metadata": {},
   "outputs": [
    {
     "data": {
      "text/plain": [
       "['2', '21', '20', '201']"
      ]
     },
     "execution_count": 286,
     "metadata": {},
     "output_type": "execute_result"
    }
   ],
   "source": [
    "sorted(numbers, key = lambda x : x*3 , reverse = True)"
   ]
  },
  {
   "cell_type": "code",
   "execution_count": 273,
   "metadata": {},
   "outputs": [
    {
     "data": {
      "text/plain": [
       "'6210'"
      ]
     },
     "execution_count": 273,
     "metadata": {},
     "output_type": "execute_result"
    }
   ],
   "source": [
    "solution(numbers)"
   ]
  }
 ],
 "metadata": {
  "kernelspec": {
   "display_name": "Python 3 (ipykernel)",
   "language": "python",
   "name": "python3"
  },
  "language_info": {
   "codemirror_mode": {
    "name": "ipython",
    "version": 3
   },
   "file_extension": ".py",
   "mimetype": "text/x-python",
   "name": "python",
   "nbconvert_exporter": "python",
   "pygments_lexer": "ipython3",
   "version": "3.8.5"
  }
 },
 "nbformat": 4,
 "nbformat_minor": 4
}
