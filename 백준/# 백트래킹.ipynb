{
 "cells": [
  {
   "cell_type": "markdown",
   "metadata": {},
   "source": [
    "**15649. N과 M(1)**\n",
    "\n",
    "\n",
    "#### 문제\n",
    "자연수 N과 M이 주어졌을 때, 아래 조건을 만족하는 길이가 M인 수열을 모두 구하는 프로그램을 작성하시오.\n",
    "\n",
    "1부터 N까지 자연수 중에서 중복 없이 M개를 고른 수열\n",
    "\n",
    "#### 입력\n",
    "첫째 줄에 자연수 N과 M이 주어진다. (1 ≤ M ≤ N ≤ 8)\n",
    "\n",
    "#### 출력\n",
    "한 줄에 하나씩 문제의 조건을 만족하는 수열을 출력한다. 중복되는 수열을 여러 번 출력하면 안되며, 각 수열은 공백으로 구분해서 출력해야 한다.\n",
    "\n",
    "수열은 사전 순으로 증가하는 순서로 출력해야 한다.\n",
    "\n",
    "#### 예제 입력 1 \n",
    "3 1\n",
    "\n",
    "#### 예제 출력 1 \n",
    "1<br>\n",
    "2<br>\n",
    "3\n",
    "#### 예제 입력 2\n",
    "4 2\n",
    "\n",
    "#### 예제 출력 2\n",
    "1 2<br>\n",
    "1 3<br>\n",
    "1 4<br>\n",
    "2 1<br>\n",
    "2 3<br>\n",
    "2 4<br>\n",
    "3 1<br>\n",
    "3 2<br>\n",
    "3 4<br>\n",
    "4 1<br>\n",
    "4 2<br>\n",
    "4 3"
   ]
  },
  {
   "cell_type": "code",
   "execution_count": 33,
   "metadata": {},
   "outputs": [
    {
     "name": "stdout",
     "output_type": "stream",
     "text": [
      "3 1\n"
     ]
    }
   ],
   "source": [
    "n,m = map(int,input().split())"
   ]
  },
  {
   "cell_type": "code",
   "execution_count": null,
   "metadata": {},
   "outputs": [],
   "source": [
    "#부분집합 기본코드\n",
    "def printSet(n):\n",
    "    for i in range(n):\n",
    "        if A[i] == 1:\n",
    "            print(data[i], end = \" \")\n",
    "    print()\n",
    "    \n",
    "def powerset(k, n):            # k는 A배열의 k인덱스의 포함 유무를 판별한다.\n",
    "    if n == k:\n",
    "        printSet(k)\n",
    "    else:\n",
    "        A[k] = 1\n",
    "        powerset(k+1, n)       # 배열 A에 체크하고 다음 인덱스로 넘어간다\n",
    "        A[k] = 0               # 재귀로 되돌아와서 체크 했던걸 다시 원상복귀시킨다\n",
    "        powerset(k+1, n)\n",
    "\n",
    "data = 구하려는 리스트\n",
    "n = len(data)                  # 부분집합을 구하는 리스트의 수\n",
    "A = [0]* n                     # 포함 유무를 체크할 리스트 (0이 미포함, 1이 포함)\n",
    " \n",
    "\n",
    "백트래킹은 완전검색에서 가지치기를 한 것이다. 아래는 가지치기를 하는 코드이다.\n",
    "\n",
    "# 부분집합의 합\n",
    "def powerset(k, n, sum):\n",
    "    if sum > 10:          # 부분집합의 합을 구하는 문제에서 구하고자하는 값인 10을 넘는다면 더이상 계산할 필요가 없으므로 return해버린다.(가지치기)\n",
    "        return\n",
    "    if n == k:\n",
    "        printSet(k, sum)\n",
    "    else:\n",
    "        A[k] = 1\n",
    "        powerset(k+1, n, sum+data[k])       \n",
    "        A[k] = 0               \n",
    "        powerset(k+1, n, sum)"
   ]
  },
  {
   "cell_type": "code",
   "execution_count": null,
   "metadata": {},
   "outputs": [],
   "source": []
  },
  {
   "cell_type": "code",
   "execution_count": null,
   "metadata": {},
   "outputs": [],
   "source": []
  }
 ],
 "metadata": {
  "kernelspec": {
   "display_name": "Python 3 (ipykernel)",
   "language": "python",
   "name": "python3"
  },
  "language_info": {
   "codemirror_mode": {
    "name": "ipython",
    "version": 3
   },
   "file_extension": ".py",
   "mimetype": "text/x-python",
   "name": "python",
   "nbconvert_exporter": "python",
   "pygments_lexer": "ipython3",
   "version": "3.8.5"
  }
 },
 "nbformat": 4,
 "nbformat_minor": 4
}
