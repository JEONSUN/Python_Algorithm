{
 "cells": [
  {
   "cell_type": "markdown",
   "metadata": {},
   "source": [
    "**1260. DFS와 BFS**\n",
    "\n",
    "\n",
    "#### 문제\n",
    "그래프를 DFS로 탐색한 결과와 BFS로 탐색한 결과를 출력하는 프로그램을 작성하시오. 단, 방문할 수 있는 정점이 여러 개인 경우에는 정점 번호가 작은 것을 먼저 방문하고, 더 이상 방문할 수 있는 점이 없는 경우 종료한다. 정점 번호는 1번부터 N번까지이다.\n",
    "\n",
    "#### 입력\n",
    "첫째 줄에 정점의 개수 N(1 ≤ N ≤ 1,000), 간선의 개수 M(1 ≤ M ≤ 10,000), 탐색을 시작할 정점의 번호 V가 주어진다. 다음 M개의 줄에는 간선이 연결하는 두 정점의 번호가 주어진다. 어떤 두 정점 사이에 여러 개의 간선이 있을 수 있다. 입력으로 주어지는 간선은 양방향이다.\n",
    "\n",
    "#### 출력\n",
    "첫째 줄에 DFS를 수행한 결과를, 그 다음 줄에는 BFS를 수행한 결과를 출력한다. V부터 방문된 점을 순서대로 출력하면 된다.\n",
    "\n",
    "#### 예제 입력 1 \n",
    "4 5 1<br>\n",
    "1 2<br>\n",
    "1 3<br>\n",
    "1 4<br>\n",
    "2 4<br>\n",
    "3 4<br>\n",
    "\n",
    "#### 예제 출력 1 \n",
    "1 2 4 3<br>\n",
    "1 2 3 4<br>"
   ]
  },
  {
   "cell_type": "code",
   "execution_count": 152,
   "metadata": {},
   "outputs": [
    {
     "name": "stdout",
     "output_type": "stream",
     "text": [
      "4 5 1\n"
     ]
    }
   ],
   "source": [
    "# 점의 개수와 간선의 개수, 시작 노드 입력\n",
    "n,m,node = map(int,input().split())"
   ]
  },
  {
   "cell_type": "code",
   "execution_count": 153,
   "metadata": {},
   "outputs": [
    {
     "name": "stdout",
     "output_type": "stream",
     "text": [
      "1 2\n",
      "1 3\n",
      "1 4\n",
      "2 4\n",
      "3 4\n"
     ]
    }
   ],
   "source": [
    "# 그래프 생성(먼저 빈 리스트 생성)\n",
    "graph = [[] for _ in range(n+1)]\n",
    "\n",
    "for i in range(m) :\n",
    "    a,b = map(int,input().split())\n",
    "    graph[a].append(b)\n",
    "    graph[b].append(a)\n",
    "    graph[a].sort()\n",
    "    graph[b].sort()"
   ]
  },
  {
   "cell_type": "code",
   "execution_count": 154,
   "metadata": {},
   "outputs": [],
   "source": [
    "# dfs 구현\n",
    "def dfs(graph, node, visited) :\n",
    "    visited[node] = True # 방문한 노트면\n",
    "    print(node, end = ' ') # 노드 출력\n",
    "    \n",
    "    for i in graph[node] : # 그래프의 노드와 인접한 노드를 출력하며\n",
    "        if not visited[i] : # 해당 위치 방문 안했으면\n",
    "            dfs(graph, i, visited) # 해당 노드로 dfs 진행"
   ]
  },
  {
   "cell_type": "code",
   "execution_count": 155,
   "metadata": {},
   "outputs": [
    {
     "name": "stdout",
     "output_type": "stream",
     "text": [
      "1 2 4 3 "
     ]
    }
   ],
   "source": [
    "visited = [False] * (n+1) # 하나도 방문 안한 리스트 생성 \n",
    "dfs(graph,node, visited)"
   ]
  },
  {
   "cell_type": "code",
   "execution_count": 156,
   "metadata": {},
   "outputs": [],
   "source": [
    "from collections import deque\n",
    "def bfs(graph, start, visited) :\n",
    "    que = deque([start]) # deque를 생성 : 효율이 리스트보다 좋다. \n",
    "    visited[start] = True # 해당 노드 방문 표시\n",
    "    \n",
    "    while que : \n",
    "        v = que.popleft() # 들어온 노드를 처음부터 꺼내서\n",
    "        print(v, end  = ' ')\n",
    "        \n",
    "        for i in graph[v] : # 해당 노드에 인접한 노드들을 확인하면서\n",
    "            if not visited[i] : # 만약 방문한 곳이 없다면\n",
    "                que.append(i) # que에 업데이트\n",
    "                visited[i] = True # 해당위치 방문 표시"
   ]
  },
  {
   "cell_type": "code",
   "execution_count": 157,
   "metadata": {},
   "outputs": [
    {
     "name": "stdout",
     "output_type": "stream",
     "text": [
      "1 2 3 4 "
     ]
    }
   ],
   "source": [
    "visited = [False] * (n+1) # 하나도 방문 안한 리스트 생성 \n",
    "bfs(graph,node, visited)"
   ]
  },
  {
   "cell_type": "code",
   "execution_count": 159,
   "metadata": {},
   "outputs": [
    {
     "name": "stdout",
     "output_type": "stream",
     "text": [
      "4 5 1\n",
      "1 2\n",
      "1 3\n",
      "1 4\n",
      "2 4\n",
      "3 4\n",
      "1 2 4 3 \n",
      "1 2 3 4 "
     ]
    }
   ],
   "source": [
    "from collections import deque\n",
    "\n",
    "# 점의 개수와 간선의 개수, 시작 노드 입력\n",
    "n,m,node = map(int,input().split())\n",
    "\n",
    "# 그래프 생성(먼저 빈 리스트 생성)\n",
    "graph = [[] for _ in range(n+1)]\n",
    "\n",
    "for i in range(m) :\n",
    "    a,b = map(int,input().split())\n",
    "    graph[a].append(b)\n",
    "    graph[b].append(a)\n",
    "    graph[a].sort()\n",
    "    graph[b].sort()\n",
    "    \n",
    "# dfs 구현\n",
    "def dfs(graph, node, visited) :\n",
    "    visited[node] = True # 방문한 노트면\n",
    "    print(node, end = ' ') # 노드 출력\n",
    "    \n",
    "    for i in graph[node] : # 그래프의 노드와 인접한 노드를 출력하며\n",
    "        if not visited[i] : # 해당 위치 방문 안했으면\n",
    "            dfs(graph, i, visited) # 해당 노드로 dfs 진행\n",
    "            \n",
    "def bfs(graph, node, visited) :\n",
    "    que = deque([node]) # deque를 생성 : 효율이 리스트보다 좋다. \n",
    "    visited[node] = True # 해당 노드 방문 표시\n",
    "    \n",
    "    while que : \n",
    "        v = que.popleft() # 들어온 노드를 처음부터 꺼내서\n",
    "        print(v, end  = ' ')\n",
    "        \n",
    "        for i in graph[v] : # 해당 노드에 인접한 노드들을 확인하면서\n",
    "            if not visited[i] : # 만약 방문한 곳이 없다면\n",
    "                que.append(i) # que에 업데이트\n",
    "                visited[i] = True # 해당위치 방문 표시\n",
    "                \n",
    "visited = [False] * (n+1) # 하나도 방문 안한 리스트 생성 \n",
    "dfs(graph,node, visited)\n",
    "print()\n",
    "visited = [False] * (n+1) # 하나도 방문 안한 리스트 생성 \n",
    "bfs(graph,node, visited)"
   ]
  },
  {
   "cell_type": "code",
   "execution_count": 149,
   "metadata": {},
   "outputs": [
    {
     "data": {
      "text/plain": [
       "[[], [2, 3, 4], [1, 4], [1, 4], [1, 2, 3]]"
      ]
     },
     "execution_count": 149,
     "metadata": {},
     "output_type": "execute_result"
    }
   ],
   "source": [
    "graph"
   ]
  },
  {
   "cell_type": "markdown",
   "metadata": {},
   "source": [
    "**2606. 바이러스**\n",
    "\n",
    "#### 문제\n",
    "신종 바이러스인 웜 바이러스는 네트워크를 통해 전파된다. 한 컴퓨터가 웜 바이러스에 걸리면 그 컴퓨터와 네트워크 상에서 연결되어 있는 모든 컴퓨터는 웜 바이러스에 걸리게 된다.\n",
    "\n",
    "예를 들어 7대의 컴퓨터가 <그림 1>과 같이 네트워크 상에서 연결되어 있다고 하자. 1번 컴퓨터가 웜 바이러스에 걸리면 웜 바이러스는 2번과 5번 컴퓨터를 거쳐 3번과 6번 컴퓨터까지 전파되어 2, 3, 5, 6 네 대의 컴퓨터는 웜 바이러스에 걸리게 된다. 하지만 4번과 7번 컴퓨터는 1번 컴퓨터와 네트워크상에서 연결되어 있지 않기 때문에 영향을 받지 않는다.\n",
    "\n",
    "어느 날 1번 컴퓨터가 웜 바이러스에 걸렸다. 컴퓨터의 수와 네트워크 상에서 서로 연결되어 있는 정보가 주어질 때, 1번 컴퓨터를 통해 웜 바이러스에 걸리게 되는 컴퓨터의 수를 출력하는 프로그램을 작성하시오.\n",
    "\n",
    "#### 입력\n",
    "첫째 줄에는 컴퓨터의 수가 주어진다. 컴퓨터의 수는 100 이하이고 각 컴퓨터에는 1번 부터 차례대로 번호가 매겨진다. 둘째 줄에는 네트워크 상에서 직접 연결되어 있는 컴퓨터 쌍의 수가 주어진다. 이어서 그 수만큼 한 줄에 한 쌍씩 네트워크 상에서 직접 연결되어 있는 컴퓨터의 번호 쌍이 주어진다.\n",
    "\n",
    "#### 출력\n",
    "1번 컴퓨터가 웜 바이러스에 걸렸을 때, 1번 컴퓨터를 통해 웜 바이러스에 걸리게 되는 컴퓨터의 수를 첫째 줄에 출력한다.\n",
    "\n",
    "#### 예제 입력 1 \n",
    "7<br>\n",
    "6<br>\n",
    "1 2<br>\n",
    "2 3<br>\n",
    "1 5<br>\n",
    "5 2<br>\n",
    "5 6<br>\n",
    "4 7<br>\n",
    "#### 예제 출력 1 \n",
    "4"
   ]
  },
  {
   "cell_type": "code",
   "execution_count": 161,
   "metadata": {},
   "outputs": [
    {
     "name": "stdout",
     "output_type": "stream",
     "text": [
      "7\n",
      "6\n"
     ]
    }
   ],
   "source": [
    "n = int(input())\n",
    "m = int(input())"
   ]
  },
  {
   "cell_type": "code",
   "execution_count": 162,
   "metadata": {},
   "outputs": [
    {
     "name": "stdout",
     "output_type": "stream",
     "text": [
      "1 2\n",
      "2 3\n",
      "1 5\n",
      "5 2\n",
      "5 6\n",
      "4 7\n"
     ]
    }
   ],
   "source": [
    "graph = [[] for i in range(n+1)]\n",
    "\n",
    "for i in range(m) :\n",
    "    a,b = map(int, input().split())\n",
    "    graph[a].append(b)\n",
    "    graph[b].append(a)\n",
    "    graph[a].sort()\n",
    "    graph[b].sort()"
   ]
  },
  {
   "cell_type": "code",
   "execution_count": 180,
   "metadata": {},
   "outputs": [],
   "source": [
    "def dfs(graph,node,visited) :\n",
    "    visited[node] = True\n",
    "    \n",
    "    for i in graph[node] :\n",
    "        if not visited[i] :\n",
    "            node = i\n",
    "            dfs(graph,node,visited)"
   ]
  },
  {
   "cell_type": "code",
   "execution_count": 183,
   "metadata": {
    "scrolled": false
   },
   "outputs": [
    {
     "data": {
      "text/plain": [
       "[False, True, True, True, False, True, True, False]"
      ]
     },
     "execution_count": 183,
     "metadata": {},
     "output_type": "execute_result"
    }
   ],
   "source": [
    "visited = [False]*(n+1)\n",
    "dfs(graph,1,visited)\n",
    "\n",
    "result = len(list(filter(lambda x : x == True, visited)))\n",
    "if result == 1 :\n",
    "    print(1)\n",
    "else :\n",
    "    print(result - 1)"
   ]
  },
  {
   "attachments": {
    "image.png": {
     "image/png": "[encoded data removed]"
    }
   },
   "cell_type": "markdown",
   "metadata": {},
   "source": [
    "**2667. 단지번호붙이기**\n",
    "#### 문제\n",
    "<그림 1>과 같이 정사각형 모양의 지도가 있다. 1은 집이 있는 곳을, 0은 집이 없는 곳을 나타낸다. 철수는 이 지도를 가지고 연결된 집의 모임인 단지를 정의하고, 단지에 번호를 붙이려 한다. 여기서 연결되었다는 것은 어떤 집이 좌우, 혹은 아래위로 다른 집이 있는 경우를 말한다. 대각선상에 집이 있는 경우는 연결된 것이 아니다. <그림 2>는 <그림 1>을 단지별로 번호를 붙인 것이다. 지도를 입력하여 단지수를 출력하고, 각 단지에 속하는 집의 수를 오름차순으로 정렬하여 출력하는 프로그램을 작성하시오.\n",
    "\n",
    "\n",
    "![image.png](attachment:image.png)\n",
    "#### 입력\n",
    "첫 번째 줄에는 지도의 크기 N(정사각형이므로 가로와 세로의 크기는 같으며 5≤N≤25)이 입력되고, 그 다음 N줄에는 각각 N개의 자료(0혹은 1)가 입력된다.\n",
    "\n",
    "#### 출력\n",
    "첫 번째 줄에는 총 단지수를 출력하시오. 그리고 각 단지내 집의 수를 오름차순으로 정렬하여 한 줄에 하나씩 출력하시오.\n",
    "\n",
    "#### 예제 입력 1 \n",
    "7<br>\n",
    "0110100<br>\n",
    "0110101<br>\n",
    "1110101<br>\n",
    "0000111<br>\n",
    "0100000<br>\n",
    "0111110<br>\n",
    "0111000<br>\n",
    "\n",
    "#### 예제 출력 1 \n",
    "3<br>\n",
    "7<br>\n",
    "8<br>\n",
    "9"
   ]
  },
  {
   "cell_type": "code",
   "execution_count": 327,
   "metadata": {
    "scrolled": false
   },
   "outputs": [
    {
     "name": "stdout",
     "output_type": "stream",
     "text": [
      "7\n",
      "0110100\n",
      "0110101\n",
      "1110101\n",
      "0000111\n",
      "0100000\n",
      "0111110\n",
      "0111000\n"
     ]
    }
   ],
   "source": [
    "n = int(input())\n",
    "\n",
    "# 행렬 입력\n",
    "graph = []\n",
    "for i in range(1,n+1) :\n",
    "    a = list(map(int,input()))\n",
    "    graph.append(a)"
   ]
  },
  {
   "cell_type": "code",
   "execution_count": 328,
   "metadata": {},
   "outputs": [],
   "source": [
    "# 상하좌우 입력 커맨드\n",
    "ud = [1,-1,0,0]\n",
    "lr = [0,0,1,-1]"
   ]
  },
  {
   "cell_type": "code",
   "execution_count": 329,
   "metadata": {},
   "outputs": [
    {
     "name": "stdout",
     "output_type": "stream",
     "text": [
      "3\n",
      "7\n",
      "8\n",
      "9\n"
     ]
    }
   ],
   "source": [
    "# 집을 세기 위해 생성\n",
    "cnt = 0\n",
    "grp = []\n",
    "#  bfs 구현\n",
    "def bfs(x,y) :\n",
    "    global cnt\n",
    "    if x <= -1 or x >= n or y <= -1 or y >= n : # 해당 범위를 좌표가 벗어날경우 정지\n",
    "        return False\n",
    "    \n",
    "    if graph[x][y] == 1 : # 집이 있으면\n",
    "        cnt += 1 # 한개씩 세기\n",
    "        graph[x][y] = 0  # 방문한곳은 0으로\n",
    "        for i in range(4) : # 각각의 커맨드별로 좌표 이동하여 탐색\n",
    "            bfs(x+ud[i],y+lr[i])\n",
    "        return True # 집이 존재함을 반환\n",
    "    \n",
    "            \n",
    "for i in range(n):\n",
    "    for j in range(n):\n",
    "        if bfs(i,j)==True: # 탐색한곳이 True면\n",
    "            grp.append(cnt) # 집 개수 누적시킨만큼 반환\n",
    "            cnt = 0\n",
    "            \n",
    "print(len(grp)) \n",
    "grp.sort()\n",
    "for i in grp:\n",
    "    print(i)"
   ]
  }
 ],
 "metadata": {
  "kernelspec": {
   "display_name": "Python 3 (ipykernel)",
   "language": "python",
   "name": "python3"
  },
  "language_info": {
   "codemirror_mode": {
    "name": "ipython",
    "version": 3
   },
   "file_extension": ".py",
   "mimetype": "text/x-python",
   "name": "python",
   "nbconvert_exporter": "python",
   "pygments_lexer": "ipython3",
   "version": "3.8.5"
  }
 },
 "nbformat": 4,
 "nbformat_minor": 4
}
