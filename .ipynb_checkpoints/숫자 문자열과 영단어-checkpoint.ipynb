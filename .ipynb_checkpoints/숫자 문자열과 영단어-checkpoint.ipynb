{
 "cells": [
  {
   "cell_type": "markdown",
   "metadata": {},
   "source": [
    "1478 → \"one4seveneight\"\n",
    "\n",
    "234567 → \"23four5six7\"\n",
    "\n",
    "10203 → \"1zerotwozero3\"\n",
    "\n",
    "다음과 같이 숫자의 일부 자릿수를 영단어로 바꿔라\n",
    "\n",
    "링크 : https://programmers.co.kr/learn/courses/30/lessons/81301"
   ]
  },
  {
   "cell_type": "code",
   "execution_count": 1,
   "metadata": {},
   "outputs": [],
   "source": [
    "# 일부 자릿수를 영단어로 바꾸기\n",
    "import random\n",
    "\n",
    "num_list = ['zero', 'one', 'two', 'three', 'four', 'five', 'six', 'seven', 'eight', 'nine']\n",
    "\n",
    "s = 1478\n",
    "s = str(s)\n",
    "# 2개의 임의의 자릿수를 영단어로\n",
    "for i in random.sample(s,2) :\n",
    "    s = s.replace(i, num_list[int(i)])"
   ]
  },
  {
   "cell_type": "code",
   "execution_count": 2,
   "metadata": {
    "scrolled": true
   },
   "outputs": [
    {
     "data": {
      "text/plain": [
       "'1four7eight'"
      ]
     },
     "execution_count": 2,
     "metadata": {},
     "output_type": "execute_result"
    }
   ],
   "source": [
    "# 출력결과\n",
    "s"
   ]
  },
  {
   "cell_type": "markdown",
   "metadata": {},
   "source": [
    "### 문제 : s가 의미하는 원래 숫자를 return 하도록 solution 함수를 완성해라."
   ]
  },
  {
   "cell_type": "code",
   "execution_count": 3,
   "metadata": {},
   "outputs": [],
   "source": [
    "# 영단어를 다시 숫자로 바꾸기\n",
    "def solution(s):\n",
    "    answer = 0\n",
    "    for i in num_list :\n",
    "        if i in s :\n",
    "            s = s.replace(i,str(num_list.index(i)))\n",
    "    answer = int(s)\n",
    "    \n",
    "    return answer"
   ]
  },
  {
   "cell_type": "code",
   "execution_count": 4,
   "metadata": {},
   "outputs": [
    {
     "data": {
      "text/plain": [
       "1478"
      ]
     },
     "execution_count": 4,
     "metadata": {},
     "output_type": "execute_result"
    }
   ],
   "source": [
    "solution(s)"
   ]
  }
 ],
 "metadata": {
  "kernelspec": {
   "display_name": "Python 3 (ipykernel)",
   "language": "python",
   "name": "python3"
  },
  "language_info": {
   "codemirror_mode": {
    "name": "ipython",
    "version": 3
   },
   "file_extension": ".py",
   "mimetype": "text/x-python",
   "name": "python",
   "nbconvert_exporter": "python",
   "pygments_lexer": "ipython3",
   "version": "3.8.5"
  }
 },
 "nbformat": 4,
 "nbformat_minor": 4
}
