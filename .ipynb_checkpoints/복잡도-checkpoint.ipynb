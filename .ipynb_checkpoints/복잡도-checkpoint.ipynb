{
 "cells": [
  {
   "cell_type": "markdown",
   "metadata": {},
   "source": [
    "# 복잡도\n",
    "\n",
    "**복잡도**는 알고리즘의 성능을 나타내는 척도이다.\n",
    "\n",
    "복잡도는 **시간 복잡도(time complexity)**와 **공간 복잡도(space complexity)**로 나눌 수 있다.\n",
    "\n",
    "**동일한 기능을 수행하는 알고리즘이 있다면 일반적으로 복잡도가 낮을수록 좋은 알고리즘이다.**\n",
    "\n",
    "\n",
    "\n",
    "### 시간 복잡도 \n",
    "\n",
    "- 특정한 크기의 입력에 대해 알고리즘이 얼마나 오래 걸리는지를 의미\n",
    "\n",
    "\n",
    "### 공간 복잡도\n",
    "\n",
    "- 특정한 크기의 입력에 대하여 알고리즘이 얼마나 많은 메모리를 차지하는지를 의미한다.\n",
    "\n",
    "\n",
    "***\n",
    "복잡도를 측정함으로써 우리는 다음 2가지를 계산할 수 있다.\n",
    "\n",
    "> **시간 복잡도** : 알고리즘을 위해 필요한 연산의 횟수\n",
    ">\n",
    "> **공간 복잡도** : 알고리즘을 위해 필요한 메모리의 양\n",
    "\n"
   ]
  },
  {
   "cell_type": "markdown",
   "metadata": {},
   "source": [
    "## 시간복잡도\n",
    "\n",
    "\n",
    "시간 복잡도를 표현할 때는 **빅오(Big-O) 표기법을 사용한다.**\n"
   ]
  },
  {
   "cell_type": "code",
   "execution_count": 1,
   "metadata": {},
   "outputs": [
    {
     "name": "stdout",
     "output_type": "stream",
     "text": [
      "15\n"
     ]
    }
   ],
   "source": [
    "array = [1,2,3,4,5]\n",
    "summary = 0\n",
    "\n",
    "for x in array :\n",
    "    summary += x\n",
    "    \n",
    "print(summary)"
   ]
  },
  {
   "cell_type": "markdown",
   "metadata": {},
   "source": [
    "위의 예제는 5개의 데이터를 받아 차례로 5회 더해준다.(N = 5) 이때, 연산 횟수는 N에 비례한 것을 알 수 있다.\n",
    "\n",
    "따라서 위에 코드에서 가장 영향력이 큰 부분은 N에 비례하는 연산을 수행하는 반복문 부분이므로 시간 복잡도를 **O(N)**으로 표기한다."
   ]
  },
  {
   "cell_type": "code",
   "execution_count": 2,
   "metadata": {},
   "outputs": [
    {
     "name": "stdout",
     "output_type": "stream",
     "text": [
      "8\n"
     ]
    }
   ],
   "source": [
    "a = 5\n",
    "b = 3\n",
    "print(a+ b)"
   ]
  },
  {
   "cell_type": "markdown",
   "metadata": {},
   "source": [
    "a와 b에 값을 대입하는 대입 연산과 출력 함수를 무시하고 보면, 위 코드의 연산 횟수는 1이다.\n",
    "\n",
    "이는 상수 연산이므로 시간 복잡도는 **O(1)**로 표기할 수 있다."
   ]
  },
  {
   "cell_type": "code",
   "execution_count": 4,
   "metadata": {},
   "outputs": [],
   "source": [
    "array = [1,2,3,4,5]\n",
    "\n",
    "for i in array :\n",
    "    for j in array :\n",
    "        temp = i + j"
   ]
  },
  {
   "cell_type": "markdown",
   "metadata": {},
   "source": [
    "위 코드는 데이터의 개수가 N개일 때 $O(N^2)$의 시간 복잡도를 가진다.\n",
    "\n",
    "2중 반목문을 이용하여 각 원소에 대한 다른 모든 원소의 곱셈 결과를 매번 출력하고 있기 때문이다.\n",
    "\n",
    "따라서 2중 반복문은 $M \\times N$만큼의 연산이 필요하다는 것을 유추할 수 있다."
   ]
  },
  {
   "cell_type": "markdown",
   "metadata": {},
   "source": [
    "### 빅오 표기법\n",
    "\n",
    "|**빅오 표기법**|**명칭**|\n",
    "|--------------|-----------------|\n",
    "|$O(1)$|상수 시간(Constant time)|\n",
    "|$O(logN)$|로그 시간(log time)|\n",
    "|$O(N)$|선형 시간|\n",
    "|$O(nlogN)$|로그 선형 시간|\n",
    "|$O(N^2)$|이차 시간|\n",
    "|$O(N^3)$|삼차 시간|\n",
    "|$O(2^n)$|지수 시간|\n"
   ]
  }
 ],
 "metadata": {
  "kernelspec": {
   "display_name": "Python 3 (ipykernel)",
   "language": "python",
   "name": "python3"
  },
  "language_info": {
   "codemirror_mode": {
    "name": "ipython",
    "version": 3
   },
   "file_extension": ".py",
   "mimetype": "text/x-python",
   "name": "python",
   "nbconvert_exporter": "python",
   "pygments_lexer": "ipython3",
   "version": "3.8.5"
  }
 },
 "nbformat": 4,
 "nbformat_minor": 4
}
