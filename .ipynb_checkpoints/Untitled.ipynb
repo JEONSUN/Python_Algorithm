{
 "cells": [
  {
   "cell_type": "markdown",
   "metadata": {},
   "source": [
    "문자열 s가 주어졌을 때, s가 펠린드롬인지 검사하고 맞으면 1, 틀리면 -1을 반환하는 함수를 구현해라"
   ]
  },
  {
   "cell_type": "code",
   "execution_count": 15,
   "metadata": {},
   "outputs": [],
   "source": [
    "def solution(a) :\n",
    "    if a == a[::-1] :\n",
    "        return 1\n",
    "    \n",
    "    else :\n",
    "        return -1"
   ]
  },
  {
   "cell_type": "code",
   "execution_count": 16,
   "metadata": {},
   "outputs": [
    {
     "name": "stdout",
     "output_type": "stream",
     "text": [
      "-1\n",
      "1\n",
      "-1\n",
      "1\n"
     ]
    }
   ],
   "source": [
    "print(solution('abcd'))\n",
    "print(solution('aaa'))\n",
    "print(solution('transpose'))\n",
    "print(solution('abba'))"
   ]
  },
  {
   "cell_type": "code",
   "execution_count": 5,
   "metadata": {},
   "outputs": [],
   "source": [
    "# 팩토리얼 구하기\n",
    "def factorial_func(n) :\n",
    "    result = 1\n",
    "    for i in range(1,n+1) :\n",
    "         result = i*result\n",
    "    return result"
   ]
  },
  {
   "cell_type": "code",
   "execution_count": 7,
   "metadata": {},
   "outputs": [
    {
     "data": {
      "text/plain": [
       "5040"
      ]
     },
     "execution_count": 7,
     "metadata": {},
     "output_type": "execute_result"
    }
   ],
   "source": [
    "factorial_func(7)"
   ]
  },
  {
   "cell_type": "code",
   "execution_count": 10,
   "metadata": {},
   "outputs": [],
   "source": [
    "# 중복이 없는 순열 구하기\n",
    "def permutation_with_fac(a,b,c) :\n",
    "    fac_a = factorial_func(a)\n",
    "    fac_b = factorial_func(b)\n",
    "    fac_c = factorial_func(c)\n",
    "    n = a+b+c\n",
    "    result = factorial_func(n)/(fac_a * fac_b * fac_c)\n",
    "   \n",
    "    return result"
   ]
  },
  {
   "cell_type": "code",
   "execution_count": 11,
   "metadata": {},
   "outputs": [
    {
     "data": {
      "text/plain": [
       "210.0"
      ]
     },
     "execution_count": 11,
     "metadata": {},
     "output_type": "execute_result"
    }
   ],
   "source": [
    "permutation_with_fac(2,3,2)"
   ]
  },
  {
   "cell_type": "code",
   "execution_count": 23,
   "metadata": {},
   "outputs": [],
   "source": [
    "# 조합구하기 : 서로  다른 n개에서 r개를 추출\n",
    "# 7개에서 4개를 추출\n",
    "def combination_fac(n,r) :\n",
    "    fac_r = factorial_func(r)\n",
    "    fac_n = factorial_func(n)\n",
    "    n_r = n - r\n",
    "    fac_n_r = factorial_func(n_r)\n",
    "    \n",
    "    result = fac_n/(fac_r * fac_n_r)\n",
    "    \n",
    "    return result"
   ]
  },
  {
   "cell_type": "code",
   "execution_count": 25,
   "metadata": {},
   "outputs": [
    {
     "data": {
      "text/plain": [
       "8145060.0"
      ]
     },
     "execution_count": 25,
     "metadata": {},
     "output_type": "execute_result"
    }
   ],
   "source": [
    "combination_fac(45,6)"
   ]
  }
 ],
 "metadata": {
  "kernelspec": {
   "display_name": "Python 3 (ipykernel)",
   "language": "python",
   "name": "python3"
  },
  "language_info": {
   "codemirror_mode": {
    "name": "ipython",
    "version": 3
   },
   "file_extension": ".py",
   "mimetype": "text/x-python",
   "name": "python",
   "nbconvert_exporter": "python",
   "pygments_lexer": "ipython3",
   "version": "3.8.5"
  }
 },
 "nbformat": 4,
 "nbformat_minor": 4
}
