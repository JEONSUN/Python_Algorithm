{
 "cells": [
  {
   "cell_type": "markdown",
   "metadata": {},
   "source": [
    "로또 6/45(이하 '로또'로 표기)는 1부터 45까지의 숫자 중 6개를 찍어서 맞히는 대표적인 복권입니다. 아래는 로또의 순위를 정하는 방식입니다.\n",
    "\n",
    "링크 : https://programmers.co.kr/learn/courses/30/lessons/77484"
   ]
  },
  {
   "cell_type": "code",
   "execution_count": 110,
   "metadata": {},
   "outputs": [
    {
     "name": "stdout",
     "output_type": "stream",
     "text": [
      "당첨번호 : [2, 13, 16, 19, 22, 36]\n",
      "로또번호 : [0, 14, 15, 16, 17, 26]\n"
     ]
    }
   ],
   "source": [
    "# 당첨번호 생성\n",
    "win_nums = random.sample(range(1,45),6)\n",
    "win_nums.sort()\n",
    "print(\"당첨번호 :\",win_nums)\n",
    "\n",
    "# 로또번호 생성\n",
    "lottos = random.sample(range(0,45),6)\n",
    "# 지워진 번호 0을 임의로 입력\n",
    "lottos[0] = 0\n",
    "lottos.sort()\n",
    "print(\"로또번호 :\", lottos)"
   ]
  },
  {
   "cell_type": "code",
   "execution_count": 113,
   "metadata": {},
   "outputs": [],
   "source": [
    "def solution(lottos, win_nums):\n",
    "    # 로또번호와 당첨번호의 합집합을 구하고\n",
    "    cnt = len(set(lottos) & set(win_nums))\n",
    "    # 지워진 번호의 개수를 구한다\n",
    "    zero = lottos.count(0)\n",
    "    \n",
    "    # 로또번호가 당첨번호와 몇개가 겹치는 지 파악(6개 다맞을 경우 7-6 = 1등)\n",
    "    # 이때 지워진 번호가 맞다고 가정시 +1 아닐경우 그냥 7 -  cnt \n",
    "    return [7-max(cnt+zero,1) ,7-max(cnt,1)]"
   ]
  },
  {
   "cell_type": "code",
   "execution_count": 114,
   "metadata": {},
   "outputs": [
    {
     "data": {
      "text/plain": [
       "[5, 6]"
      ]
     },
     "execution_count": 114,
     "metadata": {},
     "output_type": "execute_result"
    }
   ],
   "source": [
    "# 출력 결과\n",
    "solution(lottos, win_nums)"
   ]
  },
  {
   "cell_type": "code",
   "execution_count": 112,
   "metadata": {},
   "outputs": [],
   "source": [
    "# 다른 풀이\n",
    "def solution(lottos, win_nums):\n",
    "    # rank 리스트\n",
    "    rank=[6,6,5,4,3,2,1]\n",
    "    \n",
    "    # 마찬가지로 0 개수 세기\n",
    "    cnt_0 = lottos.count(0)\n",
    "    ans = 0\n",
    "    # 당첨번호를 먼저 반복문 시행하고\n",
    "    for x in win_nums:\n",
    "        # 로또번호와 겹치는지 확인하고\n",
    "        if x in lottos:\n",
    "            # 겹치면 +1\n",
    "            ans += 1\n",
    "    # 결과를 rank로 인덱싱\n",
    "    # 이때 0이 전부 겹친다고 가정하기에 카운트한 0을 전부 +\n",
    "    # 아닐경우 그냥 rank 인덱싱\n",
    "    return rank[cnt_0 + ans],rank[ans]"
   ]
  },
  {
   "cell_type": "code",
   "execution_count": 115,
   "metadata": {},
   "outputs": [
    {
     "data": {
      "text/plain": [
       "[5, 6]"
      ]
     },
     "execution_count": 115,
     "metadata": {},
     "output_type": "execute_result"
    }
   ],
   "source": [
    "# 출력 결과\n",
    "solution(lottos, win_nums)"
   ]
  }
 ],
 "metadata": {
  "kernelspec": {
   "display_name": "Python 3 (ipykernel)",
   "language": "python",
   "name": "python3"
  },
  "language_info": {
   "codemirror_mode": {
    "name": "ipython",
    "version": 3
   },
   "file_extension": ".py",
   "mimetype": "text/x-python",
   "name": "python",
   "nbconvert_exporter": "python",
   "pygments_lexer": "ipython3",
   "version": "3.8.5"
  }
 },
 "nbformat": 4,
 "nbformat_minor": 4
}
