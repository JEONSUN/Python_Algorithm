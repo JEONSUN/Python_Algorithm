{
 "cells": [
  {
   "cell_type": "markdown",
   "metadata": {},
   "source": [
    "https://data-marketing-bk.tistory.com/44 참고\n",
    "\n",
    "## DFS\n",
    "\n",
    "- 위에서 아래로 탐색하는 방식"
   ]
  },
  {
   "cell_type": "code",
   "execution_count": 1,
   "metadata": {},
   "outputs": [],
   "source": [
    "graph = dict()\n",
    " \n",
    "graph['A'] = ['B', 'C']\n",
    "graph['B'] = ['A', 'D']\n",
    "graph['C'] = ['A', 'G', 'H', 'I']\n",
    "graph['D'] = ['B', 'E', 'F']\n",
    "graph['E'] = ['D']\n",
    "graph['F'] = ['D']\n",
    "graph['G'] = ['C']\n",
    "graph['H'] = ['C']\n",
    "graph['I'] = ['C', 'J']\n",
    "graph['J'] = ['I']"
   ]
  },
  {
   "cell_type": "code",
   "execution_count": 2,
   "metadata": {},
   "outputs": [
    {
     "data": {
      "text/plain": [
       "{'A': ['B', 'C'],\n",
       " 'B': ['A', 'D'],\n",
       " 'C': ['A', 'G', 'H', 'I'],\n",
       " 'D': ['B', 'E', 'F'],\n",
       " 'E': ['D'],\n",
       " 'F': ['D'],\n",
       " 'G': ['C'],\n",
       " 'H': ['C'],\n",
       " 'I': ['C', 'J'],\n",
       " 'J': ['I']}"
      ]
     },
     "execution_count": 2,
     "metadata": {},
     "output_type": "execute_result"
    }
   ],
   "source": [
    "graph"
   ]
  },
  {
   "cell_type": "markdown",
   "metadata": {},
   "source": [
    "DFS에서 데이터를 찾을때는 항상 앞으로 찾아가야할 노드와 이미 찾아갔던 노드를 기준으로 데이터를 탐색한다. "
   ]
  },
  {
   "cell_type": "code",
   "execution_count": 3,
   "metadata": {},
   "outputs": [],
   "source": [
    "# 리스트를 활용한 구현\n",
    "\n",
    "def dfs(graph, start_node) :\n",
    "    ## 기본은 항상 두개의 리스트를 별도로 관리해주는 것\n",
    "    need_visited, visited = list(),list()\n",
    "    \n",
    "    ## 시작 노드를 시정하기\n",
    "    need_visited.append(start_node)\n",
    "    \n",
    "    ## 만약 아직도 방문이 필요한 노드가 있다면,\n",
    "    while need_visited :\n",
    "        \n",
    "        ## 그 중에서 가장 마지막 데이터를 추출 (스택 구조의 활용)\n",
    "        node = need_visited.pop()\n",
    "        \n",
    "        ## 만약 그 노드가 방문한 목록에 없다면\n",
    "        if node not in visited :\n",
    "            \n",
    "            ## 방문한 목록에 추가하기\n",
    "            visited.append(node)\n",
    "            \n",
    "            ## 그 노드에 연결된 노드를\n",
    "            need_visited.extend(graph[node])\n",
    "            \n",
    "    return visited"
   ]
  },
  {
   "cell_type": "code",
   "execution_count": 4,
   "metadata": {},
   "outputs": [
    {
     "data": {
      "text/plain": [
       "['A', 'C', 'I', 'J', 'H', 'G', 'B', 'D', 'F', 'E']"
      ]
     },
     "execution_count": 4,
     "metadata": {},
     "output_type": "execute_result"
    }
   ],
   "source": [
    "dfs(graph,'A')"
   ]
  },
  {
   "cell_type": "code",
   "execution_count": 13,
   "metadata": {},
   "outputs": [],
   "source": [
    "## deque를 활용한 dfs 구현\n",
    "\n",
    "## deque는 collections라는 패키지를 활용하여 쓴다.\n",
    "from collections import deque\n",
    "def dfs(graph, start_node) : # dfs 구현\n",
    "    visited = [] # 방문한 노드들 저장할 리스트\n",
    "    need_visited = deque() # deque 생성\n",
    "    need_visited.append(start_node) # deque에 처음 시작할 노드 저장\n",
    "    while need_visited : # 방문이 필요한 노드가 아직 존재한다면\n",
    "        \n",
    "        node = need_visited.pop() # 시작 노드를 지정하고\n",
    "        if node not in visited : # 만약 방문한 리스트가 없다면\n",
    "            visited.append(node) # 방문 리스트에 노드 추가\n",
    "            \n",
    "            \n",
    "            need_visited.extend(graph[node]) # 인접한 리스트들도 방문 예정 리스트에 추가\n",
    "    return visited"
   ]
  },
  {
   "cell_type": "code",
   "execution_count": 14,
   "metadata": {},
   "outputs": [
    {
     "data": {
      "text/plain": [
       "['A', 'C', 'I', 'J', 'H', 'G', 'B', 'D', 'F', 'E']"
      ]
     },
     "execution_count": 14,
     "metadata": {},
     "output_type": "execute_result"
    }
   ],
   "source": [
    "dfs(graph, 'A')"
   ]
  },
  {
   "cell_type": "markdown",
   "metadata": {},
   "source": [
    "**구조는 비슷하지만 list보다 deque의 효율이 훨씬 좋다**"
   ]
  },
  {
   "cell_type": "code",
   "execution_count": null,
   "metadata": {},
   "outputs": [],
   "source": []
  },
  {
   "cell_type": "code",
   "execution_count": null,
   "metadata": {},
   "outputs": [],
   "source": []
  },
  {
   "cell_type": "code",
   "execution_count": null,
   "metadata": {},
   "outputs": [],
   "source": []
  },
  {
   "cell_type": "code",
   "execution_count": null,
   "metadata": {},
   "outputs": [],
   "source": []
  },
  {
   "cell_type": "code",
   "execution_count": null,
   "metadata": {},
   "outputs": [],
   "source": []
  },
  {
   "cell_type": "code",
   "execution_count": null,
   "metadata": {},
   "outputs": [],
   "source": []
  },
  {
   "cell_type": "code",
   "execution_count": null,
   "metadata": {},
   "outputs": [],
   "source": []
  },
  {
   "cell_type": "code",
   "execution_count": null,
   "metadata": {},
   "outputs": [],
   "source": []
  },
  {
   "cell_type": "code",
   "execution_count": null,
   "metadata": {},
   "outputs": [],
   "source": []
  },
  {
   "cell_type": "code",
   "execution_count": null,
   "metadata": {},
   "outputs": [],
   "source": []
  },
  {
   "cell_type": "code",
   "execution_count": null,
   "metadata": {},
   "outputs": [],
   "source": []
  }
 ],
 "metadata": {
  "kernelspec": {
   "display_name": "Python 3 (ipykernel)",
   "language": "python",
   "name": "python3"
  },
  "language_info": {
   "codemirror_mode": {
    "name": "ipython",
    "version": 3
   },
   "file_extension": ".py",
   "mimetype": "text/x-python",
   "name": "python",
   "nbconvert_exporter": "python",
   "pygments_lexer": "ipython3",
   "version": "3.8.5"
  }
 },
 "nbformat": 4,
 "nbformat_minor": 4
}
