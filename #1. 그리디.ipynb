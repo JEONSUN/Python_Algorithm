{
 "cells": [
  {
   "cell_type": "markdown",
   "metadata": {},
   "source": [
    "## 그리디\n",
    "\n",
    "어떠한 문제가 있을 때 단순 무식하게, 탐욕적으로 문제를 푸는 방법이다.\n",
    "\n",
    "여기서 탐욕적이라는 말은 **현재 상황에서 지금 당장 좋은 것만 고르는 방법**을 의미한다.\n",
    "\n",
    "그리디 알고리즘을 이용하면 매 순간 가장 좋아보이는 것을 선택하며, 현재의 선택이 나중에 미칠 영향에 대해서는 고려하지 않는다.\n",
    "\n",
    "\n",
    "그리디 알고리즘의 사용은 다양한 유형이 있는데 가장 대표적인 문제는 '거스름돈' 문제이다."
   ]
  },
  {
   "cell_type": "markdown",
   "metadata": {},
   "source": [
    "### 예제 1 거스름돈\n",
    "\n",
    "당신은 음식점의 계산을 도와주는 점원이다. 카운터에는 거스름돈으로 사용할 500원, 100원, 50원, 10원짜리 동전이 무한히 존재한다고 가정한다. 손님에게 거슬러 줘야할 돈이 N원일 때, 거슬러 줘야 할 동전의 최소 개수를 구하라. 단 거슬러 줘야 할 돈 N은 항상 10의 배수이다."
   ]
  },
  {
   "cell_type": "code",
   "execution_count": 120,
   "metadata": {},
   "outputs": [],
   "source": [
    "def solution(x) :\n",
    "    count = 0\n",
    "    \n",
    "    coin_types = [500,100,50,10]\n",
    "    \n",
    "    for i in coin_types :\n",
    "        count += x//i # 거슬러 줄 수 있는 동전 개수 : 1500//500 = 3(몫이면서 동전 개수)\n",
    "        x %= i # \n",
    "        \n",
    "    return count"
   ]
  },
  {
   "cell_type": "code",
   "execution_count": 121,
   "metadata": {},
   "outputs": [
    {
     "data": {
      "text/plain": [
       "6"
      ]
     },
     "execution_count": 121,
     "metadata": {},
     "output_type": "execute_result"
    }
   ],
   "source": [
    "solution(1260)"
   ]
  },
  {
   "cell_type": "markdown",
   "metadata": {},
   "source": [
    "### 큰 수의 법칙"
   ]
  },
  {
   "cell_type": "markdown",
   "metadata": {},
   "source": [
    "n = 배열의 크기\n",
    "\n",
    "m = 숫자가 더해지는 횟수\n",
    "\n",
    "k = k번 인덱스에 해당하는 원소를 k번 이상 더할수 없다.\n",
    "\n",
    "2,4,5,4,6일 때 M : 8, K : 3이라면\n",
    "\n",
    "6 + 6 + 6 + 5 + 6 + 6 + 6 + 5"
   ]
  },
  {
   "cell_type": "code",
   "execution_count": 46,
   "metadata": {
    "scrolled": true
   },
   "outputs": [
    {
     "name": "stdout",
     "output_type": "stream",
     "text": [
      "1 3 5 7 9\n"
     ]
    }
   ],
   "source": [
    "data = list(map(int,input().split()))"
   ]
  },
  {
   "cell_type": "code",
   "execution_count": 69,
   "metadata": {},
   "outputs": [],
   "source": [
    "def solution() :\n",
    "   \n",
    "    # 배열크기, 숫자가 더해지는 횟수, 더하는 횟수 제한 입력\n",
    "    n,m,k = map(int, input().split())\n",
    "    \n",
    "    # 배열 입력\n",
    "    data = list(map(int,input().split()))\n",
    "    data.sort()\n",
    "    \n",
    "    # 최댓값, 2번째로 큰값 입력\n",
    "    max1, max2 = data[-1], data[-2]\n",
    "    \n",
    "    # 실행,범위,합 입력\n",
    "    i, m1, hap = 1,1, 0\n",
    "    \n",
    "    # 반복 실행, max값이 더해지는 횟수가 k보다 커질경우 max2의 값을 추가, m1(더해진 횟수) 초기화\n",
    "    while 1 :\n",
    "        if i > m :\n",
    "            break\n",
    "        if m1 > k :\n",
    "            hap += max2\n",
    "            m1 = 1\n",
    "        else :\n",
    "            hap += max1\n",
    "            m1 += 1\n",
    "        i += 1\n",
    "        \n",
    "    return hap"
   ]
  },
  {
   "cell_type": "code",
   "execution_count": 70,
   "metadata": {},
   "outputs": [
    {
     "name": "stdout",
     "output_type": "stream",
     "text": [
      "4 3 1\n",
      "2 4 5 3\n"
     ]
    },
    {
     "data": {
      "text/plain": [
       "14"
      ]
     },
     "execution_count": 70,
     "metadata": {},
     "output_type": "execute_result"
    }
   ],
   "source": [
    "solution()"
   ]
  },
  {
   "cell_type": "markdown",
   "metadata": {},
   "source": [
    "알고보면 위에 문제는 수열로 풀 수 있다.\n",
    "\n",
    "배열이 [2,4,5,4,6]이며 M이 8이고 k가 3일 때를 계산해보자\n",
    "\n",
    "최댓값을 구하기 위해선 아래와 같은 싸이클이 돌 것이다.\n",
    "\n",
    "$(6 + 6 + 6 + 5) + (6 + 6 + 6 + 5)$\n",
    "\n",
    "전체 합은 결국 k+1로 나눈 몫에 나눠떨어지지 않을 경우 M % K+1을 고려해 계산하면 된다."
   ]
  },
  {
   "cell_type": "code",
   "execution_count": 71,
   "metadata": {},
   "outputs": [],
   "source": [
    "def solution() :\n",
    "    n,m,k = map(int, input().split())\n",
    "    data = list(map(int,input().split()))\n",
    "    data.sort()\n",
    "    max1 = data[-1]\n",
    "    max2 = data[-2]\n",
    "\n",
    "    # 가장 큰 수가 더해지는 횟수 계산\n",
    "    count = int(m/(k + 1)) * k\n",
    "    count += m % (k + 1)\n",
    "    \n",
    "    result = 0\n",
    "    result += (count) * max1\n",
    "    result += (m - count) * max2\n",
    "    \n",
    "    print(result)"
   ]
  },
  {
   "cell_type": "code",
   "execution_count": 72,
   "metadata": {},
   "outputs": [
    {
     "name": "stdout",
     "output_type": "stream",
     "text": [
      "5 8 3\n",
      "2 4 5 4 6\n",
      "46\n"
     ]
    }
   ],
   "source": [
    "solution()"
   ]
  },
  {
   "cell_type": "markdown",
   "metadata": {},
   "source": [
    "## 숫자 카드 게임"
   ]
  },
  {
   "cell_type": "code",
   "execution_count": 108,
   "metadata": {},
   "outputs": [],
   "source": [
    "def solution() :\n",
    "    m, n = map(int, input().split())\n",
    "    data = list()\n",
    "    for _ in range(3) : \n",
    "        data.append(list(map(int,input().split())))\n",
    "    print(\"처음 선택한 수:\" ,data[m-1][n-1])\n",
    "    return min(data[m-1])"
   ]
  },
  {
   "cell_type": "code",
   "execution_count": 109,
   "metadata": {},
   "outputs": [
    {
     "name": "stdout",
     "output_type": "stream",
     "text": [
      "2 2\n",
      "3 1 2\n",
      "4 1 4\n",
      "2 2 2\n",
      "처음 선택한 수: 1\n"
     ]
    },
    {
     "data": {
      "text/plain": [
       "1"
      ]
     },
     "execution_count": 109,
     "metadata": {},
     "output_type": "execute_result"
    }
   ],
   "source": [
    "solution()"
   ]
  },
  {
   "cell_type": "code",
   "execution_count": 95,
   "metadata": {},
   "outputs": [],
   "source": [
    "def solution() :\n",
    "    m, n = map(int, input().split())\n",
    "    row1 = list(map(int,input().split()))\n",
    "    row2 = list(map(int,input().split()))\n",
    "    row3 = list(map(int,input().split()))\n",
    "    data = [row1,row2,row3]\n",
    "    print(\"처음 선택한 수:\" ,data[m-1][n-1])\n",
    "    return min(data[m-1])"
   ]
  },
  {
   "cell_type": "code",
   "execution_count": 96,
   "metadata": {},
   "outputs": [
    {
     "name": "stdout",
     "output_type": "stream",
     "text": [
      "2 2\n",
      "3 1 2\n",
      "4 1 4\n",
      "2 2 2\n",
      "처음 선택한 수: 1\n"
     ]
    },
    {
     "data": {
      "text/plain": [
       "1"
      ]
     },
     "execution_count": 96,
     "metadata": {},
     "output_type": "execute_result"
    }
   ],
   "source": [
    "solution()"
   ]
  },
  {
   "cell_type": "code",
   "execution_count": 106,
   "metadata": {},
   "outputs": [],
   "source": [
    "def solution() :\n",
    "    m, n = map(int, input().split())\n",
    "    row1 = list(map(int,input().split()))\n",
    "    row2 = list(map(int,input().split()))\n",
    "    row3 = list(map(int,input().split()))\n",
    "    data = [row1,row2,row3]\n",
    "    result = 0 \n",
    "    z = 1\n",
    "    for i in data :\n",
    "        val = min(i)\n",
    "        print(f\"{z}번째 행의 가장 작은 수: {val}\")\n",
    "        result = max(0,val)\n",
    "        z += 1\n",
    "    return result"
   ]
  },
  {
   "cell_type": "code",
   "execution_count": 107,
   "metadata": {},
   "outputs": [
    {
     "name": "stdout",
     "output_type": "stream",
     "text": [
      "3 1\n",
      "3 1 2\n",
      "4 1 4\n",
      "2 2 2\n",
      "1번째 행의 가장 작은 수: 1\n",
      "2번째 행의 가장 작은 수: 1\n",
      "3번째 행의 가장 작은 수: 2\n"
     ]
    },
    {
     "data": {
      "text/plain": [
       "2"
      ]
     },
     "execution_count": 107,
     "metadata": {},
     "output_type": "execute_result"
    }
   ],
   "source": [
    "solution()"
   ]
  },
  {
   "cell_type": "markdown",
   "metadata": {},
   "source": [
    "## 1이 될때까지\n",
    "\n",
    "어떠한 수 N이 1이 될 때까지 다음의 두 과정 중 하나를 반복적으로 선택하여 수행하려고 한다. 단, 두 번째 연산은 N이 K로 나누어떨어질 때만 사용할 수 있다.\n",
    "\n",
    "1. N에서 1을 뺀다\n",
    "2. N을 K로 나눈다.\n",
    "\n",
    "\n",
    "N과 K가 주어질 때 N이 1이 될 때까지 1번 혹은 2번의 과정을 수행해야 하는 최소 횟수를 구하는 프로그램을 작성하시오\n",
    "\n",
    "입력조건 : 첫째 줄에 N(2 <= N <= 100000)과 K(2 <= K <= 100000)가 공백으로 구분되며 각각 자연수로 주어진다. 이때 입력으로 주어지는 N은 항상 K보다 크거나 같다.\n",
    "\n",
    "출력조건 : 첫째 줄에 N이 1이 될 때까지 1번 혹은 2번의 과정을 수행해야 하는 횟수의 최솟값을 출력한다.\n",
    "~~~python\n",
    "# 입력예시\n",
    "25 5\n",
    "\n",
    "# 출력예시\n",
    "2\n",
    "~~~"
   ]
  },
  {
   "cell_type": "code",
   "execution_count": 136,
   "metadata": {},
   "outputs": [],
   "source": [
    "def solution() :\n",
    "    # 입력 값과 K구하기\n",
    "    n,k = map(int, input().split())\n",
    "    \n",
    "    # 연산 횟수 초깃값\n",
    "    i= 0\n",
    "    \n",
    "    # 연산 시작\n",
    "    while 1 :\n",
    "        if n == 1 : # 계산 값이 1일 때 반복문 탈출\n",
    "            break\n",
    "        \n",
    "        if n % k == 0 : # n을 k로 나눴을때 나머지가 0이면 나누기\n",
    "            n = n/k \n",
    "            \n",
    "        else :\n",
    "            n = n - 1 # 아닐경우 n - 1 \n",
    "        i += 1 # 한번의 연산을 실행하면 +1\n",
    "        \n",
    "    return i"
   ]
  },
  {
   "cell_type": "code",
   "execution_count": 137,
   "metadata": {
    "scrolled": true
   },
   "outputs": [
    {
     "name": "stdout",
     "output_type": "stream",
     "text": [
      "154 3\n"
     ]
    },
    {
     "data": {
      "text/plain": [
       "9"
      ]
     },
     "execution_count": 137,
     "metadata": {},
     "output_type": "execute_result"
    }
   ],
   "source": [
    "solution()"
   ]
  }
 ],
 "metadata": {
  "kernelspec": {
   "display_name": "Python 3 (ipykernel)",
   "language": "python",
   "name": "python3"
  },
  "language_info": {
   "codemirror_mode": {
    "name": "ipython",
    "version": 3
   },
   "file_extension": ".py",
   "mimetype": "text/x-python",
   "name": "python",
   "nbconvert_exporter": "python",
   "pygments_lexer": "ipython3",
   "version": "3.8.5"
  }
 },
 "nbformat": 4,
 "nbformat_minor": 4
}
