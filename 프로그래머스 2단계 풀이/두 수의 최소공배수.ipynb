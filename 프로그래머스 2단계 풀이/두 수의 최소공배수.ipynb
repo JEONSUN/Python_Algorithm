{
 "cells": [
  {
   "cell_type": "markdown",
   "metadata": {},
   "source": [
    "#### 문제 설명\n",
    "두 수의 최소공배수(Least Common Multiple)란 입력된 두 수의 배수 중 공통이 되는 가장 작은 숫자를 의미합니다. 예를 들어 2와 7의 최소공배수는 14가 됩니다. 정의를 확장해서, n개의 수의 최소공배수는 n 개의 수들의 배수 중 공통이 되는 가장 작은 숫자가 됩니다. n개의 숫자를 담은 배열 arr이 입력되었을 때 이 수들의 최소공배수를 반환하는 함수, solution을 완성해 주세요.\n",
    "\n",
    "#### 제한 사항\n",
    "\n",
    "arr은 길이 1이상, 15이하인 배열입니다.\n",
    "\n",
    "arr의 원소는 100 이하인 자연수입니다.\n",
    "\n",
    "#### 입출력 예\n",
    "\n",
    "|arr|\tresult|\n",
    "|---|---|\n",
    "|[2,6,8,14]|\t168|\n",
    "|[1,2,3]|\t6|"
   ]
  },
  {
   "cell_type": "code",
   "execution_count": 3,
   "metadata": {},
   "outputs": [],
   "source": [
    "from itertools import permutations, combinations # 공약수의 경우의 수를 구하기 위해 호출했다.\n",
    "from functools import reduce # 리스트 곱셈을 하기 위해 호출했다. \n",
    "\n",
    "# 공약수 구하기 func\n",
    "def gcd(a,b) : \n",
    "    if a%b == 0 :\n",
    "        return b\n",
    "    return gcd(b,a%b)\n",
    "\n",
    "# 최소공배수 구하기 func\n",
    "def abc (a,b) :\n",
    "    return (a*b)//gcd(a,b)\n",
    "\n",
    "# 풀이\n",
    "def solution(arr):\n",
    "    answer = []\n",
    "    arr.sort() # 정렬하고\n",
    "    permu = list(combinations(arr,2)) # 배열을 활용한 모든 경우의 수 추출(수 중복 x)\n",
    "    for i,v in permu : # 경우의 수 반복돌리면서\n",
    "        answer.append(gcd(i,v)) # 최대 공약수 append\n",
    "    answer = list(set(answer)) # 최대 공약수 고윳값 list\n",
    "    \n",
    "    if max(answer) == 1 : # 만약 최대 공약수가 1이면\n",
    "        return reduce(lambda x ,y : x*y, arr) # 배열 곱하기\n",
    "    while len(arr) > 1 : # 배열의 길이가 2개 이상이면\n",
    "        a1 = arr.pop() # 배열 맨 뒷값\n",
    "        a2 = arr.pop() # 그다음 뒷값 뽑아서\n",
    "        arr.append(abc(a1,a2)) # 최소공배수 구하기\n",
    "        # 3개 이상의 수는 앞의 2개의 수 최소공배수를 그 다음 배열과의 최소공배수를 구한다.\n",
    "        \n",
    "    return arr[0]"
   ]
  },
  {
   "cell_type": "code",
   "execution_count": 4,
   "metadata": {},
   "outputs": [
    {
     "data": {
      "text/plain": [
       "168"
      ]
     },
     "execution_count": 4,
     "metadata": {},
     "output_type": "execute_result"
    }
   ],
   "source": [
    "solution([2,6,8,14])"
   ]
  }
 ],
 "metadata": {
  "kernelspec": {
   "display_name": "Python 3 (ipykernel)",
   "language": "python",
   "name": "python3"
  },
  "language_info": {
   "codemirror_mode": {
    "name": "ipython",
    "version": 3
   },
   "file_extension": ".py",
   "mimetype": "text/x-python",
   "name": "python",
   "nbconvert_exporter": "python",
   "pygments_lexer": "ipython3",
   "version": "3.8.5"
  }
 },
 "nbformat": 4,
 "nbformat_minor": 4
}
