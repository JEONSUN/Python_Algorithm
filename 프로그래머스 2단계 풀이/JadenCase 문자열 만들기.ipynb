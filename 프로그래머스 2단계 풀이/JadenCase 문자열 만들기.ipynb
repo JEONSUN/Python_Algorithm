{
 "cells": [
  {
   "cell_type": "markdown",
   "metadata": {},
   "source": [
    "#### 문제 설명\n",
    "JadenCase란 모든 단어의 첫 문자가 대문자이고, 그 외의 알파벳은 소문자인 문자열입니다. 문자열 s가 주어졌을 때, s를 JadenCase로 바꾼 문자열을 리턴하는 함수, solution을 완성해주세요.\n",
    "\n",
    "#### 제한 조건\n",
    "s는 길이 1 이상인 문자열입니다.\n",
    "\n",
    "s는 알파벳과 공백문자(\" \")로 이루어져 있습니다.\n",
    "첫 문자가 영문이 아닐때에는 이어지는 영문은 소문자로 씁니다. ( 첫번째 입출력 예 참고 )\n",
    "\n",
    "#### 입출력 예\n",
    "\n",
    "|s|\treturn|\n",
    "|---|---|\n",
    "|\"3people unFollowed me\"|\t\"3people Unfollowed Me\"|\n",
    "|\"for the last week\"|\t\"For The Last Week\"|"
   ]
  },
  {
   "cell_type": "code",
   "execution_count": 1,
   "metadata": {},
   "outputs": [],
   "source": [
    "def solution(s):\n",
    "    \n",
    "    s = s.split(' ')\n",
    "    s_list = []\n",
    "    \n",
    "    for i in s:\n",
    "        try : \n",
    "            if i[0].isalpha : # 첫 글자가 문자열이면\n",
    "                i = i[0].upper() + i[1:].lower() # 첫 글자는 대문자로 나머지는 소문자로\n",
    "                s_list.append(i)\n",
    "            else : \n",
    "                s_list.append(i)\n",
    "        except IndexError :\n",
    "            s_list.append(i)\n",
    "            \n",
    "    return ' '.join(s_list)"
   ]
  },
  {
   "cell_type": "code",
   "execution_count": 3,
   "metadata": {
    "scrolled": true
   },
   "outputs": [
    {
     "data": {
      "text/plain": [
       "'3people Unfollowed Me'"
      ]
     },
     "execution_count": 3,
     "metadata": {},
     "output_type": "execute_result"
    }
   ],
   "source": [
    "solution(\"3people unFollowed me\")"
   ]
  }
 ],
 "metadata": {
  "kernelspec": {
   "display_name": "Python 3 (ipykernel)",
   "language": "python",
   "name": "python3"
  },
  "language_info": {
   "codemirror_mode": {
    "name": "ipython",
    "version": 3
   },
   "file_extension": ".py",
   "mimetype": "text/x-python",
   "name": "python",
   "nbconvert_exporter": "python",
   "pygments_lexer": "ipython3",
   "version": "3.8.5"
  }
 },
 "nbformat": 4,
 "nbformat_minor": 4
}
