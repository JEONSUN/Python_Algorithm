{
 "cells": [
  {
   "cell_type": "markdown",
   "metadata": {},
   "source": [
    "#### 문제 설명\n",
    "N개의 마을로 이루어진 나라가 있습니다. 이 나라의 각 마을에는 1부터 N까지의 번호가 각각 하나씩 부여되어 있습니다. 각 마을은 양방향으로 통행할 수 있는 도로로 연결되어 있는데, 서로 다른 마을 간에 이동할 때는 이 도로를 지나야 합니다. 도로를 지날 때 걸리는 시간은 도로별로 다릅니다. 현재 1번 마을에 있는 음식점에서 각 마을로 음식 배달을 하려고 합니다. 각 마을로부터 음식 주문을 받으려고 하는데, N개의 마을 중에서 K 시간 이하로 배달이 가능한 마을에서만 주문을 받으려고 합니다. 다음은 N = 5, K = 3인 경우의 예시입니다.\n",
    "\n",
    "\n",
    "1번 마을에 있는 음식점은 [1, 2, 4, 5] 번 마을까지는 3 이하의 시간에 배달할 수 있습니다. 그러나 3번 마을까지는 3시간 이내로 배달할 수 있는 경로가 없으므로 3번 마을에서는 주문을 받지 않습니다. 따라서 1번 마을에 있는 음식점이 배달 주문을 받을 수 있는 마을은 4개가 됩니다.\n",
    "마을의 개수 N, 각 마을을 연결하는 도로의 정보 road, 음식 배달이 가능한 시간 K가 매개변수로 주어질 때, 음식 주문을 받을 수 있는 마을의 개수를 return 하도록 solution 함수를 완성해주세요.\n",
    "\n",
    "#### 제한사항\n",
    "마을의 개수 N은 1 이상 50 이하의 자연수입니다.\n",
    "\n",
    "road의 길이(도로 정보의 개수)는 1 이상 2,000 이하입니다.\n",
    "\n",
    "road의 각 원소는 마을을 연결하고 있는 각 도로의 정보를 나타냅니다.\n",
    "\n",
    "road는 길이가 3인 배열이며, 순서대로 (a, b, c)를 나타냅니다.\n",
    "\n",
    "a, b(1 ≤ a, b ≤ N, a != b)는 도로가 연결하는 두 마을의 번호이며, c(1 ≤ c ≤ 10,000, c는 자연수)는 도로를 지나는데 걸리는 시간입니다.\n",
    "\n",
    "두 마을 a, b를 연결하는 도로는 여러 개가 있을 수 있습니다.\n",
    "\n",
    "한 도로의 정보가 여러 번 중복해서 주어지지 않습니다.\n",
    "\n",
    "K는 음식 배달이 가능한 시간을 나타내며, 1 이상 500,000 이하입니다.\n",
    "\n",
    "임의의 두 마을간에 항상 이동 가능한 경로가 존재합니다.\n",
    "\n",
    "1번 마을에 있는 음식점이 K 이하의 시간에 배달이 가능한 마을의 개수를 return 하면 됩니다.\n",
    "\n",
    "#### 입출력 예\n",
    "|N|\troad|\tK|\tresult|\n",
    "|---|---|---|---|\n",
    "|5|\t[[1,2,1],[2,3,3],[5,2,2],[1,4,2],[5,3,1],[5,4,2]]|\t3|\t4|\n",
    "|6|\t[[1,2,1],[1,3,2],[2,3,2],[3,4,3],[3,5,2],[3,5,3],[5,6,1]]|\t4|\t4|"
   ]
  },
  {
   "cell_type": "code",
   "execution_count": 1,
   "metadata": {},
   "outputs": [],
   "source": [
    "import math\n",
    "import heapq\n",
    "def solution(N, road, K):\n",
    "    n = N\n",
    "    \n",
    "    inf = math.inf\n",
    "    # 그래프 생성\n",
    "    graph = [[]for i in range(n+1)]\n",
    "    for i in range(len(road)) :\n",
    "        a,b,cost = road[i]\n",
    "        graph[a].append((b,cost))\n",
    "        graph[b].append((a,cost))\n",
    "        \n",
    "    #print(graph)\n",
    "    \n",
    "    # 거리 저장할 리스트 생성\n",
    "    visited = [inf] * (n+1)\n",
    "    #print(visited)\n",
    "    \n",
    "    # 다익스트라 생성\n",
    "    def dai(start) :\n",
    "        que = [] # 빈 deque 생성\n",
    "        heapq.heappush(que,(0,start)) # 생성한 que에 도시1부터 도시1 거리 0과 도시1입력\n",
    "        visited[start] = 0 # 초기 도시 거리 입력\n",
    "        while que : # 아직 도시가 있으면\n",
    "            dist,now = heapq.heappop(que) # 거리와 도시 정보 추출\n",
    "            if visited[now] < dist : # 거리가 변화가 있으면 생략\n",
    "                continue\n",
    "            for i in graph[now] : # 인접한 도시들의\n",
    "                cost = dist + i[1] # 거리 더하기\n",
    "                if cost < visited[i[0]] : # 현재 거리가 저장한 거리보다 작으면\n",
    "                    visited[i[0]] = cost # 현재 최단거리를 저장\n",
    "                    heapq.heappush(que,(cost,i[0])) # 도시를 힙에 저장\n",
    "                        \n",
    "    dai(1) # 도시 1부터 최단거리 탐색\n",
    "    \n",
    "    result = 0\n",
    "    for i in range(len(visited)) :\n",
    "        if visited[i] <= K : \n",
    "            result += 1\n",
    "        else : \n",
    "            pass\n",
    "    \n",
    "    return result"
   ]
  },
  {
   "cell_type": "code",
   "execution_count": 2,
   "metadata": {},
   "outputs": [
    {
     "data": {
      "text/plain": [
       "4"
      ]
     },
     "execution_count": 2,
     "metadata": {},
     "output_type": "execute_result"
    }
   ],
   "source": [
    "solution(5, [[1,2,1],[2,3,3],[5,2,2],[1,4,2],[5,3,1],[5,4,2]], 3)"
   ]
  }
 ],
 "metadata": {
  "kernelspec": {
   "display_name": "Python 3 (ipykernel)",
   "language": "python",
   "name": "python3"
  },
  "language_info": {
   "codemirror_mode": {
    "name": "ipython",
    "version": 3
   },
   "file_extension": ".py",
   "mimetype": "text/x-python",
   "name": "python",
   "nbconvert_exporter": "python",
   "pygments_lexer": "ipython3",
   "version": "3.8.5"
  }
 },
 "nbformat": 4,
 "nbformat_minor": 4
}
