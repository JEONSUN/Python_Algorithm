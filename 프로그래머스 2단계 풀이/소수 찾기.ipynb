{
 "cells": [
  {
   "cell_type": "markdown",
   "metadata": {},
   "source": [
    "#### 문제 설명\n",
    "한자리 숫자가 적힌 종이 조각이 흩어져있습니다. 흩어진 종이 조각을 붙여 소수를 몇 개 만들 수 있는지 알아내려 합니다.\n",
    "\n",
    "각 종이 조각에 적힌 숫자가 적힌 문자열 numbers가 주어졌을 때, 종이 조각으로 만들 수 있는 소수가 몇 개인지 return 하도록 solution 함수를 완성해주세요.\n",
    "\n",
    "#### 제한사항\n",
    "numbers는 길이 1 이상 7 이하인 문자열입니다.\n",
    "numbers는 0~9까지 숫자만으로 이루어져 있습니다.\n",
    "\n",
    "\"013\"은 0, 1, 3 숫자가 적힌 종이 조각이 흩어져있다는 의미입니다.\n",
    "\n",
    "#### 입출력 예\n",
    "\n",
    "|numbers|\treturn|\n",
    "|---|---|\n",
    "|\"17\"\t|3|\n",
    "|\"011\"|\t2|\n",
    "\n",
    "#### 입출력 예 설명\n",
    "\n",
    "#### 예제 #1\n",
    "[1, 7]으로는 소수 [7, 17, 71]를 만들 수 있습니다.\n",
    "\n",
    "#### 예제 #2\n",
    "[0, 1, 1]으로는 소수 [11, 101]를 만들 수 있습니다.\n",
    "\n",
    "11과 011은 같은 숫자로 취급합니다.\n"
   ]
  },
  {
   "cell_type": "code",
   "execution_count": 1,
   "metadata": {},
   "outputs": [],
   "source": [
    "from itertools import permutations # 순열/순서 상관 있음/모든 경우의 수\n",
    "\n",
    "def solution(numbers):\n",
    "    nums_list = [] # 모든 경우의 수를 저장할 리스트 \n",
    "    for i in range(1,len(numbers)+1): # 1부터 문자 최대 길이까지 반복\n",
    "        # 모든 경우의 수를 출력하되 join으로 붙임, append와 extent 참조(append는 그자체 그대로)\n",
    "        nums_list.extend(list(map(''.join, permutations(numbers, i)))) \n",
    "        \n",
    "    n_list = [] # 숫자로 바꿔서 저장하기 위한 리스트\n",
    "    for j in nums_list :\n",
    "        if int(j) == 0 or int(j) == 1 : # 소수에 0과 1은 제외\n",
    "            pass\n",
    "        else :\n",
    "            n_list.append(int(j))\n",
    "    n_list = list(set(n_list)) # 집합자료로 변환\n",
    "    answer= []\n",
    "    for i in n_list : # 숫자마다 반복돌리면서\n",
    "        m = int(i**0.5) # 제곱근 구해서\n",
    "        count = 0\n",
    "        for j in range(2,m+1) : # 만약 제곱근의 범위까지\n",
    "            if i%j == 0 : # 나눠떨어지는 수가 있다면\n",
    "                count += 1 # 횟수 1씩 추가\n",
    "        if count == 0 : # 나눠떨어지는 수가 없다면\n",
    "            answer.append(i) # 소수로 판별\n",
    "    return len(answer)\n",
    "\n",
    "# append가 아닌 extend를 쓴다는게 중요한듯 하다.\n",
    "# 에라토스테네스의 체가 아닌 다른 방식의 소수 판별 여부도 파악해놓는게 좋을듯"
   ]
  },
  {
   "cell_type": "code",
   "execution_count": 2,
   "metadata": {},
   "outputs": [
    {
     "data": {
      "text/plain": [
       "2"
      ]
     },
     "execution_count": 2,
     "metadata": {},
     "output_type": "execute_result"
    }
   ],
   "source": [
    "solution('011')"
   ]
  }
 ],
 "metadata": {
  "kernelspec": {
   "display_name": "Python 3 (ipykernel)",
   "language": "python",
   "name": "python3"
  },
  "language_info": {
   "codemirror_mode": {
    "name": "ipython",
    "version": 3
   },
   "file_extension": ".py",
   "mimetype": "text/x-python",
   "name": "python",
   "nbconvert_exporter": "python",
   "pygments_lexer": "ipython3",
   "version": "3.8.5"
  }
 },
 "nbformat": 4,
 "nbformat_minor": 4
}
