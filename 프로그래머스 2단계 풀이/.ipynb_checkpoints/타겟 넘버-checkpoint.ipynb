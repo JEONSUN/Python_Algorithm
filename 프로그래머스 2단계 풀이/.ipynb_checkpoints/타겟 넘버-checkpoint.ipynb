{
 "cells": [
  {
   "cell_type": "markdown",
   "metadata": {},
   "source": [
    "#### 문제 설명\n",
    "n개의 음이 아닌 정수가 있습니다. 이 수를 적절히 더하거나 빼서 타겟 넘버를 만들려고 합니다. 예를 들어 [1, 1, 1, 1, 1]로 숫자 3을 만들려면 다음 다섯 방법을 쓸 수 있습니다.\n",
    "\n",
    "-1+1+1+1+1 = 3<br>\n",
    "+1-1+1+1+1 = 3<br>\n",
    "+1+1-1+1+1 = 3<br>\n",
    "+1+1+1-1+1 = 3<br>\n",
    "+1+1+1+1-1 = 3<br>\n",
    "\n",
    "사용할 수 있는 숫자가 담긴 배열 numbers, 타겟 넘버 target이 매개변수로 주어질 때 숫자를 적절히 더하고 빼서 타겟 넘버를 만드는 방법의 수를 return 하도록 solution 함수를 작성해주세요.\n",
    "\n",
    "\n",
    "#### 제한사항\n",
    "주어지는 숫자의 개수는 2개 이상 20개 이하입니다.<br>\n",
    "각 숫자는 1 이상 50 이하인 자연수입니다.<br>\n",
    "타겟 넘버는 1 이상 1000 이하인 자연수입니다.<br>\n",
    "\n",
    "#### 입출력 예\n",
    "|numbers|\ttarget|\treturn|\n",
    "|-----|-----|-----|\n",
    "|[1, 1, 1, 1, 1]|\t3|\t5|\n",
    "\n",
    "#### 입출력 예 설명\n",
    "문제에 나온 예와 같습니다."
   ]
  },
  {
   "cell_type": "code",
   "execution_count": 1,
   "metadata": {},
   "outputs": [],
   "source": [
    "# dfs 풀이\n",
    "def solution(numbers, target):\n",
    "    answer = dfs(numbers,target,0) # dfs 실행결과\n",
    "    return answer\n",
    "\n",
    "def dfs(numbers,target,depth) :\n",
    "    answer = 0 # 초기 answer 생성\n",
    "    \n",
    "    if depth == len(numbers) : # 반복시킨 횟수가 리스트 길이와 같을 경우\n",
    "        if sum(numbers) == target : # 생성한 배열의 합을 target 값과 비교\n",
    "            return 1 # 같으면 1\n",
    "        else :\n",
    "            return 0 # 아니면 0 리턴\n",
    "    else : # 길이가 다를 경우\n",
    "        answer += dfs(numbers,target,depth + 1) # 1칸씩 늘려가며 탐색 시작\n",
    "        numbers[depth] *= -1 # 위치별로 -부호\n",
    "        answer += dfs(numbers,target,depth + 1) # 1칸씩 늘려가며 탐색 시작\n",
    "        return answer # 최종 탐색 결과 리턴"
   ]
  },
  {
   "cell_type": "code",
   "execution_count": 2,
   "metadata": {},
   "outputs": [
    {
     "data": {
      "text/plain": [
       "5"
      ]
     },
     "execution_count": 2,
     "metadata": {},
     "output_type": "execute_result"
    }
   ],
   "source": [
    "solution([1,1,1,1,1],3)"
   ]
  },
  {
   "cell_type": "code",
   "execution_count": 16,
   "metadata": {},
   "outputs": [],
   "source": [
    "# 다른 사람 풀이\n",
    "from itertools import product\n",
    "def solution(numbers, target):\n",
    "    l = [(x, -x) for x in numbers] # 배열의 원소마다 음수와 양수를 튜플 형태로 list\n",
    "    print(l)\n",
    "    s = list(map(sum, product(*l))) # product를 사용하여 카테시안 곱(2**5)개의 조합 생성 -> 각각의 합을 리스트에 담음\n",
    "    print(s,end = ' ')\n",
    "    return s.count(target) # 타겟값과 같은 값들을 리스트에서 카운트\n"
   ]
  },
  {
   "cell_type": "code",
   "execution_count": 17,
   "metadata": {
    "scrolled": true
   },
   "outputs": [
    {
     "name": "stdout",
     "output_type": "stream",
     "text": [
      "[(1, -1), (1, -1), (1, -1), (1, -1), (1, -1)]\n",
      "[5, 3, 3, 1, 3, 1, 1, -1, 3, 1, 1, -1, 1, -1, -1, -3, 3, 1, 1, -1, 1, -1, -1, -3, 1, -1, -1, -3, -1, -3, -3, -5] "
     ]
    },
    {
     "data": {
      "text/plain": [
       "5"
      ]
     },
     "execution_count": 17,
     "metadata": {},
     "output_type": "execute_result"
    }
   ],
   "source": [
    "solution([1,1,1,1,1],3)"
   ]
  }
 ],
 "metadata": {
  "kernelspec": {
   "display_name": "Python 3 (ipykernel)",
   "language": "python",
   "name": "python3"
  },
  "language_info": {
   "codemirror_mode": {
    "name": "ipython",
    "version": 3
   },
   "file_extension": ".py",
   "mimetype": "text/x-python",
   "name": "python",
   "nbconvert_exporter": "python",
   "pygments_lexer": "ipython3",
   "version": "3.8.5"
  }
 },
 "nbformat": 4,
 "nbformat_minor": 4
}
