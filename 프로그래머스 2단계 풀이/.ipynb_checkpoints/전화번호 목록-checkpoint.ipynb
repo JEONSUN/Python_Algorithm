{
 "cells": [
  {
   "cell_type": "markdown",
   "metadata": {},
   "source": [
    "#### 문제 설명\n",
    "전화번호부에 적힌 전화번호 중, 한 번호가 다른 번호의 접두어인 경우가 있는지 확인하려 합니다.\n",
    "전화번호가 다음과 같을 경우, 구조대 전화번호는 영석이의 전화번호의 접두사입니다.\n",
    "\n",
    "구조대 : 119\n",
    "\n",
    "박준영 : 97 674 223\n",
    "\n",
    "지영석 : 11 9552 4421\n",
    "\n",
    "전화번호부에 적힌 전화번호를 담은 배열 phone_book 이 solution 함수의 매개변수로 주어질 때, 어떤 번호가 다른 번호의 접두어인 경우가 있으면 false를 그렇지 않으면 true를 return 하도록 solution 함수를 작성해주세요.\n",
    "\n",
    "#### 제한 사항\n",
    "phone_book의 길이는 1 이상 1,000,000 이하입니다.\n",
    "\n",
    "각 전화번호의 길이는 1 이상 20 이하입니다.\n",
    "\n",
    "같은 전화번호가 중복해서 들어있지 않습니다.\n",
    "\n",
    "#### 입출력 예제\n",
    "|phone_book|\treturn|\n",
    "|---|---|\n",
    "|[\"119\", \"97674223\", \"1195524421\"]|\tfalse|\n",
    "|[\"123\",\"456\",\"789\"]|\ttrue\n",
    "|[\"12\",\"123\",\"1235\",\"567\",\"88\"]|\tfalse|"
   ]
  },
  {
   "cell_type": "code",
   "execution_count": 1,
   "metadata": {},
   "outputs": [],
   "source": [
    "import heapq\n",
    "def solution(phone_book):\n",
    "    answer = True\n",
    "    hash_map = {} # 해쉬맵을 만들고\n",
    "    for phone_number in phone_book: # \n",
    "        hash_map[phone_number] = 1\n",
    "    for phone_number in phone_book:\n",
    "        temp = \"\"\n",
    "        for number in phone_number:\n",
    "            temp += number\n",
    "            if temp in hash_map and temp != phone_number: # hash_map에 해당 문자가 있고 phone_number랑 다를 경우\n",
    "                answer = False\n",
    "    return answer"
   ]
  },
  {
   "cell_type": "code",
   "execution_count": 2,
   "metadata": {},
   "outputs": [
    {
     "data": {
      "text/plain": [
       "False"
      ]
     },
     "execution_count": 2,
     "metadata": {},
     "output_type": "execute_result"
    }
   ],
   "source": [
    "solution([\"119\", \"97674223\", \"1195524421\"])"
   ]
  }
 ],
 "metadata": {
  "kernelspec": {
   "display_name": "Python 3 (ipykernel)",
   "language": "python",
   "name": "python3"
  },
  "language_info": {
   "codemirror_mode": {
    "name": "ipython",
    "version": 3
   },
   "file_extension": ".py",
   "mimetype": "text/x-python",
   "name": "python",
   "nbconvert_exporter": "python",
   "pygments_lexer": "ipython3",
   "version": "3.8.5"
  }
 },
 "nbformat": 4,
 "nbformat_minor": 4
}
