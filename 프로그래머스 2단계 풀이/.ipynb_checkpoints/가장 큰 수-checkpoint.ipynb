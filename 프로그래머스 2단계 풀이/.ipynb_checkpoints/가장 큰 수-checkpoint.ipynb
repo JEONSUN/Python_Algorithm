{
 "cells": [
  {
   "cell_type": "markdown",
   "metadata": {},
   "source": [
    "0 또는 양의 정수가 주어졌을 때, 정수를 이어 붙여 만들 수 있는 가장 큰 수를 알아내 주세요.\n",
    "\n",
    "예를 들어, 주어진 정수가 [6, 10, 2]라면 [6102, 6210, 1062, 1026, 2610, 2106]를 만들 수 있고, 이중 가장 큰 수는 6210입니다.\n",
    "\n",
    "0 또는 양의 정수가 담긴 배열 numbers가 매개변수로 주어질 때, 순서를 재배치하여 만들 수 있는 가장 큰 수를 문자열로 바꾸어 return 하도록 solution 함수를 작성해주세요.\n",
    "\n",
    "https://programmers.co.kr/learn/courses/30/lessons/42746"
   ]
  },
  {
   "cell_type": "code",
   "execution_count": 4,
   "metadata": {},
   "outputs": [],
   "source": [
    "def solution(numbers):\n",
    "    if 0 in numbers : \n",
    "        numbers.remove(0)\n",
    "    for i in range(len(numbers)) :\n",
    "        min_index = i\n",
    "        for j in range(i,len(numbers)) :\n",
    "            if int(str(numbers[min_index])[0]) < int(str(numbers[j])[0]) :\n",
    "                min_index = j\n",
    "            elif int(str(numbers[min_index])[0]) == int(str(numbers[j])[0]) :\n",
    "                if len(str(numbers[min_index])) > len(str(numbers[j])) :\n",
    "                    if numbers[min_index] > numbers[j] * 10 : \n",
    "                        pass\n",
    "                    else :\n",
    "                        min_index = j\n",
    "                elif len(str(numbers[min_index])) == len(str(numbers[j])) :\n",
    "                    if numbers[min_index] < numbers[j] :\n",
    "                        min_index = j\n",
    "            else :\n",
    "                pass\n",
    "        numbers[i],numbers[min_index] = numbers[min_index],numbers[i]\n",
    "    answer = list(map(str, numbers))\n",
    "    answer = ''.join(answer)\n",
    "    return answer"
   ]
  },
  {
   "cell_type": "markdown",
   "metadata": {},
   "source": [
    "시간 초과뜸"
   ]
  },
  {
   "cell_type": "code",
   "execution_count": 6,
   "metadata": {},
   "outputs": [
    {
     "data": {
      "text/plain": [
       "'0'"
      ]
     },
     "execution_count": 6,
     "metadata": {},
     "output_type": "execute_result"
    }
   ],
   "source": [
    "solution(numbers)"
   ]
  },
  {
   "cell_type": "code",
   "execution_count": 16,
   "metadata": {},
   "outputs": [],
   "source": [
    "numbers = [3, 30, 34, 5, 9]"
   ]
  },
  {
   "cell_type": "code",
   "execution_count": 20,
   "metadata": {},
   "outputs": [],
   "source": [
    "for i in range(len(numbers)) :\n",
    "    min_index = i \n",
    "    for j in range(i,len(numbers)) :\n",
    "        if int(str(numbers[min_index])[0]) < int(str(numbers[j])[0]) :\n",
    "            min_index = j\n",
    "        elif int(str(numbers[min_index])[0]) == int(str(numbers[j])[0]) :\n",
    "            if len(str(numbers[min_index])) == len(str(numbers[j])) :\n",
    "                if numbers[min_index] * 10 < numbers[j]*10 :\n",
    "                    min_index = j\n",
    "            elif len(str(numbers[min_index])) > len(str(numbers[j])) :\n",
    "                if len(str(numbers[min_index])) == 2:\n",
    "                    if numbers[min_index] <= numbers[j] * 10 :\n",
    "                        min_index = j\n",
    "                elif len(str(numbers[min_index])) == 3 :\n",
    "                    if numbers[min_index] <= numbers[j] * 100 :\n",
    "                        min_index = j\n",
    "                else :\n",
    "                    pass\n",
    "        else : \n",
    "            pass\n",
    "    numbers[i],numbers[min_index] = numbers[min_index],numbers[i]"
   ]
  },
  {
   "cell_type": "code",
   "execution_count": 21,
   "metadata": {},
   "outputs": [
    {
     "data": {
      "text/plain": [
       "[9, 5, 34, 3, 30]"
      ]
     },
     "execution_count": 21,
     "metadata": {},
     "output_type": "execute_result"
    }
   ],
   "source": [
    "numbers"
   ]
  },
  {
   "cell_type": "code",
   "execution_count": null,
   "metadata": {},
   "outputs": [],
   "source": []
  },
  {
   "cell_type": "code",
   "execution_count": null,
   "metadata": {},
   "outputs": [],
   "source": []
  },
  {
   "cell_type": "code",
   "execution_count": null,
   "metadata": {},
   "outputs": [],
   "source": []
  },
  {
   "cell_type": "code",
   "execution_count": null,
   "metadata": {},
   "outputs": [],
   "source": []
  },
  {
   "cell_type": "code",
   "execution_count": null,
   "metadata": {},
   "outputs": [],
   "source": []
  },
  {
   "cell_type": "code",
   "execution_count": null,
   "metadata": {},
   "outputs": [],
   "source": []
  },
  {
   "cell_type": "code",
   "execution_count": null,
   "metadata": {},
   "outputs": [],
   "source": []
  },
  {
   "cell_type": "code",
   "execution_count": null,
   "metadata": {},
   "outputs": [],
   "source": []
  }
 ],
 "metadata": {
  "kernelspec": {
   "display_name": "Python 3 (ipykernel)",
   "language": "python",
   "name": "python3"
  },
  "language_info": {
   "codemirror_mode": {
    "name": "ipython",
    "version": 3
   },
   "file_extension": ".py",
   "mimetype": "text/x-python",
   "name": "python",
   "nbconvert_exporter": "python",
   "pygments_lexer": "ipython3",
   "version": "3.8.5"
  }
 },
 "nbformat": 4,
 "nbformat_minor": 4
}
