{
 "cells": [
  {
   "cell_type": "markdown",
   "metadata": {},
   "source": [
    "#### 문제 설명\n",
    "Finn은 요즘 수학공부에 빠져 있습니다. 수학 공부를 하던 Finn은 자연수 n을 연속한 자연수들로 표현 하는 방법이 여러개라는 사실을 알게 되었습니다. 예를들어 15는 다음과 같이 4가지로 표현 할 수 있습니다.\n",
    "\n",
    "1 + 2 + 3 + 4 + 5 = 15\n",
    "\n",
    "4 + 5 + 6 = 15\n",
    "\n",
    "7 + 8 = 15\n",
    "\n",
    "15 = 15\n",
    "\n",
    "자연수 n이 매개변수로 주어질 때, 연속된 자연수들로 n을 표현하는 방법의 수를 return하는 solution를 완성해주세요.\n",
    "\n",
    "#### 제한사항\n",
    "n은 10,000 이하의 자연수 입니다.\n",
    "\n",
    "#### 입출력 예\n",
    "|n|\tresult|\n",
    "|---|---|\n",
    "|15|\t4|\n",
    "\n",
    "입출력 예 설명\n",
    "#### 입출력 예#1\n",
    "문제의 예시와 같습니다."
   ]
  },
  {
   "cell_type": "code",
   "execution_count": 1,
   "metadata": {},
   "outputs": [],
   "source": [
    "def solution(n):\n",
    "    num_list = list(range(1,n+1)) # 입력한 수까지 범위를 가진 숫자 리스트 생성\n",
    "    result = 0 \n",
    "    cnt = 0\n",
    "    for i in range(n+1) : # 반복\n",
    "        result = 0 \n",
    "        for j in range(i+1,n+1) : # 반복시킬때마다 처음 시작값이 1씩 줄어듬\n",
    "            result += j # 1,2,3,4,5...를 더해가면서\n",
    "            if result > n : # n보다 합한 값이 커지면 멈춤\n",
    "                break\n",
    "            elif result == n : # 같으면\n",
    "                cnt += 1 # 횟수 1 추가\n",
    "                break\n",
    "            else : # 둘다 아니면 pass\n",
    "                pass\n",
    "        \n",
    "    return cnt"
   ]
  },
  {
   "cell_type": "code",
   "execution_count": 2,
   "metadata": {},
   "outputs": [
    {
     "data": {
      "text/plain": [
       "4"
      ]
     },
     "execution_count": 2,
     "metadata": {},
     "output_type": "execute_result"
    }
   ],
   "source": [
    "solution(15)"
   ]
  }
 ],
 "metadata": {
  "kernelspec": {
   "display_name": "Python 3 (ipykernel)",
   "language": "python",
   "name": "python3"
  },
  "language_info": {
   "codemirror_mode": {
    "name": "ipython",
    "version": 3
   },
   "file_extension": ".py",
   "mimetype": "text/x-python",
   "name": "python",
   "nbconvert_exporter": "python",
   "pygments_lexer": "ipython3",
   "version": "3.8.5"
  }
 },
 "nbformat": 4,
 "nbformat_minor": 4
}
