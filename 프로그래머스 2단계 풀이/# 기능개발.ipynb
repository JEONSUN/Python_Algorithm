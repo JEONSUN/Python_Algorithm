{
 "cells": [
  {
   "cell_type": "markdown",
   "metadata": {},
   "source": [
    "#### 문제 설명\n",
    "\n",
    "프로그래머스 팀에서는 기능 개선 작업을 수행 중입니다. 각 기능은 진도가 100%일 때 서비스에 반영할 수 있습니다.\n",
    "\n",
    "또, 각 기능의 개발속도는 모두 다르기 때문에 뒤에 있는 기능이 앞에 있는 기능보다 먼저 개발될 수 있고, 이때 뒤에 있는 기능은 앞에 있는 기능이 배포될 때 함께 배포됩니다.\n",
    "\n",
    "먼저 배포되어야 하는 순서대로 작업의 진도가 적힌 정수 배열 progresses와 각 작업의 개발 속도가 적힌 정수 배열 speeds가 주어질 때 각 배포마다 몇 개의 기능이 배포되는지를 return 하도록 solution 함수를 완성하세요.\n",
    "\n",
    "#### 제한 사항\n",
    "작업의 개수(progresses, speeds배열의 길이)는 100개 이하입니다.\n",
    "\n",
    "작업 진도는 100 미만의 자연수입니다.\n",
    "\n",
    "작업 속도는 100 이하의 자연수입니다.\n",
    "\n",
    "배포는 하루에 한 번만 할 수 있으며, 하루의 끝에 이루어진다고 가정합니다. 예를 들어 진도율이 95%인 작업의 개발 속도가 하루에 4%라면 배포는 2일 뒤에 이루어집니다.\n",
    "\n",
    "#### 입출력 예\n",
    "\n",
    "|progresses|speeds|return|\n",
    "|---------|---------|-------|\n",
    "|[93, 30, 55]|\t[1, 30, 5]|\t[2, 1]|\n",
    "|[95, 90, 99, 99, 80, 99]|\t[1, 1, 1, 1, 1, 1]|\t[1, 3, 2]|\n",
    "\n",
    "\n",
    "#### 입출력 예 설명\n",
    "#### 입출력 예 #1\n",
    "\n",
    "첫 번째 기능은 93% 완료되어 있고 하루에 1%씩 작업이 가능하므로 7일간 작업 후 배포가 가능합니다.\n",
    "\n",
    "두 번째 기능은 30%가 완료되어 있고 하루에 30%씩 작업이 가능하므로 3일간 작업 후 배포가 가능합니다. 하지만 이전 첫 번째 기능이 아직 완성된 \n",
    "상태가 아니기 때문에 첫 번째 기능이 배포되는 7일째 배포됩니다.\n",
    "\n",
    "세 번째 기능은 55%가 완료되어 있고 하루에 5%씩 작업이 가능하므로 9일간 작업 후 배포가 가능합니다.\n",
    "\n",
    "따라서 7일째에 2개의 기능, 9일째에 1개의 기능이 배포됩니다.\n",
    "\n",
    "#### 입출력 예 #2\n",
    "\n",
    "모든 기능이 하루에 1%씩 작업이 가능하므로, 작업이 끝나기까지 남은 일수는 각각 5일, 10일, 1일, 1일, 20일, 1일입니다. 어떤 기능이 먼저 완성되었더라도 앞에 있는 모든 기능이 완성되지 않으면 배포가 불가능합니다.\n",
    "\n",
    "따라서 5일째에 1개의 기능, 10일째에 3개의 기능, 20일째에 2개의 기능이 배포됩니다."
   ]
  },
  {
   "cell_type": "code",
   "execution_count": 280,
   "metadata": {},
   "outputs": [],
   "source": [
    "# 빈 리스트 추가\n",
    "finish_list = []\n",
    "\n",
    "def solution(progresses, speeds):\n",
    "    if len(finish_list) != 0 : # 0이 아니면\n",
    "        i = len(finish_list) # 입력한 리스트를 i로\n",
    "        \n",
    "\n",
    "    else : # 빈 리스트면 i = 0\n",
    "        i = 0\n",
    "        \n",
    "    cnt = 0 # cnt = 0\n",
    "    pro = progresses[i] # i번째 progresses와 speeds\n",
    "    sp = speeds[i]\n",
    "    \n",
    "    # 작업 기간 계산\n",
    "    while 1 :\n",
    "        if pro > 100 :\n",
    "            break\n",
    "\n",
    "        elif pro == 100 :\n",
    "            break\n",
    "    \n",
    "        else :\n",
    "            pro = pro + sp\n",
    "            cnt = cnt + 1\n",
    "    finish_list.insert(i,cnt)\n",
    "    \n",
    "#### finish_list에서 return 값 얻기    \n",
    "    answer = []\n",
    "    result = 1\n",
    "    for i in range(len(finish_list)) :\n",
    "        try :\n",
    "            if finish_list[i] < finish_list[i + 1] :\n",
    "                answer.append(result)\n",
    "                result = 1\n",
    "            else :\n",
    "                finish_list[i+1] = finish_list[i]\n",
    "                result += 1\n",
    "        except IndexError :\n",
    "            answer.append(result)\n",
    "\n",
    "#### 만약 finish_list의 값과 progress의 길이가 다르면 재귀함수 실행 \n",
    "    if len(finish_list) == len(progresses) :\n",
    "        return answer\n",
    "    else :\n",
    "        solution(progresses, speeds)\n"
   ]
  },
  {
   "cell_type": "code",
   "execution_count": 281,
   "metadata": {
    "scrolled": false
   },
   "outputs": [],
   "source": [
    "solution([95, 90, 99, 99, 80, 99],[1,1,1,1,1,1])"
   ]
  },
  {
   "cell_type": "markdown",
   "metadata": {},
   "source": [
    "### 다른 사람 풀이\n",
    "\n",
    "- 생각보다 많이 간결해서 놀랐다..\n",
    "\n",
    "- pop을 생각했었으나 앞에서부터 제거하는 방식을 생각하지 못한 거 같다."
   ]
  },
  {
   "cell_type": "code",
   "execution_count": 264,
   "metadata": {},
   "outputs": [],
   "source": [
    "def solution(progresses, speeds):\n",
    "\n",
    "    answer = []\n",
    "    time = 0\n",
    "    count = 0\n",
    "    \n",
    "    while len(progresses)> 0: # progress의 길이가 0이 되기전까지 반복\n",
    "        if (progresses[0] + time*speeds[0]) >= 100:  # 첫번째값과 반복한횟수*speed가100보다 클경우\n",
    "            progresses.pop(0) # progress 1번째 값을 제거\n",
    "            speeds.pop(0) # speed 1번째 값도 제거\n",
    "            count += 1 # 제품 개수 1 추가\n",
    "        else:\n",
    "            if count > 0: # 횟수가 \n",
    "                answer.append(count)\n",
    "                count = 0\n",
    "            time += 1\n",
    "    answer.append(count)\n",
    "    return answer"
   ]
  }
 ],
 "metadata": {
  "kernelspec": {
   "display_name": "Python 3 (ipykernel)",
   "language": "python",
   "name": "python3"
  },
  "language_info": {
   "codemirror_mode": {
    "name": "ipython",
    "version": 3
   },
   "file_extension": ".py",
   "mimetype": "text/x-python",
   "name": "python",
   "nbconvert_exporter": "python",
   "pygments_lexer": "ipython3",
   "version": "3.8.5"
  }
 },
 "nbformat": 4,
 "nbformat_minor": 4
}
