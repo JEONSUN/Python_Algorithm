{
 "cells": [
  {
   "cell_type": "markdown",
   "metadata": {},
   "source": [
    "#### 문제 설명\n",
    "일반적인 프린터는 인쇄 요청이 들어온 순서대로 인쇄합니다. 그렇기 때문에 중요한 문서가 나중에 인쇄될 수 있습니다. 이런 문제를 보완하기 위해 중요도가 높은 문서를 먼저 인쇄하는 프린터를 개발했습니다. 이 새롭게 개발한 프린터는 아래와 같은 방식으로 인쇄 작업을 수행합니다.\n",
    "***\n",
    "1. 인쇄 대기목록의 가장 앞에 있는 문서(J)를 대기목록에서 꺼냅니다.\n",
    "\n",
    "2. 나머지 인쇄 대기목록에서 J보다 중요도가 높은 문서가 한 개라도 존재하면 J를 대기목록의 가장 마지막에 넣습니다.\n",
    "\n",
    "3. 그렇지 않으면 J를 인쇄합니다.\n",
    "***\n",
    "\n",
    "예를 들어, 4개의 문서(A, B, C, D)가 순서대로 인쇄 대기목록에 있고 중요도가 2 1 3 2 라면 C D A B 순으로 인쇄하게 됩니다.\n",
    "\n",
    "내가 인쇄를 요청한 문서가 몇 번째로 인쇄되는지 알고 싶습니다. 위의 예에서 C는 1번째로, A는 3번째로 인쇄됩니다.\n",
    "\n",
    "현재 대기목록에 있는 문서의 중요도가 순서대로 담긴 배열 priorities와 내가 인쇄를 요청한 문서가 현재 대기목록의 어떤 위치에 있는지를 알려주는 location이 매개변수로 주어질 때, 내가 인쇄를 요청한 문서가 몇 번째로 인쇄되는지 return 하도록 solution 함수를 작성해주세요.\n",
    "\n",
    "#### 제한사항\n",
    "현재 대기목록에는 1개 이상 100개 이하의 문서가 있습니다.\n",
    "\n",
    "인쇄 작업의 중요도는 1~9로 표현하며 숫자가 클수록 중요하다는 뜻입니다.\n",
    "\n",
    "location은 0 이상 (현재 대기목록에 있는 작업 수 - 1) 이하의 값을 가지며 대기목록의 가장 앞에 있으면 0, 두 번째에 있으면 1로 표현합니다.\n",
    "\n",
    "#### 입출력 예\n",
    "|priorities|\tlocation|\treturn|\n",
    "|-----|-----|-----|\n",
    "|[2, 1, 3, 2]|\t2|\t1|\n",
    "|[1, 1, 9, 1, 1, 1]|\t0|\t5|\n",
    "\n",
    "#### 입출력 예 설명\n",
    "#### 예제 #1\n",
    "\n",
    "문제에 나온 예와 같습니다.\n",
    "\n",
    "#### 예제 #2\n",
    "\n",
    "6개의 문서(A, B, C, D, E, F)가 인쇄 대기목록에 있고 중요도가 1 1 9 1 1 1 이므로 C D E F A B 순으로 인쇄합니다."
   ]
  },
  {
   "cell_type": "code",
   "execution_count": 1,
   "metadata": {},
   "outputs": [],
   "source": [
    "# 내가 푼 풀이\n",
    "from collections import deque # 스택과 큐를 위한 deque 사용\n",
    "def solution(priorities, location):\n",
    "    pages = [i for i in range(len(priorities))] # 같은 수더라도 구분하기 위해 페이지를 생성\n",
    "    \n",
    "    prior = [(i,v) for i,v in zip(priorities,pages)] # 페이지와 수를 묶어줬음\n",
    "    que = deque(prior) # deque 생성\n",
    "    final = deque() # 최종 순서를 담기 위한 deque\n",
    "    pl = [] # 비교할 리스트\n",
    "    idx = 0\n",
    "    while 1 : \n",
    "        if len(final) == len(priorities) : # 최종과 처음 배열의 개수가 같을 경우 멈춤\n",
    "            break\n",
    "        \n",
    "        if len(pl) == 0 : # 비교할 리스트가 비어있을 경우\n",
    "            pl = que.popleft() # 큐에서 처음 값을 꺼냄\n",
    "            v1,v2 = pl[0],pl[1] # 튜플로 구성된 페이지와 중요도를 나눔\n",
    "        else :\n",
    "            if v1 < que[0][0] : # 처음 꺼낸 값과 배열의 첫 중요도를 비교해서\n",
    "                que.append(pl) # 만약 클 경우 비교값을 배열 마지막에 배치\n",
    "                pl = que.popleft() # 비교해서 크다고 판단한 첫 중요도를 꺼냄\n",
    "            elif v1 == que[0][0] : # 두 수가 같을 경우 \n",
    "                que.append(pl) # 비교에 쓰인 값을 마지막 배열에 넣고\n",
    "                pl = que.popleft() # 배열 첫값 추출\n",
    "            else : # 작을 경우\n",
    "                a1 = que.popleft() # 배열 첫값을 맨뒤로 보냄 \n",
    "                que.append(a1)\n",
    "        if len(pl) == 2 and len(que) == 0 : # 비교에 쓰일 값이 que의 마지막 값이면 final 리스트 맨뒤로 보내고 반복 멈춤\n",
    "            passing = pl\n",
    "            final.append(passing[1])\n",
    "            break\n",
    "        \n",
    "        \n",
    "        if pl[0] >= max(que)[0] : # 생성한 que의 최댓값보다 비교값이 클 경우 final에 해당 페이지를 집어넣음\n",
    "            passing = pl\n",
    "            final.append(passing[1])\n",
    "            pl = []\n",
    "        else :\n",
    "            pass\n",
    "        \n",
    "    return final.index(location)+1 # final에서 location에 해당하는 페이지의 값을 찾는다."
   ]
  },
  {
   "cell_type": "code",
   "execution_count": 3,
   "metadata": {},
   "outputs": [
    {
     "data": {
      "text/plain": [
       "1"
      ]
     },
     "execution_count": 3,
     "metadata": {},
     "output_type": "execute_result"
    }
   ],
   "source": [
    "priorities = [2,1,3,2]\n",
    "location = 2\n",
    "solution(priorities,location)"
   ]
  },
  {
   "cell_type": "markdown",
   "metadata": {},
   "source": [
    "85점이 나왔다. 반례는 못찾았다."
   ]
  },
  {
   "cell_type": "code",
   "execution_count": 16,
   "metadata": {},
   "outputs": [],
   "source": [
    "## 다른 사람 풀이\n",
    "from collections import deque\n",
    "\n",
    "def solution(priorities, location):\n",
    "    answer = 0\n",
    "    \n",
    "    d = deque([(v,i) for i,v in enumerate(priorities)]) # 페이지 구분을 enumerate 사용(index, 값)\n",
    "    print(d)\n",
    "    print()\n",
    "    while len(d):\n",
    "        item = d.popleft()\n",
    "        print(d,item)\n",
    "        if d and max(d)[0] > item[0]: # deque가 존재하는 상태에서 max(d) 보다 현재 값이 작은 경우\n",
    "            d.append(item) # 현재 item을 맨 뒤로\n",
    "        else:\n",
    "            answer += 1 # answer를 1 더해서\n",
    "            if item[1] == location: # item의 페이지가 location과 같을 경우 멈추기\n",
    "                break\n",
    "    return answer"
   ]
  },
  {
   "cell_type": "code",
   "execution_count": 17,
   "metadata": {},
   "outputs": [
    {
     "name": "stdout",
     "output_type": "stream",
     "text": [
      "deque([(2, 0), (1, 1), (3, 2), (2, 3)])\n",
      "\n",
      "deque([(1, 1), (3, 2), (2, 3)]) (2, 0)\n",
      "deque([(3, 2), (2, 3), (2, 0)]) (1, 1)\n",
      "deque([(2, 3), (2, 0), (1, 1)]) (3, 2)\n"
     ]
    },
    {
     "data": {
      "text/plain": [
       "1"
      ]
     },
     "execution_count": 17,
     "metadata": {},
     "output_type": "execute_result"
    }
   ],
   "source": [
    "solution(priorities,location)"
   ]
  }
 ],
 "metadata": {
  "kernelspec": {
   "display_name": "Python 3 (ipykernel)",
   "language": "python",
   "name": "python3"
  },
  "language_info": {
   "codemirror_mode": {
    "name": "ipython",
    "version": 3
   },
   "file_extension": ".py",
   "mimetype": "text/x-python",
   "name": "python",
   "nbconvert_exporter": "python",
   "pygments_lexer": "ipython3",
   "version": "3.8.5"
  }
 },
 "nbformat": 4,
 "nbformat_minor": 4
}
